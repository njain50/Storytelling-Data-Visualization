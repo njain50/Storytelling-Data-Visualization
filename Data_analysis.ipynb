{
 "cells": [
  {
   "cell_type": "code",
   "execution_count": 1,
   "metadata": {},
   "outputs": [],
   "source": [
    "import pandas as pd\n",
    "import numpy as np\n",
    "import matplotlib.pyplot as plt\n",
    "from datetime import datetime"
   ]
  },
  {
   "cell_type": "code",
   "execution_count": 2,
   "metadata": {},
   "outputs": [
    {
     "name": "stdout",
     "output_type": "stream",
     "text": [
      "4.11.0\n"
     ]
    }
   ],
   "source": [
    "# Load this liberaly for interactive graphs\n",
    "from plotly import __version__\n",
    "from plotly.offline import download_plotlyjs, init_notebook_mode, plot, iplot\n",
    "# Check that the version is >= 1.9.0\n",
    "print(__version__) # requires version >= 1.9.0"
   ]
  },
  {
   "cell_type": "code",
   "execution_count": 3,
   "metadata": {},
   "outputs": [
    {
     "data": {
      "text/html": [
       "        <script type=\"text/javascript\">\n",
       "        window.PlotlyConfig = {MathJaxConfig: 'local'};\n",
       "        if (window.MathJax) {MathJax.Hub.Config({SVG: {font: \"STIX-Web\"}});}\n",
       "        if (typeof require !== 'undefined') {\n",
       "        require.undef(\"plotly\");\n",
       "        requirejs.config({\n",
       "            paths: {\n",
       "                'plotly': ['https://cdn.plot.ly/plotly-latest.min']\n",
       "            }\n",
       "        });\n",
       "        require(['plotly'], function(Plotly) {\n",
       "            window._Plotly = Plotly;\n",
       "        });\n",
       "        }\n",
       "        </script>\n",
       "        "
      ]
     },
     "metadata": {},
     "output_type": "display_data"
    },
    {
     "data": {
      "text/html": [
       "        <script type=\"text/javascript\">\n",
       "        window.PlotlyConfig = {MathJaxConfig: 'local'};\n",
       "        if (window.MathJax) {MathJax.Hub.Config({SVG: {font: \"STIX-Web\"}});}\n",
       "        if (typeof require !== 'undefined') {\n",
       "        require.undef(\"plotly\");\n",
       "        requirejs.config({\n",
       "            paths: {\n",
       "                'plotly': ['https://cdn.plot.ly/plotly-latest.min']\n",
       "            }\n",
       "        });\n",
       "        require(['plotly'], function(Plotly) {\n",
       "            window._Plotly = Plotly;\n",
       "        });\n",
       "        }\n",
       "        </script>\n",
       "        "
      ]
     },
     "metadata": {},
     "output_type": "display_data"
    }
   ],
   "source": [
    "# Load this liberary for interactive graphs\n",
    "import cufflinks as cf\n",
    "# For Notebooks\n",
    "init_notebook_mode(connected=True)\n",
    "# For offline use\n",
    "cf.go_offline()"
   ]
  },
  {
   "cell_type": "code",
   "execution_count": 4,
   "metadata": {},
   "outputs": [
    {
     "name": "stdout",
     "output_type": "stream",
     "text": [
      "<class 'pandas.core.frame.DataFrame'>\n",
      "RangeIndex: 13109 entries, 0 to 13108\n",
      "Data columns (total 7 columns):\n",
      " #   Column         Non-Null Count  Dtype \n",
      "---  ------         --------------  ----- \n",
      " 0   Country Name   13106 non-null  object\n",
      " 1   Country Code   13104 non-null  object\n",
      " 2   Series Name    13104 non-null  object\n",
      " 3   Series Code    13104 non-null  object\n",
      " 4   2018 [YR2018]  13104 non-null  object\n",
      " 5   2019 [YR2019]  13104 non-null  object\n",
      " 6   2020 [YR2020]  13104 non-null  object\n",
      "dtypes: object(7)\n",
      "memory usage: 717.0+ KB\n"
     ]
    }
   ],
   "source": [
    "#load csv into gs->(gender stats)\n",
    "gs = pd.read_csv(\"gender_statistics.csv\")\n",
    "gs.info()"
   ]
  },
  {
   "cell_type": "code",
   "execution_count": 5,
   "metadata": {},
   "outputs": [
    {
     "data": {
      "text/html": [
       "<div>\n",
       "<style scoped>\n",
       "    .dataframe tbody tr th:only-of-type {\n",
       "        vertical-align: middle;\n",
       "    }\n",
       "\n",
       "    .dataframe tbody tr th {\n",
       "        vertical-align: top;\n",
       "    }\n",
       "\n",
       "    .dataframe thead th {\n",
       "        text-align: right;\n",
       "    }\n",
       "</style>\n",
       "<table border=\"1\" class=\"dataframe\">\n",
       "  <thead>\n",
       "    <tr style=\"text-align: right;\">\n",
       "      <th></th>\n",
       "      <th>Country Name</th>\n",
       "      <th>Country Code</th>\n",
       "      <th>Series Name</th>\n",
       "      <th>Series Code</th>\n",
       "      <th>2018 [YR2018]</th>\n",
       "      <th>2019 [YR2019]</th>\n",
       "      <th>2020 [YR2020]</th>\n",
       "    </tr>\n",
       "  </thead>\n",
       "  <tbody>\n",
       "    <tr>\n",
       "      <th>0</th>\n",
       "      <td>Argentina</td>\n",
       "      <td>ARG</td>\n",
       "      <td>A woman can apply for a passport in the same w...</td>\n",
       "      <td>SG.APL.PSPT.EQ</td>\n",
       "      <td>1</td>\n",
       "      <td>1</td>\n",
       "      <td>..</td>\n",
       "    </tr>\n",
       "    <tr>\n",
       "      <th>1</th>\n",
       "      <td>Argentina</td>\n",
       "      <td>ARG</td>\n",
       "      <td>A woman can be head of household in the same w...</td>\n",
       "      <td>SG.HLD.HEAD.EQ</td>\n",
       "      <td>1</td>\n",
       "      <td>1</td>\n",
       "      <td>..</td>\n",
       "    </tr>\n",
       "    <tr>\n",
       "      <th>2</th>\n",
       "      <td>Argentina</td>\n",
       "      <td>ARG</td>\n",
       "      <td>A woman can choose where to live in the same w...</td>\n",
       "      <td>SG.LOC.LIVE.EQ</td>\n",
       "      <td>1</td>\n",
       "      <td>1</td>\n",
       "      <td>..</td>\n",
       "    </tr>\n",
       "    <tr>\n",
       "      <th>3</th>\n",
       "      <td>Argentina</td>\n",
       "      <td>ARG</td>\n",
       "      <td>A woman can get a job in the same way as a man...</td>\n",
       "      <td>SG.GET.JOBS.EQ</td>\n",
       "      <td>1</td>\n",
       "      <td>1</td>\n",
       "      <td>..</td>\n",
       "    </tr>\n",
       "    <tr>\n",
       "      <th>4</th>\n",
       "      <td>Argentina</td>\n",
       "      <td>ARG</td>\n",
       "      <td>A woman can obtain a judgment of divorce in th...</td>\n",
       "      <td>SG.OBT.DVRC.EQ</td>\n",
       "      <td>1</td>\n",
       "      <td>1</td>\n",
       "      <td>..</td>\n",
       "    </tr>\n",
       "  </tbody>\n",
       "</table>\n",
       "</div>"
      ],
      "text/plain": [
       "  Country Name Country Code  \\\n",
       "0    Argentina          ARG   \n",
       "1    Argentina          ARG   \n",
       "2    Argentina          ARG   \n",
       "3    Argentina          ARG   \n",
       "4    Argentina          ARG   \n",
       "\n",
       "                                         Series Name     Series Code  \\\n",
       "0  A woman can apply for a passport in the same w...  SG.APL.PSPT.EQ   \n",
       "1  A woman can be head of household in the same w...  SG.HLD.HEAD.EQ   \n",
       "2  A woman can choose where to live in the same w...  SG.LOC.LIVE.EQ   \n",
       "3  A woman can get a job in the same way as a man...  SG.GET.JOBS.EQ   \n",
       "4  A woman can obtain a judgment of divorce in th...  SG.OBT.DVRC.EQ   \n",
       "\n",
       "  2018 [YR2018] 2019 [YR2019] 2020 [YR2020]  \n",
       "0             1             1            ..  \n",
       "1             1             1            ..  \n",
       "2             1             1            ..  \n",
       "3             1             1            ..  \n",
       "4             1             1            ..  "
      ]
     },
     "execution_count": 5,
     "metadata": {},
     "output_type": "execute_result"
    }
   ],
   "source": [
    "gs.head()"
   ]
  },
  {
   "cell_type": "code",
   "execution_count": 6,
   "metadata": {},
   "outputs": [
    {
     "data": {
      "text/html": [
       "<div>\n",
       "<style scoped>\n",
       "    .dataframe tbody tr th:only-of-type {\n",
       "        vertical-align: middle;\n",
       "    }\n",
       "\n",
       "    .dataframe tbody tr th {\n",
       "        vertical-align: top;\n",
       "    }\n",
       "\n",
       "    .dataframe thead th {\n",
       "        text-align: right;\n",
       "    }\n",
       "</style>\n",
       "<table border=\"1\" class=\"dataframe\">\n",
       "  <thead>\n",
       "    <tr style=\"text-align: right;\">\n",
       "      <th></th>\n",
       "      <th>Country Name</th>\n",
       "      <th>Country Code</th>\n",
       "      <th>Series Name</th>\n",
       "      <th>Series Code</th>\n",
       "      <th>2018 [YR2018]</th>\n",
       "      <th>2019 [YR2019]</th>\n",
       "      <th>2020 [YR2020]</th>\n",
       "    </tr>\n",
       "  </thead>\n",
       "  <tbody>\n",
       "    <tr>\n",
       "      <th>13099</th>\n",
       "      <td>European Union</td>\n",
       "      <td>EUU</td>\n",
       "      <td>Women who were first married by age 18 (% of w...</td>\n",
       "      <td>SP.M18.2024.FE.ZS</td>\n",
       "      <td>..</td>\n",
       "      <td>..</td>\n",
       "      <td>..</td>\n",
       "    </tr>\n",
       "    <tr>\n",
       "      <th>13100</th>\n",
       "      <td>European Union</td>\n",
       "      <td>EUU</td>\n",
       "      <td>Women with a national identity card or equival...</td>\n",
       "      <td>SG.REG.NLID.FE.ZS</td>\n",
       "      <td>..</td>\n",
       "      <td>..</td>\n",
       "      <td>..</td>\n",
       "    </tr>\n",
       "    <tr>\n",
       "      <th>13101</th>\n",
       "      <td>European Union</td>\n",
       "      <td>EUU</td>\n",
       "      <td>Women's share of population ages 15+ living wi...</td>\n",
       "      <td>SH.DYN.AIDS.FE.ZS</td>\n",
       "      <td>..</td>\n",
       "      <td>..</td>\n",
       "      <td>..</td>\n",
       "    </tr>\n",
       "    <tr>\n",
       "      <th>13102</th>\n",
       "      <td>European Union</td>\n",
       "      <td>EUU</td>\n",
       "      <td>Youth illiterate population, 15-24 years, % fe...</td>\n",
       "      <td>UIS.LPP.AG15T24</td>\n",
       "      <td>..</td>\n",
       "      <td>..</td>\n",
       "      <td>..</td>\n",
       "    </tr>\n",
       "    <tr>\n",
       "      <th>13103</th>\n",
       "      <td>European Union</td>\n",
       "      <td>EUU</td>\n",
       "      <td>Youth illiterate population, 15-24 years, fema...</td>\n",
       "      <td>UIS.LP.AG15T24.F</td>\n",
       "      <td>..</td>\n",
       "      <td>..</td>\n",
       "      <td>..</td>\n",
       "    </tr>\n",
       "    <tr>\n",
       "      <th>13104</th>\n",
       "      <td>NaN</td>\n",
       "      <td>NaN</td>\n",
       "      <td>NaN</td>\n",
       "      <td>NaN</td>\n",
       "      <td>NaN</td>\n",
       "      <td>NaN</td>\n",
       "      <td>NaN</td>\n",
       "    </tr>\n",
       "    <tr>\n",
       "      <th>13105</th>\n",
       "      <td>NaN</td>\n",
       "      <td>NaN</td>\n",
       "      <td>NaN</td>\n",
       "      <td>NaN</td>\n",
       "      <td>NaN</td>\n",
       "      <td>NaN</td>\n",
       "      <td>NaN</td>\n",
       "    </tr>\n",
       "    <tr>\n",
       "      <th>13106</th>\n",
       "      <td>NaN</td>\n",
       "      <td>NaN</td>\n",
       "      <td>NaN</td>\n",
       "      <td>NaN</td>\n",
       "      <td>NaN</td>\n",
       "      <td>NaN</td>\n",
       "      <td>NaN</td>\n",
       "    </tr>\n",
       "    <tr>\n",
       "      <th>13107</th>\n",
       "      <td>Data from database: Gender Statistics</td>\n",
       "      <td>NaN</td>\n",
       "      <td>NaN</td>\n",
       "      <td>NaN</td>\n",
       "      <td>NaN</td>\n",
       "      <td>NaN</td>\n",
       "      <td>NaN</td>\n",
       "    </tr>\n",
       "    <tr>\n",
       "      <th>13108</th>\n",
       "      <td>Last Updated: 10/08/2020</td>\n",
       "      <td>NaN</td>\n",
       "      <td>NaN</td>\n",
       "      <td>NaN</td>\n",
       "      <td>NaN</td>\n",
       "      <td>NaN</td>\n",
       "      <td>NaN</td>\n",
       "    </tr>\n",
       "  </tbody>\n",
       "</table>\n",
       "</div>"
      ],
      "text/plain": [
       "                                Country Name Country Code  \\\n",
       "13099                         European Union          EUU   \n",
       "13100                         European Union          EUU   \n",
       "13101                         European Union          EUU   \n",
       "13102                         European Union          EUU   \n",
       "13103                         European Union          EUU   \n",
       "13104                                    NaN          NaN   \n",
       "13105                                    NaN          NaN   \n",
       "13106                                    NaN          NaN   \n",
       "13107  Data from database: Gender Statistics          NaN   \n",
       "13108               Last Updated: 10/08/2020          NaN   \n",
       "\n",
       "                                             Series Name        Series Code  \\\n",
       "13099  Women who were first married by age 18 (% of w...  SP.M18.2024.FE.ZS   \n",
       "13100  Women with a national identity card or equival...  SG.REG.NLID.FE.ZS   \n",
       "13101  Women's share of population ages 15+ living wi...  SH.DYN.AIDS.FE.ZS   \n",
       "13102  Youth illiterate population, 15-24 years, % fe...    UIS.LPP.AG15T24   \n",
       "13103  Youth illiterate population, 15-24 years, fema...   UIS.LP.AG15T24.F   \n",
       "13104                                                NaN                NaN   \n",
       "13105                                                NaN                NaN   \n",
       "13106                                                NaN                NaN   \n",
       "13107                                                NaN                NaN   \n",
       "13108                                                NaN                NaN   \n",
       "\n",
       "      2018 [YR2018] 2019 [YR2019] 2020 [YR2020]  \n",
       "13099            ..            ..            ..  \n",
       "13100            ..            ..            ..  \n",
       "13101            ..            ..            ..  \n",
       "13102            ..            ..            ..  \n",
       "13103            ..            ..            ..  \n",
       "13104           NaN           NaN           NaN  \n",
       "13105           NaN           NaN           NaN  \n",
       "13106           NaN           NaN           NaN  \n",
       "13107           NaN           NaN           NaN  \n",
       "13108           NaN           NaN           NaN  "
      ]
     },
     "execution_count": 6,
     "metadata": {},
     "output_type": "execute_result"
    }
   ],
   "source": [
    "gs.tail(10)"
   ]
  },
  {
   "cell_type": "code",
   "execution_count": 7,
   "metadata": {},
   "outputs": [
    {
     "data": {
      "text/plain": [
       "array(['Argentina', 'Australia', 'Brazil', 'Canada', 'China', 'France',\n",
       "       'Germany', 'India', 'Indonesia', 'Italy', 'Japan', 'Mexico',\n",
       "       'Korea, Rep.', 'Russian Federation', 'Saudi Arabia', 'Singapore',\n",
       "       'South Africa', 'Turkey', 'United States', 'United Kingdom',\n",
       "       'European Union', nan, 'Data from database: Gender Statistics',\n",
       "       'Last Updated: 10/08/2020'], dtype=object)"
      ]
     },
     "execution_count": 7,
     "metadata": {},
     "output_type": "execute_result"
    }
   ],
   "source": [
    "gs['Country Name'].unique()"
   ]
  },
  {
   "cell_type": "code",
   "execution_count": 8,
   "metadata": {},
   "outputs": [
    {
     "data": {
      "text/plain": [
       "array(['A woman can apply for a passport in the same way as a man (1=yes; 0=no)',\n",
       "       'A woman can be head of household in the same way as a man (1=yes; 0=no)',\n",
       "       'A woman can choose where to live in the same way as a man (1=yes; 0=no)',\n",
       "       'A woman can get a job in the same way as a man (1=yes; 0=no)',\n",
       "       'A woman can obtain a judgment of divorce in the same way as a man (1=yes; 0=no)',\n",
       "       'A woman can open a bank account in the same way as a man (1=yes; 0=no)',\n",
       "       'A woman can register a business in the same way as a man (1=yes; 0=no)',\n",
       "       'A woman can sign a contract in the same way as a man (1=yes; 0=no)',\n",
       "       'A woman can travel outside her home in the same way as a man (1=yes; 0=no)',\n",
       "       'A woman can travel outside the country in the same way as a man (1=yes; 0=no)',\n",
       "       'A woman has the same rights to remarry as a man (1=yes; 0=no)',\n",
       "       'Access to anti-retroviral drugs, female (%)',\n",
       "       'Access to anti-retroviral drugs, male (%)',\n",
       "       'Account ownership at a financial institution or with a mobile-money-service provider, female (% of population ages 15+)',\n",
       "       'Account ownership at a financial institution or with a mobile-money-service provider, male (% of population ages 15+)',\n",
       "       'Adjusted net enrollment rate, primary, female (% of primary school age children)',\n",
       "       'Adjusted net enrollment rate, primary, male (% of primary school age children)',\n",
       "       'Adolescent fertility rate (births per 1,000 women ages 15-19)',\n",
       "       'Age at first marriage, female', 'Age at first marriage, male',\n",
       "       'Age dependency ratio (% of working-age population)',\n",
       "       'Age population, age 0, female, interpolated',\n",
       "       'Age population, age 0, male, interpolated',\n",
       "       'Age population, age 01, female, interpolated',\n",
       "       'Age population, age 01, male, interpolated',\n",
       "       'Age population, age 02, female, interpolated',\n",
       "       'Age population, age 02, male, interpolated',\n",
       "       'Age population, age 03, female, interpolated',\n",
       "       'Age population, age 03, male, interpolated',\n",
       "       'Age population, age 04, female, interpolated',\n",
       "       'Age population, age 04, male, interpolated',\n",
       "       'Age population, age 05, female, interpolated',\n",
       "       'Age population, age 05, male, interpolated',\n",
       "       'Birth rate, crude (per 1,000 people)',\n",
       "       'Births attended by skilled health staff (% of total)',\n",
       "       'Cause of death, by communicable diseases, ages 15-34, female (% of relevant age group)',\n",
       "       'Cause of death, by communicable diseases, ages 15-34, male (% of relevant age group)',\n",
       "       'Cause of death, by communicable diseases, ages 35-59, female (% of relevant age group)',\n",
       "       'Cause of death, by communicable diseases, ages 35-59, male (% of relevant age group)',\n",
       "       'Cause of death, by injury, ages 15-34, female  (% of relevant age group)',\n",
       "       'Cause of death, by injury, ages 15-34, male (% of relevant age group)',\n",
       "       'Cause of death, by injury, ages 35-59, female (% of relevant age group)',\n",
       "       'Cause of death, by injury, ages 35-59, male (% of relevant age group)',\n",
       "       'Cause of death, by non-communicable diseases, ages 15-34, female (% of relevant age group)',\n",
       "       'Cause of death, by non-communicable diseases, ages 15-34, male (% of relevant age group)',\n",
       "       'Cause of death, by non-communicable diseases, ages 35-59, female (% of relevant age group)',\n",
       "       'Cause of death, by non-communicable diseases, ages 35-59, male (% of relevant age group)',\n",
       "       'Children in employment, female (% of female children ages 7-14)',\n",
       "       'Children in employment, male (% of male children ages 7-14)',\n",
       "       'Children out of school, primary, female',\n",
       "       'Children out of school, primary, male',\n",
       "       'Completeness of birth registration, female (%)',\n",
       "       'Completeness of birth registration, male (%)',\n",
       "       'Contraceptive prevalence, any methods (% of women ages 15-49)',\n",
       "       'Contraceptive prevalence, modern methods (% of women ages 15-49)',\n",
       "       'Contributing family workers, female (% of female employment) (modeled ILO estimate)',\n",
       "       'Contributing family workers, male (% of male employment) (modeled ILO estimate)',\n",
       "       'Cost of business start-up procedures, female (% of GNI per capita)',\n",
       "       'Cost of business start-up procedures, male (% of GNI per capita)',\n",
       "       'Criminal penalties or civil remedies exist for sexual harassment in employment (1=yes; 0=no)',\n",
       "       'Death rate, crude (per 1,000 people)',\n",
       "       \"Decision maker about a woman's own health care: mainly husband (% of women age 15-49)\",\n",
       "       \"Decision maker about a woman's own health care: mainly wife (% of women age 15-49)\",\n",
       "       \"Decision maker about a woman's own health care: other (% of women age 15-49)\",\n",
       "       \"Decision maker about a woman's own health care: someone else (% of women age 15-49)\",\n",
       "       \"Decision maker about a woman's own health care: wife and husband jointly (% of women age 15-49)\",\n",
       "       \"Decision maker about a woman's visits to her family or relatives: mainly husband (% of women age 15-49)\",\n",
       "       \"Decision maker about a woman's visits to her family or relatives: mainly wife (% of women age 15-49)\",\n",
       "       \"Decision maker about a woman's visits to her family or relatives: other (% of women age 15-49)\",\n",
       "       \"Decision maker about a woman's visits to her family or relatives: someone else (% of women age 15-49)\",\n",
       "       'Decision maker about major household purchases: mainly husband (% of women age 15-49)',\n",
       "       'Decision maker about major household purchases: mainly wife (% of women age 15-49)',\n",
       "       'Decision maker about major household purchases: other (% of women age 15-49)',\n",
       "       'Decision maker about major household purchases: someone else (% of women age 15-49)',\n",
       "       'Decision maker about major household purchases: wife and husband jointly (% of women age 15-49)',\n",
       "       'Decision maker about Visits to her family or relatives: wife and husband jointly (% of women age 15-49)',\n",
       "       'Demand for family planning satisfied by any methods (% of married women with demand for family planning)',\n",
       "       'Demand for family planning satisfied by modern methods (% of married women with demand for family planning)',\n",
       "       'Dismissal of pregnant workers is prohibited (1=yes; 0=no)',\n",
       "       \"Educational attainment, at least Bachelor's or equivalent, population 25+, female (%) (cumulative)\",\n",
       "       \"Educational attainment, at least Bachelor's or equivalent, population 25+, male (%) (cumulative)\",\n",
       "       'Educational attainment, at least completed lower secondary, population 25+, female (%) (cumulative)',\n",
       "       'Educational attainment, at least completed lower secondary, population 25+, male (%) (cumulative)',\n",
       "       'Educational attainment, at least completed post-secondary, population 25+, female (%) (cumulative)',\n",
       "       'Educational attainment, at least completed post-secondary, population 25+, male (%) (cumulative)',\n",
       "       'Educational attainment, at least completed primary, population 25+ years, female (%) (cumulative)',\n",
       "       'Educational attainment, at least completed primary, population 25+ years, male (%) (cumulative)',\n",
       "       'Educational attainment, at least completed short-cycle tertiary, population 25+, female (%) (cumulative)',\n",
       "       'Educational attainment, at least completed short-cycle tertiary, population 25+, male (%) (cumulative)',\n",
       "       'Educational attainment, at least completed upper secondary, population 25+, female (%) (cumulative)',\n",
       "       'Educational attainment, at least completed upper secondary, population 25+, male (%) (cumulative)',\n",
       "       \"Educational attainment, at least Master's or equivalent, population 25+, female (%) (cumulative)\",\n",
       "       \"Educational attainment, at least Master's or equivalent, population 25+, male (%) (cumulative)\",\n",
       "       'Educational attainment, Doctoral or equivalent, population 25+, female (%) (cumulative)',\n",
       "       'Educational attainment, Doctoral or equivalent, population 25+, male (%) (cumulative)',\n",
       "       'Employers, female (% of female employment) (modeled ILO estimate)',\n",
       "       'Employers, male (% of male employment) (modeled ILO estimate)',\n",
       "       'Employment in agriculture, female (% of female employment) (modeled ILO estimate)',\n",
       "       'Employment in agriculture, male (% of male employment) (modeled ILO estimate)',\n",
       "       'Employment in industry, female (% of female employment) (modeled ILO estimate)',\n",
       "       'Employment in industry, male (% of male employment) (modeled ILO estimate)',\n",
       "       'Employment in services, female (% of female employment) (modeled ILO estimate)',\n",
       "       'Employment in services, male (% of male employment) (modeled ILO estimate)',\n",
       "       'Employment to population ratio, 15+, female (%) (modeled ILO estimate)',\n",
       "       'Employment to population ratio, 15+, female (%) (national estimate)',\n",
       "       'Employment to population ratio, 15+, male (%) (modeled ILO estimate)',\n",
       "       'Employment to population ratio, 15+, male (%) (national estimate)',\n",
       "       'Employment to population ratio, 15+, total (%) (national estimate)',\n",
       "       'Employment to population ratio, ages 15-24, female (%) (modeled ILO estimate)',\n",
       "       'Employment to population ratio, ages 15-24, female (%) (national estimate)',\n",
       "       'Employment to population ratio, ages 15-24, male (%) (modeled ILO estimate)',\n",
       "       'Employment to population ratio, ages 15-24, male (%) (national estimate)',\n",
       "       'Employment to population ratio, ages 15-24, total (%) (national estimate)',\n",
       "       'Expected Years of School', 'Expected Years of School, Female',\n",
       "       'Expected Years of School, Male',\n",
       "       'Expected years of schooling, female',\n",
       "       'Expected years of schooling, male',\n",
       "       'Female and male surviving spouses have equal rights to inherit assets (1=yes; 0=no)',\n",
       "       'Female genital mutilation prevalence (%)',\n",
       "       'Female genital mutilation prevalence (%): Q1 (lowest)',\n",
       "       'Female genital mutilation prevalence (%): Q2',\n",
       "       'Female genital mutilation prevalence (%): Q3',\n",
       "       'Female genital mutilation prevalence (%): Q4',\n",
       "       'Female genital mutilation prevalence (%): Q5 (highest)',\n",
       "       'Female headed households (% of households with a female head)',\n",
       "       'Female migrants (% of international migrant stock)',\n",
       "       'Female primary school age children out-of-school (%)',\n",
       "       'Female professional and technical workers (% of total)',\n",
       "       'Female pupils below minimum reading proficiency at end of primary (%). Low GAML threshold',\n",
       "       'Female share of employment in senior and middle management (%)',\n",
       "       'Female share of graduates from Science, Technology, Engineering and Mathematics (STEM) programmes, tertiary (%)',\n",
       "       'Female share of graduates in Agriculture programmes, tertiary (%)',\n",
       "       'Female share of graduates in Education programmes, tertiary (%)',\n",
       "       'Female share of graduates in Engineering, Manufacturing and Construction programmes, tertiary (%)',\n",
       "       'Female share of graduates in from Business, Administration and Law programmes, tertiary (%)',\n",
       "       'Female share of graduates in Health and Welfare programmes, tertiary (%)',\n",
       "       'Female share of graduates in Humanities and Arts programmes, tertiary (%)',\n",
       "       'Female share of graduates in Information and Communication Technologies programmes, tertiary (%)',\n",
       "       'Female share of graduates in other fields than Science, Technology, Engineering and Mathematics programmes, tertiary (%)',\n",
       "       'Female share of graduates in Science programmes, tertiary (%)',\n",
       "       'Female share of graduates in Services programmes, tertiary (%)',\n",
       "       'Female share of graduates in Social Science, Business and Law programmes, tertiary (%)',\n",
       "       'Female share of graduates in unknown or unspecified fields, tertiary (%)',\n",
       "       'Fertility rate, total (births per woman)',\n",
       "       'Financial institution account,female(% age 15+)',\n",
       "       'Financial institution account,male(% age 15+)',\n",
       "       'Firms with female participation in ownership (% of firms)',\n",
       "       'Firms with female top manager (% of firms)',\n",
       "       'Fraction of Children Under 5 Not Stunted',\n",
       "       'Fraction of Children Under 5 Not Stunted, Female',\n",
       "       'Fraction of Children Under 5 Not Stunted, Male',\n",
       "       'GDP (current US$)', 'GDP growth (annual %)',\n",
       "       'GDP per capita (constant 2010 US$)',\n",
       "       'GDP per capita (Current US$)', 'GINI index (World Bank estimate)',\n",
       "       'GNI per capita, Atlas method (current US$)',\n",
       "       'GNI per capita, PPP (current international $)',\n",
       "       'GNI, Atlas method (current US$)',\n",
       "       'Government expenditure on education, total (% of GDP)',\n",
       "       'Government expenditure per student, primary (% of GDP per capita)',\n",
       "       'Government expenditure per student, secondary (% of GDP per capita)',\n",
       "       'Gross graduation ratio, primary, female (%)',\n",
       "       'Gross graduation ratio, primary, male (%)',\n",
       "       'Gross graduation ratio, tertiary, female (%)',\n",
       "       'Gross graduation ratio, tertiary, male (%)',\n",
       "       'Harmonized Test Scores', 'Harmonized Test Scores, Female',\n",
       "       'Harmonized Test Scores, Male',\n",
       "       'Households with water 30 minutes or longer away round trip (%)',\n",
       "       'Households with water less than 30 minutes away round trip (%)',\n",
       "       'Households with water on the premises (%)',\n",
       "       'Human Capital Index (HCI) (scale 0-1)',\n",
       "       'Human Capital Index (HCI), Female (scale 0-1)',\n",
       "       'Human Capital Index (HCI), Female, Lower Bound (scale 0-1)',\n",
       "       'Human Capital Index (HCI), Female, Upper Bound (scale 0-1)',\n",
       "       'Human Capital Index (HCI), Lower Bound (scale 0-1)',\n",
       "       'Human Capital Index (HCI), Male (scale 0-1)',\n",
       "       'Human Capital Index (HCI), Male, Lower Bound (scale 0-1)',\n",
       "       'Human Capital Index (HCI), Male, Upper Bound (scale 0-1)',\n",
       "       'Human Capital Index (HCI), Upper Bound (scale 0-1)',\n",
       "       'Immunization, DPT (% of children ages 12-23 months)',\n",
       "       'Immunization, measles (% of children ages 12-23 months)',\n",
       "       'Incidence of HIV, ages 15-24, female (per 1,000 uninfected female population ages 15-24)',\n",
       "       'Incidence of HIV, ages 15-24, male (per 1,000 uninfected male population ages 15-24)',\n",
       "       'Incidence of HIV, ages 15-49, female (per 1,000 uninfected female population ages 15-49)',\n",
       "       'Incidence of HIV, ages 15-49, male (per 1,000 uninfected male population ages 15-49)',\n",
       "       'Inflation, consumer prices (annual %)',\n",
       "       'Informal employment, female (% of total non-agricultural employment)',\n",
       "       'Informal employment, male (% of total non-agricultural employment)',\n",
       "       'Labor force participation rate for ages 15-24, female (%) (modeled ILO estimate)',\n",
       "       'Labor force participation rate for ages 15-24, female (%) (national estimate)',\n",
       "       'Labor force participation rate for ages 15-24, male (%) (modeled ILO estimate)',\n",
       "       'Labor force participation rate for ages 15-24, male (%) (national estimate)',\n",
       "       'Labor force participation rate, female (% of female population ages 15+) (modeled ILO estimate)',\n",
       "       'Labor force participation rate, female (% of female population ages 15+) (national estimate)',\n",
       "       'Labor force participation rate, female (% of female population ages 15-64) (modeled ILO estimate)',\n",
       "       'Labor force participation rate, male (% of male population ages 15+) (modeled ILO estimate)',\n",
       "       'Labor force participation rate, male (% of male population ages 15+) (national estimate)',\n",
       "       'Labor force participation rate, male (% of male population ages 15-64) (modeled ILO estimate)',\n",
       "       'Labor force with advanced education, female (% of female working-age population with advanced education)',\n",
       "       'Labor force with advanced education, male (% of male working-age population with advanced education)',\n",
       "       'Labor force with basic education, female (% of female working-age population with basic education)',\n",
       "       'Labor force with basic education, male (% of male working-age population with basic education)',\n",
       "       'Labor force with intermediate education, female (% of female working-age population with intermediate education)',\n",
       "       'Labor force with intermediate education, male (% of male working-age population with intermediate education)',\n",
       "       'Labor force, female',\n",
       "       'Labor force, female (% of total labor force)',\n",
       "       'Labor force, total',\n",
       "       'Law mandates equal remuneration for females and males for work of equal value (1=yes; 0=no)',\n",
       "       'Law prohibits discrimination in employment based on gender (1=yes; 0=no)',\n",
       "       'Learning poverty: Share of Female Children at the End-of-Primary age below minimum reading proficiency adjusted by Out-of-School Children (%)',\n",
       "       'Learning poverty: Share of Male Children at the End-of-Primary age below minimum reading proficiency adjusted by Out-of-School Children (%)',\n",
       "       'Learning-Adjusted Years of School',\n",
       "       'Learning-Adjusted Years of School, Female',\n",
       "       'Learning-Adjusted Years of School, Male',\n",
       "       'Length of paid maternity leave (days)',\n",
       "       'Length of paid parental leave for father (days)',\n",
       "       'Length of paid parental leave for mother (days)',\n",
       "       'Length of paid paternity leave (days)',\n",
       "       'Length of paid shared parental leave (days)',\n",
       "       'Life expectancy at age 60, female (years)',\n",
       "       'Life expectancy at age 60, male (years)',\n",
       "       'Life expectancy at birth, female (years)',\n",
       "       'Life expectancy at birth, male (years)',\n",
       "       'Literacy rate, adult female (% of females ages 15 and above)',\n",
       "       'Literacy rate, adult male (% of males ages 15 and above)',\n",
       "       'Literacy rate, youth (ages 15-24), gender parity index (GPI)',\n",
       "       'Literacy rate, youth female (% of females ages 15-24)',\n",
       "       'Literacy rate, youth male (% of males ages 15-24)',\n",
       "       'Location of cooking: inside the house (% of households)',\n",
       "       'Location of cooking: other places (% of households)',\n",
       "       'Location of cooking: outdoors (% of households)',\n",
       "       'Location of cooking: separate building (% of households)',\n",
       "       'Lower secondary completion rate, female (% of relevant age group)',\n",
       "       'Lower secondary completion rate, male (% of relevant age group)',\n",
       "       'Main cooking fuel: agricultural crop (% of households)',\n",
       "       'Main cooking fuel: charcoal (% of households)',\n",
       "       'Main cooking fuel: dung (% of households)',\n",
       "       'Main cooking fuel: electricity  (% of households)',\n",
       "       'Main cooking fuel: LPG/natural gas/biogas (% of households)',\n",
       "       'Main cooking fuel: straw/shrubs/grass (% of households)',\n",
       "       'Main cooking fuel: wood (% of households)',\n",
       "       'Male primary school age children out-of-school (%)',\n",
       "       'Male pupils below minimum reading proficiency at end of primary (%). Low GAML threshold',\n",
       "       'Mandatory retirement age, female',\n",
       "       'Mandatory retirement age, male',\n",
       "       'Maternal mortality ratio (modeled estimate, per 100,000 live births)',\n",
       "       'Men and married women have equal ownership rights to immovable property (1=yes; 0=no)',\n",
       "       'Men who do not own a house (% of men)',\n",
       "       'Men who do not own a house (% of men): Q1 (lowest)',\n",
       "       'Men who do not own a house (% of men): Q2',\n",
       "       'Men who do not own a house (% of men): Q3',\n",
       "       'Men who do not own a house (% of men): Q4',\n",
       "       'Men who do not own a house (% of men): Q5 (highest)',\n",
       "       'Men who do not own land (% of men)',\n",
       "       'Men who do not own land (% of men): Q1 (lowest)',\n",
       "       'Men who do not own land (% of men): Q2',\n",
       "       'Men who do not own land (% of men): Q3',\n",
       "       'Men who do not own land (% of men): Q4',\n",
       "       'Men who do not own land (% of men): Q5 (highest)',\n",
       "       'Men who own a house alone (% of men)',\n",
       "       'Men who own a house alone (% of men): Q1 (lowest)',\n",
       "       'Men who own a house alone (% of men): Q2',\n",
       "       'Men who own a house alone (% of men): Q3',\n",
       "       'Men who own a house alone (% of men): Q4',\n",
       "       'Men who own a house alone (% of men): Q5 (highest)',\n",
       "       'Men who own a house both alone and jointly (% of men)',\n",
       "       'Men who own a house both alone and jointly (% of men): Q1 (lowest)',\n",
       "       'Men who own a house both alone and jointly (% of men): Q2',\n",
       "       'Men who own a house both alone and jointly (% of men): Q3',\n",
       "       'Men who own a house both alone and jointly (% of men): Q4',\n",
       "       'Men who own a house both alone and jointly (% of men): Q5 (highest)',\n",
       "       'Men who own a house jointly (% of men)',\n",
       "       'Men who own a house jointly (% of men): Q1 (lowest)',\n",
       "       'Men who own a house jointly (% of men): Q2',\n",
       "       'Men who own a house jointly (% of men): Q3',\n",
       "       'Men who own a house jointly (% of men): Q4',\n",
       "       'Men who own a house jointly (% of men): Q5 (highest)',\n",
       "       'Men who own land alone (% of men)',\n",
       "       'Men who own land alone (% of men): Q1 (lowest)',\n",
       "       'Men who own land alone (% of men): Q2',\n",
       "       'Men who own land alone (% of men): Q3',\n",
       "       'Men who own land alone (% of men): Q4',\n",
       "       'Men who own land alone (% of men): Q5 (highest)',\n",
       "       'Men who own land both alone and jointly (% of men)',\n",
       "       'Men who own land both alone and jointly (% of men): Q1 (lowest)',\n",
       "       'Men who own land both alone and jointly (% of men): Q2',\n",
       "       'Men who own land both alone and jointly (% of men): Q3',\n",
       "       'Men who own land both alone and jointly (% of men): Q4',\n",
       "       'Men who own land both alone and jointly (% of men): Q5 (highest)',\n",
       "       'Men who own land jointly (% of men)',\n",
       "       'Men who own land jointly (% of men): Q1 (lowest)',\n",
       "       'Men who own land jointly (% of men): Q2',\n",
       "       'Men who own land jointly (% of men): Q3',\n",
       "       'Men who own land jointly (% of men): Q4',\n",
       "       'Men who own land jointly (% of men): Q5 (highest)',\n",
       "       'Men with a national identity card or equivalent foundational identity document (% of men ages 15+)',\n",
       "       'Mobile money account, female (% age 15+)',\n",
       "       'Mobile money account, male  (% age 15+)',\n",
       "       'Mortality from CVD, cancer, diabetes or CRD between exact ages 30 and 70, female (%)',\n",
       "       'Mortality from CVD, cancer, diabetes or CRD between exact ages 30 and 70, male (%)',\n",
       "       'Mortality rate attributed to household and ambient air pollution, age-standardized, female (per 100,000 female population)',\n",
       "       'Mortality rate attributed to household and ambient air pollution, age-standardized, male (per 100,000 male population)',\n",
       "       'Mortality rate attributed to unintentional poisoning, female (per 100,000 female population)',\n",
       "       'Mortality rate attributed to unintentional poisoning, male (per 100,000 male population)',\n",
       "       'Mortality rate, infant, female (per 1,000 live births)',\n",
       "       'Mortality rate, infant, male (per 1,000 live births)',\n",
       "       'Mortality rate, under-5, female (per 1,000 live births)',\n",
       "       'Mortality rate, under-5, male (per 1,000 live births)',\n",
       "       'Net intake rate in grade 1, female (% of official school-age population)',\n",
       "       'Net intake rate in grade 1, male (% of official school-age population)',\n",
       "       'Number of female business owners', 'Number of female directors',\n",
       "       'Number of female sole proprietors',\n",
       "       'Number of infant deaths, female', 'Number of infant deaths, male',\n",
       "       'Number of male business owners', 'Number of male directors',\n",
       "       'Number of male sole proprietors', 'Number of maternal deaths',\n",
       "       'Number of under-five deaths, female',\n",
       "       'Number of under-five deaths, male',\n",
       "       'Own-account workers, female (% of female employment) (modeled ILO estimate)',\n",
       "       'Own-account workers, male (% of male employment) (modeled ILO estimate)',\n",
       "       'Paid leave is available to fathers (1=yes; 0=no)',\n",
       "       'Paid leave of at least 14 weeks is available to women (1=yes; 0=no)',\n",
       "       'Part time employment, female (% of total part time employment)',\n",
       "       'People practicing open defecation (% of population)',\n",
       "       'People practicing open defecation, rural (% of rural population)',\n",
       "       'People practicing open defecation, urban (% of urban population)',\n",
       "       'Percentage of students in lower secondary vocational education who are female (%)',\n",
       "       'Percentage of students in post-secondary non-tertiary vocational education who are female (%)',\n",
       "       'Percentage of students in upper secondary vocational education who are female (%)',\n",
       "       'Persistence to grade 5, female (% of cohort)',\n",
       "       'Persistence to grade 5, male (% of cohort)',\n",
       "       'Population ages 0-14 (% of total)',\n",
       "       'Population ages 0-14, female',\n",
       "       'Population ages 15-64 (% of total)',\n",
       "       'Population ages 15-64, female', 'Population ages 15-64, male',\n",
       "       'Population ages 15-64, total',\n",
       "       'Population ages 65 and above (% of total)',\n",
       "       'Population ages 65 and above, female', 'Population, female',\n",
       "       'Population, female (% of total)', 'Population, total',\n",
       "       'Poverty headcount ratio at $1.90 a day (2011 PPP) (% of population)',\n",
       "       'Poverty headcount ratio at national poverty lines (% of population)',\n",
       "       'Pregnant women receiving prenatal care (%)',\n",
       "       'Prevalence of anemia among women of reproductive age (% of women ages 15-49)',\n",
       "       'Prevalence of HIV, female (% ages 15-24)',\n",
       "       'Prevalence of HIV, male (% ages 15-24)',\n",
       "       'Prevalence of obesity, female (% of female population ages 18+)',\n",
       "       'Prevalence of obesity, male (% of male population ages 18+)',\n",
       "       'Prevalence of overweight, female (% of female adults)',\n",
       "       'Prevalence of overweight, male (% of male adults)',\n",
       "       'Prevalence of overweight, weight for height, female (% of children under 5)',\n",
       "       'Prevalence of overweight, weight for height, male (% of children under 5)',\n",
       "       'Prevalence of severe wasting, weight for height, female (% of children under 5)',\n",
       "       'Prevalence of severe wasting, weight for height, male (% of children under 5)',\n",
       "       'Prevalence of stunting, height for age, female (% of children under 5)',\n",
       "       'Prevalence of stunting, height for age, male (% of children under 5)',\n",
       "       'Prevalence of underweight, weight for age, female (% of children under 5)',\n",
       "       'Prevalence of underweight, weight for age, male (% of children under 5)',\n",
       "       'Prevalence of wasting, weight for height, female (% of children under 5)',\n",
       "       'Prevalence of wasting, weight for height, male (% of children under 5)',\n",
       "       'Primary completion rate, female (% of relevant age group)',\n",
       "       'Primary completion rate, male (% of relevant age group)',\n",
       "       'Primary education, pupils (% female)',\n",
       "       'Primary education, teachers (% female)',\n",
       "       'Probability of Survival to Age 5',\n",
       "       'Probability of Survival to Age 5, Female',\n",
       "       'Probability of Survival to Age 5, Male',\n",
       "       'Progression to secondary school, female (%)',\n",
       "       'Progression to secondary school, male (%)',\n",
       "       'Proportion of seats held by women in national parliaments (%)',\n",
       "       'Proportion of time spent on unpaid domestic and care work, female (% of 24 hour day)',\n",
       "       'Proportion of time spent on unpaid domestic and care work, male (% of 24 hour day)',\n",
       "       'Proportion of women in ministerial level positions (%)',\n",
       "       'Proportion of women subjected to physical and/or sexual violence in the last 12 months (% of women age 15-49)',\n",
       "       'Proportion of women who have ever experienced any form of sexual violence (% of women age 15-49)',\n",
       "       'Proportion of women who have ever experienced intimate partner violence (% of women age 15-49)',\n",
       "       'Proportion of women who have sought help to stop physical or sexual violence (% of women age 15-49)',\n",
       "       'Rate of out-of-school youth of upper secondary school age, female (%)',\n",
       "       'Rate of out-of-school youth of upper secondary school age, male (%)',\n",
       "       'Ratio of female to male labor force participation rate (%) (modeled ILO estimate)',\n",
       "       'Ratio of female to male labor force participation rate (%) (national estimate)',\n",
       "       'Ratio of female to male youth unemployment rate (% ages 15-24) (modeled ILO estimate)',\n",
       "       'Ratio of female to male youth unemployment rate (%) (national estimate)',\n",
       "       'Retirement age with full benefits, female',\n",
       "       'Retirement age with full benefits, male',\n",
       "       'Retirement age with partial benefits, female',\n",
       "       'Retirement age with partial benefits, male',\n",
       "       'Rural population, female (% of total)',\n",
       "       'Rural population, male (% of total)',\n",
       "       'Saved any money in the past year, female  (% age 15+)',\n",
       "       'Saved any money in the past year, male  (% age 15+)',\n",
       "       'School enrollment, primary (gross), gender parity index (GPI)',\n",
       "       'School enrollment, primary and secondary (gross), gender parity index (GPI)',\n",
       "       'School enrollment, primary, female (% gross)',\n",
       "       'School enrollment, primary, female (% net)',\n",
       "       'School enrollment, primary, male (% gross)',\n",
       "       'School enrollment, primary, male (% net)',\n",
       "       'School enrollment, secondary (gross), gender parity index (GPI)',\n",
       "       'School enrollment, secondary, female (% gross)',\n",
       "       'School enrollment, secondary, female (% net)',\n",
       "       'School enrollment, secondary, male (% gross)',\n",
       "       'School enrollment, secondary, male (% net)',\n",
       "       'School enrollment, tertiary (gross), gender parity index (GPI)',\n",
       "       'School enrollment, tertiary, female (% gross)',\n",
       "       'School enrollment, tertiary, male (% gross)',\n",
       "       'Secondary education, pupils (% female)',\n",
       "       'Secondary education, teachers (% female)',\n",
       "       'Secondary education, vocational pupils',\n",
       "       'Secondary education, vocational pupils (% female)',\n",
       "       'Self-employed, female (% of female employment) (modeled ILO estimate)',\n",
       "       'Self-employed, male (% of male employment) (modeled ILO estimate)',\n",
       "       'Sex ratio at birth (male births per female births)',\n",
       "       'Share of female business owners (% of total business owners)',\n",
       "       'Share of female directors (% of total directors)',\n",
       "       'Share of female sole proprietors  (% of sole proprietors)',\n",
       "       'Share of female students in lower secondary education enrolled in vocational programmes (%)',\n",
       "       'Share of female students in post-secondary non-tertiary education enrolled in vocational programmes (%)',\n",
       "       'Share of female students in upper secondary education enrolled in vocational programmes (%)',\n",
       "       'Share of male business owners  (% of total business owners)',\n",
       "       'Share of male directors (% of total directors)',\n",
       "       'Share of male sole proprietors  (% of sole proprietors)',\n",
       "       'Share of male students in lower secondary education enrolled in vocational programmes (%)',\n",
       "       'Share of male students in post-secondary non-tertiary education enrolled in vocational programmes (%)',\n",
       "       'Share of male students in secondary education enrolled in vocational programmes (%)',\n",
       "       'Share of male students in upper secondary education enrolled in vocational programmes (%)',\n",
       "       'Share of youth not in education, employment or training, female (% of female youth population)',\n",
       "       'Share of youth not in education, employment or training, male (% of male youth population)',\n",
       "       'Smoking prevalence, females (% of adults)',\n",
       "       'Smoking prevalence, males (% of adults)',\n",
       "       'Sons and daughters have equal rights to inherit assets from their parents (1=yes; 0=no)',\n",
       "       'Start-up procedures to register a business, female (number)',\n",
       "       'Start-up procedures to register a business, male (number)',\n",
       "       'Suicide mortality rate, female (per 100,000 female population)',\n",
       "       'Suicide mortality rate, male (per 100,000 male population)',\n",
       "       'Survival Rate from Age 15-60',\n",
       "       'Survival Rate from Age 15-60, Female',\n",
       "       'Survival Rate from Age 15-60, Male',\n",
       "       'Tertiary education, academic staff (% female)',\n",
       "       'The ages at which men and women can retire with full pension benefits are equal (1=yes; 0=no)',\n",
       "       'The ages at which men and women can retire with partial pension benefits are equal (1=yes; 0=no)',\n",
       "       'The government administers 100% of maternity leave benefits (1=yes; 0=no)',\n",
       "       'The law grants spouses equal administrative authority over assets during marriage (1=yes; 0=no)',\n",
       "       'The law prohibits discrimination in access to credit based on gender (1=yes; 0=no)',\n",
       "       'The law provides for the valuation of nonmonetary contributions (1=yes; 0=no)',\n",
       "       'The mandatory retirement age for men and women are equal (1=yes; 0=no)',\n",
       "       'There are periods of absence due to child care accounted for in pension benefits (1=yes; 0=no)',\n",
       "       'There is legislation on sexual harassment in employment (1=yes; 0=no)',\n",
       "       'There is legislation specifically addressing domestic violence (1=yes; 0=no)',\n",
       "       'There is no legal provision that requires a married woman to obey her husband (1=yes; 0=no)',\n",
       "       'There is paid parental leave (1=yes; 0=no)',\n",
       "       'Time required to start a business, female (days)',\n",
       "       'Time required to start a business, male (days)',\n",
       "       'Time-related underemployment, female (% of employment)',\n",
       "       'Time-related underemployment, male (% of employment)',\n",
       "       'Total alcohol consumption per capita, female (liters of pure alcohol, projected estimates, female 15+ years of age)',\n",
       "       'Total alcohol consumption per capita, male (liters of pure alcohol, projected estimates, male 15+ years of age)',\n",
       "       'Unemployment with advanced education, female (% of female labor force with advanced education)',\n",
       "       'Unemployment with advanced education, male (% of male labor force with advanced education)',\n",
       "       'Unemployment with basic education, female (% of female labor force with basic education)',\n",
       "       'Unemployment with basic education, male (% of male labor force with basic education)',\n",
       "       'Unemployment with intermediate education, female (% of female labor force with intermediate education)',\n",
       "       'Unemployment with intermediate education, male (% of male labor force with intermediate education)',\n",
       "       'Unemployment, female (% of female labor force) (modeled ILO estimate)',\n",
       "       'Unemployment, female (% of female labor force) (national estimate)',\n",
       "       'Unemployment, male (% of male labor force) (modeled ILO estimate)',\n",
       "       'Unemployment, male (% of male labor force) (national estimate)',\n",
       "       'Unemployment, youth female (% of female labor force ages 15-24) (modeled ILO estimate)',\n",
       "       'Unemployment, youth female (% of female labor force ages 15-24) (national estimate)',\n",
       "       'Unemployment, youth male (% of male labor force ages 15-24) (modeled ILO estimate)',\n",
       "       'Unemployment, youth male (% of male labor force ages 15-24) (national estimate)',\n",
       "       'Unmet need for contraception (% of married women ages 15-49)',\n",
       "       'Urban population, female (% of total)',\n",
       "       'Urban population, male (% of total)',\n",
       "       'Vulnerable employment, female (% of female employment) (modeled ILO estimate)',\n",
       "       'Vulnerable employment, male (% of male employment) (modeled ILO estimate)',\n",
       "       'Wage and salaried workers, female (% of female employment) (modeled ILO estimate)',\n",
       "       'Wage and salaried workers, male (% of male employment) (modeled ILO estimate)',\n",
       "       'Wanted fertility rate (births per woman)',\n",
       "       'Women are able to work in the same industries as men (1=yes; 0=no)',\n",
       "       'Women Business and the Law Index Score (scale 1-100)',\n",
       "       'Women can work in jobs deemed dangerous in the same way as men (1=yes; 0=no)',\n",
       "       'Women can work the same night hours as men (1=yes; 0=no)',\n",
       "       'Women making their own informed decisions regarding sexual relations, contraceptive use and reproductive health care  (% of women age 15-49)',\n",
       "       'Women participating in decision of visits to family, relatives, friends (% of women age 15-49)',\n",
       "       'Women participating in decision of what food to cook daily (% of women age 15-49)',\n",
       "       'Women participating in making daily purchase decisions (% of women age 15-49)',\n",
       "       'Women participating in making major household purchase decisions (% of women age 15-49)',\n",
       "       'Women participating in none of the three decisions (own health care, major household purchases, and visiting family) (% of women age 15-49)',\n",
       "       'Women participating in own health care decisions (% of women age 15-49)',\n",
       "       'Women participating in the three decisions (own health care, major household purchases, and visiting family) (% of women age 15-49)',\n",
       "       'Women who believe a husband is justified in beating his wife (any of five reasons) (%)',\n",
       "       'Women who believe a husband is justified in beating his wife (any of five reasons) (%): Q1 (lowest)',\n",
       "       'Women who believe a husband is justified in beating his wife (any of five reasons) (%): Q2',\n",
       "       'Women who believe a husband is justified in beating his wife (any of five reasons) (%): Q3',\n",
       "       'Women who believe a husband is justified in beating his wife (any of five reasons) (%): Q4',\n",
       "       'Women who believe a husband is justified in beating his wife (any of five reasons) (%): Q5 (highest)',\n",
       "       'Women who believe a husband is justified in beating his wife when she argues with him (%)',\n",
       "       'Women who believe a husband is justified in beating his wife when she argues with him (%): Q1 (lowest)',\n",
       "       'Women who believe a husband is justified in beating his wife when she argues with him (%): Q2',\n",
       "       'Women who believe a husband is justified in beating his wife when she argues with him (%): Q3',\n",
       "       'Women who believe a husband is justified in beating his wife when she argues with him (%): Q4',\n",
       "       'Women who believe a husband is justified in beating his wife when she argues with him (%): Q5 (highest)',\n",
       "       'Women who believe a husband is justified in beating his wife when she burns the food (%)',\n",
       "       'Women who believe a husband is justified in beating his wife when she burns the food (%): Q1 (lowest)',\n",
       "       'Women who believe a husband is justified in beating his wife when she burns the food (%): Q2',\n",
       "       'Women who believe a husband is justified in beating his wife when she burns the food (%): Q3',\n",
       "       'Women who believe a husband is justified in beating his wife when she burns the food (%): Q4',\n",
       "       'Women who believe a husband is justified in beating his wife when she burns the food (%): Q5 (highest)',\n",
       "       'Women who believe a husband is justified in beating his wife when she goes out without telling him (%)',\n",
       "       'Women who believe a husband is justified in beating his wife when she goes out without telling him (%): Q1 (lowest)',\n",
       "       'Women who believe a husband is justified in beating his wife when she goes out without telling him (%): Q2',\n",
       "       'Women who believe a husband is justified in beating his wife when she goes out without telling him (%): Q3',\n",
       "       'Women who believe a husband is justified in beating his wife when she goes out without telling him (%): Q4',\n",
       "       'Women who believe a husband is justified in beating his wife when she goes out without telling him (%): Q5 (highest)',\n",
       "       'Women who believe a husband is justified in beating his wife when she neglects the children (%)',\n",
       "       'Women who believe a husband is justified in beating his wife when she neglects the children (%): Q1 (lowest)',\n",
       "       'Women who believe a husband is justified in beating his wife when she neglects the children (%): Q2',\n",
       "       'Women who believe a husband is justified in beating his wife when she neglects the children (%): Q3',\n",
       "       'Women who believe a husband is justified in beating his wife when she neglects the children (%): Q4',\n",
       "       'Women who believe a husband is justified in beating his wife when she neglects the children (%): Q5 (highest)',\n",
       "       'Women who believe a husband is justified in beating his wife when she refuses sex with him (%)',\n",
       "       'Women who believe a husband is justified in beating his wife when she refuses sex with him (%): Q1 (lowest)',\n",
       "       'Women who believe a husband is justified in beating his wife when she refuses sex with him (%): Q2',\n",
       "       'Women who believe a husband is justified in beating his wife when she refuses sex with him (%): Q3',\n",
       "       'Women who believe a husband is justified in beating his wife when she refuses sex with him (%): Q4',\n",
       "       'Women who believe a husband is justified in beating his wife when she refuses sex with him (%): Q5 (highest)',\n",
       "       'Women who believe a wife is justified refusing sex with her husband for all of the reasons (%)',\n",
       "       'Women who believe a wife is justified refusing sex with her husband for all of the reasons (%): Q1 (lowest)',\n",
       "       'Women who believe a wife is justified refusing sex with her husband for all of the reasons (%): Q2',\n",
       "       'Women who believe a wife is justified refusing sex with her husband for all of the reasons (%): Q3',\n",
       "       'Women who believe a wife is justified refusing sex with her husband for all of the reasons (%): Q4',\n",
       "       'Women who believe a wife is justified refusing sex with her husband for all of the reasons (%): Q5 (highest)',\n",
       "       'Women who believe a wife is justified refusing sex with her husband for none of the reasons (%)',\n",
       "       'Women who believe a wife is justified refusing sex with her husband for none of the reasons (%): Q1 (lowest)',\n",
       "       'Women who believe a wife is justified refusing sex with her husband for none of the reasons (%): Q2',\n",
       "       'Women who believe a wife is justified refusing sex with her husband for none of the reasons (%): Q3',\n",
       "       'Women who believe a wife is justified refusing sex with her husband for none of the reasons (%): Q4',\n",
       "       'Women who believe a wife is justified refusing sex with her husband for none of the reasons (%): Q5 (highest)',\n",
       "       'Women who believe a wife is justified refusing sex with her husband if she has recently given birth (%)',\n",
       "       'Women who believe a wife is justified refusing sex with her husband if she has recently given birth (%): Q1 (lowest)',\n",
       "       'Women who believe a wife is justified refusing sex with her husband if she has recently given birth (%): Q2',\n",
       "       'Women who believe a wife is justified refusing sex with her husband if she has recently given birth (%): Q3',\n",
       "       'Women who believe a wife is justified refusing sex with her husband if she has recently given birth (%): Q4',\n",
       "       'Women who believe a wife is justified refusing sex with her husband if she has recently given birth (%): Q5 (highest)',\n",
       "       'Women who believe a wife is justified refusing sex with her husband if she is tired or not in the mood (%)',\n",
       "       'Women who believe a wife is justified refusing sex with her husband if she is tired or not in the mood (%): Q1 (lowest)',\n",
       "       'Women who believe a wife is justified refusing sex with her husband if she is tired or not in the mood (%): Q2',\n",
       "       'Women who believe a wife is justified refusing sex with her husband if she is tired or not in the mood (%): Q3',\n",
       "       'Women who believe a wife is justified refusing sex with her husband if she is tired or not in the mood (%): Q4',\n",
       "       'Women who believe a wife is justified refusing sex with her husband if she is tired or not in the mood (%): Q5 (highest)',\n",
       "       'Women who believe a wife is justified refusing sex with her husband if she knows he has sex with other women (%)',\n",
       "       'Women who believe a wife is justified refusing sex with her husband if she knows he has sex with other women (%): Q1 (lowest)',\n",
       "       'Women who believe a wife is justified refusing sex with her husband if she knows he has sex with other women (%): Q2',\n",
       "       'Women who believe a wife is justified refusing sex with her husband if she knows he has sex with other women (%): Q3',\n",
       "       'Women who believe a wife is justified refusing sex with her husband if she knows he has sex with other women (%): Q4',\n",
       "       'Women who believe a wife is justified refusing sex with her husband if she knows he has sex with other women (%): Q5 (highest)',\n",
       "       'Women who believe a wife is justified refusing sex with her husband if she knows he has sexually transmitted disease (%)',\n",
       "       'Women who believe a wife is justified refusing sex with her husband if she knows he has sexually transmitted disease (%): Q1 (lowest)',\n",
       "       'Women who believe a wife is justified refusing sex with her husband if she knows he has sexually transmitted disease (%): Q2',\n",
       "       'Women who believe a wife is justified refusing sex with her husband if she knows he has sexually transmitted disease (%): Q3',\n",
       "       'Women who believe a wife is justified refusing sex with her husband if she knows he has sexually transmitted disease (%): Q4',\n",
       "       'Women who believe a wife is justified refusing sex with her husband if she knows he has sexually transmitted disease (%): Q5 (highest)',\n",
       "       'Women who do not own a house (% of women age 15-49)',\n",
       "       'Women who do not own a house (% of women age 15-49): Q1 (lowest)',\n",
       "       'Women who do not own a house (% of women age 15-49): Q2',\n",
       "       'Women who do not own a house (% of women age 15-49): Q3',\n",
       "       'Women who do not own a house (% of women age 15-49): Q4',\n",
       "       'Women who do not own a house (% of women age 15-49): Q5 (highest)',\n",
       "       'Women who do not own land (% of women age 15-49)',\n",
       "       'Women who do not own land (% of women age 15-49): Q1 (lowest)',\n",
       "       'Women who do not own land (% of women age 15-49): Q2',\n",
       "       'Women who do not own land (% of women age 15-49): Q3',\n",
       "       'Women who do not own land (% of women age 15-49): Q4',\n",
       "       'Women who do not own land (% of women age 15-49): Q5 (highest)',\n",
       "       'Women who own a house alone (% of women age 15-49)',\n",
       "       'Women who own a house alone (% of women age 15-49): Q1 (lowest)',\n",
       "       'Women who own a house alone (% of women age 15-49): Q2',\n",
       "       'Women who own a house alone (% of women age 15-49): Q3',\n",
       "       'Women who own a house alone (% of women age 15-49): Q4',\n",
       "       'Women who own a house alone (% of women age 15-49): Q5 (highest)',\n",
       "       'Women who own a house both alone and jointly (% of women age 15-49)',\n",
       "       'Women who own a house both alone and jointly (% of women age 15-49): Q1 (lowest)',\n",
       "       'Women who own a house both alone and jointly (% of women age 15-49): Q2',\n",
       "       'Women who own a house both alone and jointly (% of women age 15-49): Q3',\n",
       "       'Women who own a house both alone and jointly (% of women age 15-49): Q4',\n",
       "       'Women who own a house both alone and jointly (% of women age 15-49): Q5 (highest)',\n",
       "       'Women who own a house jointly (% of women age 15-49)',\n",
       "       'Women who own a house jointly (% of women age 15-49): Q1 (lowest)',\n",
       "       'Women who own a house jointly (% of women age 15-49): Q2',\n",
       "       'Women who own a house jointly (% of women age 15-49): Q3',\n",
       "       'Women who own a house jointly (% of women age 15-49): Q4',\n",
       "       'Women who own a house jointly (% of women age 15-49): Q5 (highest)',\n",
       "       'Women who own land alone (% of women age 15-49)',\n",
       "       'Women who own land alone (% of women age 15-49): Q1 (lowest)',\n",
       "       'Women who own land alone (% of women age 15-49): Q2',\n",
       "       'Women who own land alone (% of women age 15-49): Q3',\n",
       "       'Women who own land alone (% of women age 15-49): Q4',\n",
       "       'Women who own land alone (% of women age 15-49): Q5 (highest)',\n",
       "       'Women who own land both alone and jointly (% of women age 15-49)',\n",
       "       'Women who own land both alone and jointly (% of women age 15-49): Q1 (lowest)',\n",
       "       'Women who own land both alone and jointly (% of women age 15-49): Q2',\n",
       "       'Women who own land both alone and jointly (% of women age 15-49): Q3',\n",
       "       'Women who own land both alone and jointly (% of women age 15-49): Q4',\n",
       "       'Women who own land both alone and jointly (% of women age 15-49): Q5 (highest)',\n",
       "       'Women who own land jointly (% of women age 15-49)',\n",
       "       'Women who own land jointly (% of women age 15-49): Q1 (lowest)',\n",
       "       'Women who own land jointly (% of women age 15-49): Q2',\n",
       "       'Women who own land jointly (% of women age 15-49): Q3',\n",
       "       'Women who own land jointly (% of women age 15-49): Q4',\n",
       "       'Women who own land jointly (% of women age 15-49): Q5 (highest)',\n",
       "       'Women who were first married by age 15 (% of women ages 20-24)',\n",
       "       'Women who were first married by age 18 (% of women ages 20-24)',\n",
       "       'Women with a national identity card or equivalent foundational identity document (% of women ages 15+)',\n",
       "       \"Women's share of population ages 15+ living with HIV (%)\",\n",
       "       'Youth illiterate population, 15-24 years, % female',\n",
       "       'Youth illiterate population, 15-24 years, female (number)', nan],\n",
       "      dtype=object)"
      ]
     },
     "execution_count": 8,
     "metadata": {},
     "output_type": "execute_result"
    }
   ],
   "source": [
    "gs['Series Name'].unique()"
   ]
  },
  {
   "cell_type": "code",
   "execution_count": 9,
   "metadata": {},
   "outputs": [],
   "source": [
    "gdpdf = gs[gs['Series Name'] == 'GDP (current US$)']"
   ]
  },
  {
   "cell_type": "code",
   "execution_count": 10,
   "metadata": {},
   "outputs": [
    {
     "data": {
      "text/html": [
       "<div>\n",
       "<style scoped>\n",
       "    .dataframe tbody tr th:only-of-type {\n",
       "        vertical-align: middle;\n",
       "    }\n",
       "\n",
       "    .dataframe tbody tr th {\n",
       "        vertical-align: top;\n",
       "    }\n",
       "\n",
       "    .dataframe thead th {\n",
       "        text-align: right;\n",
       "    }\n",
       "</style>\n",
       "<table border=\"1\" class=\"dataframe\">\n",
       "  <thead>\n",
       "    <tr style=\"text-align: right;\">\n",
       "      <th></th>\n",
       "      <th>Country Name</th>\n",
       "      <th>Country Code</th>\n",
       "      <th>Series Name</th>\n",
       "      <th>Series Code</th>\n",
       "      <th>2018 [YR2018]</th>\n",
       "      <th>2019 [YR2019]</th>\n",
       "      <th>2020 [YR2020]</th>\n",
       "    </tr>\n",
       "  </thead>\n",
       "  <tbody>\n",
       "    <tr>\n",
       "      <th>count</th>\n",
       "      <td>13106</td>\n",
       "      <td>13104</td>\n",
       "      <td>13104</td>\n",
       "      <td>13104</td>\n",
       "      <td>13104</td>\n",
       "      <td>13104</td>\n",
       "      <td>13104</td>\n",
       "    </tr>\n",
       "    <tr>\n",
       "      <th>unique</th>\n",
       "      <td>23</td>\n",
       "      <td>21</td>\n",
       "      <td>624</td>\n",
       "      <td>624</td>\n",
       "      <td>3601</td>\n",
       "      <td>2406</td>\n",
       "      <td>1267</td>\n",
       "    </tr>\n",
       "    <tr>\n",
       "      <th>top</th>\n",
       "      <td>Argentina</td>\n",
       "      <td>MEX</td>\n",
       "      <td>Children out of school, primary, male</td>\n",
       "      <td>SG.DMK.NONE.FN.ZS</td>\n",
       "      <td>..</td>\n",
       "      <td>..</td>\n",
       "      <td>..</td>\n",
       "    </tr>\n",
       "    <tr>\n",
       "      <th>freq</th>\n",
       "      <td>624</td>\n",
       "      <td>624</td>\n",
       "      <td>21</td>\n",
       "      <td>21</td>\n",
       "      <td>8568</td>\n",
       "      <td>9714</td>\n",
       "      <td>11825</td>\n",
       "    </tr>\n",
       "  </tbody>\n",
       "</table>\n",
       "</div>"
      ],
      "text/plain": [
       "       Country Name Country Code                            Series Name  \\\n",
       "count         13106        13104                                  13104   \n",
       "unique           23           21                                    624   \n",
       "top       Argentina          MEX  Children out of school, primary, male   \n",
       "freq            624          624                                     21   \n",
       "\n",
       "              Series Code 2018 [YR2018] 2019 [YR2019] 2020 [YR2020]  \n",
       "count               13104         13104         13104         13104  \n",
       "unique                624          3601          2406          1267  \n",
       "top     SG.DMK.NONE.FN.ZS            ..            ..            ..  \n",
       "freq                   21          8568          9714         11825  "
      ]
     },
     "execution_count": 10,
     "metadata": {},
     "output_type": "execute_result"
    }
   ],
   "source": [
    "gs.describe()"
   ]
  },
  {
   "cell_type": "code",
   "execution_count": 11,
   "metadata": {},
   "outputs": [
    {
     "name": "stdout",
     "output_type": "stream",
     "text": [
      "<class 'pandas.core.frame.DataFrame'>\n"
     ]
    },
    {
     "data": {
      "text/html": [
       "<div>\n",
       "<style scoped>\n",
       "    .dataframe tbody tr th:only-of-type {\n",
       "        vertical-align: middle;\n",
       "    }\n",
       "\n",
       "    .dataframe tbody tr th {\n",
       "        vertical-align: top;\n",
       "    }\n",
       "\n",
       "    .dataframe thead th {\n",
       "        text-align: right;\n",
       "    }\n",
       "</style>\n",
       "<table border=\"1\" class=\"dataframe\">\n",
       "  <thead>\n",
       "    <tr style=\"text-align: right;\">\n",
       "      <th></th>\n",
       "      <th>index</th>\n",
       "      <th>Country Name</th>\n",
       "      <th>Country Code</th>\n",
       "      <th>Series Name</th>\n",
       "      <th>Series Code</th>\n",
       "      <th>2018 [YR2018]</th>\n",
       "      <th>2019 [YR2019]</th>\n",
       "      <th>2020 [YR2020]</th>\n",
       "    </tr>\n",
       "  </thead>\n",
       "  <tbody>\n",
       "    <tr>\n",
       "      <th>0</th>\n",
       "      <td>152</td>\n",
       "      <td>Argentina</td>\n",
       "      <td>ARG</td>\n",
       "      <td>GDP (current US$)</td>\n",
       "      <td>NY.GDP.MKTP.CD</td>\n",
       "      <td>519871519807.795</td>\n",
       "      <td>449663446954.073</td>\n",
       "      <td>..</td>\n",
       "    </tr>\n",
       "    <tr>\n",
       "      <th>1</th>\n",
       "      <td>776</td>\n",
       "      <td>Australia</td>\n",
       "      <td>AUS</td>\n",
       "      <td>GDP (current US$)</td>\n",
       "      <td>NY.GDP.MKTP.CD</td>\n",
       "      <td>1433904348500.12</td>\n",
       "      <td>1392680589329.14</td>\n",
       "      <td>..</td>\n",
       "    </tr>\n",
       "    <tr>\n",
       "      <th>2</th>\n",
       "      <td>1400</td>\n",
       "      <td>Brazil</td>\n",
       "      <td>BRA</td>\n",
       "      <td>GDP (current US$)</td>\n",
       "      <td>NY.GDP.MKTP.CD</td>\n",
       "      <td>1885482534238.33</td>\n",
       "      <td>1839758040765.62</td>\n",
       "      <td>..</td>\n",
       "    </tr>\n",
       "    <tr>\n",
       "      <th>3</th>\n",
       "      <td>2024</td>\n",
       "      <td>Canada</td>\n",
       "      <td>CAN</td>\n",
       "      <td>GDP (current US$)</td>\n",
       "      <td>NY.GDP.MKTP.CD</td>\n",
       "      <td>1716262621082.22</td>\n",
       "      <td>1736425629519.96</td>\n",
       "      <td>..</td>\n",
       "    </tr>\n",
       "    <tr>\n",
       "      <th>4</th>\n",
       "      <td>2648</td>\n",
       "      <td>China</td>\n",
       "      <td>CHN</td>\n",
       "      <td>GDP (current US$)</td>\n",
       "      <td>NY.GDP.MKTP.CD</td>\n",
       "      <td>13894817110036.3</td>\n",
       "      <td>14342902842915.9</td>\n",
       "      <td>..</td>\n",
       "    </tr>\n",
       "    <tr>\n",
       "      <th>5</th>\n",
       "      <td>3272</td>\n",
       "      <td>France</td>\n",
       "      <td>FRA</td>\n",
       "      <td>GDP (current US$)</td>\n",
       "      <td>NY.GDP.MKTP.CD</td>\n",
       "      <td>2787863958885.49</td>\n",
       "      <td>2715518274227.45</td>\n",
       "      <td>..</td>\n",
       "    </tr>\n",
       "    <tr>\n",
       "      <th>6</th>\n",
       "      <td>3896</td>\n",
       "      <td>Germany</td>\n",
       "      <td>DEU</td>\n",
       "      <td>GDP (current US$)</td>\n",
       "      <td>NY.GDP.MKTP.CD</td>\n",
       "      <td>3949548833952.94</td>\n",
       "      <td>3845630030823.52</td>\n",
       "      <td>..</td>\n",
       "    </tr>\n",
       "    <tr>\n",
       "      <th>7</th>\n",
       "      <td>4520</td>\n",
       "      <td>India</td>\n",
       "      <td>IND</td>\n",
       "      <td>GDP (current US$)</td>\n",
       "      <td>NY.GDP.MKTP.CD</td>\n",
       "      <td>2713165057513.35</td>\n",
       "      <td>2875142314811.85</td>\n",
       "      <td>..</td>\n",
       "    </tr>\n",
       "    <tr>\n",
       "      <th>8</th>\n",
       "      <td>5144</td>\n",
       "      <td>Indonesia</td>\n",
       "      <td>IDN</td>\n",
       "      <td>GDP (current US$)</td>\n",
       "      <td>NY.GDP.MKTP.CD</td>\n",
       "      <td>1042240309412.58</td>\n",
       "      <td>1119190780752.8</td>\n",
       "      <td>..</td>\n",
       "    </tr>\n",
       "    <tr>\n",
       "      <th>9</th>\n",
       "      <td>5768</td>\n",
       "      <td>Italy</td>\n",
       "      <td>ITA</td>\n",
       "      <td>GDP (current US$)</td>\n",
       "      <td>NY.GDP.MKTP.CD</td>\n",
       "      <td>2085764300862.27</td>\n",
       "      <td>2001244392041.57</td>\n",
       "      <td>..</td>\n",
       "    </tr>\n",
       "    <tr>\n",
       "      <th>10</th>\n",
       "      <td>6392</td>\n",
       "      <td>Japan</td>\n",
       "      <td>JPN</td>\n",
       "      <td>GDP (current US$)</td>\n",
       "      <td>NY.GDP.MKTP.CD</td>\n",
       "      <td>4954806619995.19</td>\n",
       "      <td>5081769542379.77</td>\n",
       "      <td>..</td>\n",
       "    </tr>\n",
       "    <tr>\n",
       "      <th>11</th>\n",
       "      <td>7016</td>\n",
       "      <td>Mexico</td>\n",
       "      <td>MEX</td>\n",
       "      <td>GDP (current US$)</td>\n",
       "      <td>NY.GDP.MKTP.CD</td>\n",
       "      <td>1220699479845.98</td>\n",
       "      <td>1258286717124.53</td>\n",
       "      <td>..</td>\n",
       "    </tr>\n",
       "    <tr>\n",
       "      <th>12</th>\n",
       "      <td>7640</td>\n",
       "      <td>Korea, Rep.</td>\n",
       "      <td>KOR</td>\n",
       "      <td>GDP (current US$)</td>\n",
       "      <td>NY.GDP.MKTP.CD</td>\n",
       "      <td>1720578827805.54</td>\n",
       "      <td>1642383217167.26</td>\n",
       "      <td>..</td>\n",
       "    </tr>\n",
       "    <tr>\n",
       "      <th>13</th>\n",
       "      <td>8264</td>\n",
       "      <td>Russian Federation</td>\n",
       "      <td>RUS</td>\n",
       "      <td>GDP (current US$)</td>\n",
       "      <td>NY.GDP.MKTP.CD</td>\n",
       "      <td>1669583089322.96</td>\n",
       "      <td>1699876578871.35</td>\n",
       "      <td>..</td>\n",
       "    </tr>\n",
       "    <tr>\n",
       "      <th>14</th>\n",
       "      <td>8888</td>\n",
       "      <td>Saudi Arabia</td>\n",
       "      <td>SAU</td>\n",
       "      <td>GDP (current US$)</td>\n",
       "      <td>NY.GDP.MKTP.CD</td>\n",
       "      <td>786521831573.333</td>\n",
       "      <td>792966838161.659</td>\n",
       "      <td>..</td>\n",
       "    </tr>\n",
       "    <tr>\n",
       "      <th>15</th>\n",
       "      <td>9512</td>\n",
       "      <td>Singapore</td>\n",
       "      <td>SGP</td>\n",
       "      <td>GDP (current US$)</td>\n",
       "      <td>NY.GDP.MKTP.CD</td>\n",
       "      <td>373217081850.534</td>\n",
       "      <td>372062527488.638</td>\n",
       "      <td>..</td>\n",
       "    </tr>\n",
       "    <tr>\n",
       "      <th>16</th>\n",
       "      <td>10136</td>\n",
       "      <td>South Africa</td>\n",
       "      <td>ZAF</td>\n",
       "      <td>GDP (current US$)</td>\n",
       "      <td>NY.GDP.MKTP.CD</td>\n",
       "      <td>368288939768.322</td>\n",
       "      <td>351431649241.439</td>\n",
       "      <td>..</td>\n",
       "    </tr>\n",
       "    <tr>\n",
       "      <th>17</th>\n",
       "      <td>10760</td>\n",
       "      <td>Turkey</td>\n",
       "      <td>TUR</td>\n",
       "      <td>GDP (current US$)</td>\n",
       "      <td>NY.GDP.MKTP.CD</td>\n",
       "      <td>771350331372.711</td>\n",
       "      <td>754411708202.616</td>\n",
       "      <td>..</td>\n",
       "    </tr>\n",
       "    <tr>\n",
       "      <th>18</th>\n",
       "      <td>11384</td>\n",
       "      <td>United States</td>\n",
       "      <td>USA</td>\n",
       "      <td>GDP (current US$)</td>\n",
       "      <td>NY.GDP.MKTP.CD</td>\n",
       "      <td>20529049174601.5</td>\n",
       "      <td>21374418877706.7</td>\n",
       "      <td>..</td>\n",
       "    </tr>\n",
       "    <tr>\n",
       "      <th>19</th>\n",
       "      <td>12008</td>\n",
       "      <td>United Kingdom</td>\n",
       "      <td>GBR</td>\n",
       "      <td>GDP (current US$)</td>\n",
       "      <td>NY.GDP.MKTP.CD</td>\n",
       "      <td>2860667727551.97</td>\n",
       "      <td>2827113184695.58</td>\n",
       "      <td>..</td>\n",
       "    </tr>\n",
       "    <tr>\n",
       "      <th>20</th>\n",
       "      <td>12632</td>\n",
       "      <td>European Union</td>\n",
       "      <td>EUU</td>\n",
       "      <td>GDP (current US$)</td>\n",
       "      <td>NY.GDP.MKTP.CD</td>\n",
       "      <td>15931983317841.6</td>\n",
       "      <td>15592795166700.2</td>\n",
       "      <td>..</td>\n",
       "    </tr>\n",
       "  </tbody>\n",
       "</table>\n",
       "</div>"
      ],
      "text/plain": [
       "    index        Country Name Country Code        Series Name     Series Code  \\\n",
       "0     152           Argentina          ARG  GDP (current US$)  NY.GDP.MKTP.CD   \n",
       "1     776           Australia          AUS  GDP (current US$)  NY.GDP.MKTP.CD   \n",
       "2    1400              Brazil          BRA  GDP (current US$)  NY.GDP.MKTP.CD   \n",
       "3    2024              Canada          CAN  GDP (current US$)  NY.GDP.MKTP.CD   \n",
       "4    2648               China          CHN  GDP (current US$)  NY.GDP.MKTP.CD   \n",
       "5    3272              France          FRA  GDP (current US$)  NY.GDP.MKTP.CD   \n",
       "6    3896             Germany          DEU  GDP (current US$)  NY.GDP.MKTP.CD   \n",
       "7    4520               India          IND  GDP (current US$)  NY.GDP.MKTP.CD   \n",
       "8    5144           Indonesia          IDN  GDP (current US$)  NY.GDP.MKTP.CD   \n",
       "9    5768               Italy          ITA  GDP (current US$)  NY.GDP.MKTP.CD   \n",
       "10   6392               Japan          JPN  GDP (current US$)  NY.GDP.MKTP.CD   \n",
       "11   7016              Mexico          MEX  GDP (current US$)  NY.GDP.MKTP.CD   \n",
       "12   7640         Korea, Rep.          KOR  GDP (current US$)  NY.GDP.MKTP.CD   \n",
       "13   8264  Russian Federation          RUS  GDP (current US$)  NY.GDP.MKTP.CD   \n",
       "14   8888        Saudi Arabia          SAU  GDP (current US$)  NY.GDP.MKTP.CD   \n",
       "15   9512           Singapore          SGP  GDP (current US$)  NY.GDP.MKTP.CD   \n",
       "16  10136        South Africa          ZAF  GDP (current US$)  NY.GDP.MKTP.CD   \n",
       "17  10760              Turkey          TUR  GDP (current US$)  NY.GDP.MKTP.CD   \n",
       "18  11384       United States          USA  GDP (current US$)  NY.GDP.MKTP.CD   \n",
       "19  12008      United Kingdom          GBR  GDP (current US$)  NY.GDP.MKTP.CD   \n",
       "20  12632      European Union          EUU  GDP (current US$)  NY.GDP.MKTP.CD   \n",
       "\n",
       "       2018 [YR2018]     2019 [YR2019] 2020 [YR2020]  \n",
       "0   519871519807.795  449663446954.073            ..  \n",
       "1   1433904348500.12  1392680589329.14            ..  \n",
       "2   1885482534238.33  1839758040765.62            ..  \n",
       "3   1716262621082.22  1736425629519.96            ..  \n",
       "4   13894817110036.3  14342902842915.9            ..  \n",
       "5   2787863958885.49  2715518274227.45            ..  \n",
       "6   3949548833952.94  3845630030823.52            ..  \n",
       "7   2713165057513.35  2875142314811.85            ..  \n",
       "8   1042240309412.58   1119190780752.8            ..  \n",
       "9   2085764300862.27  2001244392041.57            ..  \n",
       "10  4954806619995.19  5081769542379.77            ..  \n",
       "11  1220699479845.98  1258286717124.53            ..  \n",
       "12  1720578827805.54  1642383217167.26            ..  \n",
       "13  1669583089322.96  1699876578871.35            ..  \n",
       "14  786521831573.333  792966838161.659            ..  \n",
       "15  373217081850.534  372062527488.638            ..  \n",
       "16  368288939768.322  351431649241.439            ..  \n",
       "17  771350331372.711  754411708202.616            ..  \n",
       "18  20529049174601.5  21374418877706.7            ..  \n",
       "19  2860667727551.97  2827113184695.58            ..  \n",
       "20  15931983317841.6  15592795166700.2            ..  "
      ]
     },
     "execution_count": 11,
     "metadata": {},
     "output_type": "execute_result"
    }
   ],
   "source": [
    "print(type(gdpdf))\n",
    "gdpdf.reset_index()"
   ]
  },
  {
   "cell_type": "code",
   "execution_count": 12,
   "metadata": {},
   "outputs": [],
   "source": [
    "from matplotlib import style\n",
    "style.use(\"ggplot\")"
   ]
  },
  {
   "cell_type": "code",
   "execution_count": 13,
   "metadata": {},
   "outputs": [
    {
     "data": {
      "application/vnd.plotly.v1+json": {
       "config": {
        "linkText": "Export to plot.ly",
        "plotlyServerURL": "https://plot.ly",
        "showLink": true
       },
       "data": [
        {
         "marker": {
          "color": "rgba(255, 153, 51, 0.6)",
          "line": {
           "color": "rgba(255, 153, 51, 1.0)",
           "width": 1
          }
         },
         "name": "2019 [YR2019]",
         "orientation": "v",
         "text": "",
         "type": "bar",
         "x": [
          "ARG",
          "AUS",
          "BRA",
          "CAN",
          "CHN",
          "FRA",
          "DEU",
          "IND",
          "IDN",
          "ITA",
          "JPN",
          "MEX",
          "KOR",
          "RUS",
          "SAU",
          "SGP",
          "ZAF",
          "TUR",
          "USA",
          "GBR",
          "EUU"
         ],
         "y": [
          "449663446954.073",
          "1392680589329.14",
          "1839758040765.62",
          "1736425629519.96",
          "14342902842915.9",
          "2715518274227.45",
          "3845630030823.52",
          "2875142314811.85",
          "1119190780752.8",
          "2001244392041.57",
          "5081769542379.77",
          "1258286717124.53",
          "1642383217167.26",
          "1699876578871.35",
          "792966838161.659",
          "372062527488.638",
          "351431649241.439",
          "754411708202.616",
          "21374418877706.7",
          "2827113184695.58",
          "15592795166700.2"
         ]
        },
        {
         "marker": {
          "color": "rgba(55, 128, 191, 0.6)",
          "line": {
           "color": "rgba(55, 128, 191, 1.0)",
           "width": 1
          }
         },
         "name": "2018 [YR2018]",
         "orientation": "v",
         "text": "",
         "type": "bar",
         "x": [
          "ARG",
          "AUS",
          "BRA",
          "CAN",
          "CHN",
          "FRA",
          "DEU",
          "IND",
          "IDN",
          "ITA",
          "JPN",
          "MEX",
          "KOR",
          "RUS",
          "SAU",
          "SGP",
          "ZAF",
          "TUR",
          "USA",
          "GBR",
          "EUU"
         ],
         "y": [
          "519871519807.795",
          "1433904348500.12",
          "1885482534238.33",
          "1716262621082.22",
          "13894817110036.3",
          "2787863958885.49",
          "3949548833952.94",
          "2713165057513.35",
          "1042240309412.58",
          "2085764300862.27",
          "4954806619995.19",
          "1220699479845.98",
          "1720578827805.54",
          "1669583089322.96",
          "786521831573.333",
          "373217081850.534",
          "368288939768.322",
          "771350331372.711",
          "20529049174601.5",
          "2860667727551.97",
          "15931983317841.6"
         ]
        }
       ],
       "layout": {
        "legend": {
         "bgcolor": "#F5F6F9",
         "font": {
          "color": "#4D5663"
         }
        },
        "paper_bgcolor": "#F5F6F9",
        "plot_bgcolor": "#F5F6F9",
        "template": {
         "data": {
          "bar": [
           {
            "error_x": {
             "color": "#2a3f5f"
            },
            "error_y": {
             "color": "#2a3f5f"
            },
            "marker": {
             "line": {
              "color": "#E5ECF6",
              "width": 0.5
             }
            },
            "type": "bar"
           }
          ],
          "barpolar": [
           {
            "marker": {
             "line": {
              "color": "#E5ECF6",
              "width": 0.5
             }
            },
            "type": "barpolar"
           }
          ],
          "carpet": [
           {
            "aaxis": {
             "endlinecolor": "#2a3f5f",
             "gridcolor": "white",
             "linecolor": "white",
             "minorgridcolor": "white",
             "startlinecolor": "#2a3f5f"
            },
            "baxis": {
             "endlinecolor": "#2a3f5f",
             "gridcolor": "white",
             "linecolor": "white",
             "minorgridcolor": "white",
             "startlinecolor": "#2a3f5f"
            },
            "type": "carpet"
           }
          ],
          "choropleth": [
           {
            "colorbar": {
             "outlinewidth": 0,
             "ticks": ""
            },
            "type": "choropleth"
           }
          ],
          "contour": [
           {
            "colorbar": {
             "outlinewidth": 0,
             "ticks": ""
            },
            "colorscale": [
             [
              0,
              "#0d0887"
             ],
             [
              0.1111111111111111,
              "#46039f"
             ],
             [
              0.2222222222222222,
              "#7201a8"
             ],
             [
              0.3333333333333333,
              "#9c179e"
             ],
             [
              0.4444444444444444,
              "#bd3786"
             ],
             [
              0.5555555555555556,
              "#d8576b"
             ],
             [
              0.6666666666666666,
              "#ed7953"
             ],
             [
              0.7777777777777778,
              "#fb9f3a"
             ],
             [
              0.8888888888888888,
              "#fdca26"
             ],
             [
              1,
              "#f0f921"
             ]
            ],
            "type": "contour"
           }
          ],
          "contourcarpet": [
           {
            "colorbar": {
             "outlinewidth": 0,
             "ticks": ""
            },
            "type": "contourcarpet"
           }
          ],
          "heatmap": [
           {
            "colorbar": {
             "outlinewidth": 0,
             "ticks": ""
            },
            "colorscale": [
             [
              0,
              "#0d0887"
             ],
             [
              0.1111111111111111,
              "#46039f"
             ],
             [
              0.2222222222222222,
              "#7201a8"
             ],
             [
              0.3333333333333333,
              "#9c179e"
             ],
             [
              0.4444444444444444,
              "#bd3786"
             ],
             [
              0.5555555555555556,
              "#d8576b"
             ],
             [
              0.6666666666666666,
              "#ed7953"
             ],
             [
              0.7777777777777778,
              "#fb9f3a"
             ],
             [
              0.8888888888888888,
              "#fdca26"
             ],
             [
              1,
              "#f0f921"
             ]
            ],
            "type": "heatmap"
           }
          ],
          "heatmapgl": [
           {
            "colorbar": {
             "outlinewidth": 0,
             "ticks": ""
            },
            "colorscale": [
             [
              0,
              "#0d0887"
             ],
             [
              0.1111111111111111,
              "#46039f"
             ],
             [
              0.2222222222222222,
              "#7201a8"
             ],
             [
              0.3333333333333333,
              "#9c179e"
             ],
             [
              0.4444444444444444,
              "#bd3786"
             ],
             [
              0.5555555555555556,
              "#d8576b"
             ],
             [
              0.6666666666666666,
              "#ed7953"
             ],
             [
              0.7777777777777778,
              "#fb9f3a"
             ],
             [
              0.8888888888888888,
              "#fdca26"
             ],
             [
              1,
              "#f0f921"
             ]
            ],
            "type": "heatmapgl"
           }
          ],
          "histogram": [
           {
            "marker": {
             "colorbar": {
              "outlinewidth": 0,
              "ticks": ""
             }
            },
            "type": "histogram"
           }
          ],
          "histogram2d": [
           {
            "colorbar": {
             "outlinewidth": 0,
             "ticks": ""
            },
            "colorscale": [
             [
              0,
              "#0d0887"
             ],
             [
              0.1111111111111111,
              "#46039f"
             ],
             [
              0.2222222222222222,
              "#7201a8"
             ],
             [
              0.3333333333333333,
              "#9c179e"
             ],
             [
              0.4444444444444444,
              "#bd3786"
             ],
             [
              0.5555555555555556,
              "#d8576b"
             ],
             [
              0.6666666666666666,
              "#ed7953"
             ],
             [
              0.7777777777777778,
              "#fb9f3a"
             ],
             [
              0.8888888888888888,
              "#fdca26"
             ],
             [
              1,
              "#f0f921"
             ]
            ],
            "type": "histogram2d"
           }
          ],
          "histogram2dcontour": [
           {
            "colorbar": {
             "outlinewidth": 0,
             "ticks": ""
            },
            "colorscale": [
             [
              0,
              "#0d0887"
             ],
             [
              0.1111111111111111,
              "#46039f"
             ],
             [
              0.2222222222222222,
              "#7201a8"
             ],
             [
              0.3333333333333333,
              "#9c179e"
             ],
             [
              0.4444444444444444,
              "#bd3786"
             ],
             [
              0.5555555555555556,
              "#d8576b"
             ],
             [
              0.6666666666666666,
              "#ed7953"
             ],
             [
              0.7777777777777778,
              "#fb9f3a"
             ],
             [
              0.8888888888888888,
              "#fdca26"
             ],
             [
              1,
              "#f0f921"
             ]
            ],
            "type": "histogram2dcontour"
           }
          ],
          "mesh3d": [
           {
            "colorbar": {
             "outlinewidth": 0,
             "ticks": ""
            },
            "type": "mesh3d"
           }
          ],
          "parcoords": [
           {
            "line": {
             "colorbar": {
              "outlinewidth": 0,
              "ticks": ""
             }
            },
            "type": "parcoords"
           }
          ],
          "pie": [
           {
            "automargin": true,
            "type": "pie"
           }
          ],
          "scatter": [
           {
            "marker": {
             "colorbar": {
              "outlinewidth": 0,
              "ticks": ""
             }
            },
            "type": "scatter"
           }
          ],
          "scatter3d": [
           {
            "line": {
             "colorbar": {
              "outlinewidth": 0,
              "ticks": ""
             }
            },
            "marker": {
             "colorbar": {
              "outlinewidth": 0,
              "ticks": ""
             }
            },
            "type": "scatter3d"
           }
          ],
          "scattercarpet": [
           {
            "marker": {
             "colorbar": {
              "outlinewidth": 0,
              "ticks": ""
             }
            },
            "type": "scattercarpet"
           }
          ],
          "scattergeo": [
           {
            "marker": {
             "colorbar": {
              "outlinewidth": 0,
              "ticks": ""
             }
            },
            "type": "scattergeo"
           }
          ],
          "scattergl": [
           {
            "marker": {
             "colorbar": {
              "outlinewidth": 0,
              "ticks": ""
             }
            },
            "type": "scattergl"
           }
          ],
          "scattermapbox": [
           {
            "marker": {
             "colorbar": {
              "outlinewidth": 0,
              "ticks": ""
             }
            },
            "type": "scattermapbox"
           }
          ],
          "scatterpolar": [
           {
            "marker": {
             "colorbar": {
              "outlinewidth": 0,
              "ticks": ""
             }
            },
            "type": "scatterpolar"
           }
          ],
          "scatterpolargl": [
           {
            "marker": {
             "colorbar": {
              "outlinewidth": 0,
              "ticks": ""
             }
            },
            "type": "scatterpolargl"
           }
          ],
          "scatterternary": [
           {
            "marker": {
             "colorbar": {
              "outlinewidth": 0,
              "ticks": ""
             }
            },
            "type": "scatterternary"
           }
          ],
          "surface": [
           {
            "colorbar": {
             "outlinewidth": 0,
             "ticks": ""
            },
            "colorscale": [
             [
              0,
              "#0d0887"
             ],
             [
              0.1111111111111111,
              "#46039f"
             ],
             [
              0.2222222222222222,
              "#7201a8"
             ],
             [
              0.3333333333333333,
              "#9c179e"
             ],
             [
              0.4444444444444444,
              "#bd3786"
             ],
             [
              0.5555555555555556,
              "#d8576b"
             ],
             [
              0.6666666666666666,
              "#ed7953"
             ],
             [
              0.7777777777777778,
              "#fb9f3a"
             ],
             [
              0.8888888888888888,
              "#fdca26"
             ],
             [
              1,
              "#f0f921"
             ]
            ],
            "type": "surface"
           }
          ],
          "table": [
           {
            "cells": {
             "fill": {
              "color": "#EBF0F8"
             },
             "line": {
              "color": "white"
             }
            },
            "header": {
             "fill": {
              "color": "#C8D4E3"
             },
             "line": {
              "color": "white"
             }
            },
            "type": "table"
           }
          ]
         },
         "layout": {
          "annotationdefaults": {
           "arrowcolor": "#2a3f5f",
           "arrowhead": 0,
           "arrowwidth": 1
          },
          "coloraxis": {
           "colorbar": {
            "outlinewidth": 0,
            "ticks": ""
           }
          },
          "colorscale": {
           "diverging": [
            [
             0,
             "#8e0152"
            ],
            [
             0.1,
             "#c51b7d"
            ],
            [
             0.2,
             "#de77ae"
            ],
            [
             0.3,
             "#f1b6da"
            ],
            [
             0.4,
             "#fde0ef"
            ],
            [
             0.5,
             "#f7f7f7"
            ],
            [
             0.6,
             "#e6f5d0"
            ],
            [
             0.7,
             "#b8e186"
            ],
            [
             0.8,
             "#7fbc41"
            ],
            [
             0.9,
             "#4d9221"
            ],
            [
             1,
             "#276419"
            ]
           ],
           "sequential": [
            [
             0,
             "#0d0887"
            ],
            [
             0.1111111111111111,
             "#46039f"
            ],
            [
             0.2222222222222222,
             "#7201a8"
            ],
            [
             0.3333333333333333,
             "#9c179e"
            ],
            [
             0.4444444444444444,
             "#bd3786"
            ],
            [
             0.5555555555555556,
             "#d8576b"
            ],
            [
             0.6666666666666666,
             "#ed7953"
            ],
            [
             0.7777777777777778,
             "#fb9f3a"
            ],
            [
             0.8888888888888888,
             "#fdca26"
            ],
            [
             1,
             "#f0f921"
            ]
           ],
           "sequentialminus": [
            [
             0,
             "#0d0887"
            ],
            [
             0.1111111111111111,
             "#46039f"
            ],
            [
             0.2222222222222222,
             "#7201a8"
            ],
            [
             0.3333333333333333,
             "#9c179e"
            ],
            [
             0.4444444444444444,
             "#bd3786"
            ],
            [
             0.5555555555555556,
             "#d8576b"
            ],
            [
             0.6666666666666666,
             "#ed7953"
            ],
            [
             0.7777777777777778,
             "#fb9f3a"
            ],
            [
             0.8888888888888888,
             "#fdca26"
            ],
            [
             1,
             "#f0f921"
            ]
           ]
          },
          "colorway": [
           "#636efa",
           "#EF553B",
           "#00cc96",
           "#ab63fa",
           "#FFA15A",
           "#19d3f3",
           "#FF6692",
           "#B6E880",
           "#FF97FF",
           "#FECB52"
          ],
          "font": {
           "color": "#2a3f5f"
          },
          "geo": {
           "bgcolor": "white",
           "lakecolor": "white",
           "landcolor": "#E5ECF6",
           "showlakes": true,
           "showland": true,
           "subunitcolor": "white"
          },
          "hoverlabel": {
           "align": "left"
          },
          "hovermode": "closest",
          "mapbox": {
           "style": "light"
          },
          "paper_bgcolor": "white",
          "plot_bgcolor": "#E5ECF6",
          "polar": {
           "angularaxis": {
            "gridcolor": "white",
            "linecolor": "white",
            "ticks": ""
           },
           "bgcolor": "#E5ECF6",
           "radialaxis": {
            "gridcolor": "white",
            "linecolor": "white",
            "ticks": ""
           }
          },
          "scene": {
           "xaxis": {
            "backgroundcolor": "#E5ECF6",
            "gridcolor": "white",
            "gridwidth": 2,
            "linecolor": "white",
            "showbackground": true,
            "ticks": "",
            "zerolinecolor": "white"
           },
           "yaxis": {
            "backgroundcolor": "#E5ECF6",
            "gridcolor": "white",
            "gridwidth": 2,
            "linecolor": "white",
            "showbackground": true,
            "ticks": "",
            "zerolinecolor": "white"
           },
           "zaxis": {
            "backgroundcolor": "#E5ECF6",
            "gridcolor": "white",
            "gridwidth": 2,
            "linecolor": "white",
            "showbackground": true,
            "ticks": "",
            "zerolinecolor": "white"
           }
          },
          "shapedefaults": {
           "line": {
            "color": "#2a3f5f"
           }
          },
          "ternary": {
           "aaxis": {
            "gridcolor": "white",
            "linecolor": "white",
            "ticks": ""
           },
           "baxis": {
            "gridcolor": "white",
            "linecolor": "white",
            "ticks": ""
           },
           "bgcolor": "#E5ECF6",
           "caxis": {
            "gridcolor": "white",
            "linecolor": "white",
            "ticks": ""
           }
          },
          "title": {
           "x": 0.05
          },
          "xaxis": {
           "automargin": true,
           "gridcolor": "white",
           "linecolor": "white",
           "ticks": "",
           "title": {
            "standoff": 15
           },
           "zerolinecolor": "white",
           "zerolinewidth": 2
          },
          "yaxis": {
           "automargin": true,
           "gridcolor": "white",
           "linecolor": "white",
           "ticks": "",
           "title": {
            "standoff": 15
           },
           "zerolinecolor": "white",
           "zerolinewidth": 2
          }
         }
        },
        "title": {
         "font": {
          "color": "#4D5663"
         },
         "text": "GDP Comparison G20 Countries"
        },
        "xaxis": {
         "gridcolor": "#E1E5ED",
         "showgrid": true,
         "tickfont": {
          "color": "#4D5663"
         },
         "title": {
          "font": {
           "color": "#4D5663"
          },
          "text": "G20 Countries"
         },
         "zerolinecolor": "#E1E5ED"
        },
        "yaxis": {
         "gridcolor": "#E1E5ED",
         "showgrid": true,
         "tickfont": {
          "color": "#4D5663"
         },
         "title": {
          "font": {
           "color": "#4D5663"
          },
          "text": "GDP (in USD)"
         },
         "zerolinecolor": "#E1E5ED"
        }
       }
      },
      "text/html": [
       "<div>                            <div id=\"16ae85c2-e0aa-499c-ad4c-0fb1dbcb91a6\" class=\"plotly-graph-div\" style=\"height:525px; width:100%;\"></div>            <script type=\"text/javascript\">                require([\"plotly\"], function(Plotly) {                    window.PLOTLYENV=window.PLOTLYENV || {};\n",
       "                    window.PLOTLYENV.BASE_URL='https://plot.ly';                                    if (document.getElementById(\"16ae85c2-e0aa-499c-ad4c-0fb1dbcb91a6\")) {                    Plotly.newPlot(                        \"16ae85c2-e0aa-499c-ad4c-0fb1dbcb91a6\",                        [{\"marker\": {\"color\": \"rgba(255, 153, 51, 0.6)\", \"line\": {\"color\": \"rgba(255, 153, 51, 1.0)\", \"width\": 1}}, \"name\": \"2019 [YR2019]\", \"orientation\": \"v\", \"text\": \"\", \"type\": \"bar\", \"x\": [\"ARG\", \"AUS\", \"BRA\", \"CAN\", \"CHN\", \"FRA\", \"DEU\", \"IND\", \"IDN\", \"ITA\", \"JPN\", \"MEX\", \"KOR\", \"RUS\", \"SAU\", \"SGP\", \"ZAF\", \"TUR\", \"USA\", \"GBR\", \"EUU\"], \"y\": [\"449663446954.073\", \"1392680589329.14\", \"1839758040765.62\", \"1736425629519.96\", \"14342902842915.9\", \"2715518274227.45\", \"3845630030823.52\", \"2875142314811.85\", \"1119190780752.8\", \"2001244392041.57\", \"5081769542379.77\", \"1258286717124.53\", \"1642383217167.26\", \"1699876578871.35\", \"792966838161.659\", \"372062527488.638\", \"351431649241.439\", \"754411708202.616\", \"21374418877706.7\", \"2827113184695.58\", \"15592795166700.2\"]}, {\"marker\": {\"color\": \"rgba(55, 128, 191, 0.6)\", \"line\": {\"color\": \"rgba(55, 128, 191, 1.0)\", \"width\": 1}}, \"name\": \"2018 [YR2018]\", \"orientation\": \"v\", \"text\": \"\", \"type\": \"bar\", \"x\": [\"ARG\", \"AUS\", \"BRA\", \"CAN\", \"CHN\", \"FRA\", \"DEU\", \"IND\", \"IDN\", \"ITA\", \"JPN\", \"MEX\", \"KOR\", \"RUS\", \"SAU\", \"SGP\", \"ZAF\", \"TUR\", \"USA\", \"GBR\", \"EUU\"], \"y\": [\"519871519807.795\", \"1433904348500.12\", \"1885482534238.33\", \"1716262621082.22\", \"13894817110036.3\", \"2787863958885.49\", \"3949548833952.94\", \"2713165057513.35\", \"1042240309412.58\", \"2085764300862.27\", \"4954806619995.19\", \"1220699479845.98\", \"1720578827805.54\", \"1669583089322.96\", \"786521831573.333\", \"373217081850.534\", \"368288939768.322\", \"771350331372.711\", \"20529049174601.5\", \"2860667727551.97\", \"15931983317841.6\"]}],                        {\"legend\": {\"bgcolor\": \"#F5F6F9\", \"font\": {\"color\": \"#4D5663\"}}, \"paper_bgcolor\": \"#F5F6F9\", \"plot_bgcolor\": \"#F5F6F9\", \"template\": {\"data\": {\"bar\": [{\"error_x\": {\"color\": \"#2a3f5f\"}, \"error_y\": {\"color\": \"#2a3f5f\"}, \"marker\": {\"line\": {\"color\": \"#E5ECF6\", \"width\": 0.5}}, \"type\": \"bar\"}], \"barpolar\": [{\"marker\": {\"line\": {\"color\": \"#E5ECF6\", \"width\": 0.5}}, \"type\": \"barpolar\"}], \"carpet\": [{\"aaxis\": {\"endlinecolor\": \"#2a3f5f\", \"gridcolor\": \"white\", \"linecolor\": \"white\", \"minorgridcolor\": \"white\", \"startlinecolor\": \"#2a3f5f\"}, \"baxis\": {\"endlinecolor\": \"#2a3f5f\", \"gridcolor\": \"white\", \"linecolor\": \"white\", \"minorgridcolor\": \"white\", \"startlinecolor\": \"#2a3f5f\"}, \"type\": \"carpet\"}], \"choropleth\": [{\"colorbar\": {\"outlinewidth\": 0, \"ticks\": \"\"}, \"type\": \"choropleth\"}], \"contour\": [{\"colorbar\": {\"outlinewidth\": 0, \"ticks\": \"\"}, \"colorscale\": [[0.0, \"#0d0887\"], [0.1111111111111111, \"#46039f\"], [0.2222222222222222, \"#7201a8\"], [0.3333333333333333, \"#9c179e\"], [0.4444444444444444, \"#bd3786\"], [0.5555555555555556, \"#d8576b\"], [0.6666666666666666, \"#ed7953\"], [0.7777777777777778, \"#fb9f3a\"], [0.8888888888888888, \"#fdca26\"], [1.0, \"#f0f921\"]], \"type\": \"contour\"}], \"contourcarpet\": [{\"colorbar\": {\"outlinewidth\": 0, \"ticks\": \"\"}, \"type\": \"contourcarpet\"}], \"heatmap\": [{\"colorbar\": {\"outlinewidth\": 0, \"ticks\": \"\"}, \"colorscale\": [[0.0, \"#0d0887\"], [0.1111111111111111, \"#46039f\"], [0.2222222222222222, \"#7201a8\"], [0.3333333333333333, \"#9c179e\"], [0.4444444444444444, \"#bd3786\"], [0.5555555555555556, \"#d8576b\"], [0.6666666666666666, \"#ed7953\"], [0.7777777777777778, \"#fb9f3a\"], [0.8888888888888888, \"#fdca26\"], [1.0, \"#f0f921\"]], \"type\": \"heatmap\"}], \"heatmapgl\": [{\"colorbar\": {\"outlinewidth\": 0, \"ticks\": \"\"}, \"colorscale\": [[0.0, \"#0d0887\"], [0.1111111111111111, \"#46039f\"], [0.2222222222222222, \"#7201a8\"], [0.3333333333333333, \"#9c179e\"], [0.4444444444444444, \"#bd3786\"], [0.5555555555555556, \"#d8576b\"], [0.6666666666666666, \"#ed7953\"], [0.7777777777777778, \"#fb9f3a\"], [0.8888888888888888, \"#fdca26\"], [1.0, \"#f0f921\"]], \"type\": \"heatmapgl\"}], \"histogram\": [{\"marker\": {\"colorbar\": {\"outlinewidth\": 0, \"ticks\": \"\"}}, \"type\": \"histogram\"}], \"histogram2d\": [{\"colorbar\": {\"outlinewidth\": 0, \"ticks\": \"\"}, \"colorscale\": [[0.0, \"#0d0887\"], [0.1111111111111111, \"#46039f\"], [0.2222222222222222, \"#7201a8\"], [0.3333333333333333, \"#9c179e\"], [0.4444444444444444, \"#bd3786\"], [0.5555555555555556, \"#d8576b\"], [0.6666666666666666, \"#ed7953\"], [0.7777777777777778, \"#fb9f3a\"], [0.8888888888888888, \"#fdca26\"], [1.0, \"#f0f921\"]], \"type\": \"histogram2d\"}], \"histogram2dcontour\": [{\"colorbar\": {\"outlinewidth\": 0, \"ticks\": \"\"}, \"colorscale\": [[0.0, \"#0d0887\"], [0.1111111111111111, \"#46039f\"], [0.2222222222222222, \"#7201a8\"], [0.3333333333333333, \"#9c179e\"], [0.4444444444444444, \"#bd3786\"], [0.5555555555555556, \"#d8576b\"], [0.6666666666666666, \"#ed7953\"], [0.7777777777777778, \"#fb9f3a\"], [0.8888888888888888, \"#fdca26\"], [1.0, \"#f0f921\"]], \"type\": \"histogram2dcontour\"}], \"mesh3d\": [{\"colorbar\": {\"outlinewidth\": 0, \"ticks\": \"\"}, \"type\": \"mesh3d\"}], \"parcoords\": [{\"line\": {\"colorbar\": {\"outlinewidth\": 0, \"ticks\": \"\"}}, \"type\": \"parcoords\"}], \"pie\": [{\"automargin\": true, \"type\": \"pie\"}], \"scatter\": [{\"marker\": {\"colorbar\": {\"outlinewidth\": 0, \"ticks\": \"\"}}, \"type\": \"scatter\"}], \"scatter3d\": [{\"line\": {\"colorbar\": {\"outlinewidth\": 0, \"ticks\": \"\"}}, \"marker\": {\"colorbar\": {\"outlinewidth\": 0, \"ticks\": \"\"}}, \"type\": \"scatter3d\"}], \"scattercarpet\": [{\"marker\": {\"colorbar\": {\"outlinewidth\": 0, \"ticks\": \"\"}}, \"type\": \"scattercarpet\"}], \"scattergeo\": [{\"marker\": {\"colorbar\": {\"outlinewidth\": 0, \"ticks\": \"\"}}, \"type\": \"scattergeo\"}], \"scattergl\": [{\"marker\": {\"colorbar\": {\"outlinewidth\": 0, \"ticks\": \"\"}}, \"type\": \"scattergl\"}], \"scattermapbox\": [{\"marker\": {\"colorbar\": {\"outlinewidth\": 0, \"ticks\": \"\"}}, \"type\": \"scattermapbox\"}], \"scatterpolar\": [{\"marker\": {\"colorbar\": {\"outlinewidth\": 0, \"ticks\": \"\"}}, \"type\": \"scatterpolar\"}], \"scatterpolargl\": [{\"marker\": {\"colorbar\": {\"outlinewidth\": 0, \"ticks\": \"\"}}, \"type\": \"scatterpolargl\"}], \"scatterternary\": [{\"marker\": {\"colorbar\": {\"outlinewidth\": 0, \"ticks\": \"\"}}, \"type\": \"scatterternary\"}], \"surface\": [{\"colorbar\": {\"outlinewidth\": 0, \"ticks\": \"\"}, \"colorscale\": [[0.0, \"#0d0887\"], [0.1111111111111111, \"#46039f\"], [0.2222222222222222, \"#7201a8\"], [0.3333333333333333, \"#9c179e\"], [0.4444444444444444, \"#bd3786\"], [0.5555555555555556, \"#d8576b\"], [0.6666666666666666, \"#ed7953\"], [0.7777777777777778, \"#fb9f3a\"], [0.8888888888888888, \"#fdca26\"], [1.0, \"#f0f921\"]], \"type\": \"surface\"}], \"table\": [{\"cells\": {\"fill\": {\"color\": \"#EBF0F8\"}, \"line\": {\"color\": \"white\"}}, \"header\": {\"fill\": {\"color\": \"#C8D4E3\"}, \"line\": {\"color\": \"white\"}}, \"type\": \"table\"}]}, \"layout\": {\"annotationdefaults\": {\"arrowcolor\": \"#2a3f5f\", \"arrowhead\": 0, \"arrowwidth\": 1}, \"coloraxis\": {\"colorbar\": {\"outlinewidth\": 0, \"ticks\": \"\"}}, \"colorscale\": {\"diverging\": [[0, \"#8e0152\"], [0.1, \"#c51b7d\"], [0.2, \"#de77ae\"], [0.3, \"#f1b6da\"], [0.4, \"#fde0ef\"], [0.5, \"#f7f7f7\"], [0.6, \"#e6f5d0\"], [0.7, \"#b8e186\"], [0.8, \"#7fbc41\"], [0.9, \"#4d9221\"], [1, \"#276419\"]], \"sequential\": [[0.0, \"#0d0887\"], [0.1111111111111111, \"#46039f\"], [0.2222222222222222, \"#7201a8\"], [0.3333333333333333, \"#9c179e\"], [0.4444444444444444, \"#bd3786\"], [0.5555555555555556, \"#d8576b\"], [0.6666666666666666, \"#ed7953\"], [0.7777777777777778, \"#fb9f3a\"], [0.8888888888888888, \"#fdca26\"], [1.0, \"#f0f921\"]], \"sequentialminus\": [[0.0, \"#0d0887\"], [0.1111111111111111, \"#46039f\"], [0.2222222222222222, \"#7201a8\"], [0.3333333333333333, \"#9c179e\"], [0.4444444444444444, \"#bd3786\"], [0.5555555555555556, \"#d8576b\"], [0.6666666666666666, \"#ed7953\"], [0.7777777777777778, \"#fb9f3a\"], [0.8888888888888888, \"#fdca26\"], [1.0, \"#f0f921\"]]}, \"colorway\": [\"#636efa\", \"#EF553B\", \"#00cc96\", \"#ab63fa\", \"#FFA15A\", \"#19d3f3\", \"#FF6692\", \"#B6E880\", \"#FF97FF\", \"#FECB52\"], \"font\": {\"color\": \"#2a3f5f\"}, \"geo\": {\"bgcolor\": \"white\", \"lakecolor\": \"white\", \"landcolor\": \"#E5ECF6\", \"showlakes\": true, \"showland\": true, \"subunitcolor\": \"white\"}, \"hoverlabel\": {\"align\": \"left\"}, \"hovermode\": \"closest\", \"mapbox\": {\"style\": \"light\"}, \"paper_bgcolor\": \"white\", \"plot_bgcolor\": \"#E5ECF6\", \"polar\": {\"angularaxis\": {\"gridcolor\": \"white\", \"linecolor\": \"white\", \"ticks\": \"\"}, \"bgcolor\": \"#E5ECF6\", \"radialaxis\": {\"gridcolor\": \"white\", \"linecolor\": \"white\", \"ticks\": \"\"}}, \"scene\": {\"xaxis\": {\"backgroundcolor\": \"#E5ECF6\", \"gridcolor\": \"white\", \"gridwidth\": 2, \"linecolor\": \"white\", \"showbackground\": true, \"ticks\": \"\", \"zerolinecolor\": \"white\"}, \"yaxis\": {\"backgroundcolor\": \"#E5ECF6\", \"gridcolor\": \"white\", \"gridwidth\": 2, \"linecolor\": \"white\", \"showbackground\": true, \"ticks\": \"\", \"zerolinecolor\": \"white\"}, \"zaxis\": {\"backgroundcolor\": \"#E5ECF6\", \"gridcolor\": \"white\", \"gridwidth\": 2, \"linecolor\": \"white\", \"showbackground\": true, \"ticks\": \"\", \"zerolinecolor\": \"white\"}}, \"shapedefaults\": {\"line\": {\"color\": \"#2a3f5f\"}}, \"ternary\": {\"aaxis\": {\"gridcolor\": \"white\", \"linecolor\": \"white\", \"ticks\": \"\"}, \"baxis\": {\"gridcolor\": \"white\", \"linecolor\": \"white\", \"ticks\": \"\"}, \"bgcolor\": \"#E5ECF6\", \"caxis\": {\"gridcolor\": \"white\", \"linecolor\": \"white\", \"ticks\": \"\"}}, \"title\": {\"x\": 0.05}, \"xaxis\": {\"automargin\": true, \"gridcolor\": \"white\", \"linecolor\": \"white\", \"ticks\": \"\", \"title\": {\"standoff\": 15}, \"zerolinecolor\": \"white\", \"zerolinewidth\": 2}, \"yaxis\": {\"automargin\": true, \"gridcolor\": \"white\", \"linecolor\": \"white\", \"ticks\": \"\", \"title\": {\"standoff\": 15}, \"zerolinecolor\": \"white\", \"zerolinewidth\": 2}}}, \"title\": {\"font\": {\"color\": \"#4D5663\"}, \"text\": \"GDP Comparison G20 Countries\"}, \"xaxis\": {\"gridcolor\": \"#E1E5ED\", \"showgrid\": true, \"tickfont\": {\"color\": \"#4D5663\"}, \"title\": {\"font\": {\"color\": \"#4D5663\"}, \"text\": \"G20 Countries\"}, \"zerolinecolor\": \"#E1E5ED\"}, \"yaxis\": {\"gridcolor\": \"#E1E5ED\", \"showgrid\": true, \"tickfont\": {\"color\": \"#4D5663\"}, \"title\": {\"font\": {\"color\": \"#4D5663\"}, \"text\": \"GDP (in USD)\"}, \"zerolinecolor\": \"#E1E5ED\"}},                        {\"showLink\": true, \"linkText\": \"Export to plot.ly\", \"plotlyServerURL\": \"https://plot.ly\", \"responsive\": true}                    ).then(function(){\n",
       "                            \n",
       "var gd = document.getElementById('16ae85c2-e0aa-499c-ad4c-0fb1dbcb91a6');\n",
       "var x = new MutationObserver(function (mutations, observer) {{\n",
       "        var display = window.getComputedStyle(gd).display;\n",
       "        if (!display || display === 'none') {{\n",
       "            console.log([gd, 'removed!']);\n",
       "            Plotly.purge(gd);\n",
       "            observer.disconnect();\n",
       "        }}\n",
       "}});\n",
       "\n",
       "// Listen for the removal of the full notebook cells\n",
       "var notebookContainer = gd.closest('#notebook-container');\n",
       "if (notebookContainer) {{\n",
       "    x.observe(notebookContainer, {childList: true});\n",
       "}}\n",
       "\n",
       "// Listen for the clearing of the current output cell\n",
       "var outputEl = gd.closest('.output');\n",
       "if (outputEl) {{\n",
       "    x.observe(outputEl, {childList: true});\n",
       "}}\n",
       "\n",
       "                        })                };                });            </script>        </div>"
      ]
     },
     "metadata": {},
     "output_type": "display_data"
    }
   ],
   "source": [
    "#plot interactive line chart via plotly\n",
    "gdpdf.iplot(kind = 'bar',xTitle = 'G20 Countries',yTitle='GDP (in USD)', x = \"Country Code\", y = ['2019 [YR2019]','2018 [YR2018]'],\\\n",
    "                 title = \"GDP Comparison G20 Countries\")\n",
    "# gdpdf.iplot(kind = 'bar',xTitle = 'G20 Countries',yTitle='GDP (in USD)', x = \"Country Code\", y = '2019 [YR2019]',\\\n",
    "#                  title = \"GDP Comparison G20 Countries\")\n",
    "plt.show()"
   ]
  },
  {
   "cell_type": "code",
   "execution_count": 14,
   "metadata": {},
   "outputs": [
    {
     "data": {
      "text/html": [
       "<div>\n",
       "<style scoped>\n",
       "    .dataframe tbody tr th:only-of-type {\n",
       "        vertical-align: middle;\n",
       "    }\n",
       "\n",
       "    .dataframe tbody tr th {\n",
       "        vertical-align: top;\n",
       "    }\n",
       "\n",
       "    .dataframe thead th {\n",
       "        text-align: right;\n",
       "    }\n",
       "</style>\n",
       "<table border=\"1\" class=\"dataframe\">\n",
       "  <thead>\n",
       "    <tr style=\"text-align: right;\">\n",
       "      <th></th>\n",
       "      <th>Country Name</th>\n",
       "      <th>Country Code</th>\n",
       "      <th>Series Code</th>\n",
       "      <th>2018 [YR2018]</th>\n",
       "      <th>2019 [YR2019]</th>\n",
       "      <th>2020 [YR2020]</th>\n",
       "    </tr>\n",
       "    <tr>\n",
       "      <th>Series Name</th>\n",
       "      <th></th>\n",
       "      <th></th>\n",
       "      <th></th>\n",
       "      <th></th>\n",
       "      <th></th>\n",
       "      <th></th>\n",
       "    </tr>\n",
       "  </thead>\n",
       "  <tbody>\n",
       "    <tr>\n",
       "      <th>A woman can apply for a passport in the same way as a man (1=yes; 0=no)</th>\n",
       "      <td>Argentina</td>\n",
       "      <td>ARG</td>\n",
       "      <td>SG.APL.PSPT.EQ</td>\n",
       "      <td>1</td>\n",
       "      <td>1</td>\n",
       "      <td>..</td>\n",
       "    </tr>\n",
       "    <tr>\n",
       "      <th>A woman can be head of household in the same way as a man (1=yes; 0=no)</th>\n",
       "      <td>Argentina</td>\n",
       "      <td>ARG</td>\n",
       "      <td>SG.HLD.HEAD.EQ</td>\n",
       "      <td>1</td>\n",
       "      <td>1</td>\n",
       "      <td>..</td>\n",
       "    </tr>\n",
       "    <tr>\n",
       "      <th>A woman can choose where to live in the same way as a man (1=yes; 0=no)</th>\n",
       "      <td>Argentina</td>\n",
       "      <td>ARG</td>\n",
       "      <td>SG.LOC.LIVE.EQ</td>\n",
       "      <td>1</td>\n",
       "      <td>1</td>\n",
       "      <td>..</td>\n",
       "    </tr>\n",
       "    <tr>\n",
       "      <th>A woman can get a job in the same way as a man (1=yes; 0=no)</th>\n",
       "      <td>Argentina</td>\n",
       "      <td>ARG</td>\n",
       "      <td>SG.GET.JOBS.EQ</td>\n",
       "      <td>1</td>\n",
       "      <td>1</td>\n",
       "      <td>..</td>\n",
       "    </tr>\n",
       "    <tr>\n",
       "      <th>A woman can obtain a judgment of divorce in the same way as a man (1=yes; 0=no)</th>\n",
       "      <td>Argentina</td>\n",
       "      <td>ARG</td>\n",
       "      <td>SG.OBT.DVRC.EQ</td>\n",
       "      <td>1</td>\n",
       "      <td>1</td>\n",
       "      <td>..</td>\n",
       "    </tr>\n",
       "  </tbody>\n",
       "</table>\n",
       "</div>"
      ],
      "text/plain": [
       "                                                   Country Name Country Code  \\\n",
       "Series Name                                                                    \n",
       "A woman can apply for a passport in the same wa...    Argentina          ARG   \n",
       "A woman can be head of household in the same wa...    Argentina          ARG   \n",
       "A woman can choose where to live in the same wa...    Argentina          ARG   \n",
       "A woman can get a job in the same way as a man ...    Argentina          ARG   \n",
       "A woman can obtain a judgment of divorce in the...    Argentina          ARG   \n",
       "\n",
       "                                                       Series Code  \\\n",
       "Series Name                                                          \n",
       "A woman can apply for a passport in the same wa...  SG.APL.PSPT.EQ   \n",
       "A woman can be head of household in the same wa...  SG.HLD.HEAD.EQ   \n",
       "A woman can choose where to live in the same wa...  SG.LOC.LIVE.EQ   \n",
       "A woman can get a job in the same way as a man ...  SG.GET.JOBS.EQ   \n",
       "A woman can obtain a judgment of divorce in the...  SG.OBT.DVRC.EQ   \n",
       "\n",
       "                                                   2018 [YR2018]  \\\n",
       "Series Name                                                        \n",
       "A woman can apply for a passport in the same wa...             1   \n",
       "A woman can be head of household in the same wa...             1   \n",
       "A woman can choose where to live in the same wa...             1   \n",
       "A woman can get a job in the same way as a man ...             1   \n",
       "A woman can obtain a judgment of divorce in the...             1   \n",
       "\n",
       "                                                   2019 [YR2019] 2020 [YR2020]  \n",
       "Series Name                                                                     \n",
       "A woman can apply for a passport in the same wa...             1            ..  \n",
       "A woman can be head of household in the same wa...             1            ..  \n",
       "A woman can choose where to live in the same wa...             1            ..  \n",
       "A woman can get a job in the same way as a man ...             1            ..  \n",
       "A woman can obtain a judgment of divorce in the...             1            ..  "
      ]
     },
     "execution_count": 14,
     "metadata": {},
     "output_type": "execute_result"
    }
   ],
   "source": [
    "# schoolingdf = gs[gs['Series Name'] == 'Expected years of schooling, female' , \\\n",
    "#                  gs['Series Name'] == 'Expected years of schooling, male']\n",
    "\n",
    "# set \"Series Name\" Column as index\n",
    "gs.set_index(\"Series Name\", inplace=True)\n",
    "gs.head()"
   ]
  },
  {
   "cell_type": "code",
   "execution_count": 15,
   "metadata": {},
   "outputs": [],
   "source": [
    "schooling_yrs = gs.loc[['Expected Years of School, Male', 'Expected Years of School, Female'], \\\n",
    "                       ['Country Name', 'Country Code', '2018 [YR2018]', '2019 [YR2019]']]"
   ]
  },
  {
   "cell_type": "code",
   "execution_count": 16,
   "metadata": {},
   "outputs": [],
   "source": [
    "schooling_yrs.reset_index(inplace = True)"
   ]
  },
  {
   "cell_type": "code",
   "execution_count": 17,
   "metadata": {},
   "outputs": [],
   "source": [
    "# round to two decimal places in pandas \n",
    "pd.options.display.float_format = '{:.2f}'.format"
   ]
  },
  {
   "cell_type": "code",
   "execution_count": 18,
   "metadata": {},
   "outputs": [
    {
     "data": {
      "text/plain": [
       "Country Name        Series Name                     \n",
       "Argentina           Expected Years of School, Female   13.06\n",
       "                    Expected Years of School, Male     12.70\n",
       "Australia           Expected Years of School, Female   13.62\n",
       "                    Expected Years of School, Male     13.58\n",
       "Brazil              Expected Years of School, Female    0.00\n",
       "                    Expected Years of School, Male      0.00\n",
       "Canada              Expected Years of School, Female   13.71\n",
       "                    Expected Years of School, Male     13.73\n",
       "China               Expected Years of School, Female   13.09\n",
       "                    Expected Years of School, Male     12.91\n",
       "European Union      Expected Years of School, Female    0.00\n",
       "                    Expected Years of School, Male      0.00\n",
       "France              Expected Years of School, Female   13.82\n",
       "                    Expected Years of School, Male     13.78\n",
       "Germany             Expected Years of School, Female   13.34\n",
       "                    Expected Years of School, Male     13.32\n",
       "India               Expected Years of School, Female   10.94\n",
       "                    Expected Years of School, Male     10.77\n",
       "Indonesia           Expected Years of School, Female   12.41\n",
       "                    Expected Years of School, Male     12.21\n",
       "Italy               Expected Years of School, Female   13.32\n",
       "                    Expected Years of School, Male     13.19\n",
       "Japan               Expected Years of School, Female    0.00\n",
       "                    Expected Years of School, Male      0.00\n",
       "Korea, Rep.         Expected Years of School, Female   13.58\n",
       "                    Expected Years of School, Male     13.60\n",
       "Mexico              Expected Years of School, Female   12.98\n",
       "                    Expected Years of School, Male     12.67\n",
       "Russian Federation  Expected Years of School, Female   13.69\n",
       "                    Expected Years of School, Male     13.69\n",
       "Saudi Arabia        Expected Years of School, Female   12.27\n",
       "                    Expected Years of School, Male     12.30\n",
       "Singapore           Expected Years of School, Female   13.90\n",
       "                    Expected Years of School, Male     13.93\n",
       "South Africa        Expected Years of School, Female   10.11\n",
       "                    Expected Years of School, Male     10.15\n",
       "Turkey              Expected Years of School, Female   12.00\n",
       "                    Expected Years of School, Male     12.14\n",
       "United Kingdom      Expected Years of School, Female   13.86\n",
       "                    Expected Years of School, Male     13.86\n",
       "United States       Expected Years of School, Female   12.94\n",
       "                    Expected Years of School, Male     12.85\n",
       "Name: 2018 [YR2018], dtype: float64"
      ]
     },
     "execution_count": 18,
     "metadata": {},
     "output_type": "execute_result"
    }
   ],
   "source": [
    "# schooling_yrs.groupby(['Country Code', 'Series Name'])[\"2018 [YR2018]\"].sum()\n",
    "schooling_yrs_bk =  schooling_yrs\n",
    "# schooling_yrs.info()\n",
    "# schooling_yrs.describe()\n",
    "schooling_yrs.replace(to_replace = '..', value = np.nan, inplace = True) \n",
    "schooling_yrs['2018 [YR2018]'] = schooling_yrs['2018 [YR2018]'].astype(float)\n",
    "\n",
    "schoolyrs_groupby_country =schooling_yrs.groupby(['Country Name', 'Series Name'])['2018 [YR2018]'].sum()\n",
    "schoolyrs_groupby_country"
   ]
  },
  {
   "cell_type": "code",
   "execution_count": 19,
   "metadata": {},
   "outputs": [
    {
     "data": {
      "text/html": [
       "<div>\n",
       "<style scoped>\n",
       "    .dataframe tbody tr th:only-of-type {\n",
       "        vertical-align: middle;\n",
       "    }\n",
       "\n",
       "    .dataframe tbody tr th {\n",
       "        vertical-align: top;\n",
       "    }\n",
       "\n",
       "    .dataframe thead th {\n",
       "        text-align: right;\n",
       "    }\n",
       "</style>\n",
       "<table border=\"1\" class=\"dataframe\">\n",
       "  <thead>\n",
       "    <tr style=\"text-align: right;\">\n",
       "      <th></th>\n",
       "      <th>Series Name</th>\n",
       "      <th>Country Name</th>\n",
       "      <th>Country Code</th>\n",
       "      <th>2018 [YR2018]</th>\n",
       "      <th>2019 [YR2019]</th>\n",
       "    </tr>\n",
       "  </thead>\n",
       "  <tbody>\n",
       "    <tr>\n",
       "      <th>0</th>\n",
       "      <td>Expected Years of School, Male</td>\n",
       "      <td>Argentina</td>\n",
       "      <td>ARG</td>\n",
       "      <td>12.70</td>\n",
       "      <td>nan</td>\n",
       "    </tr>\n",
       "    <tr>\n",
       "      <th>1</th>\n",
       "      <td>Expected Years of School, Male</td>\n",
       "      <td>Australia</td>\n",
       "      <td>AUS</td>\n",
       "      <td>13.58</td>\n",
       "      <td>nan</td>\n",
       "    </tr>\n",
       "    <tr>\n",
       "      <th>2</th>\n",
       "      <td>Expected Years of School, Male</td>\n",
       "      <td>Brazil</td>\n",
       "      <td>BRA</td>\n",
       "      <td>nan</td>\n",
       "      <td>nan</td>\n",
       "    </tr>\n",
       "    <tr>\n",
       "      <th>3</th>\n",
       "      <td>Expected Years of School, Male</td>\n",
       "      <td>Canada</td>\n",
       "      <td>CAN</td>\n",
       "      <td>13.73</td>\n",
       "      <td>nan</td>\n",
       "    </tr>\n",
       "    <tr>\n",
       "      <th>4</th>\n",
       "      <td>Expected Years of School, Male</td>\n",
       "      <td>China</td>\n",
       "      <td>CHN</td>\n",
       "      <td>12.91</td>\n",
       "      <td>nan</td>\n",
       "    </tr>\n",
       "  </tbody>\n",
       "</table>\n",
       "</div>"
      ],
      "text/plain": [
       "                      Series Name Country Name Country Code  2018 [YR2018]  \\\n",
       "0  Expected Years of School, Male    Argentina          ARG          12.70   \n",
       "1  Expected Years of School, Male    Australia          AUS          13.58   \n",
       "2  Expected Years of School, Male       Brazil          BRA            nan   \n",
       "3  Expected Years of School, Male       Canada          CAN          13.73   \n",
       "4  Expected Years of School, Male        China          CHN          12.91   \n",
       "\n",
       "   2019 [YR2019]  \n",
       "0            nan  \n",
       "1            nan  \n",
       "2            nan  \n",
       "3            nan  \n",
       "4            nan  "
      ]
     },
     "execution_count": 19,
     "metadata": {},
     "output_type": "execute_result"
    }
   ],
   "source": [
    "schooling_yrs.head(5)"
   ]
  },
  {
   "cell_type": "code",
   "execution_count": 20,
   "metadata": {},
   "outputs": [
    {
     "data": {
      "application/vnd.plotly.v1+json": {
       "config": {
        "linkText": "Export to plot.ly",
        "plotlyServerURL": "https://plot.ly",
        "showLink": true
       },
       "data": [
        {
         "marker": {
          "color": "rgba(53, 12, 235, 0.6)",
          "line": {
           "color": "rgba(53, 12, 235, 1.0)",
           "width": 1
          }
         },
         "name": "2018 [YR2018]",
         "orientation": "v",
         "text": "",
         "type": "bar",
         "x": [
          "ARG",
          "AUS",
          "BRA",
          "CAN",
          "CHN",
          "FRA",
          "DEU",
          "IND",
          "IDN",
          "ITA",
          "JPN",
          "MEX",
          "KOR",
          "RUS",
          "SAU",
          "SGP",
          "ZAF",
          "TUR",
          "USA",
          "GBR",
          "EUU",
          "ARG",
          "AUS",
          "BRA",
          "CAN",
          "CHN",
          "FRA",
          "DEU",
          "IND",
          "IDN",
          "ITA",
          "JPN",
          "MEX",
          "KOR",
          "RUS",
          "SAU",
          "SGP",
          "ZAF",
          "TUR",
          "USA",
          "GBR",
          "EUU"
         ],
         "y": [
          12.7036781311035,
          13.5834541320801,
          "",
          13.7338047027588,
          12.9108600616455,
          13.7824621200562,
          13.3176069259644,
          10.7658643722534,
          12.2100591659546,
          13.187442779541,
          "",
          12.6747560501099,
          13.6023263931274,
          13.6939640045166,
          12.2987651824951,
          13.9299392700195,
          10.1498374938965,
          12.1358509063721,
          12.8492345809937,
          13.8588800430298,
          "",
          13.0612525939941,
          13.6202220916748,
          "",
          13.709587097168,
          13.0906476974487,
          13.8239583969116,
          13.3445348739624,
          10.9361839294434,
          12.4125337600708,
          13.3196172714233,
          "",
          12.9787406921387,
          13.5837078094482,
          13.6853475570679,
          12.2675857543945,
          13.904221534729,
          10.113977432251,
          11.9955291748047,
          12.936393737793,
          13.8576593399048,
          ""
         ]
        }
       ],
       "layout": {
        "legend": {
         "bgcolor": "#F5F6F9",
         "font": {
          "color": "#4D5663"
         }
        },
        "paper_bgcolor": "#F5F6F9",
        "plot_bgcolor": "#F5F6F9",
        "template": {
         "data": {
          "bar": [
           {
            "error_x": {
             "color": "#2a3f5f"
            },
            "error_y": {
             "color": "#2a3f5f"
            },
            "marker": {
             "line": {
              "color": "#E5ECF6",
              "width": 0.5
             }
            },
            "type": "bar"
           }
          ],
          "barpolar": [
           {
            "marker": {
             "line": {
              "color": "#E5ECF6",
              "width": 0.5
             }
            },
            "type": "barpolar"
           }
          ],
          "carpet": [
           {
            "aaxis": {
             "endlinecolor": "#2a3f5f",
             "gridcolor": "white",
             "linecolor": "white",
             "minorgridcolor": "white",
             "startlinecolor": "#2a3f5f"
            },
            "baxis": {
             "endlinecolor": "#2a3f5f",
             "gridcolor": "white",
             "linecolor": "white",
             "minorgridcolor": "white",
             "startlinecolor": "#2a3f5f"
            },
            "type": "carpet"
           }
          ],
          "choropleth": [
           {
            "colorbar": {
             "outlinewidth": 0,
             "ticks": ""
            },
            "type": "choropleth"
           }
          ],
          "contour": [
           {
            "colorbar": {
             "outlinewidth": 0,
             "ticks": ""
            },
            "colorscale": [
             [
              0,
              "#0d0887"
             ],
             [
              0.1111111111111111,
              "#46039f"
             ],
             [
              0.2222222222222222,
              "#7201a8"
             ],
             [
              0.3333333333333333,
              "#9c179e"
             ],
             [
              0.4444444444444444,
              "#bd3786"
             ],
             [
              0.5555555555555556,
              "#d8576b"
             ],
             [
              0.6666666666666666,
              "#ed7953"
             ],
             [
              0.7777777777777778,
              "#fb9f3a"
             ],
             [
              0.8888888888888888,
              "#fdca26"
             ],
             [
              1,
              "#f0f921"
             ]
            ],
            "type": "contour"
           }
          ],
          "contourcarpet": [
           {
            "colorbar": {
             "outlinewidth": 0,
             "ticks": ""
            },
            "type": "contourcarpet"
           }
          ],
          "heatmap": [
           {
            "colorbar": {
             "outlinewidth": 0,
             "ticks": ""
            },
            "colorscale": [
             [
              0,
              "#0d0887"
             ],
             [
              0.1111111111111111,
              "#46039f"
             ],
             [
              0.2222222222222222,
              "#7201a8"
             ],
             [
              0.3333333333333333,
              "#9c179e"
             ],
             [
              0.4444444444444444,
              "#bd3786"
             ],
             [
              0.5555555555555556,
              "#d8576b"
             ],
             [
              0.6666666666666666,
              "#ed7953"
             ],
             [
              0.7777777777777778,
              "#fb9f3a"
             ],
             [
              0.8888888888888888,
              "#fdca26"
             ],
             [
              1,
              "#f0f921"
             ]
            ],
            "type": "heatmap"
           }
          ],
          "heatmapgl": [
           {
            "colorbar": {
             "outlinewidth": 0,
             "ticks": ""
            },
            "colorscale": [
             [
              0,
              "#0d0887"
             ],
             [
              0.1111111111111111,
              "#46039f"
             ],
             [
              0.2222222222222222,
              "#7201a8"
             ],
             [
              0.3333333333333333,
              "#9c179e"
             ],
             [
              0.4444444444444444,
              "#bd3786"
             ],
             [
              0.5555555555555556,
              "#d8576b"
             ],
             [
              0.6666666666666666,
              "#ed7953"
             ],
             [
              0.7777777777777778,
              "#fb9f3a"
             ],
             [
              0.8888888888888888,
              "#fdca26"
             ],
             [
              1,
              "#f0f921"
             ]
            ],
            "type": "heatmapgl"
           }
          ],
          "histogram": [
           {
            "marker": {
             "colorbar": {
              "outlinewidth": 0,
              "ticks": ""
             }
            },
            "type": "histogram"
           }
          ],
          "histogram2d": [
           {
            "colorbar": {
             "outlinewidth": 0,
             "ticks": ""
            },
            "colorscale": [
             [
              0,
              "#0d0887"
             ],
             [
              0.1111111111111111,
              "#46039f"
             ],
             [
              0.2222222222222222,
              "#7201a8"
             ],
             [
              0.3333333333333333,
              "#9c179e"
             ],
             [
              0.4444444444444444,
              "#bd3786"
             ],
             [
              0.5555555555555556,
              "#d8576b"
             ],
             [
              0.6666666666666666,
              "#ed7953"
             ],
             [
              0.7777777777777778,
              "#fb9f3a"
             ],
             [
              0.8888888888888888,
              "#fdca26"
             ],
             [
              1,
              "#f0f921"
             ]
            ],
            "type": "histogram2d"
           }
          ],
          "histogram2dcontour": [
           {
            "colorbar": {
             "outlinewidth": 0,
             "ticks": ""
            },
            "colorscale": [
             [
              0,
              "#0d0887"
             ],
             [
              0.1111111111111111,
              "#46039f"
             ],
             [
              0.2222222222222222,
              "#7201a8"
             ],
             [
              0.3333333333333333,
              "#9c179e"
             ],
             [
              0.4444444444444444,
              "#bd3786"
             ],
             [
              0.5555555555555556,
              "#d8576b"
             ],
             [
              0.6666666666666666,
              "#ed7953"
             ],
             [
              0.7777777777777778,
              "#fb9f3a"
             ],
             [
              0.8888888888888888,
              "#fdca26"
             ],
             [
              1,
              "#f0f921"
             ]
            ],
            "type": "histogram2dcontour"
           }
          ],
          "mesh3d": [
           {
            "colorbar": {
             "outlinewidth": 0,
             "ticks": ""
            },
            "type": "mesh3d"
           }
          ],
          "parcoords": [
           {
            "line": {
             "colorbar": {
              "outlinewidth": 0,
              "ticks": ""
             }
            },
            "type": "parcoords"
           }
          ],
          "pie": [
           {
            "automargin": true,
            "type": "pie"
           }
          ],
          "scatter": [
           {
            "marker": {
             "colorbar": {
              "outlinewidth": 0,
              "ticks": ""
             }
            },
            "type": "scatter"
           }
          ],
          "scatter3d": [
           {
            "line": {
             "colorbar": {
              "outlinewidth": 0,
              "ticks": ""
             }
            },
            "marker": {
             "colorbar": {
              "outlinewidth": 0,
              "ticks": ""
             }
            },
            "type": "scatter3d"
           }
          ],
          "scattercarpet": [
           {
            "marker": {
             "colorbar": {
              "outlinewidth": 0,
              "ticks": ""
             }
            },
            "type": "scattercarpet"
           }
          ],
          "scattergeo": [
           {
            "marker": {
             "colorbar": {
              "outlinewidth": 0,
              "ticks": ""
             }
            },
            "type": "scattergeo"
           }
          ],
          "scattergl": [
           {
            "marker": {
             "colorbar": {
              "outlinewidth": 0,
              "ticks": ""
             }
            },
            "type": "scattergl"
           }
          ],
          "scattermapbox": [
           {
            "marker": {
             "colorbar": {
              "outlinewidth": 0,
              "ticks": ""
             }
            },
            "type": "scattermapbox"
           }
          ],
          "scatterpolar": [
           {
            "marker": {
             "colorbar": {
              "outlinewidth": 0,
              "ticks": ""
             }
            },
            "type": "scatterpolar"
           }
          ],
          "scatterpolargl": [
           {
            "marker": {
             "colorbar": {
              "outlinewidth": 0,
              "ticks": ""
             }
            },
            "type": "scatterpolargl"
           }
          ],
          "scatterternary": [
           {
            "marker": {
             "colorbar": {
              "outlinewidth": 0,
              "ticks": ""
             }
            },
            "type": "scatterternary"
           }
          ],
          "surface": [
           {
            "colorbar": {
             "outlinewidth": 0,
             "ticks": ""
            },
            "colorscale": [
             [
              0,
              "#0d0887"
             ],
             [
              0.1111111111111111,
              "#46039f"
             ],
             [
              0.2222222222222222,
              "#7201a8"
             ],
             [
              0.3333333333333333,
              "#9c179e"
             ],
             [
              0.4444444444444444,
              "#bd3786"
             ],
             [
              0.5555555555555556,
              "#d8576b"
             ],
             [
              0.6666666666666666,
              "#ed7953"
             ],
             [
              0.7777777777777778,
              "#fb9f3a"
             ],
             [
              0.8888888888888888,
              "#fdca26"
             ],
             [
              1,
              "#f0f921"
             ]
            ],
            "type": "surface"
           }
          ],
          "table": [
           {
            "cells": {
             "fill": {
              "color": "#EBF0F8"
             },
             "line": {
              "color": "white"
             }
            },
            "header": {
             "fill": {
              "color": "#C8D4E3"
             },
             "line": {
              "color": "white"
             }
            },
            "type": "table"
           }
          ]
         },
         "layout": {
          "annotationdefaults": {
           "arrowcolor": "#2a3f5f",
           "arrowhead": 0,
           "arrowwidth": 1
          },
          "coloraxis": {
           "colorbar": {
            "outlinewidth": 0,
            "ticks": ""
           }
          },
          "colorscale": {
           "diverging": [
            [
             0,
             "#8e0152"
            ],
            [
             0.1,
             "#c51b7d"
            ],
            [
             0.2,
             "#de77ae"
            ],
            [
             0.3,
             "#f1b6da"
            ],
            [
             0.4,
             "#fde0ef"
            ],
            [
             0.5,
             "#f7f7f7"
            ],
            [
             0.6,
             "#e6f5d0"
            ],
            [
             0.7,
             "#b8e186"
            ],
            [
             0.8,
             "#7fbc41"
            ],
            [
             0.9,
             "#4d9221"
            ],
            [
             1,
             "#276419"
            ]
           ],
           "sequential": [
            [
             0,
             "#0d0887"
            ],
            [
             0.1111111111111111,
             "#46039f"
            ],
            [
             0.2222222222222222,
             "#7201a8"
            ],
            [
             0.3333333333333333,
             "#9c179e"
            ],
            [
             0.4444444444444444,
             "#bd3786"
            ],
            [
             0.5555555555555556,
             "#d8576b"
            ],
            [
             0.6666666666666666,
             "#ed7953"
            ],
            [
             0.7777777777777778,
             "#fb9f3a"
            ],
            [
             0.8888888888888888,
             "#fdca26"
            ],
            [
             1,
             "#f0f921"
            ]
           ],
           "sequentialminus": [
            [
             0,
             "#0d0887"
            ],
            [
             0.1111111111111111,
             "#46039f"
            ],
            [
             0.2222222222222222,
             "#7201a8"
            ],
            [
             0.3333333333333333,
             "#9c179e"
            ],
            [
             0.4444444444444444,
             "#bd3786"
            ],
            [
             0.5555555555555556,
             "#d8576b"
            ],
            [
             0.6666666666666666,
             "#ed7953"
            ],
            [
             0.7777777777777778,
             "#fb9f3a"
            ],
            [
             0.8888888888888888,
             "#fdca26"
            ],
            [
             1,
             "#f0f921"
            ]
           ]
          },
          "colorway": [
           "#636efa",
           "#EF553B",
           "#00cc96",
           "#ab63fa",
           "#FFA15A",
           "#19d3f3",
           "#FF6692",
           "#B6E880",
           "#FF97FF",
           "#FECB52"
          ],
          "font": {
           "color": "#2a3f5f"
          },
          "geo": {
           "bgcolor": "white",
           "lakecolor": "white",
           "landcolor": "#E5ECF6",
           "showlakes": true,
           "showland": true,
           "subunitcolor": "white"
          },
          "hoverlabel": {
           "align": "left"
          },
          "hovermode": "closest",
          "mapbox": {
           "style": "light"
          },
          "paper_bgcolor": "white",
          "plot_bgcolor": "#E5ECF6",
          "polar": {
           "angularaxis": {
            "gridcolor": "white",
            "linecolor": "white",
            "ticks": ""
           },
           "bgcolor": "#E5ECF6",
           "radialaxis": {
            "gridcolor": "white",
            "linecolor": "white",
            "ticks": ""
           }
          },
          "scene": {
           "xaxis": {
            "backgroundcolor": "#E5ECF6",
            "gridcolor": "white",
            "gridwidth": 2,
            "linecolor": "white",
            "showbackground": true,
            "ticks": "",
            "zerolinecolor": "white"
           },
           "yaxis": {
            "backgroundcolor": "#E5ECF6",
            "gridcolor": "white",
            "gridwidth": 2,
            "linecolor": "white",
            "showbackground": true,
            "ticks": "",
            "zerolinecolor": "white"
           },
           "zaxis": {
            "backgroundcolor": "#E5ECF6",
            "gridcolor": "white",
            "gridwidth": 2,
            "linecolor": "white",
            "showbackground": true,
            "ticks": "",
            "zerolinecolor": "white"
           }
          },
          "shapedefaults": {
           "line": {
            "color": "#2a3f5f"
           }
          },
          "ternary": {
           "aaxis": {
            "gridcolor": "white",
            "linecolor": "white",
            "ticks": ""
           },
           "baxis": {
            "gridcolor": "white",
            "linecolor": "white",
            "ticks": ""
           },
           "bgcolor": "#E5ECF6",
           "caxis": {
            "gridcolor": "white",
            "linecolor": "white",
            "ticks": ""
           }
          },
          "title": {
           "x": 0.05
          },
          "xaxis": {
           "automargin": true,
           "gridcolor": "white",
           "linecolor": "white",
           "ticks": "",
           "title": {
            "standoff": 15
           },
           "zerolinecolor": "white",
           "zerolinewidth": 2
          },
          "yaxis": {
           "automargin": true,
           "gridcolor": "white",
           "linecolor": "white",
           "ticks": "",
           "title": {
            "standoff": 15
           },
           "zerolinecolor": "white",
           "zerolinewidth": 2
          }
         }
        },
        "title": {
         "font": {
          "color": "#4D5663"
         },
         "text": "GDP Comparison G20 Countries"
        },
        "xaxis": {
         "gridcolor": "#E1E5ED",
         "showgrid": true,
         "tickfont": {
          "color": "#4D5663"
         },
         "title": {
          "font": {
           "color": "#4D5663"
          },
          "text": "G20 Countries"
         },
         "zerolinecolor": "#E1E5ED"
        },
        "yaxis": {
         "gridcolor": "#E1E5ED",
         "showgrid": true,
         "tickfont": {
          "color": "#4D5663"
         },
         "title": {
          "font": {
           "color": "#4D5663"
          },
          "text": "No.of Schooling Years"
         },
         "zerolinecolor": "#E1E5ED"
        }
       }
      },
      "text/html": [
       "<div>                            <div id=\"8b79decb-2b8b-4f94-a9ca-e5f5a7293995\" class=\"plotly-graph-div\" style=\"height:525px; width:100%;\"></div>            <script type=\"text/javascript\">                require([\"plotly\"], function(Plotly) {                    window.PLOTLYENV=window.PLOTLYENV || {};\n",
       "                    window.PLOTLYENV.BASE_URL='https://plot.ly';                                    if (document.getElementById(\"8b79decb-2b8b-4f94-a9ca-e5f5a7293995\")) {                    Plotly.newPlot(                        \"8b79decb-2b8b-4f94-a9ca-e5f5a7293995\",                        [{\"marker\": {\"color\": \"rgba(53, 12, 235, 0.6)\", \"line\": {\"color\": \"rgba(53, 12, 235, 1.0)\", \"width\": 1}}, \"name\": \"2018 [YR2018]\", \"orientation\": \"v\", \"text\": \"\", \"type\": \"bar\", \"x\": [\"ARG\", \"AUS\", \"BRA\", \"CAN\", \"CHN\", \"FRA\", \"DEU\", \"IND\", \"IDN\", \"ITA\", \"JPN\", \"MEX\", \"KOR\", \"RUS\", \"SAU\", \"SGP\", \"ZAF\", \"TUR\", \"USA\", \"GBR\", \"EUU\", \"ARG\", \"AUS\", \"BRA\", \"CAN\", \"CHN\", \"FRA\", \"DEU\", \"IND\", \"IDN\", \"ITA\", \"JPN\", \"MEX\", \"KOR\", \"RUS\", \"SAU\", \"SGP\", \"ZAF\", \"TUR\", \"USA\", \"GBR\", \"EUU\"], \"y\": [12.7036781311035, 13.5834541320801, \"\", 13.7338047027588, 12.9108600616455, 13.7824621200562, 13.3176069259644, 10.7658643722534, 12.2100591659546, 13.187442779541, \"\", 12.6747560501099, 13.6023263931274, 13.6939640045166, 12.2987651824951, 13.9299392700195, 10.1498374938965, 12.1358509063721, 12.8492345809937, 13.8588800430298, \"\", 13.0612525939941, 13.6202220916748, \"\", 13.709587097168, 13.0906476974487, 13.8239583969116, 13.3445348739624, 10.9361839294434, 12.4125337600708, 13.3196172714233, \"\", 12.9787406921387, 13.5837078094482, 13.6853475570679, 12.2675857543945, 13.904221534729, 10.113977432251, 11.9955291748047, 12.936393737793, 13.8576593399048, \"\"]}],                        {\"legend\": {\"bgcolor\": \"#F5F6F9\", \"font\": {\"color\": \"#4D5663\"}}, \"paper_bgcolor\": \"#F5F6F9\", \"plot_bgcolor\": \"#F5F6F9\", \"template\": {\"data\": {\"bar\": [{\"error_x\": {\"color\": \"#2a3f5f\"}, \"error_y\": {\"color\": \"#2a3f5f\"}, \"marker\": {\"line\": {\"color\": \"#E5ECF6\", \"width\": 0.5}}, \"type\": \"bar\"}], \"barpolar\": [{\"marker\": {\"line\": {\"color\": \"#E5ECF6\", \"width\": 0.5}}, \"type\": \"barpolar\"}], \"carpet\": [{\"aaxis\": {\"endlinecolor\": \"#2a3f5f\", \"gridcolor\": \"white\", \"linecolor\": \"white\", \"minorgridcolor\": \"white\", \"startlinecolor\": \"#2a3f5f\"}, \"baxis\": {\"endlinecolor\": \"#2a3f5f\", \"gridcolor\": \"white\", \"linecolor\": \"white\", \"minorgridcolor\": \"white\", \"startlinecolor\": \"#2a3f5f\"}, \"type\": \"carpet\"}], \"choropleth\": [{\"colorbar\": {\"outlinewidth\": 0, \"ticks\": \"\"}, \"type\": \"choropleth\"}], \"contour\": [{\"colorbar\": {\"outlinewidth\": 0, \"ticks\": \"\"}, \"colorscale\": [[0.0, \"#0d0887\"], [0.1111111111111111, \"#46039f\"], [0.2222222222222222, \"#7201a8\"], [0.3333333333333333, \"#9c179e\"], [0.4444444444444444, \"#bd3786\"], [0.5555555555555556, \"#d8576b\"], [0.6666666666666666, \"#ed7953\"], [0.7777777777777778, \"#fb9f3a\"], [0.8888888888888888, \"#fdca26\"], [1.0, \"#f0f921\"]], \"type\": \"contour\"}], \"contourcarpet\": [{\"colorbar\": {\"outlinewidth\": 0, \"ticks\": \"\"}, \"type\": \"contourcarpet\"}], \"heatmap\": [{\"colorbar\": {\"outlinewidth\": 0, \"ticks\": \"\"}, \"colorscale\": [[0.0, \"#0d0887\"], [0.1111111111111111, \"#46039f\"], [0.2222222222222222, \"#7201a8\"], [0.3333333333333333, \"#9c179e\"], [0.4444444444444444, \"#bd3786\"], [0.5555555555555556, \"#d8576b\"], [0.6666666666666666, \"#ed7953\"], [0.7777777777777778, \"#fb9f3a\"], [0.8888888888888888, \"#fdca26\"], [1.0, \"#f0f921\"]], \"type\": \"heatmap\"}], \"heatmapgl\": [{\"colorbar\": {\"outlinewidth\": 0, \"ticks\": \"\"}, \"colorscale\": [[0.0, \"#0d0887\"], [0.1111111111111111, \"#46039f\"], [0.2222222222222222, \"#7201a8\"], [0.3333333333333333, \"#9c179e\"], [0.4444444444444444, \"#bd3786\"], [0.5555555555555556, \"#d8576b\"], [0.6666666666666666, \"#ed7953\"], [0.7777777777777778, \"#fb9f3a\"], [0.8888888888888888, \"#fdca26\"], [1.0, \"#f0f921\"]], \"type\": \"heatmapgl\"}], \"histogram\": [{\"marker\": {\"colorbar\": {\"outlinewidth\": 0, \"ticks\": \"\"}}, \"type\": \"histogram\"}], \"histogram2d\": [{\"colorbar\": {\"outlinewidth\": 0, \"ticks\": \"\"}, \"colorscale\": [[0.0, \"#0d0887\"], [0.1111111111111111, \"#46039f\"], [0.2222222222222222, \"#7201a8\"], [0.3333333333333333, \"#9c179e\"], [0.4444444444444444, \"#bd3786\"], [0.5555555555555556, \"#d8576b\"], [0.6666666666666666, \"#ed7953\"], [0.7777777777777778, \"#fb9f3a\"], [0.8888888888888888, \"#fdca26\"], [1.0, \"#f0f921\"]], \"type\": \"histogram2d\"}], \"histogram2dcontour\": [{\"colorbar\": {\"outlinewidth\": 0, \"ticks\": \"\"}, \"colorscale\": [[0.0, \"#0d0887\"], [0.1111111111111111, \"#46039f\"], [0.2222222222222222, \"#7201a8\"], [0.3333333333333333, \"#9c179e\"], [0.4444444444444444, \"#bd3786\"], [0.5555555555555556, \"#d8576b\"], [0.6666666666666666, \"#ed7953\"], [0.7777777777777778, \"#fb9f3a\"], [0.8888888888888888, \"#fdca26\"], [1.0, \"#f0f921\"]], \"type\": \"histogram2dcontour\"}], \"mesh3d\": [{\"colorbar\": {\"outlinewidth\": 0, \"ticks\": \"\"}, \"type\": \"mesh3d\"}], \"parcoords\": [{\"line\": {\"colorbar\": {\"outlinewidth\": 0, \"ticks\": \"\"}}, \"type\": \"parcoords\"}], \"pie\": [{\"automargin\": true, \"type\": \"pie\"}], \"scatter\": [{\"marker\": {\"colorbar\": {\"outlinewidth\": 0, \"ticks\": \"\"}}, \"type\": \"scatter\"}], \"scatter3d\": [{\"line\": {\"colorbar\": {\"outlinewidth\": 0, \"ticks\": \"\"}}, \"marker\": {\"colorbar\": {\"outlinewidth\": 0, \"ticks\": \"\"}}, \"type\": \"scatter3d\"}], \"scattercarpet\": [{\"marker\": {\"colorbar\": {\"outlinewidth\": 0, \"ticks\": \"\"}}, \"type\": \"scattercarpet\"}], \"scattergeo\": [{\"marker\": {\"colorbar\": {\"outlinewidth\": 0, \"ticks\": \"\"}}, \"type\": \"scattergeo\"}], \"scattergl\": [{\"marker\": {\"colorbar\": {\"outlinewidth\": 0, \"ticks\": \"\"}}, \"type\": \"scattergl\"}], \"scattermapbox\": [{\"marker\": {\"colorbar\": {\"outlinewidth\": 0, \"ticks\": \"\"}}, \"type\": \"scattermapbox\"}], \"scatterpolar\": [{\"marker\": {\"colorbar\": {\"outlinewidth\": 0, \"ticks\": \"\"}}, \"type\": \"scatterpolar\"}], \"scatterpolargl\": [{\"marker\": {\"colorbar\": {\"outlinewidth\": 0, \"ticks\": \"\"}}, \"type\": \"scatterpolargl\"}], \"scatterternary\": [{\"marker\": {\"colorbar\": {\"outlinewidth\": 0, \"ticks\": \"\"}}, \"type\": \"scatterternary\"}], \"surface\": [{\"colorbar\": {\"outlinewidth\": 0, \"ticks\": \"\"}, \"colorscale\": [[0.0, \"#0d0887\"], [0.1111111111111111, \"#46039f\"], [0.2222222222222222, \"#7201a8\"], [0.3333333333333333, \"#9c179e\"], [0.4444444444444444, \"#bd3786\"], [0.5555555555555556, \"#d8576b\"], [0.6666666666666666, \"#ed7953\"], [0.7777777777777778, \"#fb9f3a\"], [0.8888888888888888, \"#fdca26\"], [1.0, \"#f0f921\"]], \"type\": \"surface\"}], \"table\": [{\"cells\": {\"fill\": {\"color\": \"#EBF0F8\"}, \"line\": {\"color\": \"white\"}}, \"header\": {\"fill\": {\"color\": \"#C8D4E3\"}, \"line\": {\"color\": \"white\"}}, \"type\": \"table\"}]}, \"layout\": {\"annotationdefaults\": {\"arrowcolor\": \"#2a3f5f\", \"arrowhead\": 0, \"arrowwidth\": 1}, \"coloraxis\": {\"colorbar\": {\"outlinewidth\": 0, \"ticks\": \"\"}}, \"colorscale\": {\"diverging\": [[0, \"#8e0152\"], [0.1, \"#c51b7d\"], [0.2, \"#de77ae\"], [0.3, \"#f1b6da\"], [0.4, \"#fde0ef\"], [0.5, \"#f7f7f7\"], [0.6, \"#e6f5d0\"], [0.7, \"#b8e186\"], [0.8, \"#7fbc41\"], [0.9, \"#4d9221\"], [1, \"#276419\"]], \"sequential\": [[0.0, \"#0d0887\"], [0.1111111111111111, \"#46039f\"], [0.2222222222222222, \"#7201a8\"], [0.3333333333333333, \"#9c179e\"], [0.4444444444444444, \"#bd3786\"], [0.5555555555555556, \"#d8576b\"], [0.6666666666666666, \"#ed7953\"], [0.7777777777777778, \"#fb9f3a\"], [0.8888888888888888, \"#fdca26\"], [1.0, \"#f0f921\"]], \"sequentialminus\": [[0.0, \"#0d0887\"], [0.1111111111111111, \"#46039f\"], [0.2222222222222222, \"#7201a8\"], [0.3333333333333333, \"#9c179e\"], [0.4444444444444444, \"#bd3786\"], [0.5555555555555556, \"#d8576b\"], [0.6666666666666666, \"#ed7953\"], [0.7777777777777778, \"#fb9f3a\"], [0.8888888888888888, \"#fdca26\"], [1.0, \"#f0f921\"]]}, \"colorway\": [\"#636efa\", \"#EF553B\", \"#00cc96\", \"#ab63fa\", \"#FFA15A\", \"#19d3f3\", \"#FF6692\", \"#B6E880\", \"#FF97FF\", \"#FECB52\"], \"font\": {\"color\": \"#2a3f5f\"}, \"geo\": {\"bgcolor\": \"white\", \"lakecolor\": \"white\", \"landcolor\": \"#E5ECF6\", \"showlakes\": true, \"showland\": true, \"subunitcolor\": \"white\"}, \"hoverlabel\": {\"align\": \"left\"}, \"hovermode\": \"closest\", \"mapbox\": {\"style\": \"light\"}, \"paper_bgcolor\": \"white\", \"plot_bgcolor\": \"#E5ECF6\", \"polar\": {\"angularaxis\": {\"gridcolor\": \"white\", \"linecolor\": \"white\", \"ticks\": \"\"}, \"bgcolor\": \"#E5ECF6\", \"radialaxis\": {\"gridcolor\": \"white\", \"linecolor\": \"white\", \"ticks\": \"\"}}, \"scene\": {\"xaxis\": {\"backgroundcolor\": \"#E5ECF6\", \"gridcolor\": \"white\", \"gridwidth\": 2, \"linecolor\": \"white\", \"showbackground\": true, \"ticks\": \"\", \"zerolinecolor\": \"white\"}, \"yaxis\": {\"backgroundcolor\": \"#E5ECF6\", \"gridcolor\": \"white\", \"gridwidth\": 2, \"linecolor\": \"white\", \"showbackground\": true, \"ticks\": \"\", \"zerolinecolor\": \"white\"}, \"zaxis\": {\"backgroundcolor\": \"#E5ECF6\", \"gridcolor\": \"white\", \"gridwidth\": 2, \"linecolor\": \"white\", \"showbackground\": true, \"ticks\": \"\", \"zerolinecolor\": \"white\"}}, \"shapedefaults\": {\"line\": {\"color\": \"#2a3f5f\"}}, \"ternary\": {\"aaxis\": {\"gridcolor\": \"white\", \"linecolor\": \"white\", \"ticks\": \"\"}, \"baxis\": {\"gridcolor\": \"white\", \"linecolor\": \"white\", \"ticks\": \"\"}, \"bgcolor\": \"#E5ECF6\", \"caxis\": {\"gridcolor\": \"white\", \"linecolor\": \"white\", \"ticks\": \"\"}}, \"title\": {\"x\": 0.05}, \"xaxis\": {\"automargin\": true, \"gridcolor\": \"white\", \"linecolor\": \"white\", \"ticks\": \"\", \"title\": {\"standoff\": 15}, \"zerolinecolor\": \"white\", \"zerolinewidth\": 2}, \"yaxis\": {\"automargin\": true, \"gridcolor\": \"white\", \"linecolor\": \"white\", \"ticks\": \"\", \"title\": {\"standoff\": 15}, \"zerolinecolor\": \"white\", \"zerolinewidth\": 2}}}, \"title\": {\"font\": {\"color\": \"#4D5663\"}, \"text\": \"GDP Comparison G20 Countries\"}, \"xaxis\": {\"gridcolor\": \"#E1E5ED\", \"showgrid\": true, \"tickfont\": {\"color\": \"#4D5663\"}, \"title\": {\"font\": {\"color\": \"#4D5663\"}, \"text\": \"G20 Countries\"}, \"zerolinecolor\": \"#E1E5ED\"}, \"yaxis\": {\"gridcolor\": \"#E1E5ED\", \"showgrid\": true, \"tickfont\": {\"color\": \"#4D5663\"}, \"title\": {\"font\": {\"color\": \"#4D5663\"}, \"text\": \"No.of Schooling Years\"}, \"zerolinecolor\": \"#E1E5ED\"}},                        {\"showLink\": true, \"linkText\": \"Export to plot.ly\", \"plotlyServerURL\": \"https://plot.ly\", \"responsive\": true}                    ).then(function(){\n",
       "                            \n",
       "var gd = document.getElementById('8b79decb-2b8b-4f94-a9ca-e5f5a7293995');\n",
       "var x = new MutationObserver(function (mutations, observer) {{\n",
       "        var display = window.getComputedStyle(gd).display;\n",
       "        if (!display || display === 'none') {{\n",
       "            console.log([gd, 'removed!']);\n",
       "            Plotly.purge(gd);\n",
       "            observer.disconnect();\n",
       "        }}\n",
       "}});\n",
       "\n",
       "// Listen for the removal of the full notebook cells\n",
       "var notebookContainer = gd.closest('#notebook-container');\n",
       "if (notebookContainer) {{\n",
       "    x.observe(notebookContainer, {childList: true});\n",
       "}}\n",
       "\n",
       "// Listen for the clearing of the current output cell\n",
       "var outputEl = gd.closest('.output');\n",
       "if (outputEl) {{\n",
       "    x.observe(outputEl, {childList: true});\n",
       "}}\n",
       "\n",
       "                        })                };                });            </script>        </div>"
      ]
     },
     "metadata": {},
     "output_type": "display_data"
    }
   ],
   "source": [
    "# print(schooling_yrs)\n",
    "\n",
    "#plot interactive line chart via plotly\n",
    "schooling_yrs.iplot(kind = 'bar',xTitle = 'G20 Countries',yTitle='No.of Schooling Years', x = [\"Country Code\"], y = '2018 [YR2018]',\\\n",
    "                 title = \"GDP Comparison G20 Countries\", colors = ['#350ceb','eb130c'])\n",
    "# gdpdf.iplot(kind = 'bar',xTitle = 'G20 Countries',yTitle='GDP (in USD)', x = \"Country Code\", y = '2019 [YR2019]',\\\n",
    "#                  title = \"GDP Comparison G20 Countries\")\n",
    "plt.show()"
   ]
  },
  {
   "cell_type": "code",
   "execution_count": 21,
   "metadata": {},
   "outputs": [
    {
     "data": {
      "text/html": [
       "<div>\n",
       "<style scoped>\n",
       "    .dataframe tbody tr th:only-of-type {\n",
       "        vertical-align: middle;\n",
       "    }\n",
       "\n",
       "    .dataframe tbody tr th {\n",
       "        vertical-align: top;\n",
       "    }\n",
       "\n",
       "    .dataframe thead th {\n",
       "        text-align: right;\n",
       "    }\n",
       "</style>\n",
       "<table border=\"1\" class=\"dataframe\">\n",
       "  <thead>\n",
       "    <tr style=\"text-align: right;\">\n",
       "      <th></th>\n",
       "      <th>Series Name</th>\n",
       "      <th>Country Name</th>\n",
       "      <th>Country Code</th>\n",
       "      <th>2018 [YR2018]</th>\n",
       "      <th>2019 [YR2019]</th>\n",
       "    </tr>\n",
       "  </thead>\n",
       "  <tbody>\n",
       "    <tr>\n",
       "      <th>7</th>\n",
       "      <td>Expected Years of School, Male</td>\n",
       "      <td>India</td>\n",
       "      <td>IND</td>\n",
       "      <td>10.77</td>\n",
       "      <td>nan</td>\n",
       "    </tr>\n",
       "    <tr>\n",
       "      <th>28</th>\n",
       "      <td>Expected Years of School, Female</td>\n",
       "      <td>India</td>\n",
       "      <td>IND</td>\n",
       "      <td>10.94</td>\n",
       "      <td>nan</td>\n",
       "    </tr>\n",
       "  </tbody>\n",
       "</table>\n",
       "</div>"
      ],
      "text/plain": [
       "                         Series Name Country Name Country Code  2018 [YR2018]  \\\n",
       "7     Expected Years of School, Male        India          IND          10.77   \n",
       "28  Expected Years of School, Female        India          IND          10.94   \n",
       "\n",
       "    2019 [YR2019]  \n",
       "7             nan  \n",
       "28            nan  "
      ]
     },
     "execution_count": 21,
     "metadata": {},
     "output_type": "execute_result"
    }
   ],
   "source": [
    "schooling_yrs[schooling_yrs['Country Code'] == 'IND']"
   ]
  },
  {
   "cell_type": "code",
   "execution_count": 22,
   "metadata": {},
   "outputs": [
    {
     "data": {
      "application/vnd.plotly.v1+json": {
       "config": {
        "plotlyServerURL": "https://plot.ly"
       },
       "data": [
        {
         "alignmentgroup": "True",
         "hovertemplate": "Series Name=Expected Years of School, Male<br>Country Code=%{x}<br>2018 [YR2018]=%{y}<extra></extra>",
         "legendgroup": "Expected Years of School, Male",
         "marker": {
          "color": "#636efa"
         },
         "name": "Expected Years of School, Male",
         "offsetgroup": "Expected Years of School, Male",
         "orientation": "v",
         "showlegend": true,
         "textposition": "auto",
         "type": "bar",
         "x": [
          "ARG",
          "AUS",
          "BRA",
          "CAN",
          "CHN",
          "FRA",
          "DEU",
          "IND",
          "IDN",
          "ITA",
          "JPN",
          "MEX",
          "KOR",
          "RUS",
          "SAU",
          "SGP",
          "ZAF",
          "TUR",
          "USA",
          "GBR",
          "EUU"
         ],
         "xaxis": "x",
         "y": [
          12.7036781311035,
          13.5834541320801,
          null,
          13.7338047027588,
          12.9108600616455,
          13.7824621200562,
          13.3176069259644,
          10.7658643722534,
          12.2100591659546,
          13.187442779541,
          null,
          12.6747560501099,
          13.6023263931274,
          13.6939640045166,
          12.2987651824951,
          13.9299392700195,
          10.1498374938965,
          12.1358509063721,
          12.8492345809937,
          13.8588800430298,
          null
         ],
         "yaxis": "y"
        },
        {
         "alignmentgroup": "True",
         "hovertemplate": "Series Name=Expected Years of School, Female<br>Country Code=%{x}<br>2018 [YR2018]=%{y}<extra></extra>",
         "legendgroup": "Expected Years of School, Female",
         "marker": {
          "color": "#EF553B"
         },
         "name": "Expected Years of School, Female",
         "offsetgroup": "Expected Years of School, Female",
         "orientation": "v",
         "showlegend": true,
         "textposition": "auto",
         "type": "bar",
         "x": [
          "ARG",
          "AUS",
          "BRA",
          "CAN",
          "CHN",
          "FRA",
          "DEU",
          "IND",
          "IDN",
          "ITA",
          "JPN",
          "MEX",
          "KOR",
          "RUS",
          "SAU",
          "SGP",
          "ZAF",
          "TUR",
          "USA",
          "GBR",
          "EUU"
         ],
         "xaxis": "x",
         "y": [
          13.0612525939941,
          13.6202220916748,
          null,
          13.709587097168,
          13.0906476974487,
          13.8239583969116,
          13.3445348739624,
          10.9361839294434,
          12.4125337600708,
          13.3196172714233,
          null,
          12.9787406921387,
          13.5837078094482,
          13.6853475570679,
          12.2675857543945,
          13.904221534729,
          10.113977432251,
          11.9955291748047,
          12.936393737793,
          13.8576593399048,
          null
         ],
         "yaxis": "y"
        }
       ],
       "layout": {
        "barmode": "relative",
        "legend": {
         "title": {
          "text": "Series Name"
         },
         "tracegroupgap": 0
        },
        "template": {
         "data": {
          "bar": [
           {
            "error_x": {
             "color": "#2a3f5f"
            },
            "error_y": {
             "color": "#2a3f5f"
            },
            "marker": {
             "line": {
              "color": "#E5ECF6",
              "width": 0.5
             }
            },
            "type": "bar"
           }
          ],
          "barpolar": [
           {
            "marker": {
             "line": {
              "color": "#E5ECF6",
              "width": 0.5
             }
            },
            "type": "barpolar"
           }
          ],
          "carpet": [
           {
            "aaxis": {
             "endlinecolor": "#2a3f5f",
             "gridcolor": "white",
             "linecolor": "white",
             "minorgridcolor": "white",
             "startlinecolor": "#2a3f5f"
            },
            "baxis": {
             "endlinecolor": "#2a3f5f",
             "gridcolor": "white",
             "linecolor": "white",
             "minorgridcolor": "white",
             "startlinecolor": "#2a3f5f"
            },
            "type": "carpet"
           }
          ],
          "choropleth": [
           {
            "colorbar": {
             "outlinewidth": 0,
             "ticks": ""
            },
            "type": "choropleth"
           }
          ],
          "contour": [
           {
            "colorbar": {
             "outlinewidth": 0,
             "ticks": ""
            },
            "colorscale": [
             [
              0,
              "#0d0887"
             ],
             [
              0.1111111111111111,
              "#46039f"
             ],
             [
              0.2222222222222222,
              "#7201a8"
             ],
             [
              0.3333333333333333,
              "#9c179e"
             ],
             [
              0.4444444444444444,
              "#bd3786"
             ],
             [
              0.5555555555555556,
              "#d8576b"
             ],
             [
              0.6666666666666666,
              "#ed7953"
             ],
             [
              0.7777777777777778,
              "#fb9f3a"
             ],
             [
              0.8888888888888888,
              "#fdca26"
             ],
             [
              1,
              "#f0f921"
             ]
            ],
            "type": "contour"
           }
          ],
          "contourcarpet": [
           {
            "colorbar": {
             "outlinewidth": 0,
             "ticks": ""
            },
            "type": "contourcarpet"
           }
          ],
          "heatmap": [
           {
            "colorbar": {
             "outlinewidth": 0,
             "ticks": ""
            },
            "colorscale": [
             [
              0,
              "#0d0887"
             ],
             [
              0.1111111111111111,
              "#46039f"
             ],
             [
              0.2222222222222222,
              "#7201a8"
             ],
             [
              0.3333333333333333,
              "#9c179e"
             ],
             [
              0.4444444444444444,
              "#bd3786"
             ],
             [
              0.5555555555555556,
              "#d8576b"
             ],
             [
              0.6666666666666666,
              "#ed7953"
             ],
             [
              0.7777777777777778,
              "#fb9f3a"
             ],
             [
              0.8888888888888888,
              "#fdca26"
             ],
             [
              1,
              "#f0f921"
             ]
            ],
            "type": "heatmap"
           }
          ],
          "heatmapgl": [
           {
            "colorbar": {
             "outlinewidth": 0,
             "ticks": ""
            },
            "colorscale": [
             [
              0,
              "#0d0887"
             ],
             [
              0.1111111111111111,
              "#46039f"
             ],
             [
              0.2222222222222222,
              "#7201a8"
             ],
             [
              0.3333333333333333,
              "#9c179e"
             ],
             [
              0.4444444444444444,
              "#bd3786"
             ],
             [
              0.5555555555555556,
              "#d8576b"
             ],
             [
              0.6666666666666666,
              "#ed7953"
             ],
             [
              0.7777777777777778,
              "#fb9f3a"
             ],
             [
              0.8888888888888888,
              "#fdca26"
             ],
             [
              1,
              "#f0f921"
             ]
            ],
            "type": "heatmapgl"
           }
          ],
          "histogram": [
           {
            "marker": {
             "colorbar": {
              "outlinewidth": 0,
              "ticks": ""
             }
            },
            "type": "histogram"
           }
          ],
          "histogram2d": [
           {
            "colorbar": {
             "outlinewidth": 0,
             "ticks": ""
            },
            "colorscale": [
             [
              0,
              "#0d0887"
             ],
             [
              0.1111111111111111,
              "#46039f"
             ],
             [
              0.2222222222222222,
              "#7201a8"
             ],
             [
              0.3333333333333333,
              "#9c179e"
             ],
             [
              0.4444444444444444,
              "#bd3786"
             ],
             [
              0.5555555555555556,
              "#d8576b"
             ],
             [
              0.6666666666666666,
              "#ed7953"
             ],
             [
              0.7777777777777778,
              "#fb9f3a"
             ],
             [
              0.8888888888888888,
              "#fdca26"
             ],
             [
              1,
              "#f0f921"
             ]
            ],
            "type": "histogram2d"
           }
          ],
          "histogram2dcontour": [
           {
            "colorbar": {
             "outlinewidth": 0,
             "ticks": ""
            },
            "colorscale": [
             [
              0,
              "#0d0887"
             ],
             [
              0.1111111111111111,
              "#46039f"
             ],
             [
              0.2222222222222222,
              "#7201a8"
             ],
             [
              0.3333333333333333,
              "#9c179e"
             ],
             [
              0.4444444444444444,
              "#bd3786"
             ],
             [
              0.5555555555555556,
              "#d8576b"
             ],
             [
              0.6666666666666666,
              "#ed7953"
             ],
             [
              0.7777777777777778,
              "#fb9f3a"
             ],
             [
              0.8888888888888888,
              "#fdca26"
             ],
             [
              1,
              "#f0f921"
             ]
            ],
            "type": "histogram2dcontour"
           }
          ],
          "mesh3d": [
           {
            "colorbar": {
             "outlinewidth": 0,
             "ticks": ""
            },
            "type": "mesh3d"
           }
          ],
          "parcoords": [
           {
            "line": {
             "colorbar": {
              "outlinewidth": 0,
              "ticks": ""
             }
            },
            "type": "parcoords"
           }
          ],
          "pie": [
           {
            "automargin": true,
            "type": "pie"
           }
          ],
          "scatter": [
           {
            "marker": {
             "colorbar": {
              "outlinewidth": 0,
              "ticks": ""
             }
            },
            "type": "scatter"
           }
          ],
          "scatter3d": [
           {
            "line": {
             "colorbar": {
              "outlinewidth": 0,
              "ticks": ""
             }
            },
            "marker": {
             "colorbar": {
              "outlinewidth": 0,
              "ticks": ""
             }
            },
            "type": "scatter3d"
           }
          ],
          "scattercarpet": [
           {
            "marker": {
             "colorbar": {
              "outlinewidth": 0,
              "ticks": ""
             }
            },
            "type": "scattercarpet"
           }
          ],
          "scattergeo": [
           {
            "marker": {
             "colorbar": {
              "outlinewidth": 0,
              "ticks": ""
             }
            },
            "type": "scattergeo"
           }
          ],
          "scattergl": [
           {
            "marker": {
             "colorbar": {
              "outlinewidth": 0,
              "ticks": ""
             }
            },
            "type": "scattergl"
           }
          ],
          "scattermapbox": [
           {
            "marker": {
             "colorbar": {
              "outlinewidth": 0,
              "ticks": ""
             }
            },
            "type": "scattermapbox"
           }
          ],
          "scatterpolar": [
           {
            "marker": {
             "colorbar": {
              "outlinewidth": 0,
              "ticks": ""
             }
            },
            "type": "scatterpolar"
           }
          ],
          "scatterpolargl": [
           {
            "marker": {
             "colorbar": {
              "outlinewidth": 0,
              "ticks": ""
             }
            },
            "type": "scatterpolargl"
           }
          ],
          "scatterternary": [
           {
            "marker": {
             "colorbar": {
              "outlinewidth": 0,
              "ticks": ""
             }
            },
            "type": "scatterternary"
           }
          ],
          "surface": [
           {
            "colorbar": {
             "outlinewidth": 0,
             "ticks": ""
            },
            "colorscale": [
             [
              0,
              "#0d0887"
             ],
             [
              0.1111111111111111,
              "#46039f"
             ],
             [
              0.2222222222222222,
              "#7201a8"
             ],
             [
              0.3333333333333333,
              "#9c179e"
             ],
             [
              0.4444444444444444,
              "#bd3786"
             ],
             [
              0.5555555555555556,
              "#d8576b"
             ],
             [
              0.6666666666666666,
              "#ed7953"
             ],
             [
              0.7777777777777778,
              "#fb9f3a"
             ],
             [
              0.8888888888888888,
              "#fdca26"
             ],
             [
              1,
              "#f0f921"
             ]
            ],
            "type": "surface"
           }
          ],
          "table": [
           {
            "cells": {
             "fill": {
              "color": "#EBF0F8"
             },
             "line": {
              "color": "white"
             }
            },
            "header": {
             "fill": {
              "color": "#C8D4E3"
             },
             "line": {
              "color": "white"
             }
            },
            "type": "table"
           }
          ]
         },
         "layout": {
          "annotationdefaults": {
           "arrowcolor": "#2a3f5f",
           "arrowhead": 0,
           "arrowwidth": 1
          },
          "coloraxis": {
           "colorbar": {
            "outlinewidth": 0,
            "ticks": ""
           }
          },
          "colorscale": {
           "diverging": [
            [
             0,
             "#8e0152"
            ],
            [
             0.1,
             "#c51b7d"
            ],
            [
             0.2,
             "#de77ae"
            ],
            [
             0.3,
             "#f1b6da"
            ],
            [
             0.4,
             "#fde0ef"
            ],
            [
             0.5,
             "#f7f7f7"
            ],
            [
             0.6,
             "#e6f5d0"
            ],
            [
             0.7,
             "#b8e186"
            ],
            [
             0.8,
             "#7fbc41"
            ],
            [
             0.9,
             "#4d9221"
            ],
            [
             1,
             "#276419"
            ]
           ],
           "sequential": [
            [
             0,
             "#0d0887"
            ],
            [
             0.1111111111111111,
             "#46039f"
            ],
            [
             0.2222222222222222,
             "#7201a8"
            ],
            [
             0.3333333333333333,
             "#9c179e"
            ],
            [
             0.4444444444444444,
             "#bd3786"
            ],
            [
             0.5555555555555556,
             "#d8576b"
            ],
            [
             0.6666666666666666,
             "#ed7953"
            ],
            [
             0.7777777777777778,
             "#fb9f3a"
            ],
            [
             0.8888888888888888,
             "#fdca26"
            ],
            [
             1,
             "#f0f921"
            ]
           ],
           "sequentialminus": [
            [
             0,
             "#0d0887"
            ],
            [
             0.1111111111111111,
             "#46039f"
            ],
            [
             0.2222222222222222,
             "#7201a8"
            ],
            [
             0.3333333333333333,
             "#9c179e"
            ],
            [
             0.4444444444444444,
             "#bd3786"
            ],
            [
             0.5555555555555556,
             "#d8576b"
            ],
            [
             0.6666666666666666,
             "#ed7953"
            ],
            [
             0.7777777777777778,
             "#fb9f3a"
            ],
            [
             0.8888888888888888,
             "#fdca26"
            ],
            [
             1,
             "#f0f921"
            ]
           ]
          },
          "colorway": [
           "#636efa",
           "#EF553B",
           "#00cc96",
           "#ab63fa",
           "#FFA15A",
           "#19d3f3",
           "#FF6692",
           "#B6E880",
           "#FF97FF",
           "#FECB52"
          ],
          "font": {
           "color": "#2a3f5f"
          },
          "geo": {
           "bgcolor": "white",
           "lakecolor": "white",
           "landcolor": "#E5ECF6",
           "showlakes": true,
           "showland": true,
           "subunitcolor": "white"
          },
          "hoverlabel": {
           "align": "left"
          },
          "hovermode": "closest",
          "mapbox": {
           "style": "light"
          },
          "paper_bgcolor": "white",
          "plot_bgcolor": "#E5ECF6",
          "polar": {
           "angularaxis": {
            "gridcolor": "white",
            "linecolor": "white",
            "ticks": ""
           },
           "bgcolor": "#E5ECF6",
           "radialaxis": {
            "gridcolor": "white",
            "linecolor": "white",
            "ticks": ""
           }
          },
          "scene": {
           "xaxis": {
            "backgroundcolor": "#E5ECF6",
            "gridcolor": "white",
            "gridwidth": 2,
            "linecolor": "white",
            "showbackground": true,
            "ticks": "",
            "zerolinecolor": "white"
           },
           "yaxis": {
            "backgroundcolor": "#E5ECF6",
            "gridcolor": "white",
            "gridwidth": 2,
            "linecolor": "white",
            "showbackground": true,
            "ticks": "",
            "zerolinecolor": "white"
           },
           "zaxis": {
            "backgroundcolor": "#E5ECF6",
            "gridcolor": "white",
            "gridwidth": 2,
            "linecolor": "white",
            "showbackground": true,
            "ticks": "",
            "zerolinecolor": "white"
           }
          },
          "shapedefaults": {
           "line": {
            "color": "#2a3f5f"
           }
          },
          "ternary": {
           "aaxis": {
            "gridcolor": "white",
            "linecolor": "white",
            "ticks": ""
           },
           "baxis": {
            "gridcolor": "white",
            "linecolor": "white",
            "ticks": ""
           },
           "bgcolor": "#E5ECF6",
           "caxis": {
            "gridcolor": "white",
            "linecolor": "white",
            "ticks": ""
           }
          },
          "title": {
           "x": 0.05
          },
          "xaxis": {
           "automargin": true,
           "gridcolor": "white",
           "linecolor": "white",
           "ticks": "",
           "title": {
            "standoff": 15
           },
           "zerolinecolor": "white",
           "zerolinewidth": 2
          },
          "yaxis": {
           "automargin": true,
           "gridcolor": "white",
           "linecolor": "white",
           "ticks": "",
           "title": {
            "standoff": 15
           },
           "zerolinecolor": "white",
           "zerolinewidth": 2
          }
         }
        },
        "title": {
         "text": "GDP Comparison G20 Countries"
        },
        "xaxis": {
         "anchor": "y",
         "domain": [
          0,
          1
         ],
         "title": {
          "text": "Country Code"
         }
        },
        "yaxis": {
         "anchor": "x",
         "domain": [
          0,
          1
         ],
         "title": {
          "text": "2018 [YR2018]"
         }
        }
       }
      },
      "text/html": [
       "<div>                            <div id=\"c2e0079b-169b-4a7b-90fa-24be819b36d3\" class=\"plotly-graph-div\" style=\"height:525px; width:100%;\"></div>            <script type=\"text/javascript\">                require([\"plotly\"], function(Plotly) {                    window.PLOTLYENV=window.PLOTLYENV || {};                                    if (document.getElementById(\"c2e0079b-169b-4a7b-90fa-24be819b36d3\")) {                    Plotly.newPlot(                        \"c2e0079b-169b-4a7b-90fa-24be819b36d3\",                        [{\"alignmentgroup\": \"True\", \"hovertemplate\": \"Series Name=Expected Years of School, Male<br>Country Code=%{x}<br>2018 [YR2018]=%{y}<extra></extra>\", \"legendgroup\": \"Expected Years of School, Male\", \"marker\": {\"color\": \"#636efa\"}, \"name\": \"Expected Years of School, Male\", \"offsetgroup\": \"Expected Years of School, Male\", \"orientation\": \"v\", \"showlegend\": true, \"textposition\": \"auto\", \"type\": \"bar\", \"x\": [\"ARG\", \"AUS\", \"BRA\", \"CAN\", \"CHN\", \"FRA\", \"DEU\", \"IND\", \"IDN\", \"ITA\", \"JPN\", \"MEX\", \"KOR\", \"RUS\", \"SAU\", \"SGP\", \"ZAF\", \"TUR\", \"USA\", \"GBR\", \"EUU\"], \"xaxis\": \"x\", \"y\": [12.7036781311035, 13.5834541320801, null, 13.7338047027588, 12.9108600616455, 13.7824621200562, 13.3176069259644, 10.7658643722534, 12.2100591659546, 13.187442779541, null, 12.6747560501099, 13.6023263931274, 13.6939640045166, 12.2987651824951, 13.9299392700195, 10.1498374938965, 12.1358509063721, 12.8492345809937, 13.8588800430298, null], \"yaxis\": \"y\"}, {\"alignmentgroup\": \"True\", \"hovertemplate\": \"Series Name=Expected Years of School, Female<br>Country Code=%{x}<br>2018 [YR2018]=%{y}<extra></extra>\", \"legendgroup\": \"Expected Years of School, Female\", \"marker\": {\"color\": \"#EF553B\"}, \"name\": \"Expected Years of School, Female\", \"offsetgroup\": \"Expected Years of School, Female\", \"orientation\": \"v\", \"showlegend\": true, \"textposition\": \"auto\", \"type\": \"bar\", \"x\": [\"ARG\", \"AUS\", \"BRA\", \"CAN\", \"CHN\", \"FRA\", \"DEU\", \"IND\", \"IDN\", \"ITA\", \"JPN\", \"MEX\", \"KOR\", \"RUS\", \"SAU\", \"SGP\", \"ZAF\", \"TUR\", \"USA\", \"GBR\", \"EUU\"], \"xaxis\": \"x\", \"y\": [13.0612525939941, 13.6202220916748, null, 13.709587097168, 13.0906476974487, 13.8239583969116, 13.3445348739624, 10.9361839294434, 12.4125337600708, 13.3196172714233, null, 12.9787406921387, 13.5837078094482, 13.6853475570679, 12.2675857543945, 13.904221534729, 10.113977432251, 11.9955291748047, 12.936393737793, 13.8576593399048, null], \"yaxis\": \"y\"}],                        {\"barmode\": \"relative\", \"legend\": {\"title\": {\"text\": \"Series Name\"}, \"tracegroupgap\": 0}, \"template\": {\"data\": {\"bar\": [{\"error_x\": {\"color\": \"#2a3f5f\"}, \"error_y\": {\"color\": \"#2a3f5f\"}, \"marker\": {\"line\": {\"color\": \"#E5ECF6\", \"width\": 0.5}}, \"type\": \"bar\"}], \"barpolar\": [{\"marker\": {\"line\": {\"color\": \"#E5ECF6\", \"width\": 0.5}}, \"type\": \"barpolar\"}], \"carpet\": [{\"aaxis\": {\"endlinecolor\": \"#2a3f5f\", \"gridcolor\": \"white\", \"linecolor\": \"white\", \"minorgridcolor\": \"white\", \"startlinecolor\": \"#2a3f5f\"}, \"baxis\": {\"endlinecolor\": \"#2a3f5f\", \"gridcolor\": \"white\", \"linecolor\": \"white\", \"minorgridcolor\": \"white\", \"startlinecolor\": \"#2a3f5f\"}, \"type\": \"carpet\"}], \"choropleth\": [{\"colorbar\": {\"outlinewidth\": 0, \"ticks\": \"\"}, \"type\": \"choropleth\"}], \"contour\": [{\"colorbar\": {\"outlinewidth\": 0, \"ticks\": \"\"}, \"colorscale\": [[0.0, \"#0d0887\"], [0.1111111111111111, \"#46039f\"], [0.2222222222222222, \"#7201a8\"], [0.3333333333333333, \"#9c179e\"], [0.4444444444444444, \"#bd3786\"], [0.5555555555555556, \"#d8576b\"], [0.6666666666666666, \"#ed7953\"], [0.7777777777777778, \"#fb9f3a\"], [0.8888888888888888, \"#fdca26\"], [1.0, \"#f0f921\"]], \"type\": \"contour\"}], \"contourcarpet\": [{\"colorbar\": {\"outlinewidth\": 0, \"ticks\": \"\"}, \"type\": \"contourcarpet\"}], \"heatmap\": [{\"colorbar\": {\"outlinewidth\": 0, \"ticks\": \"\"}, \"colorscale\": [[0.0, \"#0d0887\"], [0.1111111111111111, \"#46039f\"], [0.2222222222222222, \"#7201a8\"], [0.3333333333333333, \"#9c179e\"], [0.4444444444444444, \"#bd3786\"], [0.5555555555555556, \"#d8576b\"], [0.6666666666666666, \"#ed7953\"], [0.7777777777777778, \"#fb9f3a\"], [0.8888888888888888, \"#fdca26\"], [1.0, \"#f0f921\"]], \"type\": \"heatmap\"}], \"heatmapgl\": [{\"colorbar\": {\"outlinewidth\": 0, \"ticks\": \"\"}, \"colorscale\": [[0.0, \"#0d0887\"], [0.1111111111111111, \"#46039f\"], [0.2222222222222222, \"#7201a8\"], [0.3333333333333333, \"#9c179e\"], [0.4444444444444444, \"#bd3786\"], [0.5555555555555556, \"#d8576b\"], [0.6666666666666666, \"#ed7953\"], [0.7777777777777778, \"#fb9f3a\"], [0.8888888888888888, \"#fdca26\"], [1.0, \"#f0f921\"]], \"type\": \"heatmapgl\"}], \"histogram\": [{\"marker\": {\"colorbar\": {\"outlinewidth\": 0, \"ticks\": \"\"}}, \"type\": \"histogram\"}], \"histogram2d\": [{\"colorbar\": {\"outlinewidth\": 0, \"ticks\": \"\"}, \"colorscale\": [[0.0, \"#0d0887\"], [0.1111111111111111, \"#46039f\"], [0.2222222222222222, \"#7201a8\"], [0.3333333333333333, \"#9c179e\"], [0.4444444444444444, \"#bd3786\"], [0.5555555555555556, \"#d8576b\"], [0.6666666666666666, \"#ed7953\"], [0.7777777777777778, \"#fb9f3a\"], [0.8888888888888888, \"#fdca26\"], [1.0, \"#f0f921\"]], \"type\": \"histogram2d\"}], \"histogram2dcontour\": [{\"colorbar\": {\"outlinewidth\": 0, \"ticks\": \"\"}, \"colorscale\": [[0.0, \"#0d0887\"], [0.1111111111111111, \"#46039f\"], [0.2222222222222222, \"#7201a8\"], [0.3333333333333333, \"#9c179e\"], [0.4444444444444444, \"#bd3786\"], [0.5555555555555556, \"#d8576b\"], [0.6666666666666666, \"#ed7953\"], [0.7777777777777778, \"#fb9f3a\"], [0.8888888888888888, \"#fdca26\"], [1.0, \"#f0f921\"]], \"type\": \"histogram2dcontour\"}], \"mesh3d\": [{\"colorbar\": {\"outlinewidth\": 0, \"ticks\": \"\"}, \"type\": \"mesh3d\"}], \"parcoords\": [{\"line\": {\"colorbar\": {\"outlinewidth\": 0, \"ticks\": \"\"}}, \"type\": \"parcoords\"}], \"pie\": [{\"automargin\": true, \"type\": \"pie\"}], \"scatter\": [{\"marker\": {\"colorbar\": {\"outlinewidth\": 0, \"ticks\": \"\"}}, \"type\": \"scatter\"}], \"scatter3d\": [{\"line\": {\"colorbar\": {\"outlinewidth\": 0, \"ticks\": \"\"}}, \"marker\": {\"colorbar\": {\"outlinewidth\": 0, \"ticks\": \"\"}}, \"type\": \"scatter3d\"}], \"scattercarpet\": [{\"marker\": {\"colorbar\": {\"outlinewidth\": 0, \"ticks\": \"\"}}, \"type\": \"scattercarpet\"}], \"scattergeo\": [{\"marker\": {\"colorbar\": {\"outlinewidth\": 0, \"ticks\": \"\"}}, \"type\": \"scattergeo\"}], \"scattergl\": [{\"marker\": {\"colorbar\": {\"outlinewidth\": 0, \"ticks\": \"\"}}, \"type\": \"scattergl\"}], \"scattermapbox\": [{\"marker\": {\"colorbar\": {\"outlinewidth\": 0, \"ticks\": \"\"}}, \"type\": \"scattermapbox\"}], \"scatterpolar\": [{\"marker\": {\"colorbar\": {\"outlinewidth\": 0, \"ticks\": \"\"}}, \"type\": \"scatterpolar\"}], \"scatterpolargl\": [{\"marker\": {\"colorbar\": {\"outlinewidth\": 0, \"ticks\": \"\"}}, \"type\": \"scatterpolargl\"}], \"scatterternary\": [{\"marker\": {\"colorbar\": {\"outlinewidth\": 0, \"ticks\": \"\"}}, \"type\": \"scatterternary\"}], \"surface\": [{\"colorbar\": {\"outlinewidth\": 0, \"ticks\": \"\"}, \"colorscale\": [[0.0, \"#0d0887\"], [0.1111111111111111, \"#46039f\"], [0.2222222222222222, \"#7201a8\"], [0.3333333333333333, \"#9c179e\"], [0.4444444444444444, \"#bd3786\"], [0.5555555555555556, \"#d8576b\"], [0.6666666666666666, \"#ed7953\"], [0.7777777777777778, \"#fb9f3a\"], [0.8888888888888888, \"#fdca26\"], [1.0, \"#f0f921\"]], \"type\": \"surface\"}], \"table\": [{\"cells\": {\"fill\": {\"color\": \"#EBF0F8\"}, \"line\": {\"color\": \"white\"}}, \"header\": {\"fill\": {\"color\": \"#C8D4E3\"}, \"line\": {\"color\": \"white\"}}, \"type\": \"table\"}]}, \"layout\": {\"annotationdefaults\": {\"arrowcolor\": \"#2a3f5f\", \"arrowhead\": 0, \"arrowwidth\": 1}, \"coloraxis\": {\"colorbar\": {\"outlinewidth\": 0, \"ticks\": \"\"}}, \"colorscale\": {\"diverging\": [[0, \"#8e0152\"], [0.1, \"#c51b7d\"], [0.2, \"#de77ae\"], [0.3, \"#f1b6da\"], [0.4, \"#fde0ef\"], [0.5, \"#f7f7f7\"], [0.6, \"#e6f5d0\"], [0.7, \"#b8e186\"], [0.8, \"#7fbc41\"], [0.9, \"#4d9221\"], [1, \"#276419\"]], \"sequential\": [[0.0, \"#0d0887\"], [0.1111111111111111, \"#46039f\"], [0.2222222222222222, \"#7201a8\"], [0.3333333333333333, \"#9c179e\"], [0.4444444444444444, \"#bd3786\"], [0.5555555555555556, \"#d8576b\"], [0.6666666666666666, \"#ed7953\"], [0.7777777777777778, \"#fb9f3a\"], [0.8888888888888888, \"#fdca26\"], [1.0, \"#f0f921\"]], \"sequentialminus\": [[0.0, \"#0d0887\"], [0.1111111111111111, \"#46039f\"], [0.2222222222222222, \"#7201a8\"], [0.3333333333333333, \"#9c179e\"], [0.4444444444444444, \"#bd3786\"], [0.5555555555555556, \"#d8576b\"], [0.6666666666666666, \"#ed7953\"], [0.7777777777777778, \"#fb9f3a\"], [0.8888888888888888, \"#fdca26\"], [1.0, \"#f0f921\"]]}, \"colorway\": [\"#636efa\", \"#EF553B\", \"#00cc96\", \"#ab63fa\", \"#FFA15A\", \"#19d3f3\", \"#FF6692\", \"#B6E880\", \"#FF97FF\", \"#FECB52\"], \"font\": {\"color\": \"#2a3f5f\"}, \"geo\": {\"bgcolor\": \"white\", \"lakecolor\": \"white\", \"landcolor\": \"#E5ECF6\", \"showlakes\": true, \"showland\": true, \"subunitcolor\": \"white\"}, \"hoverlabel\": {\"align\": \"left\"}, \"hovermode\": \"closest\", \"mapbox\": {\"style\": \"light\"}, \"paper_bgcolor\": \"white\", \"plot_bgcolor\": \"#E5ECF6\", \"polar\": {\"angularaxis\": {\"gridcolor\": \"white\", \"linecolor\": \"white\", \"ticks\": \"\"}, \"bgcolor\": \"#E5ECF6\", \"radialaxis\": {\"gridcolor\": \"white\", \"linecolor\": \"white\", \"ticks\": \"\"}}, \"scene\": {\"xaxis\": {\"backgroundcolor\": \"#E5ECF6\", \"gridcolor\": \"white\", \"gridwidth\": 2, \"linecolor\": \"white\", \"showbackground\": true, \"ticks\": \"\", \"zerolinecolor\": \"white\"}, \"yaxis\": {\"backgroundcolor\": \"#E5ECF6\", \"gridcolor\": \"white\", \"gridwidth\": 2, \"linecolor\": \"white\", \"showbackground\": true, \"ticks\": \"\", \"zerolinecolor\": \"white\"}, \"zaxis\": {\"backgroundcolor\": \"#E5ECF6\", \"gridcolor\": \"white\", \"gridwidth\": 2, \"linecolor\": \"white\", \"showbackground\": true, \"ticks\": \"\", \"zerolinecolor\": \"white\"}}, \"shapedefaults\": {\"line\": {\"color\": \"#2a3f5f\"}}, \"ternary\": {\"aaxis\": {\"gridcolor\": \"white\", \"linecolor\": \"white\", \"ticks\": \"\"}, \"baxis\": {\"gridcolor\": \"white\", \"linecolor\": \"white\", \"ticks\": \"\"}, \"bgcolor\": \"#E5ECF6\", \"caxis\": {\"gridcolor\": \"white\", \"linecolor\": \"white\", \"ticks\": \"\"}}, \"title\": {\"x\": 0.05}, \"xaxis\": {\"automargin\": true, \"gridcolor\": \"white\", \"linecolor\": \"white\", \"ticks\": \"\", \"title\": {\"standoff\": 15}, \"zerolinecolor\": \"white\", \"zerolinewidth\": 2}, \"yaxis\": {\"automargin\": true, \"gridcolor\": \"white\", \"linecolor\": \"white\", \"ticks\": \"\", \"title\": {\"standoff\": 15}, \"zerolinecolor\": \"white\", \"zerolinewidth\": 2}}}, \"title\": {\"text\": \"GDP Comparison G20 Countries\"}, \"xaxis\": {\"anchor\": \"y\", \"domain\": [0.0, 1.0], \"title\": {\"text\": \"Country Code\"}}, \"yaxis\": {\"anchor\": \"x\", \"domain\": [0.0, 1.0], \"title\": {\"text\": \"2018 [YR2018]\"}}},                        {\"responsive\": true}                    ).then(function(){\n",
       "                            \n",
       "var gd = document.getElementById('c2e0079b-169b-4a7b-90fa-24be819b36d3');\n",
       "var x = new MutationObserver(function (mutations, observer) {{\n",
       "        var display = window.getComputedStyle(gd).display;\n",
       "        if (!display || display === 'none') {{\n",
       "            console.log([gd, 'removed!']);\n",
       "            Plotly.purge(gd);\n",
       "            observer.disconnect();\n",
       "        }}\n",
       "}});\n",
       "\n",
       "// Listen for the removal of the full notebook cells\n",
       "var notebookContainer = gd.closest('#notebook-container');\n",
       "if (notebookContainer) {{\n",
       "    x.observe(notebookContainer, {childList: true});\n",
       "}}\n",
       "\n",
       "// Listen for the clearing of the current output cell\n",
       "var outputEl = gd.closest('.output');\n",
       "if (outputEl) {{\n",
       "    x.observe(outputEl, {childList: true});\n",
       "}}\n",
       "\n",
       "                        })                };                });            </script>        </div>"
      ]
     },
     "metadata": {},
     "output_type": "display_data"
    }
   ],
   "source": [
    "import plotly.express as px\n",
    "\n",
    "fig = px.bar(schooling_yrs, x= \"Country Code\", y= \"2018 [YR2018]\", color=\"Series Name\", title=\"GDP Comparison G20 Countries\")\n",
    "fig.show()"
   ]
  },
  {
   "cell_type": "code",
   "execution_count": 23,
   "metadata": {},
   "outputs": [
    {
     "data": {
      "text/html": [
       "<div>\n",
       "<style scoped>\n",
       "    .dataframe tbody tr th:only-of-type {\n",
       "        vertical-align: middle;\n",
       "    }\n",
       "\n",
       "    .dataframe tbody tr th {\n",
       "        vertical-align: top;\n",
       "    }\n",
       "\n",
       "    .dataframe thead th {\n",
       "        text-align: right;\n",
       "    }\n",
       "</style>\n",
       "<table border=\"1\" class=\"dataframe\">\n",
       "  <thead>\n",
       "    <tr style=\"text-align: right;\">\n",
       "      <th></th>\n",
       "      <th>Country Name</th>\n",
       "      <th>Country Code</th>\n",
       "      <th>Series Code</th>\n",
       "      <th>2018 [YR2018]</th>\n",
       "      <th>2019 [YR2019]</th>\n",
       "      <th>2020 [YR2020]</th>\n",
       "    </tr>\n",
       "    <tr>\n",
       "      <th>Series Name</th>\n",
       "      <th></th>\n",
       "      <th></th>\n",
       "      <th></th>\n",
       "      <th></th>\n",
       "      <th></th>\n",
       "      <th></th>\n",
       "    </tr>\n",
       "  </thead>\n",
       "  <tbody>\n",
       "    <tr>\n",
       "      <th>Length of paid parental leave for father (days)</th>\n",
       "      <td>Argentina</td>\n",
       "      <td>ARG</td>\n",
       "      <td>SH.PAR.LEVE.MA</td>\n",
       "      <td>..</td>\n",
       "      <td>..</td>\n",
       "      <td>..</td>\n",
       "    </tr>\n",
       "    <tr>\n",
       "      <th>Length of paid parental leave for father (days)</th>\n",
       "      <td>Australia</td>\n",
       "      <td>AUS</td>\n",
       "      <td>SH.PAR.LEVE.MA</td>\n",
       "      <td>..</td>\n",
       "      <td>0</td>\n",
       "      <td>..</td>\n",
       "    </tr>\n",
       "    <tr>\n",
       "      <th>Length of paid parental leave for father (days)</th>\n",
       "      <td>Brazil</td>\n",
       "      <td>BRA</td>\n",
       "      <td>SH.PAR.LEVE.MA</td>\n",
       "      <td>..</td>\n",
       "      <td>..</td>\n",
       "      <td>..</td>\n",
       "    </tr>\n",
       "    <tr>\n",
       "      <th>Length of paid parental leave for father (days)</th>\n",
       "      <td>Canada</td>\n",
       "      <td>CAN</td>\n",
       "      <td>SH.PAR.LEVE.MA</td>\n",
       "      <td>..</td>\n",
       "      <td>35</td>\n",
       "      <td>..</td>\n",
       "    </tr>\n",
       "    <tr>\n",
       "      <th>Length of paid parental leave for father (days)</th>\n",
       "      <td>China</td>\n",
       "      <td>CHN</td>\n",
       "      <td>SH.PAR.LEVE.MA</td>\n",
       "      <td>..</td>\n",
       "      <td>..</td>\n",
       "      <td>..</td>\n",
       "    </tr>\n",
       "    <tr>\n",
       "      <th>Length of paid parental leave for father (days)</th>\n",
       "      <td>France</td>\n",
       "      <td>FRA</td>\n",
       "      <td>SH.PAR.LEVE.MA</td>\n",
       "      <td>..</td>\n",
       "      <td>180</td>\n",
       "      <td>..</td>\n",
       "    </tr>\n",
       "    <tr>\n",
       "      <th>Length of paid parental leave for father (days)</th>\n",
       "      <td>Germany</td>\n",
       "      <td>DEU</td>\n",
       "      <td>SH.PAR.LEVE.MA</td>\n",
       "      <td>..</td>\n",
       "      <td>60</td>\n",
       "      <td>..</td>\n",
       "    </tr>\n",
       "    <tr>\n",
       "      <th>Length of paid parental leave for father (days)</th>\n",
       "      <td>India</td>\n",
       "      <td>IND</td>\n",
       "      <td>SH.PAR.LEVE.MA</td>\n",
       "      <td>..</td>\n",
       "      <td>..</td>\n",
       "      <td>..</td>\n",
       "    </tr>\n",
       "    <tr>\n",
       "      <th>Length of paid parental leave for father (days)</th>\n",
       "      <td>Indonesia</td>\n",
       "      <td>IDN</td>\n",
       "      <td>SH.PAR.LEVE.MA</td>\n",
       "      <td>..</td>\n",
       "      <td>..</td>\n",
       "      <td>..</td>\n",
       "    </tr>\n",
       "    <tr>\n",
       "      <th>Length of paid parental leave for father (days)</th>\n",
       "      <td>Italy</td>\n",
       "      <td>ITA</td>\n",
       "      <td>SH.PAR.LEVE.MA</td>\n",
       "      <td>..</td>\n",
       "      <td>210</td>\n",
       "      <td>..</td>\n",
       "    </tr>\n",
       "    <tr>\n",
       "      <th>Length of paid parental leave for father (days)</th>\n",
       "      <td>Japan</td>\n",
       "      <td>JPN</td>\n",
       "      <td>SH.PAR.LEVE.MA</td>\n",
       "      <td>..</td>\n",
       "      <td>180</td>\n",
       "      <td>..</td>\n",
       "    </tr>\n",
       "    <tr>\n",
       "      <th>Length of paid parental leave for father (days)</th>\n",
       "      <td>Mexico</td>\n",
       "      <td>MEX</td>\n",
       "      <td>SH.PAR.LEVE.MA</td>\n",
       "      <td>..</td>\n",
       "      <td>..</td>\n",
       "      <td>..</td>\n",
       "    </tr>\n",
       "    <tr>\n",
       "      <th>Length of paid parental leave for father (days)</th>\n",
       "      <td>Korea, Rep.</td>\n",
       "      <td>KOR</td>\n",
       "      <td>SH.PAR.LEVE.MA</td>\n",
       "      <td>..</td>\n",
       "      <td>365</td>\n",
       "      <td>..</td>\n",
       "    </tr>\n",
       "    <tr>\n",
       "      <th>Length of paid parental leave for father (days)</th>\n",
       "      <td>Russian Federation</td>\n",
       "      <td>RUS</td>\n",
       "      <td>SH.PAR.LEVE.MA</td>\n",
       "      <td>..</td>\n",
       "      <td>0</td>\n",
       "      <td>..</td>\n",
       "    </tr>\n",
       "    <tr>\n",
       "      <th>Length of paid parental leave for father (days)</th>\n",
       "      <td>Saudi Arabia</td>\n",
       "      <td>SAU</td>\n",
       "      <td>SH.PAR.LEVE.MA</td>\n",
       "      <td>..</td>\n",
       "      <td>..</td>\n",
       "      <td>..</td>\n",
       "    </tr>\n",
       "    <tr>\n",
       "      <th>Length of paid parental leave for father (days)</th>\n",
       "      <td>Singapore</td>\n",
       "      <td>SGP</td>\n",
       "      <td>SH.PAR.LEVE.MA</td>\n",
       "      <td>..</td>\n",
       "      <td>0</td>\n",
       "      <td>..</td>\n",
       "    </tr>\n",
       "    <tr>\n",
       "      <th>Length of paid parental leave for father (days)</th>\n",
       "      <td>South Africa</td>\n",
       "      <td>ZAF</td>\n",
       "      <td>SH.PAR.LEVE.MA</td>\n",
       "      <td>..</td>\n",
       "      <td>..</td>\n",
       "      <td>..</td>\n",
       "    </tr>\n",
       "    <tr>\n",
       "      <th>Length of paid parental leave for father (days)</th>\n",
       "      <td>Turkey</td>\n",
       "      <td>TUR</td>\n",
       "      <td>SH.PAR.LEVE.MA</td>\n",
       "      <td>..</td>\n",
       "      <td>..</td>\n",
       "      <td>..</td>\n",
       "    </tr>\n",
       "    <tr>\n",
       "      <th>Length of paid parental leave for father (days)</th>\n",
       "      <td>United States</td>\n",
       "      <td>USA</td>\n",
       "      <td>SH.PAR.LEVE.MA</td>\n",
       "      <td>..</td>\n",
       "      <td>70</td>\n",
       "      <td>..</td>\n",
       "    </tr>\n",
       "    <tr>\n",
       "      <th>Length of paid parental leave for father (days)</th>\n",
       "      <td>United Kingdom</td>\n",
       "      <td>GBR</td>\n",
       "      <td>SH.PAR.LEVE.MA</td>\n",
       "      <td>..</td>\n",
       "      <td>0</td>\n",
       "      <td>..</td>\n",
       "    </tr>\n",
       "    <tr>\n",
       "      <th>Length of paid parental leave for father (days)</th>\n",
       "      <td>European Union</td>\n",
       "      <td>EUU</td>\n",
       "      <td>SH.PAR.LEVE.MA</td>\n",
       "      <td>..</td>\n",
       "      <td>..</td>\n",
       "      <td>..</td>\n",
       "    </tr>\n",
       "    <tr>\n",
       "      <th>Length of paid parental leave for mother (days)</th>\n",
       "      <td>Argentina</td>\n",
       "      <td>ARG</td>\n",
       "      <td>SH.PAR.LEVE.FE</td>\n",
       "      <td>..</td>\n",
       "      <td>..</td>\n",
       "      <td>..</td>\n",
       "    </tr>\n",
       "    <tr>\n",
       "      <th>Length of paid parental leave for mother (days)</th>\n",
       "      <td>Australia</td>\n",
       "      <td>AUS</td>\n",
       "      <td>SH.PAR.LEVE.FE</td>\n",
       "      <td>..</td>\n",
       "      <td>0</td>\n",
       "      <td>..</td>\n",
       "    </tr>\n",
       "    <tr>\n",
       "      <th>Length of paid parental leave for mother (days)</th>\n",
       "      <td>Brazil</td>\n",
       "      <td>BRA</td>\n",
       "      <td>SH.PAR.LEVE.FE</td>\n",
       "      <td>..</td>\n",
       "      <td>..</td>\n",
       "      <td>..</td>\n",
       "    </tr>\n",
       "    <tr>\n",
       "      <th>Length of paid parental leave for mother (days)</th>\n",
       "      <td>Canada</td>\n",
       "      <td>CAN</td>\n",
       "      <td>SH.PAR.LEVE.FE</td>\n",
       "      <td>..</td>\n",
       "      <td>35</td>\n",
       "      <td>..</td>\n",
       "    </tr>\n",
       "    <tr>\n",
       "      <th>Length of paid parental leave for mother (days)</th>\n",
       "      <td>China</td>\n",
       "      <td>CHN</td>\n",
       "      <td>SH.PAR.LEVE.FE</td>\n",
       "      <td>..</td>\n",
       "      <td>..</td>\n",
       "      <td>..</td>\n",
       "    </tr>\n",
       "    <tr>\n",
       "      <th>Length of paid parental leave for mother (days)</th>\n",
       "      <td>France</td>\n",
       "      <td>FRA</td>\n",
       "      <td>SH.PAR.LEVE.FE</td>\n",
       "      <td>..</td>\n",
       "      <td>180</td>\n",
       "      <td>..</td>\n",
       "    </tr>\n",
       "    <tr>\n",
       "      <th>Length of paid parental leave for mother (days)</th>\n",
       "      <td>Germany</td>\n",
       "      <td>DEU</td>\n",
       "      <td>SH.PAR.LEVE.FE</td>\n",
       "      <td>..</td>\n",
       "      <td>60</td>\n",
       "      <td>..</td>\n",
       "    </tr>\n",
       "    <tr>\n",
       "      <th>Length of paid parental leave for mother (days)</th>\n",
       "      <td>India</td>\n",
       "      <td>IND</td>\n",
       "      <td>SH.PAR.LEVE.FE</td>\n",
       "      <td>..</td>\n",
       "      <td>..</td>\n",
       "      <td>..</td>\n",
       "    </tr>\n",
       "    <tr>\n",
       "      <th>Length of paid parental leave for mother (days)</th>\n",
       "      <td>Indonesia</td>\n",
       "      <td>IDN</td>\n",
       "      <td>SH.PAR.LEVE.FE</td>\n",
       "      <td>..</td>\n",
       "      <td>..</td>\n",
       "      <td>..</td>\n",
       "    </tr>\n",
       "    <tr>\n",
       "      <th>Length of paid parental leave for mother (days)</th>\n",
       "      <td>Italy</td>\n",
       "      <td>ITA</td>\n",
       "      <td>SH.PAR.LEVE.FE</td>\n",
       "      <td>..</td>\n",
       "      <td>150</td>\n",
       "      <td>..</td>\n",
       "    </tr>\n",
       "    <tr>\n",
       "      <th>Length of paid parental leave for mother (days)</th>\n",
       "      <td>Japan</td>\n",
       "      <td>JPN</td>\n",
       "      <td>SH.PAR.LEVE.FE</td>\n",
       "      <td>..</td>\n",
       "      <td>180</td>\n",
       "      <td>..</td>\n",
       "    </tr>\n",
       "    <tr>\n",
       "      <th>Length of paid parental leave for mother (days)</th>\n",
       "      <td>Mexico</td>\n",
       "      <td>MEX</td>\n",
       "      <td>SH.PAR.LEVE.FE</td>\n",
       "      <td>..</td>\n",
       "      <td>..</td>\n",
       "      <td>..</td>\n",
       "    </tr>\n",
       "    <tr>\n",
       "      <th>Length of paid parental leave for mother (days)</th>\n",
       "      <td>Korea, Rep.</td>\n",
       "      <td>KOR</td>\n",
       "      <td>SH.PAR.LEVE.FE</td>\n",
       "      <td>..</td>\n",
       "      <td>365</td>\n",
       "      <td>..</td>\n",
       "    </tr>\n",
       "    <tr>\n",
       "      <th>Length of paid parental leave for mother (days)</th>\n",
       "      <td>Russian Federation</td>\n",
       "      <td>RUS</td>\n",
       "      <td>SH.PAR.LEVE.FE</td>\n",
       "      <td>..</td>\n",
       "      <td>0</td>\n",
       "      <td>..</td>\n",
       "    </tr>\n",
       "    <tr>\n",
       "      <th>Length of paid parental leave for mother (days)</th>\n",
       "      <td>Saudi Arabia</td>\n",
       "      <td>SAU</td>\n",
       "      <td>SH.PAR.LEVE.FE</td>\n",
       "      <td>..</td>\n",
       "      <td>..</td>\n",
       "      <td>..</td>\n",
       "    </tr>\n",
       "    <tr>\n",
       "      <th>Length of paid parental leave for mother (days)</th>\n",
       "      <td>Singapore</td>\n",
       "      <td>SGP</td>\n",
       "      <td>SH.PAR.LEVE.FE</td>\n",
       "      <td>..</td>\n",
       "      <td>0</td>\n",
       "      <td>..</td>\n",
       "    </tr>\n",
       "    <tr>\n",
       "      <th>Length of paid parental leave for mother (days)</th>\n",
       "      <td>South Africa</td>\n",
       "      <td>ZAF</td>\n",
       "      <td>SH.PAR.LEVE.FE</td>\n",
       "      <td>..</td>\n",
       "      <td>..</td>\n",
       "      <td>..</td>\n",
       "    </tr>\n",
       "    <tr>\n",
       "      <th>Length of paid parental leave for mother (days)</th>\n",
       "      <td>Turkey</td>\n",
       "      <td>TUR</td>\n",
       "      <td>SH.PAR.LEVE.FE</td>\n",
       "      <td>..</td>\n",
       "      <td>..</td>\n",
       "      <td>..</td>\n",
       "    </tr>\n",
       "    <tr>\n",
       "      <th>Length of paid parental leave for mother (days)</th>\n",
       "      <td>United States</td>\n",
       "      <td>USA</td>\n",
       "      <td>SH.PAR.LEVE.FE</td>\n",
       "      <td>..</td>\n",
       "      <td>70</td>\n",
       "      <td>..</td>\n",
       "    </tr>\n",
       "    <tr>\n",
       "      <th>Length of paid parental leave for mother (days)</th>\n",
       "      <td>United Kingdom</td>\n",
       "      <td>GBR</td>\n",
       "      <td>SH.PAR.LEVE.FE</td>\n",
       "      <td>..</td>\n",
       "      <td>0</td>\n",
       "      <td>..</td>\n",
       "    </tr>\n",
       "    <tr>\n",
       "      <th>Length of paid parental leave for mother (days)</th>\n",
       "      <td>European Union</td>\n",
       "      <td>EUU</td>\n",
       "      <td>SH.PAR.LEVE.FE</td>\n",
       "      <td>..</td>\n",
       "      <td>..</td>\n",
       "      <td>..</td>\n",
       "    </tr>\n",
       "  </tbody>\n",
       "</table>\n",
       "</div>"
      ],
      "text/plain": [
       "                                                       Country Name  \\\n",
       "Series Name                                                           \n",
       "Length of paid parental leave for father (days)           Argentina   \n",
       "Length of paid parental leave for father (days)           Australia   \n",
       "Length of paid parental leave for father (days)              Brazil   \n",
       "Length of paid parental leave for father (days)              Canada   \n",
       "Length of paid parental leave for father (days)               China   \n",
       "Length of paid parental leave for father (days)              France   \n",
       "Length of paid parental leave for father (days)             Germany   \n",
       "Length of paid parental leave for father (days)               India   \n",
       "Length of paid parental leave for father (days)           Indonesia   \n",
       "Length of paid parental leave for father (days)               Italy   \n",
       "Length of paid parental leave for father (days)               Japan   \n",
       "Length of paid parental leave for father (days)              Mexico   \n",
       "Length of paid parental leave for father (days)         Korea, Rep.   \n",
       "Length of paid parental leave for father (days)  Russian Federation   \n",
       "Length of paid parental leave for father (days)        Saudi Arabia   \n",
       "Length of paid parental leave for father (days)           Singapore   \n",
       "Length of paid parental leave for father (days)        South Africa   \n",
       "Length of paid parental leave for father (days)              Turkey   \n",
       "Length of paid parental leave for father (days)       United States   \n",
       "Length of paid parental leave for father (days)      United Kingdom   \n",
       "Length of paid parental leave for father (days)      European Union   \n",
       "Length of paid parental leave for mother (days)           Argentina   \n",
       "Length of paid parental leave for mother (days)           Australia   \n",
       "Length of paid parental leave for mother (days)              Brazil   \n",
       "Length of paid parental leave for mother (days)              Canada   \n",
       "Length of paid parental leave for mother (days)               China   \n",
       "Length of paid parental leave for mother (days)              France   \n",
       "Length of paid parental leave for mother (days)             Germany   \n",
       "Length of paid parental leave for mother (days)               India   \n",
       "Length of paid parental leave for mother (days)           Indonesia   \n",
       "Length of paid parental leave for mother (days)               Italy   \n",
       "Length of paid parental leave for mother (days)               Japan   \n",
       "Length of paid parental leave for mother (days)              Mexico   \n",
       "Length of paid parental leave for mother (days)         Korea, Rep.   \n",
       "Length of paid parental leave for mother (days)  Russian Federation   \n",
       "Length of paid parental leave for mother (days)        Saudi Arabia   \n",
       "Length of paid parental leave for mother (days)           Singapore   \n",
       "Length of paid parental leave for mother (days)        South Africa   \n",
       "Length of paid parental leave for mother (days)              Turkey   \n",
       "Length of paid parental leave for mother (days)       United States   \n",
       "Length of paid parental leave for mother (days)      United Kingdom   \n",
       "Length of paid parental leave for mother (days)      European Union   \n",
       "\n",
       "                                                Country Code     Series Code  \\\n",
       "Series Name                                                                    \n",
       "Length of paid parental leave for father (days)          ARG  SH.PAR.LEVE.MA   \n",
       "Length of paid parental leave for father (days)          AUS  SH.PAR.LEVE.MA   \n",
       "Length of paid parental leave for father (days)          BRA  SH.PAR.LEVE.MA   \n",
       "Length of paid parental leave for father (days)          CAN  SH.PAR.LEVE.MA   \n",
       "Length of paid parental leave for father (days)          CHN  SH.PAR.LEVE.MA   \n",
       "Length of paid parental leave for father (days)          FRA  SH.PAR.LEVE.MA   \n",
       "Length of paid parental leave for father (days)          DEU  SH.PAR.LEVE.MA   \n",
       "Length of paid parental leave for father (days)          IND  SH.PAR.LEVE.MA   \n",
       "Length of paid parental leave for father (days)          IDN  SH.PAR.LEVE.MA   \n",
       "Length of paid parental leave for father (days)          ITA  SH.PAR.LEVE.MA   \n",
       "Length of paid parental leave for father (days)          JPN  SH.PAR.LEVE.MA   \n",
       "Length of paid parental leave for father (days)          MEX  SH.PAR.LEVE.MA   \n",
       "Length of paid parental leave for father (days)          KOR  SH.PAR.LEVE.MA   \n",
       "Length of paid parental leave for father (days)          RUS  SH.PAR.LEVE.MA   \n",
       "Length of paid parental leave for father (days)          SAU  SH.PAR.LEVE.MA   \n",
       "Length of paid parental leave for father (days)          SGP  SH.PAR.LEVE.MA   \n",
       "Length of paid parental leave for father (days)          ZAF  SH.PAR.LEVE.MA   \n",
       "Length of paid parental leave for father (days)          TUR  SH.PAR.LEVE.MA   \n",
       "Length of paid parental leave for father (days)          USA  SH.PAR.LEVE.MA   \n",
       "Length of paid parental leave for father (days)          GBR  SH.PAR.LEVE.MA   \n",
       "Length of paid parental leave for father (days)          EUU  SH.PAR.LEVE.MA   \n",
       "Length of paid parental leave for mother (days)          ARG  SH.PAR.LEVE.FE   \n",
       "Length of paid parental leave for mother (days)          AUS  SH.PAR.LEVE.FE   \n",
       "Length of paid parental leave for mother (days)          BRA  SH.PAR.LEVE.FE   \n",
       "Length of paid parental leave for mother (days)          CAN  SH.PAR.LEVE.FE   \n",
       "Length of paid parental leave for mother (days)          CHN  SH.PAR.LEVE.FE   \n",
       "Length of paid parental leave for mother (days)          FRA  SH.PAR.LEVE.FE   \n",
       "Length of paid parental leave for mother (days)          DEU  SH.PAR.LEVE.FE   \n",
       "Length of paid parental leave for mother (days)          IND  SH.PAR.LEVE.FE   \n",
       "Length of paid parental leave for mother (days)          IDN  SH.PAR.LEVE.FE   \n",
       "Length of paid parental leave for mother (days)          ITA  SH.PAR.LEVE.FE   \n",
       "Length of paid parental leave for mother (days)          JPN  SH.PAR.LEVE.FE   \n",
       "Length of paid parental leave for mother (days)          MEX  SH.PAR.LEVE.FE   \n",
       "Length of paid parental leave for mother (days)          KOR  SH.PAR.LEVE.FE   \n",
       "Length of paid parental leave for mother (days)          RUS  SH.PAR.LEVE.FE   \n",
       "Length of paid parental leave for mother (days)          SAU  SH.PAR.LEVE.FE   \n",
       "Length of paid parental leave for mother (days)          SGP  SH.PAR.LEVE.FE   \n",
       "Length of paid parental leave for mother (days)          ZAF  SH.PAR.LEVE.FE   \n",
       "Length of paid parental leave for mother (days)          TUR  SH.PAR.LEVE.FE   \n",
       "Length of paid parental leave for mother (days)          USA  SH.PAR.LEVE.FE   \n",
       "Length of paid parental leave for mother (days)          GBR  SH.PAR.LEVE.FE   \n",
       "Length of paid parental leave for mother (days)          EUU  SH.PAR.LEVE.FE   \n",
       "\n",
       "                                                2018 [YR2018] 2019 [YR2019]  \\\n",
       "Series Name                                                                   \n",
       "Length of paid parental leave for father (days)            ..            ..   \n",
       "Length of paid parental leave for father (days)            ..             0   \n",
       "Length of paid parental leave for father (days)            ..            ..   \n",
       "Length of paid parental leave for father (days)            ..            35   \n",
       "Length of paid parental leave for father (days)            ..            ..   \n",
       "Length of paid parental leave for father (days)            ..           180   \n",
       "Length of paid parental leave for father (days)            ..            60   \n",
       "Length of paid parental leave for father (days)            ..            ..   \n",
       "Length of paid parental leave for father (days)            ..            ..   \n",
       "Length of paid parental leave for father (days)            ..           210   \n",
       "Length of paid parental leave for father (days)            ..           180   \n",
       "Length of paid parental leave for father (days)            ..            ..   \n",
       "Length of paid parental leave for father (days)            ..           365   \n",
       "Length of paid parental leave for father (days)            ..             0   \n",
       "Length of paid parental leave for father (days)            ..            ..   \n",
       "Length of paid parental leave for father (days)            ..             0   \n",
       "Length of paid parental leave for father (days)            ..            ..   \n",
       "Length of paid parental leave for father (days)            ..            ..   \n",
       "Length of paid parental leave for father (days)            ..            70   \n",
       "Length of paid parental leave for father (days)            ..             0   \n",
       "Length of paid parental leave for father (days)            ..            ..   \n",
       "Length of paid parental leave for mother (days)            ..            ..   \n",
       "Length of paid parental leave for mother (days)            ..             0   \n",
       "Length of paid parental leave for mother (days)            ..            ..   \n",
       "Length of paid parental leave for mother (days)            ..            35   \n",
       "Length of paid parental leave for mother (days)            ..            ..   \n",
       "Length of paid parental leave for mother (days)            ..           180   \n",
       "Length of paid parental leave for mother (days)            ..            60   \n",
       "Length of paid parental leave for mother (days)            ..            ..   \n",
       "Length of paid parental leave for mother (days)            ..            ..   \n",
       "Length of paid parental leave for mother (days)            ..           150   \n",
       "Length of paid parental leave for mother (days)            ..           180   \n",
       "Length of paid parental leave for mother (days)            ..            ..   \n",
       "Length of paid parental leave for mother (days)            ..           365   \n",
       "Length of paid parental leave for mother (days)            ..             0   \n",
       "Length of paid parental leave for mother (days)            ..            ..   \n",
       "Length of paid parental leave for mother (days)            ..             0   \n",
       "Length of paid parental leave for mother (days)            ..            ..   \n",
       "Length of paid parental leave for mother (days)            ..            ..   \n",
       "Length of paid parental leave for mother (days)            ..            70   \n",
       "Length of paid parental leave for mother (days)            ..             0   \n",
       "Length of paid parental leave for mother (days)            ..            ..   \n",
       "\n",
       "                                                2020 [YR2020]  \n",
       "Series Name                                                    \n",
       "Length of paid parental leave for father (days)            ..  \n",
       "Length of paid parental leave for father (days)            ..  \n",
       "Length of paid parental leave for father (days)            ..  \n",
       "Length of paid parental leave for father (days)            ..  \n",
       "Length of paid parental leave for father (days)            ..  \n",
       "Length of paid parental leave for father (days)            ..  \n",
       "Length of paid parental leave for father (days)            ..  \n",
       "Length of paid parental leave for father (days)            ..  \n",
       "Length of paid parental leave for father (days)            ..  \n",
       "Length of paid parental leave for father (days)            ..  \n",
       "Length of paid parental leave for father (days)            ..  \n",
       "Length of paid parental leave for father (days)            ..  \n",
       "Length of paid parental leave for father (days)            ..  \n",
       "Length of paid parental leave for father (days)            ..  \n",
       "Length of paid parental leave for father (days)            ..  \n",
       "Length of paid parental leave for father (days)            ..  \n",
       "Length of paid parental leave for father (days)            ..  \n",
       "Length of paid parental leave for father (days)            ..  \n",
       "Length of paid parental leave for father (days)            ..  \n",
       "Length of paid parental leave for father (days)            ..  \n",
       "Length of paid parental leave for father (days)            ..  \n",
       "Length of paid parental leave for mother (days)            ..  \n",
       "Length of paid parental leave for mother (days)            ..  \n",
       "Length of paid parental leave for mother (days)            ..  \n",
       "Length of paid parental leave for mother (days)            ..  \n",
       "Length of paid parental leave for mother (days)            ..  \n",
       "Length of paid parental leave for mother (days)            ..  \n",
       "Length of paid parental leave for mother (days)            ..  \n",
       "Length of paid parental leave for mother (days)            ..  \n",
       "Length of paid parental leave for mother (days)            ..  \n",
       "Length of paid parental leave for mother (days)            ..  \n",
       "Length of paid parental leave for mother (days)            ..  \n",
       "Length of paid parental leave for mother (days)            ..  \n",
       "Length of paid parental leave for mother (days)            ..  \n",
       "Length of paid parental leave for mother (days)            ..  \n",
       "Length of paid parental leave for mother (days)            ..  \n",
       "Length of paid parental leave for mother (days)            ..  \n",
       "Length of paid parental leave for mother (days)            ..  \n",
       "Length of paid parental leave for mother (days)            ..  \n",
       "Length of paid parental leave for mother (days)            ..  \n",
       "Length of paid parental leave for mother (days)            ..  \n",
       "Length of paid parental leave for mother (days)            ..  "
      ]
     },
     "execution_count": 23,
     "metadata": {},
     "output_type": "execute_result"
    }
   ],
   "source": [
    "gs.loc[['Length of paid parental leave for father (days)','Length of paid parental leave for mother (days)']]"
   ]
  },
  {
   "cell_type": "code",
   "execution_count": 24,
   "metadata": {},
   "outputs": [
    {
     "data": {
      "text/html": [
       "<div>\n",
       "<style scoped>\n",
       "    .dataframe tbody tr th:only-of-type {\n",
       "        vertical-align: middle;\n",
       "    }\n",
       "\n",
       "    .dataframe tbody tr th {\n",
       "        vertical-align: top;\n",
       "    }\n",
       "\n",
       "    .dataframe thead th {\n",
       "        text-align: right;\n",
       "    }\n",
       "</style>\n",
       "<table border=\"1\" class=\"dataframe\">\n",
       "  <thead>\n",
       "    <tr style=\"text-align: right;\">\n",
       "      <th></th>\n",
       "      <th>Country Name</th>\n",
       "      <th>Country Code</th>\n",
       "      <th>Series Code</th>\n",
       "      <th>2018 [YR2018]</th>\n",
       "      <th>2019 [YR2019]</th>\n",
       "      <th>2020 [YR2020]</th>\n",
       "    </tr>\n",
       "    <tr>\n",
       "      <th>Series Name</th>\n",
       "      <th></th>\n",
       "      <th></th>\n",
       "      <th></th>\n",
       "      <th></th>\n",
       "      <th></th>\n",
       "      <th></th>\n",
       "    </tr>\n",
       "  </thead>\n",
       "  <tbody>\n",
       "    <tr>\n",
       "      <th>Age at first marriage, female</th>\n",
       "      <td>Argentina</td>\n",
       "      <td>ARG</td>\n",
       "      <td>SP.DYN.SMAM.FE</td>\n",
       "      <td>..</td>\n",
       "      <td>..</td>\n",
       "      <td>..</td>\n",
       "    </tr>\n",
       "    <tr>\n",
       "      <th>Age at first marriage, female</th>\n",
       "      <td>Australia</td>\n",
       "      <td>AUS</td>\n",
       "      <td>SP.DYN.SMAM.FE</td>\n",
       "      <td>..</td>\n",
       "      <td>..</td>\n",
       "      <td>..</td>\n",
       "    </tr>\n",
       "    <tr>\n",
       "      <th>Age at first marriage, female</th>\n",
       "      <td>Brazil</td>\n",
       "      <td>BRA</td>\n",
       "      <td>SP.DYN.SMAM.FE</td>\n",
       "      <td>..</td>\n",
       "      <td>..</td>\n",
       "      <td>..</td>\n",
       "    </tr>\n",
       "    <tr>\n",
       "      <th>Age at first marriage, female</th>\n",
       "      <td>Canada</td>\n",
       "      <td>CAN</td>\n",
       "      <td>SP.DYN.SMAM.FE</td>\n",
       "      <td>..</td>\n",
       "      <td>..</td>\n",
       "      <td>..</td>\n",
       "    </tr>\n",
       "    <tr>\n",
       "      <th>Age at first marriage, female</th>\n",
       "      <td>China</td>\n",
       "      <td>CHN</td>\n",
       "      <td>SP.DYN.SMAM.FE</td>\n",
       "      <td>..</td>\n",
       "      <td>..</td>\n",
       "      <td>..</td>\n",
       "    </tr>\n",
       "    <tr>\n",
       "      <th>Age at first marriage, female</th>\n",
       "      <td>France</td>\n",
       "      <td>FRA</td>\n",
       "      <td>SP.DYN.SMAM.FE</td>\n",
       "      <td>..</td>\n",
       "      <td>..</td>\n",
       "      <td>..</td>\n",
       "    </tr>\n",
       "    <tr>\n",
       "      <th>Age at first marriage, female</th>\n",
       "      <td>Germany</td>\n",
       "      <td>DEU</td>\n",
       "      <td>SP.DYN.SMAM.FE</td>\n",
       "      <td>31.7</td>\n",
       "      <td>..</td>\n",
       "      <td>..</td>\n",
       "    </tr>\n",
       "    <tr>\n",
       "      <th>Age at first marriage, female</th>\n",
       "      <td>India</td>\n",
       "      <td>IND</td>\n",
       "      <td>SP.DYN.SMAM.FE</td>\n",
       "      <td>..</td>\n",
       "      <td>..</td>\n",
       "      <td>..</td>\n",
       "    </tr>\n",
       "    <tr>\n",
       "      <th>Age at first marriage, female</th>\n",
       "      <td>Indonesia</td>\n",
       "      <td>IDN</td>\n",
       "      <td>SP.DYN.SMAM.FE</td>\n",
       "      <td>..</td>\n",
       "      <td>..</td>\n",
       "      <td>..</td>\n",
       "    </tr>\n",
       "    <tr>\n",
       "      <th>Age at first marriage, female</th>\n",
       "      <td>Italy</td>\n",
       "      <td>ITA</td>\n",
       "      <td>SP.DYN.SMAM.FE</td>\n",
       "      <td>32.2</td>\n",
       "      <td>..</td>\n",
       "      <td>..</td>\n",
       "    </tr>\n",
       "    <tr>\n",
       "      <th>Age at first marriage, female</th>\n",
       "      <td>Japan</td>\n",
       "      <td>JPN</td>\n",
       "      <td>SP.DYN.SMAM.FE</td>\n",
       "      <td>..</td>\n",
       "      <td>..</td>\n",
       "      <td>..</td>\n",
       "    </tr>\n",
       "    <tr>\n",
       "      <th>Age at first marriage, female</th>\n",
       "      <td>Mexico</td>\n",
       "      <td>MEX</td>\n",
       "      <td>SP.DYN.SMAM.FE</td>\n",
       "      <td>23.2</td>\n",
       "      <td>23.2</td>\n",
       "      <td>..</td>\n",
       "    </tr>\n",
       "    <tr>\n",
       "      <th>Age at first marriage, female</th>\n",
       "      <td>Korea, Rep.</td>\n",
       "      <td>KOR</td>\n",
       "      <td>SP.DYN.SMAM.FE</td>\n",
       "      <td>..</td>\n",
       "      <td>..</td>\n",
       "      <td>..</td>\n",
       "    </tr>\n",
       "    <tr>\n",
       "      <th>Age at first marriage, female</th>\n",
       "      <td>Russian Federation</td>\n",
       "      <td>RUS</td>\n",
       "      <td>SP.DYN.SMAM.FE</td>\n",
       "      <td>..</td>\n",
       "      <td>..</td>\n",
       "      <td>..</td>\n",
       "    </tr>\n",
       "    <tr>\n",
       "      <th>Age at first marriage, female</th>\n",
       "      <td>Saudi Arabia</td>\n",
       "      <td>SAU</td>\n",
       "      <td>SP.DYN.SMAM.FE</td>\n",
       "      <td>..</td>\n",
       "      <td>..</td>\n",
       "      <td>..</td>\n",
       "    </tr>\n",
       "    <tr>\n",
       "      <th>Age at first marriage, female</th>\n",
       "      <td>Singapore</td>\n",
       "      <td>SGP</td>\n",
       "      <td>SP.DYN.SMAM.FE</td>\n",
       "      <td>..</td>\n",
       "      <td>..</td>\n",
       "      <td>..</td>\n",
       "    </tr>\n",
       "    <tr>\n",
       "      <th>Age at first marriage, female</th>\n",
       "      <td>South Africa</td>\n",
       "      <td>ZAF</td>\n",
       "      <td>SP.DYN.SMAM.FE</td>\n",
       "      <td>..</td>\n",
       "      <td>..</td>\n",
       "      <td>..</td>\n",
       "    </tr>\n",
       "    <tr>\n",
       "      <th>Age at first marriage, female</th>\n",
       "      <td>Turkey</td>\n",
       "      <td>TUR</td>\n",
       "      <td>SP.DYN.SMAM.FE</td>\n",
       "      <td>..</td>\n",
       "      <td>..</td>\n",
       "      <td>..</td>\n",
       "    </tr>\n",
       "    <tr>\n",
       "      <th>Age at first marriage, female</th>\n",
       "      <td>United States</td>\n",
       "      <td>USA</td>\n",
       "      <td>SP.DYN.SMAM.FE</td>\n",
       "      <td>..</td>\n",
       "      <td>..</td>\n",
       "      <td>..</td>\n",
       "    </tr>\n",
       "    <tr>\n",
       "      <th>Age at first marriage, female</th>\n",
       "      <td>United Kingdom</td>\n",
       "      <td>GBR</td>\n",
       "      <td>SP.DYN.SMAM.FE</td>\n",
       "      <td>..</td>\n",
       "      <td>..</td>\n",
       "      <td>..</td>\n",
       "    </tr>\n",
       "    <tr>\n",
       "      <th>Age at first marriage, female</th>\n",
       "      <td>European Union</td>\n",
       "      <td>EUU</td>\n",
       "      <td>SP.DYN.SMAM.FE</td>\n",
       "      <td>..</td>\n",
       "      <td>..</td>\n",
       "      <td>..</td>\n",
       "    </tr>\n",
       "    <tr>\n",
       "      <th>Age at first marriage, male</th>\n",
       "      <td>Argentina</td>\n",
       "      <td>ARG</td>\n",
       "      <td>SP.DYN.SMAM.MA</td>\n",
       "      <td>..</td>\n",
       "      <td>..</td>\n",
       "      <td>..</td>\n",
       "    </tr>\n",
       "    <tr>\n",
       "      <th>Age at first marriage, male</th>\n",
       "      <td>Australia</td>\n",
       "      <td>AUS</td>\n",
       "      <td>SP.DYN.SMAM.MA</td>\n",
       "      <td>..</td>\n",
       "      <td>..</td>\n",
       "      <td>..</td>\n",
       "    </tr>\n",
       "    <tr>\n",
       "      <th>Age at first marriage, male</th>\n",
       "      <td>Brazil</td>\n",
       "      <td>BRA</td>\n",
       "      <td>SP.DYN.SMAM.MA</td>\n",
       "      <td>..</td>\n",
       "      <td>..</td>\n",
       "      <td>..</td>\n",
       "    </tr>\n",
       "    <tr>\n",
       "      <th>Age at first marriage, male</th>\n",
       "      <td>Canada</td>\n",
       "      <td>CAN</td>\n",
       "      <td>SP.DYN.SMAM.MA</td>\n",
       "      <td>..</td>\n",
       "      <td>..</td>\n",
       "      <td>..</td>\n",
       "    </tr>\n",
       "    <tr>\n",
       "      <th>Age at first marriage, male</th>\n",
       "      <td>China</td>\n",
       "      <td>CHN</td>\n",
       "      <td>SP.DYN.SMAM.MA</td>\n",
       "      <td>..</td>\n",
       "      <td>..</td>\n",
       "      <td>..</td>\n",
       "    </tr>\n",
       "    <tr>\n",
       "      <th>Age at first marriage, male</th>\n",
       "      <td>France</td>\n",
       "      <td>FRA</td>\n",
       "      <td>SP.DYN.SMAM.MA</td>\n",
       "      <td>..</td>\n",
       "      <td>..</td>\n",
       "      <td>..</td>\n",
       "    </tr>\n",
       "    <tr>\n",
       "      <th>Age at first marriage, male</th>\n",
       "      <td>Germany</td>\n",
       "      <td>DEU</td>\n",
       "      <td>SP.DYN.SMAM.MA</td>\n",
       "      <td>33.9</td>\n",
       "      <td>..</td>\n",
       "      <td>..</td>\n",
       "    </tr>\n",
       "    <tr>\n",
       "      <th>Age at first marriage, male</th>\n",
       "      <td>India</td>\n",
       "      <td>IND</td>\n",
       "      <td>SP.DYN.SMAM.MA</td>\n",
       "      <td>..</td>\n",
       "      <td>..</td>\n",
       "      <td>..</td>\n",
       "    </tr>\n",
       "    <tr>\n",
       "      <th>Age at first marriage, male</th>\n",
       "      <td>Indonesia</td>\n",
       "      <td>IDN</td>\n",
       "      <td>SP.DYN.SMAM.MA</td>\n",
       "      <td>..</td>\n",
       "      <td>..</td>\n",
       "      <td>..</td>\n",
       "    </tr>\n",
       "    <tr>\n",
       "      <th>Age at first marriage, male</th>\n",
       "      <td>Italy</td>\n",
       "      <td>ITA</td>\n",
       "      <td>SP.DYN.SMAM.MA</td>\n",
       "      <td>35.2999999999999</td>\n",
       "      <td>..</td>\n",
       "      <td>..</td>\n",
       "    </tr>\n",
       "    <tr>\n",
       "      <th>Age at first marriage, male</th>\n",
       "      <td>Japan</td>\n",
       "      <td>JPN</td>\n",
       "      <td>SP.DYN.SMAM.MA</td>\n",
       "      <td>..</td>\n",
       "      <td>..</td>\n",
       "      <td>..</td>\n",
       "    </tr>\n",
       "    <tr>\n",
       "      <th>Age at first marriage, male</th>\n",
       "      <td>Mexico</td>\n",
       "      <td>MEX</td>\n",
       "      <td>SP.DYN.SMAM.MA</td>\n",
       "      <td>25.9</td>\n",
       "      <td>25.9</td>\n",
       "      <td>..</td>\n",
       "    </tr>\n",
       "    <tr>\n",
       "      <th>Age at first marriage, male</th>\n",
       "      <td>Korea, Rep.</td>\n",
       "      <td>KOR</td>\n",
       "      <td>SP.DYN.SMAM.MA</td>\n",
       "      <td>..</td>\n",
       "      <td>..</td>\n",
       "      <td>..</td>\n",
       "    </tr>\n",
       "    <tr>\n",
       "      <th>Age at first marriage, male</th>\n",
       "      <td>Russian Federation</td>\n",
       "      <td>RUS</td>\n",
       "      <td>SP.DYN.SMAM.MA</td>\n",
       "      <td>..</td>\n",
       "      <td>..</td>\n",
       "      <td>..</td>\n",
       "    </tr>\n",
       "    <tr>\n",
       "      <th>Age at first marriage, male</th>\n",
       "      <td>Saudi Arabia</td>\n",
       "      <td>SAU</td>\n",
       "      <td>SP.DYN.SMAM.MA</td>\n",
       "      <td>..</td>\n",
       "      <td>..</td>\n",
       "      <td>..</td>\n",
       "    </tr>\n",
       "    <tr>\n",
       "      <th>Age at first marriage, male</th>\n",
       "      <td>Singapore</td>\n",
       "      <td>SGP</td>\n",
       "      <td>SP.DYN.SMAM.MA</td>\n",
       "      <td>..</td>\n",
       "      <td>..</td>\n",
       "      <td>..</td>\n",
       "    </tr>\n",
       "    <tr>\n",
       "      <th>Age at first marriage, male</th>\n",
       "      <td>South Africa</td>\n",
       "      <td>ZAF</td>\n",
       "      <td>SP.DYN.SMAM.MA</td>\n",
       "      <td>..</td>\n",
       "      <td>..</td>\n",
       "      <td>..</td>\n",
       "    </tr>\n",
       "    <tr>\n",
       "      <th>Age at first marriage, male</th>\n",
       "      <td>Turkey</td>\n",
       "      <td>TUR</td>\n",
       "      <td>SP.DYN.SMAM.MA</td>\n",
       "      <td>..</td>\n",
       "      <td>..</td>\n",
       "      <td>..</td>\n",
       "    </tr>\n",
       "    <tr>\n",
       "      <th>Age at first marriage, male</th>\n",
       "      <td>United States</td>\n",
       "      <td>USA</td>\n",
       "      <td>SP.DYN.SMAM.MA</td>\n",
       "      <td>..</td>\n",
       "      <td>..</td>\n",
       "      <td>..</td>\n",
       "    </tr>\n",
       "    <tr>\n",
       "      <th>Age at first marriage, male</th>\n",
       "      <td>United Kingdom</td>\n",
       "      <td>GBR</td>\n",
       "      <td>SP.DYN.SMAM.MA</td>\n",
       "      <td>..</td>\n",
       "      <td>..</td>\n",
       "      <td>..</td>\n",
       "    </tr>\n",
       "    <tr>\n",
       "      <th>Age at first marriage, male</th>\n",
       "      <td>European Union</td>\n",
       "      <td>EUU</td>\n",
       "      <td>SP.DYN.SMAM.MA</td>\n",
       "      <td>..</td>\n",
       "      <td>..</td>\n",
       "      <td>..</td>\n",
       "    </tr>\n",
       "  </tbody>\n",
       "</table>\n",
       "</div>"
      ],
      "text/plain": [
       "                                     Country Name Country Code  \\\n",
       "Series Name                                                      \n",
       "Age at first marriage, female           Argentina          ARG   \n",
       "Age at first marriage, female           Australia          AUS   \n",
       "Age at first marriage, female              Brazil          BRA   \n",
       "Age at first marriage, female              Canada          CAN   \n",
       "Age at first marriage, female               China          CHN   \n",
       "Age at first marriage, female              France          FRA   \n",
       "Age at first marriage, female             Germany          DEU   \n",
       "Age at first marriage, female               India          IND   \n",
       "Age at first marriage, female           Indonesia          IDN   \n",
       "Age at first marriage, female               Italy          ITA   \n",
       "Age at first marriage, female               Japan          JPN   \n",
       "Age at first marriage, female              Mexico          MEX   \n",
       "Age at first marriage, female         Korea, Rep.          KOR   \n",
       "Age at first marriage, female  Russian Federation          RUS   \n",
       "Age at first marriage, female        Saudi Arabia          SAU   \n",
       "Age at first marriage, female           Singapore          SGP   \n",
       "Age at first marriage, female        South Africa          ZAF   \n",
       "Age at first marriage, female              Turkey          TUR   \n",
       "Age at first marriage, female       United States          USA   \n",
       "Age at first marriage, female      United Kingdom          GBR   \n",
       "Age at first marriage, female      European Union          EUU   \n",
       "Age at first marriage, male             Argentina          ARG   \n",
       "Age at first marriage, male             Australia          AUS   \n",
       "Age at first marriage, male                Brazil          BRA   \n",
       "Age at first marriage, male                Canada          CAN   \n",
       "Age at first marriage, male                 China          CHN   \n",
       "Age at first marriage, male                France          FRA   \n",
       "Age at first marriage, male               Germany          DEU   \n",
       "Age at first marriage, male                 India          IND   \n",
       "Age at first marriage, male             Indonesia          IDN   \n",
       "Age at first marriage, male                 Italy          ITA   \n",
       "Age at first marriage, male                 Japan          JPN   \n",
       "Age at first marriage, male                Mexico          MEX   \n",
       "Age at first marriage, male           Korea, Rep.          KOR   \n",
       "Age at first marriage, male    Russian Federation          RUS   \n",
       "Age at first marriage, male          Saudi Arabia          SAU   \n",
       "Age at first marriage, male             Singapore          SGP   \n",
       "Age at first marriage, male          South Africa          ZAF   \n",
       "Age at first marriage, male                Turkey          TUR   \n",
       "Age at first marriage, male         United States          USA   \n",
       "Age at first marriage, male        United Kingdom          GBR   \n",
       "Age at first marriage, male        European Union          EUU   \n",
       "\n",
       "                                  Series Code     2018 [YR2018] 2019 [YR2019]  \\\n",
       "Series Name                                                                     \n",
       "Age at first marriage, female  SP.DYN.SMAM.FE                ..            ..   \n",
       "Age at first marriage, female  SP.DYN.SMAM.FE                ..            ..   \n",
       "Age at first marriage, female  SP.DYN.SMAM.FE                ..            ..   \n",
       "Age at first marriage, female  SP.DYN.SMAM.FE                ..            ..   \n",
       "Age at first marriage, female  SP.DYN.SMAM.FE                ..            ..   \n",
       "Age at first marriage, female  SP.DYN.SMAM.FE                ..            ..   \n",
       "Age at first marriage, female  SP.DYN.SMAM.FE              31.7            ..   \n",
       "Age at first marriage, female  SP.DYN.SMAM.FE                ..            ..   \n",
       "Age at first marriage, female  SP.DYN.SMAM.FE                ..            ..   \n",
       "Age at first marriage, female  SP.DYN.SMAM.FE              32.2            ..   \n",
       "Age at first marriage, female  SP.DYN.SMAM.FE                ..            ..   \n",
       "Age at first marriage, female  SP.DYN.SMAM.FE              23.2          23.2   \n",
       "Age at first marriage, female  SP.DYN.SMAM.FE                ..            ..   \n",
       "Age at first marriage, female  SP.DYN.SMAM.FE                ..            ..   \n",
       "Age at first marriage, female  SP.DYN.SMAM.FE                ..            ..   \n",
       "Age at first marriage, female  SP.DYN.SMAM.FE                ..            ..   \n",
       "Age at first marriage, female  SP.DYN.SMAM.FE                ..            ..   \n",
       "Age at first marriage, female  SP.DYN.SMAM.FE                ..            ..   \n",
       "Age at first marriage, female  SP.DYN.SMAM.FE                ..            ..   \n",
       "Age at first marriage, female  SP.DYN.SMAM.FE                ..            ..   \n",
       "Age at first marriage, female  SP.DYN.SMAM.FE                ..            ..   \n",
       "Age at first marriage, male    SP.DYN.SMAM.MA                ..            ..   \n",
       "Age at first marriage, male    SP.DYN.SMAM.MA                ..            ..   \n",
       "Age at first marriage, male    SP.DYN.SMAM.MA                ..            ..   \n",
       "Age at first marriage, male    SP.DYN.SMAM.MA                ..            ..   \n",
       "Age at first marriage, male    SP.DYN.SMAM.MA                ..            ..   \n",
       "Age at first marriage, male    SP.DYN.SMAM.MA                ..            ..   \n",
       "Age at first marriage, male    SP.DYN.SMAM.MA              33.9            ..   \n",
       "Age at first marriage, male    SP.DYN.SMAM.MA                ..            ..   \n",
       "Age at first marriage, male    SP.DYN.SMAM.MA                ..            ..   \n",
       "Age at first marriage, male    SP.DYN.SMAM.MA  35.2999999999999            ..   \n",
       "Age at first marriage, male    SP.DYN.SMAM.MA                ..            ..   \n",
       "Age at first marriage, male    SP.DYN.SMAM.MA              25.9          25.9   \n",
       "Age at first marriage, male    SP.DYN.SMAM.MA                ..            ..   \n",
       "Age at first marriage, male    SP.DYN.SMAM.MA                ..            ..   \n",
       "Age at first marriage, male    SP.DYN.SMAM.MA                ..            ..   \n",
       "Age at first marriage, male    SP.DYN.SMAM.MA                ..            ..   \n",
       "Age at first marriage, male    SP.DYN.SMAM.MA                ..            ..   \n",
       "Age at first marriage, male    SP.DYN.SMAM.MA                ..            ..   \n",
       "Age at first marriage, male    SP.DYN.SMAM.MA                ..            ..   \n",
       "Age at first marriage, male    SP.DYN.SMAM.MA                ..            ..   \n",
       "Age at first marriage, male    SP.DYN.SMAM.MA                ..            ..   \n",
       "\n",
       "                              2020 [YR2020]  \n",
       "Series Name                                  \n",
       "Age at first marriage, female            ..  \n",
       "Age at first marriage, female            ..  \n",
       "Age at first marriage, female            ..  \n",
       "Age at first marriage, female            ..  \n",
       "Age at first marriage, female            ..  \n",
       "Age at first marriage, female            ..  \n",
       "Age at first marriage, female            ..  \n",
       "Age at first marriage, female            ..  \n",
       "Age at first marriage, female            ..  \n",
       "Age at first marriage, female            ..  \n",
       "Age at first marriage, female            ..  \n",
       "Age at first marriage, female            ..  \n",
       "Age at first marriage, female            ..  \n",
       "Age at first marriage, female            ..  \n",
       "Age at first marriage, female            ..  \n",
       "Age at first marriage, female            ..  \n",
       "Age at first marriage, female            ..  \n",
       "Age at first marriage, female            ..  \n",
       "Age at first marriage, female            ..  \n",
       "Age at first marriage, female            ..  \n",
       "Age at first marriage, female            ..  \n",
       "Age at first marriage, male              ..  \n",
       "Age at first marriage, male              ..  \n",
       "Age at first marriage, male              ..  \n",
       "Age at first marriage, male              ..  \n",
       "Age at first marriage, male              ..  \n",
       "Age at first marriage, male              ..  \n",
       "Age at first marriage, male              ..  \n",
       "Age at first marriage, male              ..  \n",
       "Age at first marriage, male              ..  \n",
       "Age at first marriage, male              ..  \n",
       "Age at first marriage, male              ..  \n",
       "Age at first marriage, male              ..  \n",
       "Age at first marriage, male              ..  \n",
       "Age at first marriage, male              ..  \n",
       "Age at first marriage, male              ..  \n",
       "Age at first marriage, male              ..  \n",
       "Age at first marriage, male              ..  \n",
       "Age at first marriage, male              ..  \n",
       "Age at first marriage, male              ..  \n",
       "Age at first marriage, male              ..  \n",
       "Age at first marriage, male              ..  "
      ]
     },
     "execution_count": 24,
     "metadata": {},
     "output_type": "execute_result"
    }
   ],
   "source": [
    "gs.loc[['Age at first marriage, female','Age at first marriage, male']] #not sufficient information available in the dataset"
   ]
  },
  {
   "cell_type": "code",
   "execution_count": 25,
   "metadata": {},
   "outputs": [
    {
     "data": {
      "text/html": [
       "<div>\n",
       "<style scoped>\n",
       "    .dataframe tbody tr th:only-of-type {\n",
       "        vertical-align: middle;\n",
       "    }\n",
       "\n",
       "    .dataframe tbody tr th {\n",
       "        vertical-align: top;\n",
       "    }\n",
       "\n",
       "    .dataframe thead th {\n",
       "        text-align: right;\n",
       "    }\n",
       "</style>\n",
       "<table border=\"1\" class=\"dataframe\">\n",
       "  <thead>\n",
       "    <tr style=\"text-align: right;\">\n",
       "      <th></th>\n",
       "      <th>Country Name</th>\n",
       "      <th>Country Code</th>\n",
       "      <th>Series Code</th>\n",
       "      <th>2018 [YR2018]</th>\n",
       "      <th>2019 [YR2019]</th>\n",
       "      <th>2020 [YR2020]</th>\n",
       "    </tr>\n",
       "    <tr>\n",
       "      <th>Series Name</th>\n",
       "      <th></th>\n",
       "      <th></th>\n",
       "      <th></th>\n",
       "      <th></th>\n",
       "      <th></th>\n",
       "      <th></th>\n",
       "    </tr>\n",
       "  </thead>\n",
       "  <tbody>\n",
       "    <tr>\n",
       "      <th>Children in employment, female (% of female children ages 7-14)</th>\n",
       "      <td>Argentina</td>\n",
       "      <td>ARG</td>\n",
       "      <td>SL.TLF.0714.FE.ZS</td>\n",
       "      <td>..</td>\n",
       "      <td>..</td>\n",
       "      <td>..</td>\n",
       "    </tr>\n",
       "    <tr>\n",
       "      <th>Children in employment, female (% of female children ages 7-14)</th>\n",
       "      <td>Australia</td>\n",
       "      <td>AUS</td>\n",
       "      <td>SL.TLF.0714.FE.ZS</td>\n",
       "      <td>..</td>\n",
       "      <td>..</td>\n",
       "      <td>..</td>\n",
       "    </tr>\n",
       "    <tr>\n",
       "      <th>Children in employment, female (% of female children ages 7-14)</th>\n",
       "      <td>Brazil</td>\n",
       "      <td>BRA</td>\n",
       "      <td>SL.TLF.0714.FE.ZS</td>\n",
       "      <td>..</td>\n",
       "      <td>..</td>\n",
       "      <td>..</td>\n",
       "    </tr>\n",
       "    <tr>\n",
       "      <th>Children in employment, female (% of female children ages 7-14)</th>\n",
       "      <td>Canada</td>\n",
       "      <td>CAN</td>\n",
       "      <td>SL.TLF.0714.FE.ZS</td>\n",
       "      <td>..</td>\n",
       "      <td>..</td>\n",
       "      <td>..</td>\n",
       "    </tr>\n",
       "    <tr>\n",
       "      <th>Children in employment, female (% of female children ages 7-14)</th>\n",
       "      <td>China</td>\n",
       "      <td>CHN</td>\n",
       "      <td>SL.TLF.0714.FE.ZS</td>\n",
       "      <td>..</td>\n",
       "      <td>..</td>\n",
       "      <td>..</td>\n",
       "    </tr>\n",
       "    <tr>\n",
       "      <th>Children in employment, female (% of female children ages 7-14)</th>\n",
       "      <td>France</td>\n",
       "      <td>FRA</td>\n",
       "      <td>SL.TLF.0714.FE.ZS</td>\n",
       "      <td>..</td>\n",
       "      <td>..</td>\n",
       "      <td>..</td>\n",
       "    </tr>\n",
       "    <tr>\n",
       "      <th>Children in employment, female (% of female children ages 7-14)</th>\n",
       "      <td>Germany</td>\n",
       "      <td>DEU</td>\n",
       "      <td>SL.TLF.0714.FE.ZS</td>\n",
       "      <td>..</td>\n",
       "      <td>..</td>\n",
       "      <td>..</td>\n",
       "    </tr>\n",
       "    <tr>\n",
       "      <th>Children in employment, female (% of female children ages 7-14)</th>\n",
       "      <td>India</td>\n",
       "      <td>IND</td>\n",
       "      <td>SL.TLF.0714.FE.ZS</td>\n",
       "      <td>..</td>\n",
       "      <td>..</td>\n",
       "      <td>..</td>\n",
       "    </tr>\n",
       "    <tr>\n",
       "      <th>Children in employment, female (% of female children ages 7-14)</th>\n",
       "      <td>Indonesia</td>\n",
       "      <td>IDN</td>\n",
       "      <td>SL.TLF.0714.FE.ZS</td>\n",
       "      <td>..</td>\n",
       "      <td>..</td>\n",
       "      <td>..</td>\n",
       "    </tr>\n",
       "    <tr>\n",
       "      <th>Children in employment, female (% of female children ages 7-14)</th>\n",
       "      <td>Italy</td>\n",
       "      <td>ITA</td>\n",
       "      <td>SL.TLF.0714.FE.ZS</td>\n",
       "      <td>..</td>\n",
       "      <td>..</td>\n",
       "      <td>..</td>\n",
       "    </tr>\n",
       "    <tr>\n",
       "      <th>Children in employment, female (% of female children ages 7-14)</th>\n",
       "      <td>Japan</td>\n",
       "      <td>JPN</td>\n",
       "      <td>SL.TLF.0714.FE.ZS</td>\n",
       "      <td>..</td>\n",
       "      <td>..</td>\n",
       "      <td>..</td>\n",
       "    </tr>\n",
       "    <tr>\n",
       "      <th>Children in employment, female (% of female children ages 7-14)</th>\n",
       "      <td>Mexico</td>\n",
       "      <td>MEX</td>\n",
       "      <td>SL.TLF.0714.FE.ZS</td>\n",
       "      <td>..</td>\n",
       "      <td>..</td>\n",
       "      <td>..</td>\n",
       "    </tr>\n",
       "    <tr>\n",
       "      <th>Children in employment, female (% of female children ages 7-14)</th>\n",
       "      <td>Korea, Rep.</td>\n",
       "      <td>KOR</td>\n",
       "      <td>SL.TLF.0714.FE.ZS</td>\n",
       "      <td>..</td>\n",
       "      <td>..</td>\n",
       "      <td>..</td>\n",
       "    </tr>\n",
       "    <tr>\n",
       "      <th>Children in employment, female (% of female children ages 7-14)</th>\n",
       "      <td>Russian Federation</td>\n",
       "      <td>RUS</td>\n",
       "      <td>SL.TLF.0714.FE.ZS</td>\n",
       "      <td>..</td>\n",
       "      <td>..</td>\n",
       "      <td>..</td>\n",
       "    </tr>\n",
       "    <tr>\n",
       "      <th>Children in employment, female (% of female children ages 7-14)</th>\n",
       "      <td>Saudi Arabia</td>\n",
       "      <td>SAU</td>\n",
       "      <td>SL.TLF.0714.FE.ZS</td>\n",
       "      <td>..</td>\n",
       "      <td>..</td>\n",
       "      <td>..</td>\n",
       "    </tr>\n",
       "    <tr>\n",
       "      <th>Children in employment, female (% of female children ages 7-14)</th>\n",
       "      <td>Singapore</td>\n",
       "      <td>SGP</td>\n",
       "      <td>SL.TLF.0714.FE.ZS</td>\n",
       "      <td>..</td>\n",
       "      <td>..</td>\n",
       "      <td>..</td>\n",
       "    </tr>\n",
       "    <tr>\n",
       "      <th>Children in employment, female (% of female children ages 7-14)</th>\n",
       "      <td>South Africa</td>\n",
       "      <td>ZAF</td>\n",
       "      <td>SL.TLF.0714.FE.ZS</td>\n",
       "      <td>..</td>\n",
       "      <td>..</td>\n",
       "      <td>..</td>\n",
       "    </tr>\n",
       "    <tr>\n",
       "      <th>Children in employment, female (% of female children ages 7-14)</th>\n",
       "      <td>Turkey</td>\n",
       "      <td>TUR</td>\n",
       "      <td>SL.TLF.0714.FE.ZS</td>\n",
       "      <td>..</td>\n",
       "      <td>..</td>\n",
       "      <td>..</td>\n",
       "    </tr>\n",
       "    <tr>\n",
       "      <th>Children in employment, female (% of female children ages 7-14)</th>\n",
       "      <td>United States</td>\n",
       "      <td>USA</td>\n",
       "      <td>SL.TLF.0714.FE.ZS</td>\n",
       "      <td>..</td>\n",
       "      <td>..</td>\n",
       "      <td>..</td>\n",
       "    </tr>\n",
       "    <tr>\n",
       "      <th>Children in employment, female (% of female children ages 7-14)</th>\n",
       "      <td>United Kingdom</td>\n",
       "      <td>GBR</td>\n",
       "      <td>SL.TLF.0714.FE.ZS</td>\n",
       "      <td>..</td>\n",
       "      <td>..</td>\n",
       "      <td>..</td>\n",
       "    </tr>\n",
       "    <tr>\n",
       "      <th>Children in employment, female (% of female children ages 7-14)</th>\n",
       "      <td>European Union</td>\n",
       "      <td>EUU</td>\n",
       "      <td>SL.TLF.0714.FE.ZS</td>\n",
       "      <td>..</td>\n",
       "      <td>..</td>\n",
       "      <td>..</td>\n",
       "    </tr>\n",
       "    <tr>\n",
       "      <th>Children in employment, male (% of male children ages 7-14)</th>\n",
       "      <td>Argentina</td>\n",
       "      <td>ARG</td>\n",
       "      <td>SL.TLF.0714.MA.ZS</td>\n",
       "      <td>..</td>\n",
       "      <td>..</td>\n",
       "      <td>..</td>\n",
       "    </tr>\n",
       "    <tr>\n",
       "      <th>Children in employment, male (% of male children ages 7-14)</th>\n",
       "      <td>Australia</td>\n",
       "      <td>AUS</td>\n",
       "      <td>SL.TLF.0714.MA.ZS</td>\n",
       "      <td>..</td>\n",
       "      <td>..</td>\n",
       "      <td>..</td>\n",
       "    </tr>\n",
       "    <tr>\n",
       "      <th>Children in employment, male (% of male children ages 7-14)</th>\n",
       "      <td>Brazil</td>\n",
       "      <td>BRA</td>\n",
       "      <td>SL.TLF.0714.MA.ZS</td>\n",
       "      <td>..</td>\n",
       "      <td>..</td>\n",
       "      <td>..</td>\n",
       "    </tr>\n",
       "    <tr>\n",
       "      <th>Children in employment, male (% of male children ages 7-14)</th>\n",
       "      <td>Canada</td>\n",
       "      <td>CAN</td>\n",
       "      <td>SL.TLF.0714.MA.ZS</td>\n",
       "      <td>..</td>\n",
       "      <td>..</td>\n",
       "      <td>..</td>\n",
       "    </tr>\n",
       "    <tr>\n",
       "      <th>Children in employment, male (% of male children ages 7-14)</th>\n",
       "      <td>China</td>\n",
       "      <td>CHN</td>\n",
       "      <td>SL.TLF.0714.MA.ZS</td>\n",
       "      <td>..</td>\n",
       "      <td>..</td>\n",
       "      <td>..</td>\n",
       "    </tr>\n",
       "    <tr>\n",
       "      <th>Children in employment, male (% of male children ages 7-14)</th>\n",
       "      <td>France</td>\n",
       "      <td>FRA</td>\n",
       "      <td>SL.TLF.0714.MA.ZS</td>\n",
       "      <td>..</td>\n",
       "      <td>..</td>\n",
       "      <td>..</td>\n",
       "    </tr>\n",
       "    <tr>\n",
       "      <th>Children in employment, male (% of male children ages 7-14)</th>\n",
       "      <td>Germany</td>\n",
       "      <td>DEU</td>\n",
       "      <td>SL.TLF.0714.MA.ZS</td>\n",
       "      <td>..</td>\n",
       "      <td>..</td>\n",
       "      <td>..</td>\n",
       "    </tr>\n",
       "    <tr>\n",
       "      <th>Children in employment, male (% of male children ages 7-14)</th>\n",
       "      <td>India</td>\n",
       "      <td>IND</td>\n",
       "      <td>SL.TLF.0714.MA.ZS</td>\n",
       "      <td>..</td>\n",
       "      <td>..</td>\n",
       "      <td>..</td>\n",
       "    </tr>\n",
       "    <tr>\n",
       "      <th>Children in employment, male (% of male children ages 7-14)</th>\n",
       "      <td>Indonesia</td>\n",
       "      <td>IDN</td>\n",
       "      <td>SL.TLF.0714.MA.ZS</td>\n",
       "      <td>..</td>\n",
       "      <td>..</td>\n",
       "      <td>..</td>\n",
       "    </tr>\n",
       "    <tr>\n",
       "      <th>Children in employment, male (% of male children ages 7-14)</th>\n",
       "      <td>Italy</td>\n",
       "      <td>ITA</td>\n",
       "      <td>SL.TLF.0714.MA.ZS</td>\n",
       "      <td>..</td>\n",
       "      <td>..</td>\n",
       "      <td>..</td>\n",
       "    </tr>\n",
       "    <tr>\n",
       "      <th>Children in employment, male (% of male children ages 7-14)</th>\n",
       "      <td>Japan</td>\n",
       "      <td>JPN</td>\n",
       "      <td>SL.TLF.0714.MA.ZS</td>\n",
       "      <td>..</td>\n",
       "      <td>..</td>\n",
       "      <td>..</td>\n",
       "    </tr>\n",
       "    <tr>\n",
       "      <th>Children in employment, male (% of male children ages 7-14)</th>\n",
       "      <td>Mexico</td>\n",
       "      <td>MEX</td>\n",
       "      <td>SL.TLF.0714.MA.ZS</td>\n",
       "      <td>..</td>\n",
       "      <td>..</td>\n",
       "      <td>..</td>\n",
       "    </tr>\n",
       "    <tr>\n",
       "      <th>Children in employment, male (% of male children ages 7-14)</th>\n",
       "      <td>Korea, Rep.</td>\n",
       "      <td>KOR</td>\n",
       "      <td>SL.TLF.0714.MA.ZS</td>\n",
       "      <td>..</td>\n",
       "      <td>..</td>\n",
       "      <td>..</td>\n",
       "    </tr>\n",
       "    <tr>\n",
       "      <th>Children in employment, male (% of male children ages 7-14)</th>\n",
       "      <td>Russian Federation</td>\n",
       "      <td>RUS</td>\n",
       "      <td>SL.TLF.0714.MA.ZS</td>\n",
       "      <td>..</td>\n",
       "      <td>..</td>\n",
       "      <td>..</td>\n",
       "    </tr>\n",
       "    <tr>\n",
       "      <th>Children in employment, male (% of male children ages 7-14)</th>\n",
       "      <td>Saudi Arabia</td>\n",
       "      <td>SAU</td>\n",
       "      <td>SL.TLF.0714.MA.ZS</td>\n",
       "      <td>..</td>\n",
       "      <td>..</td>\n",
       "      <td>..</td>\n",
       "    </tr>\n",
       "    <tr>\n",
       "      <th>Children in employment, male (% of male children ages 7-14)</th>\n",
       "      <td>Singapore</td>\n",
       "      <td>SGP</td>\n",
       "      <td>SL.TLF.0714.MA.ZS</td>\n",
       "      <td>..</td>\n",
       "      <td>..</td>\n",
       "      <td>..</td>\n",
       "    </tr>\n",
       "    <tr>\n",
       "      <th>Children in employment, male (% of male children ages 7-14)</th>\n",
       "      <td>South Africa</td>\n",
       "      <td>ZAF</td>\n",
       "      <td>SL.TLF.0714.MA.ZS</td>\n",
       "      <td>..</td>\n",
       "      <td>..</td>\n",
       "      <td>..</td>\n",
       "    </tr>\n",
       "    <tr>\n",
       "      <th>Children in employment, male (% of male children ages 7-14)</th>\n",
       "      <td>Turkey</td>\n",
       "      <td>TUR</td>\n",
       "      <td>SL.TLF.0714.MA.ZS</td>\n",
       "      <td>..</td>\n",
       "      <td>..</td>\n",
       "      <td>..</td>\n",
       "    </tr>\n",
       "    <tr>\n",
       "      <th>Children in employment, male (% of male children ages 7-14)</th>\n",
       "      <td>United States</td>\n",
       "      <td>USA</td>\n",
       "      <td>SL.TLF.0714.MA.ZS</td>\n",
       "      <td>..</td>\n",
       "      <td>..</td>\n",
       "      <td>..</td>\n",
       "    </tr>\n",
       "    <tr>\n",
       "      <th>Children in employment, male (% of male children ages 7-14)</th>\n",
       "      <td>United Kingdom</td>\n",
       "      <td>GBR</td>\n",
       "      <td>SL.TLF.0714.MA.ZS</td>\n",
       "      <td>..</td>\n",
       "      <td>..</td>\n",
       "      <td>..</td>\n",
       "    </tr>\n",
       "    <tr>\n",
       "      <th>Children in employment, male (% of male children ages 7-14)</th>\n",
       "      <td>European Union</td>\n",
       "      <td>EUU</td>\n",
       "      <td>SL.TLF.0714.MA.ZS</td>\n",
       "      <td>..</td>\n",
       "      <td>..</td>\n",
       "      <td>..</td>\n",
       "    </tr>\n",
       "  </tbody>\n",
       "</table>\n",
       "</div>"
      ],
      "text/plain": [
       "                                                          Country Name  \\\n",
       "Series Name                                                              \n",
       "Children in employment, female (% of female chi...           Argentina   \n",
       "Children in employment, female (% of female chi...           Australia   \n",
       "Children in employment, female (% of female chi...              Brazil   \n",
       "Children in employment, female (% of female chi...              Canada   \n",
       "Children in employment, female (% of female chi...               China   \n",
       "Children in employment, female (% of female chi...              France   \n",
       "Children in employment, female (% of female chi...             Germany   \n",
       "Children in employment, female (% of female chi...               India   \n",
       "Children in employment, female (% of female chi...           Indonesia   \n",
       "Children in employment, female (% of female chi...               Italy   \n",
       "Children in employment, female (% of female chi...               Japan   \n",
       "Children in employment, female (% of female chi...              Mexico   \n",
       "Children in employment, female (% of female chi...         Korea, Rep.   \n",
       "Children in employment, female (% of female chi...  Russian Federation   \n",
       "Children in employment, female (% of female chi...        Saudi Arabia   \n",
       "Children in employment, female (% of female chi...           Singapore   \n",
       "Children in employment, female (% of female chi...        South Africa   \n",
       "Children in employment, female (% of female chi...              Turkey   \n",
       "Children in employment, female (% of female chi...       United States   \n",
       "Children in employment, female (% of female chi...      United Kingdom   \n",
       "Children in employment, female (% of female chi...      European Union   \n",
       "Children in employment, male (% of male childre...           Argentina   \n",
       "Children in employment, male (% of male childre...           Australia   \n",
       "Children in employment, male (% of male childre...              Brazil   \n",
       "Children in employment, male (% of male childre...              Canada   \n",
       "Children in employment, male (% of male childre...               China   \n",
       "Children in employment, male (% of male childre...              France   \n",
       "Children in employment, male (% of male childre...             Germany   \n",
       "Children in employment, male (% of male childre...               India   \n",
       "Children in employment, male (% of male childre...           Indonesia   \n",
       "Children in employment, male (% of male childre...               Italy   \n",
       "Children in employment, male (% of male childre...               Japan   \n",
       "Children in employment, male (% of male childre...              Mexico   \n",
       "Children in employment, male (% of male childre...         Korea, Rep.   \n",
       "Children in employment, male (% of male childre...  Russian Federation   \n",
       "Children in employment, male (% of male childre...        Saudi Arabia   \n",
       "Children in employment, male (% of male childre...           Singapore   \n",
       "Children in employment, male (% of male childre...        South Africa   \n",
       "Children in employment, male (% of male childre...              Turkey   \n",
       "Children in employment, male (% of male childre...       United States   \n",
       "Children in employment, male (% of male childre...      United Kingdom   \n",
       "Children in employment, male (% of male childre...      European Union   \n",
       "\n",
       "                                                   Country Code  \\\n",
       "Series Name                                                       \n",
       "Children in employment, female (% of female chi...          ARG   \n",
       "Children in employment, female (% of female chi...          AUS   \n",
       "Children in employment, female (% of female chi...          BRA   \n",
       "Children in employment, female (% of female chi...          CAN   \n",
       "Children in employment, female (% of female chi...          CHN   \n",
       "Children in employment, female (% of female chi...          FRA   \n",
       "Children in employment, female (% of female chi...          DEU   \n",
       "Children in employment, female (% of female chi...          IND   \n",
       "Children in employment, female (% of female chi...          IDN   \n",
       "Children in employment, female (% of female chi...          ITA   \n",
       "Children in employment, female (% of female chi...          JPN   \n",
       "Children in employment, female (% of female chi...          MEX   \n",
       "Children in employment, female (% of female chi...          KOR   \n",
       "Children in employment, female (% of female chi...          RUS   \n",
       "Children in employment, female (% of female chi...          SAU   \n",
       "Children in employment, female (% of female chi...          SGP   \n",
       "Children in employment, female (% of female chi...          ZAF   \n",
       "Children in employment, female (% of female chi...          TUR   \n",
       "Children in employment, female (% of female chi...          USA   \n",
       "Children in employment, female (% of female chi...          GBR   \n",
       "Children in employment, female (% of female chi...          EUU   \n",
       "Children in employment, male (% of male childre...          ARG   \n",
       "Children in employment, male (% of male childre...          AUS   \n",
       "Children in employment, male (% of male childre...          BRA   \n",
       "Children in employment, male (% of male childre...          CAN   \n",
       "Children in employment, male (% of male childre...          CHN   \n",
       "Children in employment, male (% of male childre...          FRA   \n",
       "Children in employment, male (% of male childre...          DEU   \n",
       "Children in employment, male (% of male childre...          IND   \n",
       "Children in employment, male (% of male childre...          IDN   \n",
       "Children in employment, male (% of male childre...          ITA   \n",
       "Children in employment, male (% of male childre...          JPN   \n",
       "Children in employment, male (% of male childre...          MEX   \n",
       "Children in employment, male (% of male childre...          KOR   \n",
       "Children in employment, male (% of male childre...          RUS   \n",
       "Children in employment, male (% of male childre...          SAU   \n",
       "Children in employment, male (% of male childre...          SGP   \n",
       "Children in employment, male (% of male childre...          ZAF   \n",
       "Children in employment, male (% of male childre...          TUR   \n",
       "Children in employment, male (% of male childre...          USA   \n",
       "Children in employment, male (% of male childre...          GBR   \n",
       "Children in employment, male (% of male childre...          EUU   \n",
       "\n",
       "                                                          Series Code  \\\n",
       "Series Name                                                             \n",
       "Children in employment, female (% of female chi...  SL.TLF.0714.FE.ZS   \n",
       "Children in employment, female (% of female chi...  SL.TLF.0714.FE.ZS   \n",
       "Children in employment, female (% of female chi...  SL.TLF.0714.FE.ZS   \n",
       "Children in employment, female (% of female chi...  SL.TLF.0714.FE.ZS   \n",
       "Children in employment, female (% of female chi...  SL.TLF.0714.FE.ZS   \n",
       "Children in employment, female (% of female chi...  SL.TLF.0714.FE.ZS   \n",
       "Children in employment, female (% of female chi...  SL.TLF.0714.FE.ZS   \n",
       "Children in employment, female (% of female chi...  SL.TLF.0714.FE.ZS   \n",
       "Children in employment, female (% of female chi...  SL.TLF.0714.FE.ZS   \n",
       "Children in employment, female (% of female chi...  SL.TLF.0714.FE.ZS   \n",
       "Children in employment, female (% of female chi...  SL.TLF.0714.FE.ZS   \n",
       "Children in employment, female (% of female chi...  SL.TLF.0714.FE.ZS   \n",
       "Children in employment, female (% of female chi...  SL.TLF.0714.FE.ZS   \n",
       "Children in employment, female (% of female chi...  SL.TLF.0714.FE.ZS   \n",
       "Children in employment, female (% of female chi...  SL.TLF.0714.FE.ZS   \n",
       "Children in employment, female (% of female chi...  SL.TLF.0714.FE.ZS   \n",
       "Children in employment, female (% of female chi...  SL.TLF.0714.FE.ZS   \n",
       "Children in employment, female (% of female chi...  SL.TLF.0714.FE.ZS   \n",
       "Children in employment, female (% of female chi...  SL.TLF.0714.FE.ZS   \n",
       "Children in employment, female (% of female chi...  SL.TLF.0714.FE.ZS   \n",
       "Children in employment, female (% of female chi...  SL.TLF.0714.FE.ZS   \n",
       "Children in employment, male (% of male childre...  SL.TLF.0714.MA.ZS   \n",
       "Children in employment, male (% of male childre...  SL.TLF.0714.MA.ZS   \n",
       "Children in employment, male (% of male childre...  SL.TLF.0714.MA.ZS   \n",
       "Children in employment, male (% of male childre...  SL.TLF.0714.MA.ZS   \n",
       "Children in employment, male (% of male childre...  SL.TLF.0714.MA.ZS   \n",
       "Children in employment, male (% of male childre...  SL.TLF.0714.MA.ZS   \n",
       "Children in employment, male (% of male childre...  SL.TLF.0714.MA.ZS   \n",
       "Children in employment, male (% of male childre...  SL.TLF.0714.MA.ZS   \n",
       "Children in employment, male (% of male childre...  SL.TLF.0714.MA.ZS   \n",
       "Children in employment, male (% of male childre...  SL.TLF.0714.MA.ZS   \n",
       "Children in employment, male (% of male childre...  SL.TLF.0714.MA.ZS   \n",
       "Children in employment, male (% of male childre...  SL.TLF.0714.MA.ZS   \n",
       "Children in employment, male (% of male childre...  SL.TLF.0714.MA.ZS   \n",
       "Children in employment, male (% of male childre...  SL.TLF.0714.MA.ZS   \n",
       "Children in employment, male (% of male childre...  SL.TLF.0714.MA.ZS   \n",
       "Children in employment, male (% of male childre...  SL.TLF.0714.MA.ZS   \n",
       "Children in employment, male (% of male childre...  SL.TLF.0714.MA.ZS   \n",
       "Children in employment, male (% of male childre...  SL.TLF.0714.MA.ZS   \n",
       "Children in employment, male (% of male childre...  SL.TLF.0714.MA.ZS   \n",
       "Children in employment, male (% of male childre...  SL.TLF.0714.MA.ZS   \n",
       "Children in employment, male (% of male childre...  SL.TLF.0714.MA.ZS   \n",
       "\n",
       "                                                   2018 [YR2018]  \\\n",
       "Series Name                                                        \n",
       "Children in employment, female (% of female chi...            ..   \n",
       "Children in employment, female (% of female chi...            ..   \n",
       "Children in employment, female (% of female chi...            ..   \n",
       "Children in employment, female (% of female chi...            ..   \n",
       "Children in employment, female (% of female chi...            ..   \n",
       "Children in employment, female (% of female chi...            ..   \n",
       "Children in employment, female (% of female chi...            ..   \n",
       "Children in employment, female (% of female chi...            ..   \n",
       "Children in employment, female (% of female chi...            ..   \n",
       "Children in employment, female (% of female chi...            ..   \n",
       "Children in employment, female (% of female chi...            ..   \n",
       "Children in employment, female (% of female chi...            ..   \n",
       "Children in employment, female (% of female chi...            ..   \n",
       "Children in employment, female (% of female chi...            ..   \n",
       "Children in employment, female (% of female chi...            ..   \n",
       "Children in employment, female (% of female chi...            ..   \n",
       "Children in employment, female (% of female chi...            ..   \n",
       "Children in employment, female (% of female chi...            ..   \n",
       "Children in employment, female (% of female chi...            ..   \n",
       "Children in employment, female (% of female chi...            ..   \n",
       "Children in employment, female (% of female chi...            ..   \n",
       "Children in employment, male (% of male childre...            ..   \n",
       "Children in employment, male (% of male childre...            ..   \n",
       "Children in employment, male (% of male childre...            ..   \n",
       "Children in employment, male (% of male childre...            ..   \n",
       "Children in employment, male (% of male childre...            ..   \n",
       "Children in employment, male (% of male childre...            ..   \n",
       "Children in employment, male (% of male childre...            ..   \n",
       "Children in employment, male (% of male childre...            ..   \n",
       "Children in employment, male (% of male childre...            ..   \n",
       "Children in employment, male (% of male childre...            ..   \n",
       "Children in employment, male (% of male childre...            ..   \n",
       "Children in employment, male (% of male childre...            ..   \n",
       "Children in employment, male (% of male childre...            ..   \n",
       "Children in employment, male (% of male childre...            ..   \n",
       "Children in employment, male (% of male childre...            ..   \n",
       "Children in employment, male (% of male childre...            ..   \n",
       "Children in employment, male (% of male childre...            ..   \n",
       "Children in employment, male (% of male childre...            ..   \n",
       "Children in employment, male (% of male childre...            ..   \n",
       "Children in employment, male (% of male childre...            ..   \n",
       "Children in employment, male (% of male childre...            ..   \n",
       "\n",
       "                                                   2019 [YR2019] 2020 [YR2020]  \n",
       "Series Name                                                                     \n",
       "Children in employment, female (% of female chi...            ..            ..  \n",
       "Children in employment, female (% of female chi...            ..            ..  \n",
       "Children in employment, female (% of female chi...            ..            ..  \n",
       "Children in employment, female (% of female chi...            ..            ..  \n",
       "Children in employment, female (% of female chi...            ..            ..  \n",
       "Children in employment, female (% of female chi...            ..            ..  \n",
       "Children in employment, female (% of female chi...            ..            ..  \n",
       "Children in employment, female (% of female chi...            ..            ..  \n",
       "Children in employment, female (% of female chi...            ..            ..  \n",
       "Children in employment, female (% of female chi...            ..            ..  \n",
       "Children in employment, female (% of female chi...            ..            ..  \n",
       "Children in employment, female (% of female chi...            ..            ..  \n",
       "Children in employment, female (% of female chi...            ..            ..  \n",
       "Children in employment, female (% of female chi...            ..            ..  \n",
       "Children in employment, female (% of female chi...            ..            ..  \n",
       "Children in employment, female (% of female chi...            ..            ..  \n",
       "Children in employment, female (% of female chi...            ..            ..  \n",
       "Children in employment, female (% of female chi...            ..            ..  \n",
       "Children in employment, female (% of female chi...            ..            ..  \n",
       "Children in employment, female (% of female chi...            ..            ..  \n",
       "Children in employment, female (% of female chi...            ..            ..  \n",
       "Children in employment, male (% of male childre...            ..            ..  \n",
       "Children in employment, male (% of male childre...            ..            ..  \n",
       "Children in employment, male (% of male childre...            ..            ..  \n",
       "Children in employment, male (% of male childre...            ..            ..  \n",
       "Children in employment, male (% of male childre...            ..            ..  \n",
       "Children in employment, male (% of male childre...            ..            ..  \n",
       "Children in employment, male (% of male childre...            ..            ..  \n",
       "Children in employment, male (% of male childre...            ..            ..  \n",
       "Children in employment, male (% of male childre...            ..            ..  \n",
       "Children in employment, male (% of male childre...            ..            ..  \n",
       "Children in employment, male (% of male childre...            ..            ..  \n",
       "Children in employment, male (% of male childre...            ..            ..  \n",
       "Children in employment, male (% of male childre...            ..            ..  \n",
       "Children in employment, male (% of male childre...            ..            ..  \n",
       "Children in employment, male (% of male childre...            ..            ..  \n",
       "Children in employment, male (% of male childre...            ..            ..  \n",
       "Children in employment, male (% of male childre...            ..            ..  \n",
       "Children in employment, male (% of male childre...            ..            ..  \n",
       "Children in employment, male (% of male childre...            ..            ..  \n",
       "Children in employment, male (% of male childre...            ..            ..  \n",
       "Children in employment, male (% of male childre...            ..            ..  "
      ]
     },
     "execution_count": 25,
     "metadata": {},
     "output_type": "execute_result"
    }
   ],
   "source": [
    "gs.loc[ ['Children in employment, female (% of female children ages 7-14)',\\\n",
    "       'Children in employment, male (% of male children ages 7-14)']] #no data available for this indicator"
   ]
  },
  {
   "cell_type": "code",
   "execution_count": 26,
   "metadata": {},
   "outputs": [
    {
     "data": {
      "text/html": [
       "<div>\n",
       "<style scoped>\n",
       "    .dataframe tbody tr th:only-of-type {\n",
       "        vertical-align: middle;\n",
       "    }\n",
       "\n",
       "    .dataframe tbody tr th {\n",
       "        vertical-align: top;\n",
       "    }\n",
       "\n",
       "    .dataframe thead th {\n",
       "        text-align: right;\n",
       "    }\n",
       "</style>\n",
       "<table border=\"1\" class=\"dataframe\">\n",
       "  <thead>\n",
       "    <tr style=\"text-align: right;\">\n",
       "      <th></th>\n",
       "      <th>Country Name</th>\n",
       "      <th>Country Code</th>\n",
       "      <th>2018 [YR2018]</th>\n",
       "      <th>2019 [YR2019]</th>\n",
       "    </tr>\n",
       "    <tr>\n",
       "      <th>Series Name</th>\n",
       "      <th></th>\n",
       "      <th></th>\n",
       "      <th></th>\n",
       "      <th></th>\n",
       "    </tr>\n",
       "  </thead>\n",
       "  <tbody>\n",
       "    <tr>\n",
       "      <th>GDP per capita (constant 2010 US$)</th>\n",
       "      <td>Singapore</td>\n",
       "      <td>SGP</td>\n",
       "      <td>59073.49</td>\n",
       "      <td>58829.64</td>\n",
       "    </tr>\n",
       "    <tr>\n",
       "      <th>GDP per capita (constant 2010 US$)</th>\n",
       "      <td>Australia</td>\n",
       "      <td>AUS</td>\n",
       "      <td>56864.33</td>\n",
       "      <td>57071.17</td>\n",
       "    </tr>\n",
       "    <tr>\n",
       "      <th>GDP per capita (constant 2010 US$)</th>\n",
       "      <td>United States</td>\n",
       "      <td>USA</td>\n",
       "      <td>54659.20</td>\n",
       "      <td>55670.24</td>\n",
       "    </tr>\n",
       "    <tr>\n",
       "      <th>GDP per capita (constant 2010 US$)</th>\n",
       "      <td>Canada</td>\n",
       "      <td>CAN</td>\n",
       "      <td>51476.20</td>\n",
       "      <td>51588.76</td>\n",
       "    </tr>\n",
       "    <tr>\n",
       "      <th>GDP per capita (constant 2010 US$)</th>\n",
       "      <td>Japan</td>\n",
       "      <td>JPN</td>\n",
       "      <td>48766.13</td>\n",
       "      <td>49187.83</td>\n",
       "    </tr>\n",
       "    <tr>\n",
       "      <th>GDP per capita (constant 2010 US$)</th>\n",
       "      <td>Germany</td>\n",
       "      <td>DEU</td>\n",
       "      <td>47490.52</td>\n",
       "      <td>47628.03</td>\n",
       "    </tr>\n",
       "    <tr>\n",
       "      <th>GDP per capita (constant 2010 US$)</th>\n",
       "      <td>France</td>\n",
       "      <td>FRA</td>\n",
       "      <td>43720.03</td>\n",
       "      <td>44317.39</td>\n",
       "    </tr>\n",
       "    <tr>\n",
       "      <th>GDP per capita (constant 2010 US$)</th>\n",
       "      <td>United Kingdom</td>\n",
       "      <td>GBR</td>\n",
       "      <td>43324.05</td>\n",
       "      <td>43688.44</td>\n",
       "    </tr>\n",
       "    <tr>\n",
       "      <th>GDP per capita (constant 2010 US$)</th>\n",
       "      <td>European Union</td>\n",
       "      <td>EUU</td>\n",
       "      <td>36607.52</td>\n",
       "      <td>37104.03</td>\n",
       "    </tr>\n",
       "    <tr>\n",
       "      <th>GDP per capita (constant 2010 US$)</th>\n",
       "      <td>Italy</td>\n",
       "      <td>ITA</td>\n",
       "      <td>35433.79</td>\n",
       "      <td>35613.84</td>\n",
       "    </tr>\n",
       "    <tr>\n",
       "      <th>GDP per capita (constant 2010 US$)</th>\n",
       "      <td>Korea, Rep.</td>\n",
       "      <td>KOR</td>\n",
       "      <td>28091.39</td>\n",
       "      <td>28605.73</td>\n",
       "    </tr>\n",
       "    <tr>\n",
       "      <th>GDP per capita (constant 2010 US$)</th>\n",
       "      <td>Saudi Arabia</td>\n",
       "      <td>SAU</td>\n",
       "      <td>20819.74</td>\n",
       "      <td>20542.16</td>\n",
       "    </tr>\n",
       "    <tr>\n",
       "      <th>GDP per capita (constant 2010 US$)</th>\n",
       "      <td>Turkey</td>\n",
       "      <td>TUR</td>\n",
       "      <td>15068.98</td>\n",
       "      <td>14998.98</td>\n",
       "    </tr>\n",
       "    <tr>\n",
       "      <th>GDP per capita (constant 2010 US$)</th>\n",
       "      <td>Russian Federation</td>\n",
       "      <td>RUS</td>\n",
       "      <td>11844.44</td>\n",
       "      <td>12011.53</td>\n",
       "    </tr>\n",
       "    <tr>\n",
       "      <th>GDP per capita (constant 2010 US$)</th>\n",
       "      <td>Brazil</td>\n",
       "      <td>BRA</td>\n",
       "      <td>11079.71</td>\n",
       "      <td>11121.74</td>\n",
       "    </tr>\n",
       "    <tr>\n",
       "      <th>GDP per capita (constant 2010 US$)</th>\n",
       "      <td>Mexico</td>\n",
       "      <td>MEX</td>\n",
       "      <td>10403.54</td>\n",
       "      <td>10275.63</td>\n",
       "    </tr>\n",
       "    <tr>\n",
       "      <th>GDP per capita (constant 2010 US$)</th>\n",
       "      <td>Argentina</td>\n",
       "      <td>ARG</td>\n",
       "      <td>10043.51</td>\n",
       "      <td>9729.14</td>\n",
       "    </tr>\n",
       "    <tr>\n",
       "      <th>GDP per capita (constant 2010 US$)</th>\n",
       "      <td>China</td>\n",
       "      <td>CHN</td>\n",
       "      <td>7806.95</td>\n",
       "      <td>8254.30</td>\n",
       "    </tr>\n",
       "    <tr>\n",
       "      <th>GDP per capita (constant 2010 US$)</th>\n",
       "      <td>South Africa</td>\n",
       "      <td>ZAF</td>\n",
       "      <td>7433.62</td>\n",
       "      <td>7345.96</td>\n",
       "    </tr>\n",
       "    <tr>\n",
       "      <th>GDP per capita (constant 2010 US$)</th>\n",
       "      <td>Indonesia</td>\n",
       "      <td>IDN</td>\n",
       "      <td>4284.69</td>\n",
       "      <td>4450.72</td>\n",
       "    </tr>\n",
       "    <tr>\n",
       "      <th>GDP per capita (constant 2010 US$)</th>\n",
       "      <td>India</td>\n",
       "      <td>IND</td>\n",
       "      <td>2086.45</td>\n",
       "      <td>2169.14</td>\n",
       "    </tr>\n",
       "  </tbody>\n",
       "</table>\n",
       "</div>"
      ],
      "text/plain": [
       "                                          Country Name Country Code  \\\n",
       "Series Name                                                           \n",
       "GDP per capita (constant 2010 US$)           Singapore          SGP   \n",
       "GDP per capita (constant 2010 US$)           Australia          AUS   \n",
       "GDP per capita (constant 2010 US$)       United States          USA   \n",
       "GDP per capita (constant 2010 US$)              Canada          CAN   \n",
       "GDP per capita (constant 2010 US$)               Japan          JPN   \n",
       "GDP per capita (constant 2010 US$)             Germany          DEU   \n",
       "GDP per capita (constant 2010 US$)              France          FRA   \n",
       "GDP per capita (constant 2010 US$)      United Kingdom          GBR   \n",
       "GDP per capita (constant 2010 US$)      European Union          EUU   \n",
       "GDP per capita (constant 2010 US$)               Italy          ITA   \n",
       "GDP per capita (constant 2010 US$)         Korea, Rep.          KOR   \n",
       "GDP per capita (constant 2010 US$)        Saudi Arabia          SAU   \n",
       "GDP per capita (constant 2010 US$)              Turkey          TUR   \n",
       "GDP per capita (constant 2010 US$)  Russian Federation          RUS   \n",
       "GDP per capita (constant 2010 US$)              Brazil          BRA   \n",
       "GDP per capita (constant 2010 US$)              Mexico          MEX   \n",
       "GDP per capita (constant 2010 US$)           Argentina          ARG   \n",
       "GDP per capita (constant 2010 US$)               China          CHN   \n",
       "GDP per capita (constant 2010 US$)        South Africa          ZAF   \n",
       "GDP per capita (constant 2010 US$)           Indonesia          IDN   \n",
       "GDP per capita (constant 2010 US$)               India          IND   \n",
       "\n",
       "                                    2018 [YR2018]  2019 [YR2019]  \n",
       "Series Name                                                       \n",
       "GDP per capita (constant 2010 US$)       59073.49       58829.64  \n",
       "GDP per capita (constant 2010 US$)       56864.33       57071.17  \n",
       "GDP per capita (constant 2010 US$)       54659.20       55670.24  \n",
       "GDP per capita (constant 2010 US$)       51476.20       51588.76  \n",
       "GDP per capita (constant 2010 US$)       48766.13       49187.83  \n",
       "GDP per capita (constant 2010 US$)       47490.52       47628.03  \n",
       "GDP per capita (constant 2010 US$)       43720.03       44317.39  \n",
       "GDP per capita (constant 2010 US$)       43324.05       43688.44  \n",
       "GDP per capita (constant 2010 US$)       36607.52       37104.03  \n",
       "GDP per capita (constant 2010 US$)       35433.79       35613.84  \n",
       "GDP per capita (constant 2010 US$)       28091.39       28605.73  \n",
       "GDP per capita (constant 2010 US$)       20819.74       20542.16  \n",
       "GDP per capita (constant 2010 US$)       15068.98       14998.98  \n",
       "GDP per capita (constant 2010 US$)       11844.44       12011.53  \n",
       "GDP per capita (constant 2010 US$)       11079.71       11121.74  \n",
       "GDP per capita (constant 2010 US$)       10403.54       10275.63  \n",
       "GDP per capita (constant 2010 US$)       10043.51        9729.14  \n",
       "GDP per capita (constant 2010 US$)        7806.95        8254.30  \n",
       "GDP per capita (constant 2010 US$)        7433.62        7345.96  \n",
       "GDP per capita (constant 2010 US$)        4284.69        4450.72  \n",
       "GDP per capita (constant 2010 US$)        2086.45        2169.14  "
      ]
     },
     "execution_count": 26,
     "metadata": {},
     "output_type": "execute_result"
    }
   ],
   "source": [
    "gdp_percapita = gs.loc[['GDP per capita (constant 2010 US$)'], ['Country Name','Country Code','2018 [YR2018]','2019 [YR2019]']]\n",
    "\n",
    "gdp_percapita['2018 [YR2018]'] = gdp_percapita['2018 [YR2018]'].astype(float)\n",
    "gdp_percapita['2019 [YR2019]'] = gdp_percapita['2019 [YR2019]'].astype(float)\n",
    "\n",
    "gdp_percapita.sort_values(['2018 [YR2018]','2019 [YR2019]'], ascending = False)"
   ]
  },
  {
   "cell_type": "code",
   "execution_count": 27,
   "metadata": {},
   "outputs": [],
   "source": [
    "population_upto_age5 = gs.loc[['Age population, age 0, female, interpolated',\n",
    "       'Age population, age 0, male, interpolated',\n",
    "       'Age population, age 01, female, interpolated',\n",
    "       'Age population, age 01, male, interpolated',\n",
    "       'Age population, age 02, female, interpolated',\n",
    "       'Age population, age 02, male, interpolated',\n",
    "       'Age population, age 03, female, interpolated',\n",
    "       'Age population, age 03, male, interpolated',\n",
    "       'Age population, age 04, female, interpolated',\n",
    "       'Age population, age 04, male, interpolated',\n",
    "       'Age population, age 05, female, interpolated',\n",
    "       'Age population, age 05, male, interpolated',], ['Country Name','Country Code','2018 [YR2018]','2019 [YR2019]']]"
   ]
  },
  {
   "cell_type": "code",
   "execution_count": 28,
   "metadata": {},
   "outputs": [
    {
     "data": {
      "text/html": [
       "<div>\n",
       "<style scoped>\n",
       "    .dataframe tbody tr th:only-of-type {\n",
       "        vertical-align: middle;\n",
       "    }\n",
       "\n",
       "    .dataframe tbody tr th {\n",
       "        vertical-align: top;\n",
       "    }\n",
       "\n",
       "    .dataframe thead th {\n",
       "        text-align: right;\n",
       "    }\n",
       "</style>\n",
       "<table border=\"1\" class=\"dataframe\">\n",
       "  <thead>\n",
       "    <tr style=\"text-align: right;\">\n",
       "      <th></th>\n",
       "      <th>2019 [YR2019]</th>\n",
       "    </tr>\n",
       "    <tr>\n",
       "      <th>Country Name</th>\n",
       "      <th></th>\n",
       "    </tr>\n",
       "  </thead>\n",
       "  <tbody>\n",
       "    <tr>\n",
       "      <th>India</th>\n",
       "      <td>140055353</td>\n",
       "    </tr>\n",
       "    <tr>\n",
       "      <th>China</th>\n",
       "      <td>102464114</td>\n",
       "    </tr>\n",
       "    <tr>\n",
       "      <th>Indonesia</th>\n",
       "      <td>28867587</td>\n",
       "    </tr>\n",
       "    <tr>\n",
       "      <th>United States</th>\n",
       "      <td>23559740</td>\n",
       "    </tr>\n",
       "    <tr>\n",
       "      <th>Brazil</th>\n",
       "      <td>17492975</td>\n",
       "    </tr>\n",
       "  </tbody>\n",
       "</table>\n",
       "</div>"
      ],
      "text/plain": [
       "               2019 [YR2019]\n",
       "Country Name                \n",
       "India              140055353\n",
       "China              102464114\n",
       "Indonesia           28867587\n",
       "United States       23559740\n",
       "Brazil              17492975"
      ]
     },
     "execution_count": 28,
     "metadata": {},
     "output_type": "execute_result"
    }
   ],
   "source": [
    "population_upto_age5.replace(to_replace = '..', value = '0', inplace = True) \n",
    "population_upto_age5['2018 [YR2018]'] = population_upto_age5['2018 [YR2018]'].astype(int)\n",
    "population_upto_age5['2019 [YR2019]'] = population_upto_age5['2019 [YR2019]'].astype(int)\n",
    "\n",
    "population_groupby = population_upto_age5.groupby(['Country Name'])['2019 [YR2019]'].sum()\n",
    "population_groupby = population_groupby.to_frame()\n",
    "population_df = population_groupby.apply(lambda x: x.sort_values(ascending = False))\n",
    "population_df.head(5)"
   ]
  },
  {
   "cell_type": "code",
   "execution_count": 29,
   "metadata": {},
   "outputs": [],
   "source": [
    "population_df.reset_index(inplace = True)"
   ]
  },
  {
   "cell_type": "code",
   "execution_count": 30,
   "metadata": {},
   "outputs": [
    {
     "data": {
      "application/vnd.plotly.v1+json": {
       "config": {
        "linkText": "Export to plot.ly",
        "plotlyServerURL": "https://plot.ly",
        "showLink": true
       },
       "data": [
        {
         "marker": {
          "color": "rgba(255, 153, 51, 0.6)",
          "line": {
           "color": "rgba(255, 153, 51, 1.0)",
           "width": 1
          }
         },
         "name": "2019 [YR2019]",
         "orientation": "v",
         "text": "",
         "type": "bar",
         "x": [
          "India",
          "China",
          "Indonesia",
          "United States",
          "Brazil",
          "Mexico",
          "Russian Federation",
          "Turkey",
          "South Africa",
          "Japan",
          "United Kingdom",
          "Germany",
          "Argentina",
          "France",
          "Saudi Arabia",
          "Italy",
          "Korea, Rep.",
          "Canada",
          "Australia",
          "Singapore",
          "European Union"
         ],
         "y": [
          140055353,
          102464114,
          28867587,
          23559740,
          17492975,
          13287745,
          11308917,
          8032407,
          6957528,
          5976095,
          4775826,
          4745169,
          4488806,
          4444093,
          3602491,
          2905118,
          2419331,
          2373122,
          1980243,
          293428,
          0
         ]
        }
       ],
       "layout": {
        "legend": {
         "bgcolor": "#F5F6F9",
         "font": {
          "color": "#4D5663"
         }
        },
        "paper_bgcolor": "#F5F6F9",
        "plot_bgcolor": "#F5F6F9",
        "template": {
         "data": {
          "bar": [
           {
            "error_x": {
             "color": "#2a3f5f"
            },
            "error_y": {
             "color": "#2a3f5f"
            },
            "marker": {
             "line": {
              "color": "#E5ECF6",
              "width": 0.5
             }
            },
            "type": "bar"
           }
          ],
          "barpolar": [
           {
            "marker": {
             "line": {
              "color": "#E5ECF6",
              "width": 0.5
             }
            },
            "type": "barpolar"
           }
          ],
          "carpet": [
           {
            "aaxis": {
             "endlinecolor": "#2a3f5f",
             "gridcolor": "white",
             "linecolor": "white",
             "minorgridcolor": "white",
             "startlinecolor": "#2a3f5f"
            },
            "baxis": {
             "endlinecolor": "#2a3f5f",
             "gridcolor": "white",
             "linecolor": "white",
             "minorgridcolor": "white",
             "startlinecolor": "#2a3f5f"
            },
            "type": "carpet"
           }
          ],
          "choropleth": [
           {
            "colorbar": {
             "outlinewidth": 0,
             "ticks": ""
            },
            "type": "choropleth"
           }
          ],
          "contour": [
           {
            "colorbar": {
             "outlinewidth": 0,
             "ticks": ""
            },
            "colorscale": [
             [
              0,
              "#0d0887"
             ],
             [
              0.1111111111111111,
              "#46039f"
             ],
             [
              0.2222222222222222,
              "#7201a8"
             ],
             [
              0.3333333333333333,
              "#9c179e"
             ],
             [
              0.4444444444444444,
              "#bd3786"
             ],
             [
              0.5555555555555556,
              "#d8576b"
             ],
             [
              0.6666666666666666,
              "#ed7953"
             ],
             [
              0.7777777777777778,
              "#fb9f3a"
             ],
             [
              0.8888888888888888,
              "#fdca26"
             ],
             [
              1,
              "#f0f921"
             ]
            ],
            "type": "contour"
           }
          ],
          "contourcarpet": [
           {
            "colorbar": {
             "outlinewidth": 0,
             "ticks": ""
            },
            "type": "contourcarpet"
           }
          ],
          "heatmap": [
           {
            "colorbar": {
             "outlinewidth": 0,
             "ticks": ""
            },
            "colorscale": [
             [
              0,
              "#0d0887"
             ],
             [
              0.1111111111111111,
              "#46039f"
             ],
             [
              0.2222222222222222,
              "#7201a8"
             ],
             [
              0.3333333333333333,
              "#9c179e"
             ],
             [
              0.4444444444444444,
              "#bd3786"
             ],
             [
              0.5555555555555556,
              "#d8576b"
             ],
             [
              0.6666666666666666,
              "#ed7953"
             ],
             [
              0.7777777777777778,
              "#fb9f3a"
             ],
             [
              0.8888888888888888,
              "#fdca26"
             ],
             [
              1,
              "#f0f921"
             ]
            ],
            "type": "heatmap"
           }
          ],
          "heatmapgl": [
           {
            "colorbar": {
             "outlinewidth": 0,
             "ticks": ""
            },
            "colorscale": [
             [
              0,
              "#0d0887"
             ],
             [
              0.1111111111111111,
              "#46039f"
             ],
             [
              0.2222222222222222,
              "#7201a8"
             ],
             [
              0.3333333333333333,
              "#9c179e"
             ],
             [
              0.4444444444444444,
              "#bd3786"
             ],
             [
              0.5555555555555556,
              "#d8576b"
             ],
             [
              0.6666666666666666,
              "#ed7953"
             ],
             [
              0.7777777777777778,
              "#fb9f3a"
             ],
             [
              0.8888888888888888,
              "#fdca26"
             ],
             [
              1,
              "#f0f921"
             ]
            ],
            "type": "heatmapgl"
           }
          ],
          "histogram": [
           {
            "marker": {
             "colorbar": {
              "outlinewidth": 0,
              "ticks": ""
             }
            },
            "type": "histogram"
           }
          ],
          "histogram2d": [
           {
            "colorbar": {
             "outlinewidth": 0,
             "ticks": ""
            },
            "colorscale": [
             [
              0,
              "#0d0887"
             ],
             [
              0.1111111111111111,
              "#46039f"
             ],
             [
              0.2222222222222222,
              "#7201a8"
             ],
             [
              0.3333333333333333,
              "#9c179e"
             ],
             [
              0.4444444444444444,
              "#bd3786"
             ],
             [
              0.5555555555555556,
              "#d8576b"
             ],
             [
              0.6666666666666666,
              "#ed7953"
             ],
             [
              0.7777777777777778,
              "#fb9f3a"
             ],
             [
              0.8888888888888888,
              "#fdca26"
             ],
             [
              1,
              "#f0f921"
             ]
            ],
            "type": "histogram2d"
           }
          ],
          "histogram2dcontour": [
           {
            "colorbar": {
             "outlinewidth": 0,
             "ticks": ""
            },
            "colorscale": [
             [
              0,
              "#0d0887"
             ],
             [
              0.1111111111111111,
              "#46039f"
             ],
             [
              0.2222222222222222,
              "#7201a8"
             ],
             [
              0.3333333333333333,
              "#9c179e"
             ],
             [
              0.4444444444444444,
              "#bd3786"
             ],
             [
              0.5555555555555556,
              "#d8576b"
             ],
             [
              0.6666666666666666,
              "#ed7953"
             ],
             [
              0.7777777777777778,
              "#fb9f3a"
             ],
             [
              0.8888888888888888,
              "#fdca26"
             ],
             [
              1,
              "#f0f921"
             ]
            ],
            "type": "histogram2dcontour"
           }
          ],
          "mesh3d": [
           {
            "colorbar": {
             "outlinewidth": 0,
             "ticks": ""
            },
            "type": "mesh3d"
           }
          ],
          "parcoords": [
           {
            "line": {
             "colorbar": {
              "outlinewidth": 0,
              "ticks": ""
             }
            },
            "type": "parcoords"
           }
          ],
          "pie": [
           {
            "automargin": true,
            "type": "pie"
           }
          ],
          "scatter": [
           {
            "marker": {
             "colorbar": {
              "outlinewidth": 0,
              "ticks": ""
             }
            },
            "type": "scatter"
           }
          ],
          "scatter3d": [
           {
            "line": {
             "colorbar": {
              "outlinewidth": 0,
              "ticks": ""
             }
            },
            "marker": {
             "colorbar": {
              "outlinewidth": 0,
              "ticks": ""
             }
            },
            "type": "scatter3d"
           }
          ],
          "scattercarpet": [
           {
            "marker": {
             "colorbar": {
              "outlinewidth": 0,
              "ticks": ""
             }
            },
            "type": "scattercarpet"
           }
          ],
          "scattergeo": [
           {
            "marker": {
             "colorbar": {
              "outlinewidth": 0,
              "ticks": ""
             }
            },
            "type": "scattergeo"
           }
          ],
          "scattergl": [
           {
            "marker": {
             "colorbar": {
              "outlinewidth": 0,
              "ticks": ""
             }
            },
            "type": "scattergl"
           }
          ],
          "scattermapbox": [
           {
            "marker": {
             "colorbar": {
              "outlinewidth": 0,
              "ticks": ""
             }
            },
            "type": "scattermapbox"
           }
          ],
          "scatterpolar": [
           {
            "marker": {
             "colorbar": {
              "outlinewidth": 0,
              "ticks": ""
             }
            },
            "type": "scatterpolar"
           }
          ],
          "scatterpolargl": [
           {
            "marker": {
             "colorbar": {
              "outlinewidth": 0,
              "ticks": ""
             }
            },
            "type": "scatterpolargl"
           }
          ],
          "scatterternary": [
           {
            "marker": {
             "colorbar": {
              "outlinewidth": 0,
              "ticks": ""
             }
            },
            "type": "scatterternary"
           }
          ],
          "surface": [
           {
            "colorbar": {
             "outlinewidth": 0,
             "ticks": ""
            },
            "colorscale": [
             [
              0,
              "#0d0887"
             ],
             [
              0.1111111111111111,
              "#46039f"
             ],
             [
              0.2222222222222222,
              "#7201a8"
             ],
             [
              0.3333333333333333,
              "#9c179e"
             ],
             [
              0.4444444444444444,
              "#bd3786"
             ],
             [
              0.5555555555555556,
              "#d8576b"
             ],
             [
              0.6666666666666666,
              "#ed7953"
             ],
             [
              0.7777777777777778,
              "#fb9f3a"
             ],
             [
              0.8888888888888888,
              "#fdca26"
             ],
             [
              1,
              "#f0f921"
             ]
            ],
            "type": "surface"
           }
          ],
          "table": [
           {
            "cells": {
             "fill": {
              "color": "#EBF0F8"
             },
             "line": {
              "color": "white"
             }
            },
            "header": {
             "fill": {
              "color": "#C8D4E3"
             },
             "line": {
              "color": "white"
             }
            },
            "type": "table"
           }
          ]
         },
         "layout": {
          "annotationdefaults": {
           "arrowcolor": "#2a3f5f",
           "arrowhead": 0,
           "arrowwidth": 1
          },
          "coloraxis": {
           "colorbar": {
            "outlinewidth": 0,
            "ticks": ""
           }
          },
          "colorscale": {
           "diverging": [
            [
             0,
             "#8e0152"
            ],
            [
             0.1,
             "#c51b7d"
            ],
            [
             0.2,
             "#de77ae"
            ],
            [
             0.3,
             "#f1b6da"
            ],
            [
             0.4,
             "#fde0ef"
            ],
            [
             0.5,
             "#f7f7f7"
            ],
            [
             0.6,
             "#e6f5d0"
            ],
            [
             0.7,
             "#b8e186"
            ],
            [
             0.8,
             "#7fbc41"
            ],
            [
             0.9,
             "#4d9221"
            ],
            [
             1,
             "#276419"
            ]
           ],
           "sequential": [
            [
             0,
             "#0d0887"
            ],
            [
             0.1111111111111111,
             "#46039f"
            ],
            [
             0.2222222222222222,
             "#7201a8"
            ],
            [
             0.3333333333333333,
             "#9c179e"
            ],
            [
             0.4444444444444444,
             "#bd3786"
            ],
            [
             0.5555555555555556,
             "#d8576b"
            ],
            [
             0.6666666666666666,
             "#ed7953"
            ],
            [
             0.7777777777777778,
             "#fb9f3a"
            ],
            [
             0.8888888888888888,
             "#fdca26"
            ],
            [
             1,
             "#f0f921"
            ]
           ],
           "sequentialminus": [
            [
             0,
             "#0d0887"
            ],
            [
             0.1111111111111111,
             "#46039f"
            ],
            [
             0.2222222222222222,
             "#7201a8"
            ],
            [
             0.3333333333333333,
             "#9c179e"
            ],
            [
             0.4444444444444444,
             "#bd3786"
            ],
            [
             0.5555555555555556,
             "#d8576b"
            ],
            [
             0.6666666666666666,
             "#ed7953"
            ],
            [
             0.7777777777777778,
             "#fb9f3a"
            ],
            [
             0.8888888888888888,
             "#fdca26"
            ],
            [
             1,
             "#f0f921"
            ]
           ]
          },
          "colorway": [
           "#636efa",
           "#EF553B",
           "#00cc96",
           "#ab63fa",
           "#FFA15A",
           "#19d3f3",
           "#FF6692",
           "#B6E880",
           "#FF97FF",
           "#FECB52"
          ],
          "font": {
           "color": "#2a3f5f"
          },
          "geo": {
           "bgcolor": "white",
           "lakecolor": "white",
           "landcolor": "#E5ECF6",
           "showlakes": true,
           "showland": true,
           "subunitcolor": "white"
          },
          "hoverlabel": {
           "align": "left"
          },
          "hovermode": "closest",
          "mapbox": {
           "style": "light"
          },
          "paper_bgcolor": "white",
          "plot_bgcolor": "#E5ECF6",
          "polar": {
           "angularaxis": {
            "gridcolor": "white",
            "linecolor": "white",
            "ticks": ""
           },
           "bgcolor": "#E5ECF6",
           "radialaxis": {
            "gridcolor": "white",
            "linecolor": "white",
            "ticks": ""
           }
          },
          "scene": {
           "xaxis": {
            "backgroundcolor": "#E5ECF6",
            "gridcolor": "white",
            "gridwidth": 2,
            "linecolor": "white",
            "showbackground": true,
            "ticks": "",
            "zerolinecolor": "white"
           },
           "yaxis": {
            "backgroundcolor": "#E5ECF6",
            "gridcolor": "white",
            "gridwidth": 2,
            "linecolor": "white",
            "showbackground": true,
            "ticks": "",
            "zerolinecolor": "white"
           },
           "zaxis": {
            "backgroundcolor": "#E5ECF6",
            "gridcolor": "white",
            "gridwidth": 2,
            "linecolor": "white",
            "showbackground": true,
            "ticks": "",
            "zerolinecolor": "white"
           }
          },
          "shapedefaults": {
           "line": {
            "color": "#2a3f5f"
           }
          },
          "ternary": {
           "aaxis": {
            "gridcolor": "white",
            "linecolor": "white",
            "ticks": ""
           },
           "baxis": {
            "gridcolor": "white",
            "linecolor": "white",
            "ticks": ""
           },
           "bgcolor": "#E5ECF6",
           "caxis": {
            "gridcolor": "white",
            "linecolor": "white",
            "ticks": ""
           }
          },
          "title": {
           "x": 0.05
          },
          "xaxis": {
           "automargin": true,
           "gridcolor": "white",
           "linecolor": "white",
           "ticks": "",
           "title": {
            "standoff": 15
           },
           "zerolinecolor": "white",
           "zerolinewidth": 2
          },
          "yaxis": {
           "automargin": true,
           "gridcolor": "white",
           "linecolor": "white",
           "ticks": "",
           "title": {
            "standoff": 15
           },
           "zerolinecolor": "white",
           "zerolinewidth": 2
          }
         }
        },
        "title": {
         "font": {
          "color": "#4D5663"
         },
         "text": "Number of kids under 5 years of age"
        },
        "xaxis": {
         "gridcolor": "#E1E5ED",
         "showgrid": true,
         "tickfont": {
          "color": "#4D5663"
         },
         "title": {
          "font": {
           "color": "#4D5663"
          },
          "text": "Country"
         },
         "zerolinecolor": "#E1E5ED"
        },
        "yaxis": {
         "gridcolor": "#E1E5ED",
         "showgrid": true,
         "tickfont": {
          "color": "#4D5663"
         },
         "title": {
          "font": {
           "color": "#4D5663"
          },
          "text": "Population (under 5)"
         },
         "zerolinecolor": "#E1E5ED"
        }
       }
      },
      "text/html": [
       "<div>                            <div id=\"4dbd8466-7647-4fd7-aaf8-9187371e3dc7\" class=\"plotly-graph-div\" style=\"height:525px; width:100%;\"></div>            <script type=\"text/javascript\">                require([\"plotly\"], function(Plotly) {                    window.PLOTLYENV=window.PLOTLYENV || {};\n",
       "                    window.PLOTLYENV.BASE_URL='https://plot.ly';                                    if (document.getElementById(\"4dbd8466-7647-4fd7-aaf8-9187371e3dc7\")) {                    Plotly.newPlot(                        \"4dbd8466-7647-4fd7-aaf8-9187371e3dc7\",                        [{\"marker\": {\"color\": \"rgba(255, 153, 51, 0.6)\", \"line\": {\"color\": \"rgba(255, 153, 51, 1.0)\", \"width\": 1}}, \"name\": \"2019 [YR2019]\", \"orientation\": \"v\", \"text\": \"\", \"type\": \"bar\", \"x\": [\"India\", \"China\", \"Indonesia\", \"United States\", \"Brazil\", \"Mexico\", \"Russian Federation\", \"Turkey\", \"South Africa\", \"Japan\", \"United Kingdom\", \"Germany\", \"Argentina\", \"France\", \"Saudi Arabia\", \"Italy\", \"Korea, Rep.\", \"Canada\", \"Australia\", \"Singapore\", \"European Union\"], \"y\": [140055353, 102464114, 28867587, 23559740, 17492975, 13287745, 11308917, 8032407, 6957528, 5976095, 4775826, 4745169, 4488806, 4444093, 3602491, 2905118, 2419331, 2373122, 1980243, 293428, 0]}],                        {\"legend\": {\"bgcolor\": \"#F5F6F9\", \"font\": {\"color\": \"#4D5663\"}}, \"paper_bgcolor\": \"#F5F6F9\", \"plot_bgcolor\": \"#F5F6F9\", \"template\": {\"data\": {\"bar\": [{\"error_x\": {\"color\": \"#2a3f5f\"}, \"error_y\": {\"color\": \"#2a3f5f\"}, \"marker\": {\"line\": {\"color\": \"#E5ECF6\", \"width\": 0.5}}, \"type\": \"bar\"}], \"barpolar\": [{\"marker\": {\"line\": {\"color\": \"#E5ECF6\", \"width\": 0.5}}, \"type\": \"barpolar\"}], \"carpet\": [{\"aaxis\": {\"endlinecolor\": \"#2a3f5f\", \"gridcolor\": \"white\", \"linecolor\": \"white\", \"minorgridcolor\": \"white\", \"startlinecolor\": \"#2a3f5f\"}, \"baxis\": {\"endlinecolor\": \"#2a3f5f\", \"gridcolor\": \"white\", \"linecolor\": \"white\", \"minorgridcolor\": \"white\", \"startlinecolor\": \"#2a3f5f\"}, \"type\": \"carpet\"}], \"choropleth\": [{\"colorbar\": {\"outlinewidth\": 0, \"ticks\": \"\"}, \"type\": \"choropleth\"}], \"contour\": [{\"colorbar\": {\"outlinewidth\": 0, \"ticks\": \"\"}, \"colorscale\": [[0.0, \"#0d0887\"], [0.1111111111111111, \"#46039f\"], [0.2222222222222222, \"#7201a8\"], [0.3333333333333333, \"#9c179e\"], [0.4444444444444444, \"#bd3786\"], [0.5555555555555556, \"#d8576b\"], [0.6666666666666666, \"#ed7953\"], [0.7777777777777778, \"#fb9f3a\"], [0.8888888888888888, \"#fdca26\"], [1.0, \"#f0f921\"]], \"type\": \"contour\"}], \"contourcarpet\": [{\"colorbar\": {\"outlinewidth\": 0, \"ticks\": \"\"}, \"type\": \"contourcarpet\"}], \"heatmap\": [{\"colorbar\": {\"outlinewidth\": 0, \"ticks\": \"\"}, \"colorscale\": [[0.0, \"#0d0887\"], [0.1111111111111111, \"#46039f\"], [0.2222222222222222, \"#7201a8\"], [0.3333333333333333, \"#9c179e\"], [0.4444444444444444, \"#bd3786\"], [0.5555555555555556, \"#d8576b\"], [0.6666666666666666, \"#ed7953\"], [0.7777777777777778, \"#fb9f3a\"], [0.8888888888888888, \"#fdca26\"], [1.0, \"#f0f921\"]], \"type\": \"heatmap\"}], \"heatmapgl\": [{\"colorbar\": {\"outlinewidth\": 0, \"ticks\": \"\"}, \"colorscale\": [[0.0, \"#0d0887\"], [0.1111111111111111, \"#46039f\"], [0.2222222222222222, \"#7201a8\"], [0.3333333333333333, \"#9c179e\"], [0.4444444444444444, \"#bd3786\"], [0.5555555555555556, \"#d8576b\"], [0.6666666666666666, \"#ed7953\"], [0.7777777777777778, \"#fb9f3a\"], [0.8888888888888888, \"#fdca26\"], [1.0, \"#f0f921\"]], \"type\": \"heatmapgl\"}], \"histogram\": [{\"marker\": {\"colorbar\": {\"outlinewidth\": 0, \"ticks\": \"\"}}, \"type\": \"histogram\"}], \"histogram2d\": [{\"colorbar\": {\"outlinewidth\": 0, \"ticks\": \"\"}, \"colorscale\": [[0.0, \"#0d0887\"], [0.1111111111111111, \"#46039f\"], [0.2222222222222222, \"#7201a8\"], [0.3333333333333333, \"#9c179e\"], [0.4444444444444444, \"#bd3786\"], [0.5555555555555556, \"#d8576b\"], [0.6666666666666666, \"#ed7953\"], [0.7777777777777778, \"#fb9f3a\"], [0.8888888888888888, \"#fdca26\"], [1.0, \"#f0f921\"]], \"type\": \"histogram2d\"}], \"histogram2dcontour\": [{\"colorbar\": {\"outlinewidth\": 0, \"ticks\": \"\"}, \"colorscale\": [[0.0, \"#0d0887\"], [0.1111111111111111, \"#46039f\"], [0.2222222222222222, \"#7201a8\"], [0.3333333333333333, \"#9c179e\"], [0.4444444444444444, \"#bd3786\"], [0.5555555555555556, \"#d8576b\"], [0.6666666666666666, \"#ed7953\"], [0.7777777777777778, \"#fb9f3a\"], [0.8888888888888888, \"#fdca26\"], [1.0, \"#f0f921\"]], \"type\": \"histogram2dcontour\"}], \"mesh3d\": [{\"colorbar\": {\"outlinewidth\": 0, \"ticks\": \"\"}, \"type\": \"mesh3d\"}], \"parcoords\": [{\"line\": {\"colorbar\": {\"outlinewidth\": 0, \"ticks\": \"\"}}, \"type\": \"parcoords\"}], \"pie\": [{\"automargin\": true, \"type\": \"pie\"}], \"scatter\": [{\"marker\": {\"colorbar\": {\"outlinewidth\": 0, \"ticks\": \"\"}}, \"type\": \"scatter\"}], \"scatter3d\": [{\"line\": {\"colorbar\": {\"outlinewidth\": 0, \"ticks\": \"\"}}, \"marker\": {\"colorbar\": {\"outlinewidth\": 0, \"ticks\": \"\"}}, \"type\": \"scatter3d\"}], \"scattercarpet\": [{\"marker\": {\"colorbar\": {\"outlinewidth\": 0, \"ticks\": \"\"}}, \"type\": \"scattercarpet\"}], \"scattergeo\": [{\"marker\": {\"colorbar\": {\"outlinewidth\": 0, \"ticks\": \"\"}}, \"type\": \"scattergeo\"}], \"scattergl\": [{\"marker\": {\"colorbar\": {\"outlinewidth\": 0, \"ticks\": \"\"}}, \"type\": \"scattergl\"}], \"scattermapbox\": [{\"marker\": {\"colorbar\": {\"outlinewidth\": 0, \"ticks\": \"\"}}, \"type\": \"scattermapbox\"}], \"scatterpolar\": [{\"marker\": {\"colorbar\": {\"outlinewidth\": 0, \"ticks\": \"\"}}, \"type\": \"scatterpolar\"}], \"scatterpolargl\": [{\"marker\": {\"colorbar\": {\"outlinewidth\": 0, \"ticks\": \"\"}}, \"type\": \"scatterpolargl\"}], \"scatterternary\": [{\"marker\": {\"colorbar\": {\"outlinewidth\": 0, \"ticks\": \"\"}}, \"type\": \"scatterternary\"}], \"surface\": [{\"colorbar\": {\"outlinewidth\": 0, \"ticks\": \"\"}, \"colorscale\": [[0.0, \"#0d0887\"], [0.1111111111111111, \"#46039f\"], [0.2222222222222222, \"#7201a8\"], [0.3333333333333333, \"#9c179e\"], [0.4444444444444444, \"#bd3786\"], [0.5555555555555556, \"#d8576b\"], [0.6666666666666666, \"#ed7953\"], [0.7777777777777778, \"#fb9f3a\"], [0.8888888888888888, \"#fdca26\"], [1.0, \"#f0f921\"]], \"type\": \"surface\"}], \"table\": [{\"cells\": {\"fill\": {\"color\": \"#EBF0F8\"}, \"line\": {\"color\": \"white\"}}, \"header\": {\"fill\": {\"color\": \"#C8D4E3\"}, \"line\": {\"color\": \"white\"}}, \"type\": \"table\"}]}, \"layout\": {\"annotationdefaults\": {\"arrowcolor\": \"#2a3f5f\", \"arrowhead\": 0, \"arrowwidth\": 1}, \"coloraxis\": {\"colorbar\": {\"outlinewidth\": 0, \"ticks\": \"\"}}, \"colorscale\": {\"diverging\": [[0, \"#8e0152\"], [0.1, \"#c51b7d\"], [0.2, \"#de77ae\"], [0.3, \"#f1b6da\"], [0.4, \"#fde0ef\"], [0.5, \"#f7f7f7\"], [0.6, \"#e6f5d0\"], [0.7, \"#b8e186\"], [0.8, \"#7fbc41\"], [0.9, \"#4d9221\"], [1, \"#276419\"]], \"sequential\": [[0.0, \"#0d0887\"], [0.1111111111111111, \"#46039f\"], [0.2222222222222222, \"#7201a8\"], [0.3333333333333333, \"#9c179e\"], [0.4444444444444444, \"#bd3786\"], [0.5555555555555556, \"#d8576b\"], [0.6666666666666666, \"#ed7953\"], [0.7777777777777778, \"#fb9f3a\"], [0.8888888888888888, \"#fdca26\"], [1.0, \"#f0f921\"]], \"sequentialminus\": [[0.0, \"#0d0887\"], [0.1111111111111111, \"#46039f\"], [0.2222222222222222, \"#7201a8\"], [0.3333333333333333, \"#9c179e\"], [0.4444444444444444, \"#bd3786\"], [0.5555555555555556, \"#d8576b\"], [0.6666666666666666, \"#ed7953\"], [0.7777777777777778, \"#fb9f3a\"], [0.8888888888888888, \"#fdca26\"], [1.0, \"#f0f921\"]]}, \"colorway\": [\"#636efa\", \"#EF553B\", \"#00cc96\", \"#ab63fa\", \"#FFA15A\", \"#19d3f3\", \"#FF6692\", \"#B6E880\", \"#FF97FF\", \"#FECB52\"], \"font\": {\"color\": \"#2a3f5f\"}, \"geo\": {\"bgcolor\": \"white\", \"lakecolor\": \"white\", \"landcolor\": \"#E5ECF6\", \"showlakes\": true, \"showland\": true, \"subunitcolor\": \"white\"}, \"hoverlabel\": {\"align\": \"left\"}, \"hovermode\": \"closest\", \"mapbox\": {\"style\": \"light\"}, \"paper_bgcolor\": \"white\", \"plot_bgcolor\": \"#E5ECF6\", \"polar\": {\"angularaxis\": {\"gridcolor\": \"white\", \"linecolor\": \"white\", \"ticks\": \"\"}, \"bgcolor\": \"#E5ECF6\", \"radialaxis\": {\"gridcolor\": \"white\", \"linecolor\": \"white\", \"ticks\": \"\"}}, \"scene\": {\"xaxis\": {\"backgroundcolor\": \"#E5ECF6\", \"gridcolor\": \"white\", \"gridwidth\": 2, \"linecolor\": \"white\", \"showbackground\": true, \"ticks\": \"\", \"zerolinecolor\": \"white\"}, \"yaxis\": {\"backgroundcolor\": \"#E5ECF6\", \"gridcolor\": \"white\", \"gridwidth\": 2, \"linecolor\": \"white\", \"showbackground\": true, \"ticks\": \"\", \"zerolinecolor\": \"white\"}, \"zaxis\": {\"backgroundcolor\": \"#E5ECF6\", \"gridcolor\": \"white\", \"gridwidth\": 2, \"linecolor\": \"white\", \"showbackground\": true, \"ticks\": \"\", \"zerolinecolor\": \"white\"}}, \"shapedefaults\": {\"line\": {\"color\": \"#2a3f5f\"}}, \"ternary\": {\"aaxis\": {\"gridcolor\": \"white\", \"linecolor\": \"white\", \"ticks\": \"\"}, \"baxis\": {\"gridcolor\": \"white\", \"linecolor\": \"white\", \"ticks\": \"\"}, \"bgcolor\": \"#E5ECF6\", \"caxis\": {\"gridcolor\": \"white\", \"linecolor\": \"white\", \"ticks\": \"\"}}, \"title\": {\"x\": 0.05}, \"xaxis\": {\"automargin\": true, \"gridcolor\": \"white\", \"linecolor\": \"white\", \"ticks\": \"\", \"title\": {\"standoff\": 15}, \"zerolinecolor\": \"white\", \"zerolinewidth\": 2}, \"yaxis\": {\"automargin\": true, \"gridcolor\": \"white\", \"linecolor\": \"white\", \"ticks\": \"\", \"title\": {\"standoff\": 15}, \"zerolinecolor\": \"white\", \"zerolinewidth\": 2}}}, \"title\": {\"font\": {\"color\": \"#4D5663\"}, \"text\": \"Number of kids under 5 years of age\"}, \"xaxis\": {\"gridcolor\": \"#E1E5ED\", \"showgrid\": true, \"tickfont\": {\"color\": \"#4D5663\"}, \"title\": {\"font\": {\"color\": \"#4D5663\"}, \"text\": \"Country\"}, \"zerolinecolor\": \"#E1E5ED\"}, \"yaxis\": {\"gridcolor\": \"#E1E5ED\", \"showgrid\": true, \"tickfont\": {\"color\": \"#4D5663\"}, \"title\": {\"font\": {\"color\": \"#4D5663\"}, \"text\": \"Population (under 5)\"}, \"zerolinecolor\": \"#E1E5ED\"}},                        {\"showLink\": true, \"linkText\": \"Export to plot.ly\", \"plotlyServerURL\": \"https://plot.ly\", \"responsive\": true}                    ).then(function(){\n",
       "                            \n",
       "var gd = document.getElementById('4dbd8466-7647-4fd7-aaf8-9187371e3dc7');\n",
       "var x = new MutationObserver(function (mutations, observer) {{\n",
       "        var display = window.getComputedStyle(gd).display;\n",
       "        if (!display || display === 'none') {{\n",
       "            console.log([gd, 'removed!']);\n",
       "            Plotly.purge(gd);\n",
       "            observer.disconnect();\n",
       "        }}\n",
       "}});\n",
       "\n",
       "// Listen for the removal of the full notebook cells\n",
       "var notebookContainer = gd.closest('#notebook-container');\n",
       "if (notebookContainer) {{\n",
       "    x.observe(notebookContainer, {childList: true});\n",
       "}}\n",
       "\n",
       "// Listen for the clearing of the current output cell\n",
       "var outputEl = gd.closest('.output');\n",
       "if (outputEl) {{\n",
       "    x.observe(outputEl, {childList: true});\n",
       "}}\n",
       "\n",
       "                        })                };                });            </script>        </div>"
      ]
     },
     "metadata": {},
     "output_type": "display_data"
    }
   ],
   "source": [
    "population_df.iplot(kind = 'bar',xTitle = 'Country',yTitle='Population (under 5)', x = 'Country Name', y = '2019 [YR2019]',\n",
    "                 title = \"Number of kids under 5 years of age\")"
   ]
  },
  {
   "cell_type": "code",
   "execution_count": 31,
   "metadata": {},
   "outputs": [
    {
     "data": {
      "text/html": [
       "<div>\n",
       "<style scoped>\n",
       "    .dataframe tbody tr th:only-of-type {\n",
       "        vertical-align: middle;\n",
       "    }\n",
       "\n",
       "    .dataframe tbody tr th {\n",
       "        vertical-align: top;\n",
       "    }\n",
       "\n",
       "    .dataframe thead th {\n",
       "        text-align: right;\n",
       "    }\n",
       "</style>\n",
       "<table border=\"1\" class=\"dataframe\">\n",
       "  <thead>\n",
       "    <tr style=\"text-align: right;\">\n",
       "      <th></th>\n",
       "      <th>Series Name</th>\n",
       "      <th>Country Name</th>\n",
       "      <th>Country Code</th>\n",
       "      <th>2018 [YR2018]</th>\n",
       "      <th>2019 [YR2019]</th>\n",
       "    </tr>\n",
       "  </thead>\n",
       "  <tbody>\n",
       "    <tr>\n",
       "      <th>0</th>\n",
       "      <td>Age population, age 0, female, interpolated</td>\n",
       "      <td>Argentina</td>\n",
       "      <td>ARG</td>\n",
       "      <td>367796</td>\n",
       "      <td>365277</td>\n",
       "    </tr>\n",
       "    <tr>\n",
       "      <th>1</th>\n",
       "      <td>Age population, age 0, female, interpolated</td>\n",
       "      <td>Australia</td>\n",
       "      <td>AUS</td>\n",
       "      <td>159460</td>\n",
       "      <td>163020</td>\n",
       "    </tr>\n",
       "    <tr>\n",
       "      <th>2</th>\n",
       "      <td>Age population, age 0, female, interpolated</td>\n",
       "      <td>Brazil</td>\n",
       "      <td>BRA</td>\n",
       "      <td>1438921</td>\n",
       "      <td>1422845</td>\n",
       "    </tr>\n",
       "    <tr>\n",
       "      <th>3</th>\n",
       "      <td>Age population, age 0, female, interpolated</td>\n",
       "      <td>Canada</td>\n",
       "      <td>CAN</td>\n",
       "      <td>188712</td>\n",
       "      <td>193067</td>\n",
       "    </tr>\n",
       "    <tr>\n",
       "      <th>4</th>\n",
       "      <td>Age population, age 0, female, interpolated</td>\n",
       "      <td>China</td>\n",
       "      <td>CHN</td>\n",
       "      <td>7888935</td>\n",
       "      <td>7745542</td>\n",
       "    </tr>\n",
       "  </tbody>\n",
       "</table>\n",
       "</div>"
      ],
      "text/plain": [
       "                                   Series Name Country Name Country Code  \\\n",
       "0  Age population, age 0, female, interpolated    Argentina          ARG   \n",
       "1  Age population, age 0, female, interpolated    Australia          AUS   \n",
       "2  Age population, age 0, female, interpolated       Brazil          BRA   \n",
       "3  Age population, age 0, female, interpolated       Canada          CAN   \n",
       "4  Age population, age 0, female, interpolated        China          CHN   \n",
       "\n",
       "   2018 [YR2018]  2019 [YR2019]  \n",
       "0         367796         365277  \n",
       "1         159460         163020  \n",
       "2        1438921        1422845  \n",
       "3         188712         193067  \n",
       "4        7888935        7745542  "
      ]
     },
     "execution_count": 31,
     "metadata": {},
     "output_type": "execute_result"
    }
   ],
   "source": [
    "population_upto_age5.reset_index(inplace = True)\n",
    "population_upto_age5.head()"
   ]
  },
  {
   "cell_type": "code",
   "execution_count": 32,
   "metadata": {},
   "outputs": [
    {
     "data": {
      "text/html": [
       "<div>\n",
       "<style scoped>\n",
       "    .dataframe tbody tr th:only-of-type {\n",
       "        vertical-align: middle;\n",
       "    }\n",
       "\n",
       "    .dataframe tbody tr th {\n",
       "        vertical-align: top;\n",
       "    }\n",
       "\n",
       "    .dataframe thead th {\n",
       "        text-align: right;\n",
       "    }\n",
       "</style>\n",
       "<table border=\"1\" class=\"dataframe\">\n",
       "  <thead>\n",
       "    <tr style=\"text-align: right;\">\n",
       "      <th></th>\n",
       "      <th></th>\n",
       "      <th>2019 [YR2019]</th>\n",
       "    </tr>\n",
       "    <tr>\n",
       "      <th>Country Name</th>\n",
       "      <th>Series Name</th>\n",
       "      <th></th>\n",
       "    </tr>\n",
       "  </thead>\n",
       "  <tbody>\n",
       "    <tr>\n",
       "      <th rowspan=\"5\" valign=\"top\">India</th>\n",
       "      <th>Age population, age 0, male, interpolated</th>\n",
       "      <td>12518937</td>\n",
       "    </tr>\n",
       "    <tr>\n",
       "      <th>Age population, age 01, male, interpolated</th>\n",
       "      <td>12303679</td>\n",
       "    </tr>\n",
       "    <tr>\n",
       "      <th>Age population, age 05, male, interpolated</th>\n",
       "      <td>12203000</td>\n",
       "    </tr>\n",
       "    <tr>\n",
       "      <th>Age population, age 02, male, interpolated</th>\n",
       "      <td>12179091</td>\n",
       "    </tr>\n",
       "    <tr>\n",
       "      <th>Age population, age 03, male, interpolated</th>\n",
       "      <td>12133716</td>\n",
       "    </tr>\n",
       "  </tbody>\n",
       "</table>\n",
       "</div>"
      ],
      "text/plain": [
       "                                                         2019 [YR2019]\n",
       "Country Name Series Name                                              \n",
       "India        Age population, age 0, male, interpolated        12518937\n",
       "             Age population, age 01, male, interpolated       12303679\n",
       "             Age population, age 05, male, interpolated       12203000\n",
       "             Age population, age 02, male, interpolated       12179091\n",
       "             Age population, age 03, male, interpolated       12133716"
      ]
     },
     "execution_count": 32,
     "metadata": {},
     "output_type": "execute_result"
    }
   ],
   "source": [
    "population_groupby1 = population_upto_age5.groupby(['Country Name','Series Name'])['2019 [YR2019]'].sum()\n",
    "population_groupby1 = population_groupby1.to_frame()\n",
    "population_df1 = population_groupby1.apply(lambda x: x.sort_values(ascending = False))\n",
    "population_df1.head(5) "
   ]
  },
  {
   "cell_type": "code",
   "execution_count": 33,
   "metadata": {},
   "outputs": [],
   "source": [
    "population_df1.reset_index(inplace = True)\n"
   ]
  },
  {
   "cell_type": "code",
   "execution_count": 34,
   "metadata": {},
   "outputs": [
    {
     "data": {
      "application/vnd.plotly.v1+json": {
       "config": {
        "plotlyServerURL": "https://plot.ly"
       },
       "data": [
        {
         "alignmentgroup": "True",
         "hovertemplate": "Series Name=Age population, age 0, male, interpolated<br>Country Name=%{x}<br>2019 [YR2019]=%{y}<extra></extra>",
         "legendgroup": "Age population, age 0, male, interpolated",
         "marker": {
          "color": "#636efa"
         },
         "name": "Age population, age 0, male, interpolated",
         "offsetgroup": "Age population, age 0, male, interpolated",
         "orientation": "v",
         "showlegend": true,
         "textposition": "auto",
         "type": "bar",
         "x": [
          "India",
          "China",
          "Indonesia",
          "United States",
          "Brazil",
          "Mexico",
          "Russian Federation",
          "Turkey",
          "South Africa",
          "Japan",
          "Germany",
          "United Kingdom",
          "Argentina",
          "France",
          "Saudi Arabia",
          "Italy",
          "Canada",
          "Australia",
          "Korea, Rep.",
          "Singapore",
          "European Union"
         ],
         "xaxis": "x",
         "y": [
          12518937,
          8701319,
          2345601,
          2009437,
          1489800,
          1108620,
          924141,
          656598,
          571618,
          459741,
          426005,
          381137,
          379410,
          357890,
          293909,
          225949,
          203109,
          172289,
          170974,
          29521,
          0
         ],
         "yaxis": "y"
        },
        {
         "alignmentgroup": "True",
         "hovertemplate": "Series Name=Age population, age 01, male, interpolated<br>Country Name=%{x}<br>2019 [YR2019]=%{y}<extra></extra>",
         "legendgroup": "Age population, age 01, male, interpolated",
         "marker": {
          "color": "#EF553B"
         },
         "name": "Age population, age 01, male, interpolated",
         "offsetgroup": "Age population, age 01, male, interpolated",
         "orientation": "v",
         "showlegend": true,
         "textposition": "auto",
         "type": "bar",
         "x": [
          "India",
          "China",
          "Indonesia",
          "United States",
          "Brazil",
          "Mexico",
          "Russian Federation",
          "Turkey",
          "South Africa",
          "Japan",
          "Germany",
          "United Kingdom",
          "Argentina",
          "France",
          "Saudi Arabia",
          "Italy",
          "Canada",
          "Korea, Rep.",
          "Australia",
          "Singapore",
          "European Union"
         ],
         "xaxis": "x",
         "y": [
          12303679,
          8909715,
          2410167,
          2003035,
          1489267,
          1120728,
          954828,
          671379,
          582233,
          485843,
          416418,
          396982,
          380945,
          367359,
          301804,
          236914,
          203562,
          190489,
          171213,
          27460,
          0
         ],
         "yaxis": "y"
        },
        {
         "alignmentgroup": "True",
         "hovertemplate": "Series Name=Age population, age 05, male, interpolated<br>Country Name=%{x}<br>2019 [YR2019]=%{y}<extra></extra>",
         "legendgroup": "Age population, age 05, male, interpolated",
         "marker": {
          "color": "#00cc96"
         },
         "name": "Age population, age 05, male, interpolated",
         "offsetgroup": "Age population, age 05, male, interpolated",
         "orientation": "v",
         "showlegend": true,
         "textposition": "auto",
         "type": "bar",
         "x": [
          "India",
          "China",
          "Indonesia",
          "United States",
          "Brazil",
          "Mexico",
          "Russian Federation",
          "Turkey",
          "South Africa",
          "Japan",
          "United Kingdom",
          "France",
          "Germany",
          "Argentina",
          "Saudi Arabia",
          "Italy",
          "Korea, Rep.",
          "Canada",
          "Australia",
          "Singapore",
          "European Union"
         ],
         "xaxis": "x",
         "y": [
          12203000,
          9284659,
          2514529,
          2022060,
          1493902,
          1148575,
          980817,
          703105,
          592922,
          549639,
          422266,
          395703,
          389822,
          380365,
          308017,
          269131,
          230823,
          201219,
          166943,
          22425,
          0
         ],
         "yaxis": "y"
        },
        {
         "alignmentgroup": "True",
         "hovertemplate": "Series Name=Age population, age 02, male, interpolated<br>Country Name=%{x}<br>2019 [YR2019]=%{y}<extra></extra>",
         "legendgroup": "Age population, age 02, male, interpolated",
         "marker": {
          "color": "#ab63fa"
         },
         "name": "Age population, age 02, male, interpolated",
         "offsetgroup": "Age population, age 02, male, interpolated",
         "orientation": "v",
         "showlegend": true,
         "textposition": "auto",
         "type": "bar",
         "x": [
          "India",
          "China",
          "Indonesia",
          "United States",
          "Brazil",
          "Mexico",
          "Russian Federation",
          "Turkey",
          "South Africa",
          "Japan",
          "United Kingdom",
          "Germany",
          "Argentina",
          "France",
          "Saudi Arabia",
          "Italy",
          "Korea, Rep.",
          "Canada",
          "Australia",
          "Singapore",
          "European Union"
         ],
         "xaxis": "x",
         "y": [
          12179091,
          9068399,
          2455538,
          2003058,
          1488567,
          1130294,
          974632,
          682873,
          589669,
          507489,
          408935,
          408148,
          381664,
          375814,
          307020,
          246779,
          205742,
          203748,
          170251,
          25794,
          0
         ],
         "yaxis": "y"
        },
        {
         "alignmentgroup": "True",
         "hovertemplate": "Series Name=Age population, age 03, male, interpolated<br>Country Name=%{x}<br>2019 [YR2019]=%{y}<extra></extra>",
         "legendgroup": "Age population, age 03, male, interpolated",
         "marker": {
          "color": "#FFA15A"
         },
         "name": "Age population, age 03, male, interpolated",
         "offsetgroup": "Age population, age 03, male, interpolated",
         "orientation": "v",
         "showlegend": true,
         "textposition": "auto",
         "type": "bar",
         "x": [
          "India",
          "China",
          "Indonesia",
          "United States",
          "Brazil",
          "Mexico",
          "Russian Federation",
          "Turkey",
          "South Africa",
          "Japan",
          "United Kingdom",
          "Germany",
          "France",
          "Argentina",
          "Saudi Arabia",
          "Italy",
          "Korea, Rep.",
          "Canada",
          "Australia",
          "Singapore",
          "European Union"
         ],
         "xaxis": "x",
         "y": [
          12133716,
          9182296,
          2484000,
          2008621,
          1488018,
          1137564,
          984625,
          691429,
          594173,
          525107,
          417366,
          401181,
          383277,
          381663,
          309790,
          255594,
          217240,
          203710,
          169382,
          24496,
          0
         ],
         "yaxis": "y"
        },
        {
         "alignmentgroup": "True",
         "hovertemplate": "Series Name=Age population, age 04, male, interpolated<br>Country Name=%{x}<br>2019 [YR2019]=%{y}<extra></extra>",
         "legendgroup": "Age population, age 04, male, interpolated",
         "marker": {
          "color": "#19d3f3"
         },
         "name": "Age population, age 04, male, interpolated",
         "offsetgroup": "Age population, age 04, male, interpolated",
         "orientation": "v",
         "showlegend": true,
         "textposition": "auto",
         "type": "bar",
         "x": [
          "India",
          "China",
          "Indonesia",
          "United States",
          "Brazil",
          "Mexico",
          "Russian Federation",
          "Turkey",
          "South Africa",
          "Japan",
          "United Kingdom",
          "Germany",
          "France",
          "Argentina",
          "Saudi Arabia",
          "Italy",
          "Korea, Rep.",
          "Canada",
          "Australia",
          "Singapore",
          "European Union"
         ],
         "xaxis": "x",
         "y": [
          12049429,
          9244538,
          2536917,
          1995089,
          1498545,
          1148699,
          991369,
          702883,
          591848,
          540545,
          418574,
          394167,
          391043,
          382279,
          309853,
          261904,
          226892,
          199747,
          166556,
          22301,
          0
         ],
         "yaxis": "y"
        },
        {
         "alignmentgroup": "True",
         "hovertemplate": "Series Name=Age population, age 0, female, interpolated<br>Country Name=%{x}<br>2019 [YR2019]=%{y}<extra></extra>",
         "legendgroup": "Age population, age 0, female, interpolated",
         "marker": {
          "color": "#FF6692"
         },
         "name": "Age population, age 0, female, interpolated",
         "offsetgroup": "Age population, age 0, female, interpolated",
         "orientation": "v",
         "showlegend": true,
         "textposition": "auto",
         "type": "bar",
         "x": [
          "India",
          "China",
          "Indonesia",
          "United States",
          "Brazil",
          "Mexico",
          "Russian Federation",
          "Turkey",
          "South Africa",
          "Japan",
          "Germany",
          "Argentina",
          "United Kingdom",
          "France",
          "Saudi Arabia",
          "Italy",
          "Canada",
          "Australia",
          "Korea, Rep.",
          "Singapore",
          "European Union"
         ],
         "xaxis": "x",
         "y": [
          11385787,
          7745542,
          2230832,
          1922530,
          1422845,
          1058054,
          875687,
          627203,
          556644,
          435574,
          405170,
          365277,
          363253,
          340973,
          284443,
          212928,
          193067,
          163020,
          161213,
          27436,
          0
         ],
         "yaxis": "y"
        },
        {
         "alignmentgroup": "True",
         "hovertemplate": "Series Name=Age population, age 01, female, interpolated<br>Country Name=%{x}<br>2019 [YR2019]=%{y}<extra></extra>",
         "legendgroup": "Age population, age 01, female, interpolated",
         "marker": {
          "color": "#B6E880"
         },
         "name": "Age population, age 01, female, interpolated",
         "offsetgroup": "Age population, age 01, female, interpolated",
         "orientation": "v",
         "showlegend": true,
         "textposition": "auto",
         "type": "bar",
         "x": [
          "India",
          "China",
          "Indonesia",
          "United States",
          "Brazil",
          "Mexico",
          "Russian Federation",
          "Turkey",
          "South Africa",
          "Japan",
          "Germany",
          "United Kingdom",
          "Argentina",
          "France",
          "Saudi Arabia",
          "Italy",
          "Canada",
          "Korea, Rep.",
          "Australia",
          "Singapore",
          "European Union"
         ],
         "xaxis": "x",
         "y": [
          11187267,
          7911857,
          2302607,
          1916465,
          1422022,
          1070514,
          903891,
          641441,
          567291,
          460368,
          395772,
          378374,
          366879,
          351008,
          292177,
          223109,
          193821,
          180261,
          162149,
          25443,
          0
         ],
         "yaxis": "y"
        },
        {
         "alignmentgroup": "True",
         "hovertemplate": "Series Name=Age population, age 02, female, interpolated<br>Country Name=%{x}<br>2019 [YR2019]=%{y}<extra></extra>",
         "legendgroup": "Age population, age 02, female, interpolated",
         "marker": {
          "color": "#FF97FF"
         },
         "name": "Age population, age 02, female, interpolated",
         "offsetgroup": "Age population, age 02, female, interpolated",
         "orientation": "v",
         "showlegend": true,
         "textposition": "auto",
         "type": "bar",
         "x": [
          "India",
          "China",
          "Indonesia",
          "United States",
          "Brazil",
          "Mexico",
          "Russian Federation",
          "Turkey",
          "South Africa",
          "Japan",
          "United Kingdom",
          "Germany",
          "Argentina",
          "France",
          "Saudi Arabia",
          "Italy",
          "Korea, Rep.",
          "Canada",
          "Australia",
          "Singapore",
          "European Union"
         ],
         "xaxis": "x",
         "y": [
          11070664,
          8028851,
          2352661,
          1916403,
          1421275,
          1080199,
          922175,
          652538,
          574838,
          480926,
          389799,
          387479,
          367669,
          359776,
          297291,
          232334,
          195110,
          194249,
          161348,
          23880,
          0
         ],
         "yaxis": "y"
        },
        {
         "alignmentgroup": "True",
         "hovertemplate": "Series Name=Age population, age 05, female, interpolated<br>Country Name=%{x}<br>2019 [YR2019]=%{y}<extra></extra>",
         "legendgroup": "Age population, age 05, female, interpolated",
         "marker": {
          "color": "#FECB52"
         },
         "name": "Age population, age 05, female, interpolated",
         "offsetgroup": "Age population, age 05, female, interpolated",
         "orientation": "v",
         "showlegend": true,
         "textposition": "auto",
         "type": "bar",
         "x": [
          "India",
          "China",
          "Indonesia",
          "United States",
          "Brazil",
          "Mexico",
          "Russian Federation",
          "Turkey",
          "South Africa",
          "Japan",
          "United Kingdom",
          "France",
          "Germany",
          "Argentina",
          "Saudi Arabia",
          "Italy",
          "Korea, Rep.",
          "Canada",
          "Australia",
          "Singapore",
          "European Union"
         ],
         "xaxis": "x",
         "y": [
          11070531,
          8138421,
          2413297,
          1933584,
          1427123,
          1098214,
          928061,
          671380,
          578995,
          520926,
          402514,
          379169,
          367905,
          366559,
          298234,
          253442,
          219006,
          192046,
          158443,
          21040,
          0
         ],
         "yaxis": "y"
        },
        {
         "alignmentgroup": "True",
         "hovertemplate": "Series Name=Age population, age 03, female, interpolated<br>Country Name=%{x}<br>2019 [YR2019]=%{y}<extra></extra>",
         "legendgroup": "Age population, age 03, female, interpolated",
         "marker": {
          "color": "#636efa"
         },
         "name": "Age population, age 03, female, interpolated",
         "offsetgroup": "Age population, age 03, female, interpolated",
         "orientation": "v",
         "showlegend": true,
         "textposition": "auto",
         "type": "bar",
         "x": [
          "India",
          "China",
          "Indonesia",
          "United States",
          "Brazil",
          "Mexico",
          "Russian Federation",
          "Turkey",
          "South Africa",
          "Japan",
          "United Kingdom",
          "Germany",
          "Argentina",
          "France",
          "Saudi Arabia",
          "Italy",
          "Korea, Rep.",
          "Canada",
          "Australia",
          "Singapore",
          "European Union"
         ],
         "xaxis": "x",
         "y": [
          11025350,
          8102122,
          2383568,
          1921537,
          1420892,
          1087414,
          931509,
          660825,
          579528,
          497655,
          397882,
          380293,
          367740,
          367336,
          300013,
          240634,
          206246,
          194400,
          160603,
          22710,
          0
         ],
         "yaxis": "y"
        },
        {
         "alignmentgroup": "True",
         "hovertemplate": "Series Name=Age population, age 04, female, interpolated<br>Country Name=%{x}<br>2019 [YR2019]=%{y}<extra></extra>",
         "legendgroup": "Age population, age 04, female, interpolated",
         "marker": {
          "color": "#EF553B"
         },
         "name": "Age population, age 04, female, interpolated",
         "offsetgroup": "Age population, age 04, female, interpolated",
         "orientation": "v",
         "showlegend": true,
         "textposition": "auto",
         "type": "bar",
         "x": [
          "India",
          "China",
          "Indonesia",
          "United States",
          "Brazil",
          "Mexico",
          "Russian Federation",
          "Turkey",
          "South Africa",
          "Japan",
          "United Kingdom",
          "France",
          "Germany",
          "Argentina",
          "Saudi Arabia",
          "Italy",
          "Korea, Rep.",
          "Canada",
          "Australia",
          "Singapore",
          "European Union"
         ],
         "xaxis": "x",
         "y": [
          10927902,
          8146395,
          2437870,
          1907921,
          1430719,
          1098870,
          937182,
          670753,
          577769,
          512282,
          398744,
          374745,
          372809,
          368356,
          299940,
          246400,
          215335,
          190444,
          158046,
          20922,
          0
         ],
         "yaxis": "y"
        }
       ],
       "layout": {
        "barmode": "relative",
        "legend": {
         "title": {
          "text": "Series Name"
         },
         "tracegroupgap": 0
        },
        "template": {
         "data": {
          "bar": [
           {
            "error_x": {
             "color": "#2a3f5f"
            },
            "error_y": {
             "color": "#2a3f5f"
            },
            "marker": {
             "line": {
              "color": "#E5ECF6",
              "width": 0.5
             }
            },
            "type": "bar"
           }
          ],
          "barpolar": [
           {
            "marker": {
             "line": {
              "color": "#E5ECF6",
              "width": 0.5
             }
            },
            "type": "barpolar"
           }
          ],
          "carpet": [
           {
            "aaxis": {
             "endlinecolor": "#2a3f5f",
             "gridcolor": "white",
             "linecolor": "white",
             "minorgridcolor": "white",
             "startlinecolor": "#2a3f5f"
            },
            "baxis": {
             "endlinecolor": "#2a3f5f",
             "gridcolor": "white",
             "linecolor": "white",
             "minorgridcolor": "white",
             "startlinecolor": "#2a3f5f"
            },
            "type": "carpet"
           }
          ],
          "choropleth": [
           {
            "colorbar": {
             "outlinewidth": 0,
             "ticks": ""
            },
            "type": "choropleth"
           }
          ],
          "contour": [
           {
            "colorbar": {
             "outlinewidth": 0,
             "ticks": ""
            },
            "colorscale": [
             [
              0,
              "#0d0887"
             ],
             [
              0.1111111111111111,
              "#46039f"
             ],
             [
              0.2222222222222222,
              "#7201a8"
             ],
             [
              0.3333333333333333,
              "#9c179e"
             ],
             [
              0.4444444444444444,
              "#bd3786"
             ],
             [
              0.5555555555555556,
              "#d8576b"
             ],
             [
              0.6666666666666666,
              "#ed7953"
             ],
             [
              0.7777777777777778,
              "#fb9f3a"
             ],
             [
              0.8888888888888888,
              "#fdca26"
             ],
             [
              1,
              "#f0f921"
             ]
            ],
            "type": "contour"
           }
          ],
          "contourcarpet": [
           {
            "colorbar": {
             "outlinewidth": 0,
             "ticks": ""
            },
            "type": "contourcarpet"
           }
          ],
          "heatmap": [
           {
            "colorbar": {
             "outlinewidth": 0,
             "ticks": ""
            },
            "colorscale": [
             [
              0,
              "#0d0887"
             ],
             [
              0.1111111111111111,
              "#46039f"
             ],
             [
              0.2222222222222222,
              "#7201a8"
             ],
             [
              0.3333333333333333,
              "#9c179e"
             ],
             [
              0.4444444444444444,
              "#bd3786"
             ],
             [
              0.5555555555555556,
              "#d8576b"
             ],
             [
              0.6666666666666666,
              "#ed7953"
             ],
             [
              0.7777777777777778,
              "#fb9f3a"
             ],
             [
              0.8888888888888888,
              "#fdca26"
             ],
             [
              1,
              "#f0f921"
             ]
            ],
            "type": "heatmap"
           }
          ],
          "heatmapgl": [
           {
            "colorbar": {
             "outlinewidth": 0,
             "ticks": ""
            },
            "colorscale": [
             [
              0,
              "#0d0887"
             ],
             [
              0.1111111111111111,
              "#46039f"
             ],
             [
              0.2222222222222222,
              "#7201a8"
             ],
             [
              0.3333333333333333,
              "#9c179e"
             ],
             [
              0.4444444444444444,
              "#bd3786"
             ],
             [
              0.5555555555555556,
              "#d8576b"
             ],
             [
              0.6666666666666666,
              "#ed7953"
             ],
             [
              0.7777777777777778,
              "#fb9f3a"
             ],
             [
              0.8888888888888888,
              "#fdca26"
             ],
             [
              1,
              "#f0f921"
             ]
            ],
            "type": "heatmapgl"
           }
          ],
          "histogram": [
           {
            "marker": {
             "colorbar": {
              "outlinewidth": 0,
              "ticks": ""
             }
            },
            "type": "histogram"
           }
          ],
          "histogram2d": [
           {
            "colorbar": {
             "outlinewidth": 0,
             "ticks": ""
            },
            "colorscale": [
             [
              0,
              "#0d0887"
             ],
             [
              0.1111111111111111,
              "#46039f"
             ],
             [
              0.2222222222222222,
              "#7201a8"
             ],
             [
              0.3333333333333333,
              "#9c179e"
             ],
             [
              0.4444444444444444,
              "#bd3786"
             ],
             [
              0.5555555555555556,
              "#d8576b"
             ],
             [
              0.6666666666666666,
              "#ed7953"
             ],
             [
              0.7777777777777778,
              "#fb9f3a"
             ],
             [
              0.8888888888888888,
              "#fdca26"
             ],
             [
              1,
              "#f0f921"
             ]
            ],
            "type": "histogram2d"
           }
          ],
          "histogram2dcontour": [
           {
            "colorbar": {
             "outlinewidth": 0,
             "ticks": ""
            },
            "colorscale": [
             [
              0,
              "#0d0887"
             ],
             [
              0.1111111111111111,
              "#46039f"
             ],
             [
              0.2222222222222222,
              "#7201a8"
             ],
             [
              0.3333333333333333,
              "#9c179e"
             ],
             [
              0.4444444444444444,
              "#bd3786"
             ],
             [
              0.5555555555555556,
              "#d8576b"
             ],
             [
              0.6666666666666666,
              "#ed7953"
             ],
             [
              0.7777777777777778,
              "#fb9f3a"
             ],
             [
              0.8888888888888888,
              "#fdca26"
             ],
             [
              1,
              "#f0f921"
             ]
            ],
            "type": "histogram2dcontour"
           }
          ],
          "mesh3d": [
           {
            "colorbar": {
             "outlinewidth": 0,
             "ticks": ""
            },
            "type": "mesh3d"
           }
          ],
          "parcoords": [
           {
            "line": {
             "colorbar": {
              "outlinewidth": 0,
              "ticks": ""
             }
            },
            "type": "parcoords"
           }
          ],
          "pie": [
           {
            "automargin": true,
            "type": "pie"
           }
          ],
          "scatter": [
           {
            "marker": {
             "colorbar": {
              "outlinewidth": 0,
              "ticks": ""
             }
            },
            "type": "scatter"
           }
          ],
          "scatter3d": [
           {
            "line": {
             "colorbar": {
              "outlinewidth": 0,
              "ticks": ""
             }
            },
            "marker": {
             "colorbar": {
              "outlinewidth": 0,
              "ticks": ""
             }
            },
            "type": "scatter3d"
           }
          ],
          "scattercarpet": [
           {
            "marker": {
             "colorbar": {
              "outlinewidth": 0,
              "ticks": ""
             }
            },
            "type": "scattercarpet"
           }
          ],
          "scattergeo": [
           {
            "marker": {
             "colorbar": {
              "outlinewidth": 0,
              "ticks": ""
             }
            },
            "type": "scattergeo"
           }
          ],
          "scattergl": [
           {
            "marker": {
             "colorbar": {
              "outlinewidth": 0,
              "ticks": ""
             }
            },
            "type": "scattergl"
           }
          ],
          "scattermapbox": [
           {
            "marker": {
             "colorbar": {
              "outlinewidth": 0,
              "ticks": ""
             }
            },
            "type": "scattermapbox"
           }
          ],
          "scatterpolar": [
           {
            "marker": {
             "colorbar": {
              "outlinewidth": 0,
              "ticks": ""
             }
            },
            "type": "scatterpolar"
           }
          ],
          "scatterpolargl": [
           {
            "marker": {
             "colorbar": {
              "outlinewidth": 0,
              "ticks": ""
             }
            },
            "type": "scatterpolargl"
           }
          ],
          "scatterternary": [
           {
            "marker": {
             "colorbar": {
              "outlinewidth": 0,
              "ticks": ""
             }
            },
            "type": "scatterternary"
           }
          ],
          "surface": [
           {
            "colorbar": {
             "outlinewidth": 0,
             "ticks": ""
            },
            "colorscale": [
             [
              0,
              "#0d0887"
             ],
             [
              0.1111111111111111,
              "#46039f"
             ],
             [
              0.2222222222222222,
              "#7201a8"
             ],
             [
              0.3333333333333333,
              "#9c179e"
             ],
             [
              0.4444444444444444,
              "#bd3786"
             ],
             [
              0.5555555555555556,
              "#d8576b"
             ],
             [
              0.6666666666666666,
              "#ed7953"
             ],
             [
              0.7777777777777778,
              "#fb9f3a"
             ],
             [
              0.8888888888888888,
              "#fdca26"
             ],
             [
              1,
              "#f0f921"
             ]
            ],
            "type": "surface"
           }
          ],
          "table": [
           {
            "cells": {
             "fill": {
              "color": "#EBF0F8"
             },
             "line": {
              "color": "white"
             }
            },
            "header": {
             "fill": {
              "color": "#C8D4E3"
             },
             "line": {
              "color": "white"
             }
            },
            "type": "table"
           }
          ]
         },
         "layout": {
          "annotationdefaults": {
           "arrowcolor": "#2a3f5f",
           "arrowhead": 0,
           "arrowwidth": 1
          },
          "coloraxis": {
           "colorbar": {
            "outlinewidth": 0,
            "ticks": ""
           }
          },
          "colorscale": {
           "diverging": [
            [
             0,
             "#8e0152"
            ],
            [
             0.1,
             "#c51b7d"
            ],
            [
             0.2,
             "#de77ae"
            ],
            [
             0.3,
             "#f1b6da"
            ],
            [
             0.4,
             "#fde0ef"
            ],
            [
             0.5,
             "#f7f7f7"
            ],
            [
             0.6,
             "#e6f5d0"
            ],
            [
             0.7,
             "#b8e186"
            ],
            [
             0.8,
             "#7fbc41"
            ],
            [
             0.9,
             "#4d9221"
            ],
            [
             1,
             "#276419"
            ]
           ],
           "sequential": [
            [
             0,
             "#0d0887"
            ],
            [
             0.1111111111111111,
             "#46039f"
            ],
            [
             0.2222222222222222,
             "#7201a8"
            ],
            [
             0.3333333333333333,
             "#9c179e"
            ],
            [
             0.4444444444444444,
             "#bd3786"
            ],
            [
             0.5555555555555556,
             "#d8576b"
            ],
            [
             0.6666666666666666,
             "#ed7953"
            ],
            [
             0.7777777777777778,
             "#fb9f3a"
            ],
            [
             0.8888888888888888,
             "#fdca26"
            ],
            [
             1,
             "#f0f921"
            ]
           ],
           "sequentialminus": [
            [
             0,
             "#0d0887"
            ],
            [
             0.1111111111111111,
             "#46039f"
            ],
            [
             0.2222222222222222,
             "#7201a8"
            ],
            [
             0.3333333333333333,
             "#9c179e"
            ],
            [
             0.4444444444444444,
             "#bd3786"
            ],
            [
             0.5555555555555556,
             "#d8576b"
            ],
            [
             0.6666666666666666,
             "#ed7953"
            ],
            [
             0.7777777777777778,
             "#fb9f3a"
            ],
            [
             0.8888888888888888,
             "#fdca26"
            ],
            [
             1,
             "#f0f921"
            ]
           ]
          },
          "colorway": [
           "#636efa",
           "#EF553B",
           "#00cc96",
           "#ab63fa",
           "#FFA15A",
           "#19d3f3",
           "#FF6692",
           "#B6E880",
           "#FF97FF",
           "#FECB52"
          ],
          "font": {
           "color": "#2a3f5f"
          },
          "geo": {
           "bgcolor": "white",
           "lakecolor": "white",
           "landcolor": "#E5ECF6",
           "showlakes": true,
           "showland": true,
           "subunitcolor": "white"
          },
          "hoverlabel": {
           "align": "left"
          },
          "hovermode": "closest",
          "mapbox": {
           "style": "light"
          },
          "paper_bgcolor": "white",
          "plot_bgcolor": "#E5ECF6",
          "polar": {
           "angularaxis": {
            "gridcolor": "white",
            "linecolor": "white",
            "ticks": ""
           },
           "bgcolor": "#E5ECF6",
           "radialaxis": {
            "gridcolor": "white",
            "linecolor": "white",
            "ticks": ""
           }
          },
          "scene": {
           "xaxis": {
            "backgroundcolor": "#E5ECF6",
            "gridcolor": "white",
            "gridwidth": 2,
            "linecolor": "white",
            "showbackground": true,
            "ticks": "",
            "zerolinecolor": "white"
           },
           "yaxis": {
            "backgroundcolor": "#E5ECF6",
            "gridcolor": "white",
            "gridwidth": 2,
            "linecolor": "white",
            "showbackground": true,
            "ticks": "",
            "zerolinecolor": "white"
           },
           "zaxis": {
            "backgroundcolor": "#E5ECF6",
            "gridcolor": "white",
            "gridwidth": 2,
            "linecolor": "white",
            "showbackground": true,
            "ticks": "",
            "zerolinecolor": "white"
           }
          },
          "shapedefaults": {
           "line": {
            "color": "#2a3f5f"
           }
          },
          "ternary": {
           "aaxis": {
            "gridcolor": "white",
            "linecolor": "white",
            "ticks": ""
           },
           "baxis": {
            "gridcolor": "white",
            "linecolor": "white",
            "ticks": ""
           },
           "bgcolor": "#E5ECF6",
           "caxis": {
            "gridcolor": "white",
            "linecolor": "white",
            "ticks": ""
           }
          },
          "title": {
           "x": 0.05
          },
          "xaxis": {
           "automargin": true,
           "gridcolor": "white",
           "linecolor": "white",
           "ticks": "",
           "title": {
            "standoff": 15
           },
           "zerolinecolor": "white",
           "zerolinewidth": 2
          },
          "yaxis": {
           "automargin": true,
           "gridcolor": "white",
           "linecolor": "white",
           "ticks": "",
           "title": {
            "standoff": 15
           },
           "zerolinecolor": "white",
           "zerolinewidth": 2
          }
         }
        },
        "title": {
         "text": "Population of kids under age 5 yrs"
        },
        "xaxis": {
         "anchor": "y",
         "domain": [
          0,
          1
         ],
         "title": {
          "text": "Country Name"
         }
        },
        "yaxis": {
         "anchor": "x",
         "domain": [
          0,
          1
         ],
         "title": {
          "text": "2019 [YR2019]"
         }
        }
       }
      },
      "text/html": [
       "<div>                            <div id=\"20e93b1a-ad34-4c1a-ac88-46391ebaada8\" class=\"plotly-graph-div\" style=\"height:525px; width:100%;\"></div>            <script type=\"text/javascript\">                require([\"plotly\"], function(Plotly) {                    window.PLOTLYENV=window.PLOTLYENV || {};                                    if (document.getElementById(\"20e93b1a-ad34-4c1a-ac88-46391ebaada8\")) {                    Plotly.newPlot(                        \"20e93b1a-ad34-4c1a-ac88-46391ebaada8\",                        [{\"alignmentgroup\": \"True\", \"hovertemplate\": \"Series Name=Age population, age 0, male, interpolated<br>Country Name=%{x}<br>2019 [YR2019]=%{y}<extra></extra>\", \"legendgroup\": \"Age population, age 0, male, interpolated\", \"marker\": {\"color\": \"#636efa\"}, \"name\": \"Age population, age 0, male, interpolated\", \"offsetgroup\": \"Age population, age 0, male, interpolated\", \"orientation\": \"v\", \"showlegend\": true, \"textposition\": \"auto\", \"type\": \"bar\", \"x\": [\"India\", \"China\", \"Indonesia\", \"United States\", \"Brazil\", \"Mexico\", \"Russian Federation\", \"Turkey\", \"South Africa\", \"Japan\", \"Germany\", \"United Kingdom\", \"Argentina\", \"France\", \"Saudi Arabia\", \"Italy\", \"Canada\", \"Australia\", \"Korea, Rep.\", \"Singapore\", \"European Union\"], \"xaxis\": \"x\", \"y\": [12518937, 8701319, 2345601, 2009437, 1489800, 1108620, 924141, 656598, 571618, 459741, 426005, 381137, 379410, 357890, 293909, 225949, 203109, 172289, 170974, 29521, 0], \"yaxis\": \"y\"}, {\"alignmentgroup\": \"True\", \"hovertemplate\": \"Series Name=Age population, age 01, male, interpolated<br>Country Name=%{x}<br>2019 [YR2019]=%{y}<extra></extra>\", \"legendgroup\": \"Age population, age 01, male, interpolated\", \"marker\": {\"color\": \"#EF553B\"}, \"name\": \"Age population, age 01, male, interpolated\", \"offsetgroup\": \"Age population, age 01, male, interpolated\", \"orientation\": \"v\", \"showlegend\": true, \"textposition\": \"auto\", \"type\": \"bar\", \"x\": [\"India\", \"China\", \"Indonesia\", \"United States\", \"Brazil\", \"Mexico\", \"Russian Federation\", \"Turkey\", \"South Africa\", \"Japan\", \"Germany\", \"United Kingdom\", \"Argentina\", \"France\", \"Saudi Arabia\", \"Italy\", \"Canada\", \"Korea, Rep.\", \"Australia\", \"Singapore\", \"European Union\"], \"xaxis\": \"x\", \"y\": [12303679, 8909715, 2410167, 2003035, 1489267, 1120728, 954828, 671379, 582233, 485843, 416418, 396982, 380945, 367359, 301804, 236914, 203562, 190489, 171213, 27460, 0], \"yaxis\": \"y\"}, {\"alignmentgroup\": \"True\", \"hovertemplate\": \"Series Name=Age population, age 05, male, interpolated<br>Country Name=%{x}<br>2019 [YR2019]=%{y}<extra></extra>\", \"legendgroup\": \"Age population, age 05, male, interpolated\", \"marker\": {\"color\": \"#00cc96\"}, \"name\": \"Age population, age 05, male, interpolated\", \"offsetgroup\": \"Age population, age 05, male, interpolated\", \"orientation\": \"v\", \"showlegend\": true, \"textposition\": \"auto\", \"type\": \"bar\", \"x\": [\"India\", \"China\", \"Indonesia\", \"United States\", \"Brazil\", \"Mexico\", \"Russian Federation\", \"Turkey\", \"South Africa\", \"Japan\", \"United Kingdom\", \"France\", \"Germany\", \"Argentina\", \"Saudi Arabia\", \"Italy\", \"Korea, Rep.\", \"Canada\", \"Australia\", \"Singapore\", \"European Union\"], \"xaxis\": \"x\", \"y\": [12203000, 9284659, 2514529, 2022060, 1493902, 1148575, 980817, 703105, 592922, 549639, 422266, 395703, 389822, 380365, 308017, 269131, 230823, 201219, 166943, 22425, 0], \"yaxis\": \"y\"}, {\"alignmentgroup\": \"True\", \"hovertemplate\": \"Series Name=Age population, age 02, male, interpolated<br>Country Name=%{x}<br>2019 [YR2019]=%{y}<extra></extra>\", \"legendgroup\": \"Age population, age 02, male, interpolated\", \"marker\": {\"color\": \"#ab63fa\"}, \"name\": \"Age population, age 02, male, interpolated\", \"offsetgroup\": \"Age population, age 02, male, interpolated\", \"orientation\": \"v\", \"showlegend\": true, \"textposition\": \"auto\", \"type\": \"bar\", \"x\": [\"India\", \"China\", \"Indonesia\", \"United States\", \"Brazil\", \"Mexico\", \"Russian Federation\", \"Turkey\", \"South Africa\", \"Japan\", \"United Kingdom\", \"Germany\", \"Argentina\", \"France\", \"Saudi Arabia\", \"Italy\", \"Korea, Rep.\", \"Canada\", \"Australia\", \"Singapore\", \"European Union\"], \"xaxis\": \"x\", \"y\": [12179091, 9068399, 2455538, 2003058, 1488567, 1130294, 974632, 682873, 589669, 507489, 408935, 408148, 381664, 375814, 307020, 246779, 205742, 203748, 170251, 25794, 0], \"yaxis\": \"y\"}, {\"alignmentgroup\": \"True\", \"hovertemplate\": \"Series Name=Age population, age 03, male, interpolated<br>Country Name=%{x}<br>2019 [YR2019]=%{y}<extra></extra>\", \"legendgroup\": \"Age population, age 03, male, interpolated\", \"marker\": {\"color\": \"#FFA15A\"}, \"name\": \"Age population, age 03, male, interpolated\", \"offsetgroup\": \"Age population, age 03, male, interpolated\", \"orientation\": \"v\", \"showlegend\": true, \"textposition\": \"auto\", \"type\": \"bar\", \"x\": [\"India\", \"China\", \"Indonesia\", \"United States\", \"Brazil\", \"Mexico\", \"Russian Federation\", \"Turkey\", \"South Africa\", \"Japan\", \"United Kingdom\", \"Germany\", \"France\", \"Argentina\", \"Saudi Arabia\", \"Italy\", \"Korea, Rep.\", \"Canada\", \"Australia\", \"Singapore\", \"European Union\"], \"xaxis\": \"x\", \"y\": [12133716, 9182296, 2484000, 2008621, 1488018, 1137564, 984625, 691429, 594173, 525107, 417366, 401181, 383277, 381663, 309790, 255594, 217240, 203710, 169382, 24496, 0], \"yaxis\": \"y\"}, {\"alignmentgroup\": \"True\", \"hovertemplate\": \"Series Name=Age population, age 04, male, interpolated<br>Country Name=%{x}<br>2019 [YR2019]=%{y}<extra></extra>\", \"legendgroup\": \"Age population, age 04, male, interpolated\", \"marker\": {\"color\": \"#19d3f3\"}, \"name\": \"Age population, age 04, male, interpolated\", \"offsetgroup\": \"Age population, age 04, male, interpolated\", \"orientation\": \"v\", \"showlegend\": true, \"textposition\": \"auto\", \"type\": \"bar\", \"x\": [\"India\", \"China\", \"Indonesia\", \"United States\", \"Brazil\", \"Mexico\", \"Russian Federation\", \"Turkey\", \"South Africa\", \"Japan\", \"United Kingdom\", \"Germany\", \"France\", \"Argentina\", \"Saudi Arabia\", \"Italy\", \"Korea, Rep.\", \"Canada\", \"Australia\", \"Singapore\", \"European Union\"], \"xaxis\": \"x\", \"y\": [12049429, 9244538, 2536917, 1995089, 1498545, 1148699, 991369, 702883, 591848, 540545, 418574, 394167, 391043, 382279, 309853, 261904, 226892, 199747, 166556, 22301, 0], \"yaxis\": \"y\"}, {\"alignmentgroup\": \"True\", \"hovertemplate\": \"Series Name=Age population, age 0, female, interpolated<br>Country Name=%{x}<br>2019 [YR2019]=%{y}<extra></extra>\", \"legendgroup\": \"Age population, age 0, female, interpolated\", \"marker\": {\"color\": \"#FF6692\"}, \"name\": \"Age population, age 0, female, interpolated\", \"offsetgroup\": \"Age population, age 0, female, interpolated\", \"orientation\": \"v\", \"showlegend\": true, \"textposition\": \"auto\", \"type\": \"bar\", \"x\": [\"India\", \"China\", \"Indonesia\", \"United States\", \"Brazil\", \"Mexico\", \"Russian Federation\", \"Turkey\", \"South Africa\", \"Japan\", \"Germany\", \"Argentina\", \"United Kingdom\", \"France\", \"Saudi Arabia\", \"Italy\", \"Canada\", \"Australia\", \"Korea, Rep.\", \"Singapore\", \"European Union\"], \"xaxis\": \"x\", \"y\": [11385787, 7745542, 2230832, 1922530, 1422845, 1058054, 875687, 627203, 556644, 435574, 405170, 365277, 363253, 340973, 284443, 212928, 193067, 163020, 161213, 27436, 0], \"yaxis\": \"y\"}, {\"alignmentgroup\": \"True\", \"hovertemplate\": \"Series Name=Age population, age 01, female, interpolated<br>Country Name=%{x}<br>2019 [YR2019]=%{y}<extra></extra>\", \"legendgroup\": \"Age population, age 01, female, interpolated\", \"marker\": {\"color\": \"#B6E880\"}, \"name\": \"Age population, age 01, female, interpolated\", \"offsetgroup\": \"Age population, age 01, female, interpolated\", \"orientation\": \"v\", \"showlegend\": true, \"textposition\": \"auto\", \"type\": \"bar\", \"x\": [\"India\", \"China\", \"Indonesia\", \"United States\", \"Brazil\", \"Mexico\", \"Russian Federation\", \"Turkey\", \"South Africa\", \"Japan\", \"Germany\", \"United Kingdom\", \"Argentina\", \"France\", \"Saudi Arabia\", \"Italy\", \"Canada\", \"Korea, Rep.\", \"Australia\", \"Singapore\", \"European Union\"], \"xaxis\": \"x\", \"y\": [11187267, 7911857, 2302607, 1916465, 1422022, 1070514, 903891, 641441, 567291, 460368, 395772, 378374, 366879, 351008, 292177, 223109, 193821, 180261, 162149, 25443, 0], \"yaxis\": \"y\"}, {\"alignmentgroup\": \"True\", \"hovertemplate\": \"Series Name=Age population, age 02, female, interpolated<br>Country Name=%{x}<br>2019 [YR2019]=%{y}<extra></extra>\", \"legendgroup\": \"Age population, age 02, female, interpolated\", \"marker\": {\"color\": \"#FF97FF\"}, \"name\": \"Age population, age 02, female, interpolated\", \"offsetgroup\": \"Age population, age 02, female, interpolated\", \"orientation\": \"v\", \"showlegend\": true, \"textposition\": \"auto\", \"type\": \"bar\", \"x\": [\"India\", \"China\", \"Indonesia\", \"United States\", \"Brazil\", \"Mexico\", \"Russian Federation\", \"Turkey\", \"South Africa\", \"Japan\", \"United Kingdom\", \"Germany\", \"Argentina\", \"France\", \"Saudi Arabia\", \"Italy\", \"Korea, Rep.\", \"Canada\", \"Australia\", \"Singapore\", \"European Union\"], \"xaxis\": \"x\", \"y\": [11070664, 8028851, 2352661, 1916403, 1421275, 1080199, 922175, 652538, 574838, 480926, 389799, 387479, 367669, 359776, 297291, 232334, 195110, 194249, 161348, 23880, 0], \"yaxis\": \"y\"}, {\"alignmentgroup\": \"True\", \"hovertemplate\": \"Series Name=Age population, age 05, female, interpolated<br>Country Name=%{x}<br>2019 [YR2019]=%{y}<extra></extra>\", \"legendgroup\": \"Age population, age 05, female, interpolated\", \"marker\": {\"color\": \"#FECB52\"}, \"name\": \"Age population, age 05, female, interpolated\", \"offsetgroup\": \"Age population, age 05, female, interpolated\", \"orientation\": \"v\", \"showlegend\": true, \"textposition\": \"auto\", \"type\": \"bar\", \"x\": [\"India\", \"China\", \"Indonesia\", \"United States\", \"Brazil\", \"Mexico\", \"Russian Federation\", \"Turkey\", \"South Africa\", \"Japan\", \"United Kingdom\", \"France\", \"Germany\", \"Argentina\", \"Saudi Arabia\", \"Italy\", \"Korea, Rep.\", \"Canada\", \"Australia\", \"Singapore\", \"European Union\"], \"xaxis\": \"x\", \"y\": [11070531, 8138421, 2413297, 1933584, 1427123, 1098214, 928061, 671380, 578995, 520926, 402514, 379169, 367905, 366559, 298234, 253442, 219006, 192046, 158443, 21040, 0], \"yaxis\": \"y\"}, {\"alignmentgroup\": \"True\", \"hovertemplate\": \"Series Name=Age population, age 03, female, interpolated<br>Country Name=%{x}<br>2019 [YR2019]=%{y}<extra></extra>\", \"legendgroup\": \"Age population, age 03, female, interpolated\", \"marker\": {\"color\": \"#636efa\"}, \"name\": \"Age population, age 03, female, interpolated\", \"offsetgroup\": \"Age population, age 03, female, interpolated\", \"orientation\": \"v\", \"showlegend\": true, \"textposition\": \"auto\", \"type\": \"bar\", \"x\": [\"India\", \"China\", \"Indonesia\", \"United States\", \"Brazil\", \"Mexico\", \"Russian Federation\", \"Turkey\", \"South Africa\", \"Japan\", \"United Kingdom\", \"Germany\", \"Argentina\", \"France\", \"Saudi Arabia\", \"Italy\", \"Korea, Rep.\", \"Canada\", \"Australia\", \"Singapore\", \"European Union\"], \"xaxis\": \"x\", \"y\": [11025350, 8102122, 2383568, 1921537, 1420892, 1087414, 931509, 660825, 579528, 497655, 397882, 380293, 367740, 367336, 300013, 240634, 206246, 194400, 160603, 22710, 0], \"yaxis\": \"y\"}, {\"alignmentgroup\": \"True\", \"hovertemplate\": \"Series Name=Age population, age 04, female, interpolated<br>Country Name=%{x}<br>2019 [YR2019]=%{y}<extra></extra>\", \"legendgroup\": \"Age population, age 04, female, interpolated\", \"marker\": {\"color\": \"#EF553B\"}, \"name\": \"Age population, age 04, female, interpolated\", \"offsetgroup\": \"Age population, age 04, female, interpolated\", \"orientation\": \"v\", \"showlegend\": true, \"textposition\": \"auto\", \"type\": \"bar\", \"x\": [\"India\", \"China\", \"Indonesia\", \"United States\", \"Brazil\", \"Mexico\", \"Russian Federation\", \"Turkey\", \"South Africa\", \"Japan\", \"United Kingdom\", \"France\", \"Germany\", \"Argentina\", \"Saudi Arabia\", \"Italy\", \"Korea, Rep.\", \"Canada\", \"Australia\", \"Singapore\", \"European Union\"], \"xaxis\": \"x\", \"y\": [10927902, 8146395, 2437870, 1907921, 1430719, 1098870, 937182, 670753, 577769, 512282, 398744, 374745, 372809, 368356, 299940, 246400, 215335, 190444, 158046, 20922, 0], \"yaxis\": \"y\"}],                        {\"barmode\": \"relative\", \"legend\": {\"title\": {\"text\": \"Series Name\"}, \"tracegroupgap\": 0}, \"template\": {\"data\": {\"bar\": [{\"error_x\": {\"color\": \"#2a3f5f\"}, \"error_y\": {\"color\": \"#2a3f5f\"}, \"marker\": {\"line\": {\"color\": \"#E5ECF6\", \"width\": 0.5}}, \"type\": \"bar\"}], \"barpolar\": [{\"marker\": {\"line\": {\"color\": \"#E5ECF6\", \"width\": 0.5}}, \"type\": \"barpolar\"}], \"carpet\": [{\"aaxis\": {\"endlinecolor\": \"#2a3f5f\", \"gridcolor\": \"white\", \"linecolor\": \"white\", \"minorgridcolor\": \"white\", \"startlinecolor\": \"#2a3f5f\"}, \"baxis\": {\"endlinecolor\": \"#2a3f5f\", \"gridcolor\": \"white\", \"linecolor\": \"white\", \"minorgridcolor\": \"white\", \"startlinecolor\": \"#2a3f5f\"}, \"type\": \"carpet\"}], \"choropleth\": [{\"colorbar\": {\"outlinewidth\": 0, \"ticks\": \"\"}, \"type\": \"choropleth\"}], \"contour\": [{\"colorbar\": {\"outlinewidth\": 0, \"ticks\": \"\"}, \"colorscale\": [[0.0, \"#0d0887\"], [0.1111111111111111, \"#46039f\"], [0.2222222222222222, \"#7201a8\"], [0.3333333333333333, \"#9c179e\"], [0.4444444444444444, \"#bd3786\"], [0.5555555555555556, \"#d8576b\"], [0.6666666666666666, \"#ed7953\"], [0.7777777777777778, \"#fb9f3a\"], [0.8888888888888888, \"#fdca26\"], [1.0, \"#f0f921\"]], \"type\": \"contour\"}], \"contourcarpet\": [{\"colorbar\": {\"outlinewidth\": 0, \"ticks\": \"\"}, \"type\": \"contourcarpet\"}], \"heatmap\": [{\"colorbar\": {\"outlinewidth\": 0, \"ticks\": \"\"}, \"colorscale\": [[0.0, \"#0d0887\"], [0.1111111111111111, \"#46039f\"], [0.2222222222222222, \"#7201a8\"], [0.3333333333333333, \"#9c179e\"], [0.4444444444444444, \"#bd3786\"], [0.5555555555555556, \"#d8576b\"], [0.6666666666666666, \"#ed7953\"], [0.7777777777777778, \"#fb9f3a\"], [0.8888888888888888, \"#fdca26\"], [1.0, \"#f0f921\"]], \"type\": \"heatmap\"}], \"heatmapgl\": [{\"colorbar\": {\"outlinewidth\": 0, \"ticks\": \"\"}, \"colorscale\": [[0.0, \"#0d0887\"], [0.1111111111111111, \"#46039f\"], [0.2222222222222222, \"#7201a8\"], [0.3333333333333333, \"#9c179e\"], [0.4444444444444444, \"#bd3786\"], [0.5555555555555556, \"#d8576b\"], [0.6666666666666666, \"#ed7953\"], [0.7777777777777778, \"#fb9f3a\"], [0.8888888888888888, \"#fdca26\"], [1.0, \"#f0f921\"]], \"type\": \"heatmapgl\"}], \"histogram\": [{\"marker\": {\"colorbar\": {\"outlinewidth\": 0, \"ticks\": \"\"}}, \"type\": \"histogram\"}], \"histogram2d\": [{\"colorbar\": {\"outlinewidth\": 0, \"ticks\": \"\"}, \"colorscale\": [[0.0, \"#0d0887\"], [0.1111111111111111, \"#46039f\"], [0.2222222222222222, \"#7201a8\"], [0.3333333333333333, \"#9c179e\"], [0.4444444444444444, \"#bd3786\"], [0.5555555555555556, \"#d8576b\"], [0.6666666666666666, \"#ed7953\"], [0.7777777777777778, \"#fb9f3a\"], [0.8888888888888888, \"#fdca26\"], [1.0, \"#f0f921\"]], \"type\": \"histogram2d\"}], \"histogram2dcontour\": [{\"colorbar\": {\"outlinewidth\": 0, \"ticks\": \"\"}, \"colorscale\": [[0.0, \"#0d0887\"], [0.1111111111111111, \"#46039f\"], [0.2222222222222222, \"#7201a8\"], [0.3333333333333333, \"#9c179e\"], [0.4444444444444444, \"#bd3786\"], [0.5555555555555556, \"#d8576b\"], [0.6666666666666666, \"#ed7953\"], [0.7777777777777778, \"#fb9f3a\"], [0.8888888888888888, \"#fdca26\"], [1.0, \"#f0f921\"]], \"type\": \"histogram2dcontour\"}], \"mesh3d\": [{\"colorbar\": {\"outlinewidth\": 0, \"ticks\": \"\"}, \"type\": \"mesh3d\"}], \"parcoords\": [{\"line\": {\"colorbar\": {\"outlinewidth\": 0, \"ticks\": \"\"}}, \"type\": \"parcoords\"}], \"pie\": [{\"automargin\": true, \"type\": \"pie\"}], \"scatter\": [{\"marker\": {\"colorbar\": {\"outlinewidth\": 0, \"ticks\": \"\"}}, \"type\": \"scatter\"}], \"scatter3d\": [{\"line\": {\"colorbar\": {\"outlinewidth\": 0, \"ticks\": \"\"}}, \"marker\": {\"colorbar\": {\"outlinewidth\": 0, \"ticks\": \"\"}}, \"type\": \"scatter3d\"}], \"scattercarpet\": [{\"marker\": {\"colorbar\": {\"outlinewidth\": 0, \"ticks\": \"\"}}, \"type\": \"scattercarpet\"}], \"scattergeo\": [{\"marker\": {\"colorbar\": {\"outlinewidth\": 0, \"ticks\": \"\"}}, \"type\": \"scattergeo\"}], \"scattergl\": [{\"marker\": {\"colorbar\": {\"outlinewidth\": 0, \"ticks\": \"\"}}, \"type\": \"scattergl\"}], \"scattermapbox\": [{\"marker\": {\"colorbar\": {\"outlinewidth\": 0, \"ticks\": \"\"}}, \"type\": \"scattermapbox\"}], \"scatterpolar\": [{\"marker\": {\"colorbar\": {\"outlinewidth\": 0, \"ticks\": \"\"}}, \"type\": \"scatterpolar\"}], \"scatterpolargl\": [{\"marker\": {\"colorbar\": {\"outlinewidth\": 0, \"ticks\": \"\"}}, \"type\": \"scatterpolargl\"}], \"scatterternary\": [{\"marker\": {\"colorbar\": {\"outlinewidth\": 0, \"ticks\": \"\"}}, \"type\": \"scatterternary\"}], \"surface\": [{\"colorbar\": {\"outlinewidth\": 0, \"ticks\": \"\"}, \"colorscale\": [[0.0, \"#0d0887\"], [0.1111111111111111, \"#46039f\"], [0.2222222222222222, \"#7201a8\"], [0.3333333333333333, \"#9c179e\"], [0.4444444444444444, \"#bd3786\"], [0.5555555555555556, \"#d8576b\"], [0.6666666666666666, \"#ed7953\"], [0.7777777777777778, \"#fb9f3a\"], [0.8888888888888888, \"#fdca26\"], [1.0, \"#f0f921\"]], \"type\": \"surface\"}], \"table\": [{\"cells\": {\"fill\": {\"color\": \"#EBF0F8\"}, \"line\": {\"color\": \"white\"}}, \"header\": {\"fill\": {\"color\": \"#C8D4E3\"}, \"line\": {\"color\": \"white\"}}, \"type\": \"table\"}]}, \"layout\": {\"annotationdefaults\": {\"arrowcolor\": \"#2a3f5f\", \"arrowhead\": 0, \"arrowwidth\": 1}, \"coloraxis\": {\"colorbar\": {\"outlinewidth\": 0, \"ticks\": \"\"}}, \"colorscale\": {\"diverging\": [[0, \"#8e0152\"], [0.1, \"#c51b7d\"], [0.2, \"#de77ae\"], [0.3, \"#f1b6da\"], [0.4, \"#fde0ef\"], [0.5, \"#f7f7f7\"], [0.6, \"#e6f5d0\"], [0.7, \"#b8e186\"], [0.8, \"#7fbc41\"], [0.9, \"#4d9221\"], [1, \"#276419\"]], \"sequential\": [[0.0, \"#0d0887\"], [0.1111111111111111, \"#46039f\"], [0.2222222222222222, \"#7201a8\"], [0.3333333333333333, \"#9c179e\"], [0.4444444444444444, \"#bd3786\"], [0.5555555555555556, \"#d8576b\"], [0.6666666666666666, \"#ed7953\"], [0.7777777777777778, \"#fb9f3a\"], [0.8888888888888888, \"#fdca26\"], [1.0, \"#f0f921\"]], \"sequentialminus\": [[0.0, \"#0d0887\"], [0.1111111111111111, \"#46039f\"], [0.2222222222222222, \"#7201a8\"], [0.3333333333333333, \"#9c179e\"], [0.4444444444444444, \"#bd3786\"], [0.5555555555555556, \"#d8576b\"], [0.6666666666666666, \"#ed7953\"], [0.7777777777777778, \"#fb9f3a\"], [0.8888888888888888, \"#fdca26\"], [1.0, \"#f0f921\"]]}, \"colorway\": [\"#636efa\", \"#EF553B\", \"#00cc96\", \"#ab63fa\", \"#FFA15A\", \"#19d3f3\", \"#FF6692\", \"#B6E880\", \"#FF97FF\", \"#FECB52\"], \"font\": {\"color\": \"#2a3f5f\"}, \"geo\": {\"bgcolor\": \"white\", \"lakecolor\": \"white\", \"landcolor\": \"#E5ECF6\", \"showlakes\": true, \"showland\": true, \"subunitcolor\": \"white\"}, \"hoverlabel\": {\"align\": \"left\"}, \"hovermode\": \"closest\", \"mapbox\": {\"style\": \"light\"}, \"paper_bgcolor\": \"white\", \"plot_bgcolor\": \"#E5ECF6\", \"polar\": {\"angularaxis\": {\"gridcolor\": \"white\", \"linecolor\": \"white\", \"ticks\": \"\"}, \"bgcolor\": \"#E5ECF6\", \"radialaxis\": {\"gridcolor\": \"white\", \"linecolor\": \"white\", \"ticks\": \"\"}}, \"scene\": {\"xaxis\": {\"backgroundcolor\": \"#E5ECF6\", \"gridcolor\": \"white\", \"gridwidth\": 2, \"linecolor\": \"white\", \"showbackground\": true, \"ticks\": \"\", \"zerolinecolor\": \"white\"}, \"yaxis\": {\"backgroundcolor\": \"#E5ECF6\", \"gridcolor\": \"white\", \"gridwidth\": 2, \"linecolor\": \"white\", \"showbackground\": true, \"ticks\": \"\", \"zerolinecolor\": \"white\"}, \"zaxis\": {\"backgroundcolor\": \"#E5ECF6\", \"gridcolor\": \"white\", \"gridwidth\": 2, \"linecolor\": \"white\", \"showbackground\": true, \"ticks\": \"\", \"zerolinecolor\": \"white\"}}, \"shapedefaults\": {\"line\": {\"color\": \"#2a3f5f\"}}, \"ternary\": {\"aaxis\": {\"gridcolor\": \"white\", \"linecolor\": \"white\", \"ticks\": \"\"}, \"baxis\": {\"gridcolor\": \"white\", \"linecolor\": \"white\", \"ticks\": \"\"}, \"bgcolor\": \"#E5ECF6\", \"caxis\": {\"gridcolor\": \"white\", \"linecolor\": \"white\", \"ticks\": \"\"}}, \"title\": {\"x\": 0.05}, \"xaxis\": {\"automargin\": true, \"gridcolor\": \"white\", \"linecolor\": \"white\", \"ticks\": \"\", \"title\": {\"standoff\": 15}, \"zerolinecolor\": \"white\", \"zerolinewidth\": 2}, \"yaxis\": {\"automargin\": true, \"gridcolor\": \"white\", \"linecolor\": \"white\", \"ticks\": \"\", \"title\": {\"standoff\": 15}, \"zerolinecolor\": \"white\", \"zerolinewidth\": 2}}}, \"title\": {\"text\": \"Population of kids under age 5 yrs\"}, \"xaxis\": {\"anchor\": \"y\", \"domain\": [0.0, 1.0], \"title\": {\"text\": \"Country Name\"}}, \"yaxis\": {\"anchor\": \"x\", \"domain\": [0.0, 1.0], \"title\": {\"text\": \"2019 [YR2019]\"}}},                        {\"responsive\": true}                    ).then(function(){\n",
       "                            \n",
       "var gd = document.getElementById('20e93b1a-ad34-4c1a-ac88-46391ebaada8');\n",
       "var x = new MutationObserver(function (mutations, observer) {{\n",
       "        var display = window.getComputedStyle(gd).display;\n",
       "        if (!display || display === 'none') {{\n",
       "            console.log([gd, 'removed!']);\n",
       "            Plotly.purge(gd);\n",
       "            observer.disconnect();\n",
       "        }}\n",
       "}});\n",
       "\n",
       "// Listen for the removal of the full notebook cells\n",
       "var notebookContainer = gd.closest('#notebook-container');\n",
       "if (notebookContainer) {{\n",
       "    x.observe(notebookContainer, {childList: true});\n",
       "}}\n",
       "\n",
       "// Listen for the clearing of the current output cell\n",
       "var outputEl = gd.closest('.output');\n",
       "if (outputEl) {{\n",
       "    x.observe(outputEl, {childList: true});\n",
       "}}\n",
       "\n",
       "                        })                };                });            </script>        </div>"
      ]
     },
     "metadata": {},
     "output_type": "display_data"
    }
   ],
   "source": [
    "import plotly.express as px\n",
    "\n",
    "fig = px.bar(population_df1, x= \"Country Name\", y= \"2019 [YR2019]\", color=\"Series Name\", \\\n",
    "             title=\"Population of kids under age 5 yrs\")\n",
    "fig.show()"
   ]
  },
  {
   "cell_type": "code",
   "execution_count": 35,
   "metadata": {},
   "outputs": [],
   "source": [
    "mortality_rate = gs.loc[['Mortality rate, infant, female (per 1,000 live births)',\n",
    " 'Mortality rate, infant, male (per 1,000 live births)',\n",
    " 'Mortality rate, under-5, female (per 1,000 live births)',\n",
    " 'Mortality rate, under-5, male (per 1,000 live births)'],['Country Name', 'Country Code', '2018 [YR2018]', '2019 [YR2019]']]\n",
    "\n",
    "\n",
    "mortality_rate.replace(to_replace = '..', value = '0', inplace = True) \n",
    "\n",
    "mortality_rate['2018 [YR2018]'] = mortality_rate['2018 [YR2018]'].astype(float)\n",
    "mortality_rate['2019 [YR2019]'] = mortality_rate['2019 [YR2019]'].astype(float)\n",
    "\n",
    "mortality_rate.head()\n",
    "mortality_rate.reset_index(inplace = True)"
   ]
  },
  {
   "cell_type": "code",
   "execution_count": 36,
   "metadata": {},
   "outputs": [
    {
     "data": {
      "application/vnd.plotly.v1+json": {
       "config": {
        "plotlyServerURL": "https://plot.ly"
       },
       "data": [
        {
         "hovertemplate": "Series Name=Mortality rate, infant, female (per 1,000 live births)<br>Country Name=%{x}<br>2019 [YR2019]=%{y}<extra></extra>",
         "legendgroup": "Mortality rate, infant, female (per 1,000 live births)",
         "marker": {
          "color": "#636efa",
          "symbol": "circle"
         },
         "mode": "markers",
         "name": "Mortality rate, infant, female (per 1,000 live births)",
         "orientation": "v",
         "showlegend": true,
         "type": "scatter",
         "x": [
          "Argentina",
          "Australia",
          "Brazil",
          "Canada",
          "China",
          "France",
          "Germany",
          "India",
          "Indonesia",
          "Italy",
          "Japan",
          "Mexico",
          "Korea, Rep.",
          "Russian Federation",
          "Saudi Arabia",
          "Singapore",
          "South Africa",
          "Turkey",
          "United States",
          "United Kingdom",
          "European Union"
         ],
         "xaxis": "x",
         "y": [
          7.3,
          2.8,
          10.9,
          3.9,
          6.3,
          3.4,
          2.9,
          28.2,
          17.9,
          2.5,
          1.7,
          10.9,
          2.5,
          4.4,
          5.4,
          1.9,
          25.1,
          8,
          5.1,
          3.3,
          2.99971269837408
         ],
         "yaxis": "y"
        },
        {
         "hovertemplate": "Series Name=Mortality rate, infant, male (per 1,000 live births)<br>Country Name=%{x}<br>2019 [YR2019]=%{y}<extra></extra>",
         "legendgroup": "Mortality rate, infant, male (per 1,000 live births)",
         "marker": {
          "color": "#EF553B",
          "symbol": "circle"
         },
         "mode": "markers",
         "name": "Mortality rate, infant, male (per 1,000 live births)",
         "orientation": "v",
         "showlegend": true,
         "type": "scatter",
         "x": [
          "Argentina",
          "Australia",
          "Brazil",
          "Canada",
          "China",
          "France",
          "Germany",
          "India",
          "Indonesia",
          "Italy",
          "Japan",
          "Mexico",
          "Korea, Rep.",
          "Russian Federation",
          "Saudi Arabia",
          "Singapore",
          "South Africa",
          "Turkey",
          "United States",
          "United Kingdom",
          "European Union"
         ],
         "xaxis": "x",
         "y": [
          9.2,
          3.3,
          13.9,
          4.5,
          7.2,
          4.1,
          3.5,
          28.3,
          22.5,
          2.9,
          1.9,
          13.4,
          2.9,
          5.4,
          6,
          2.2,
          29.8,
          9.2,
          6,
          4,
          3.61636660403038
         ],
         "yaxis": "y"
        },
        {
         "hovertemplate": "Series Name=Mortality rate, under-5, female (per 1,000 live births)<br>Country Name=%{x}<br>2019 [YR2019]=%{y}<extra></extra>",
         "legendgroup": "Mortality rate, under-5, female (per 1,000 live births)",
         "marker": {
          "color": "#00cc96",
          "symbol": "circle"
         },
         "mode": "markers",
         "name": "Mortality rate, under-5, female (per 1,000 live births)",
         "orientation": "v",
         "showlegend": true,
         "type": "scatter",
         "x": [
          "Argentina",
          "Australia",
          "Brazil",
          "Canada",
          "China",
          "France",
          "Germany",
          "India",
          "Indonesia",
          "Italy",
          "Japan",
          "Mexico",
          "Korea, Rep.",
          "Russian Federation",
          "Saudi Arabia",
          "Singapore",
          "South Africa",
          "Turkey",
          "United States",
          "United Kingdom",
          "European Union"
         ],
         "xaxis": "x",
         "y": [
          8.2,
          3.3,
          12.3,
          4.5,
          7.4,
          4,
          3.5,
          34.9,
          21.2,
          2.9,
          2.3,
          12.8,
          2.9,
          5.2,
          6.3,
          2.3,
          31.4,
          9.4,
          5.9,
          3.9,
          3.57094425275101
         ],
         "yaxis": "y"
        },
        {
         "hovertemplate": "Series Name=Mortality rate, under-5, male (per 1,000 live births)<br>Country Name=%{x}<br>2019 [YR2019]=%{y}<extra></extra>",
         "legendgroup": "Mortality rate, under-5, male (per 1,000 live births)",
         "marker": {
          "color": "#ab63fa",
          "symbol": "circle"
         },
         "mode": "markers",
         "name": "Mortality rate, under-5, male (per 1,000 live births)",
         "orientation": "v",
         "showlegend": true,
         "type": "scatter",
         "x": [
          "Argentina",
          "Australia",
          "Brazil",
          "Canada",
          "China",
          "France",
          "Germany",
          "India",
          "Indonesia",
          "Italy",
          "Japan",
          "Mexico",
          "Korea, Rep.",
          "Russian Federation",
          "Saudi Arabia",
          "Singapore",
          "South Africa",
          "Turkey",
          "United States",
          "United Kingdom",
          "European Union"
         ],
         "xaxis": "x",
         "y": [
          10.3,
          3.9,
          15.5,
          5.2,
          8.4,
          4.9,
          4.1,
          33.7,
          26.4,
          3.4,
          2.6,
          15.5,
          3.5,
          6.3,
          7,
          2.7,
          37.3,
          10.7,
          7,
          4.7,
          4.3018379671305
         ],
         "yaxis": "y"
        }
       ],
       "layout": {
        "legend": {
         "title": {
          "text": "Series Name"
         },
         "tracegroupgap": 0
        },
        "template": {
         "data": {
          "bar": [
           {
            "error_x": {
             "color": "#2a3f5f"
            },
            "error_y": {
             "color": "#2a3f5f"
            },
            "marker": {
             "line": {
              "color": "#E5ECF6",
              "width": 0.5
             }
            },
            "type": "bar"
           }
          ],
          "barpolar": [
           {
            "marker": {
             "line": {
              "color": "#E5ECF6",
              "width": 0.5
             }
            },
            "type": "barpolar"
           }
          ],
          "carpet": [
           {
            "aaxis": {
             "endlinecolor": "#2a3f5f",
             "gridcolor": "white",
             "linecolor": "white",
             "minorgridcolor": "white",
             "startlinecolor": "#2a3f5f"
            },
            "baxis": {
             "endlinecolor": "#2a3f5f",
             "gridcolor": "white",
             "linecolor": "white",
             "minorgridcolor": "white",
             "startlinecolor": "#2a3f5f"
            },
            "type": "carpet"
           }
          ],
          "choropleth": [
           {
            "colorbar": {
             "outlinewidth": 0,
             "ticks": ""
            },
            "type": "choropleth"
           }
          ],
          "contour": [
           {
            "colorbar": {
             "outlinewidth": 0,
             "ticks": ""
            },
            "colorscale": [
             [
              0,
              "#0d0887"
             ],
             [
              0.1111111111111111,
              "#46039f"
             ],
             [
              0.2222222222222222,
              "#7201a8"
             ],
             [
              0.3333333333333333,
              "#9c179e"
             ],
             [
              0.4444444444444444,
              "#bd3786"
             ],
             [
              0.5555555555555556,
              "#d8576b"
             ],
             [
              0.6666666666666666,
              "#ed7953"
             ],
             [
              0.7777777777777778,
              "#fb9f3a"
             ],
             [
              0.8888888888888888,
              "#fdca26"
             ],
             [
              1,
              "#f0f921"
             ]
            ],
            "type": "contour"
           }
          ],
          "contourcarpet": [
           {
            "colorbar": {
             "outlinewidth": 0,
             "ticks": ""
            },
            "type": "contourcarpet"
           }
          ],
          "heatmap": [
           {
            "colorbar": {
             "outlinewidth": 0,
             "ticks": ""
            },
            "colorscale": [
             [
              0,
              "#0d0887"
             ],
             [
              0.1111111111111111,
              "#46039f"
             ],
             [
              0.2222222222222222,
              "#7201a8"
             ],
             [
              0.3333333333333333,
              "#9c179e"
             ],
             [
              0.4444444444444444,
              "#bd3786"
             ],
             [
              0.5555555555555556,
              "#d8576b"
             ],
             [
              0.6666666666666666,
              "#ed7953"
             ],
             [
              0.7777777777777778,
              "#fb9f3a"
             ],
             [
              0.8888888888888888,
              "#fdca26"
             ],
             [
              1,
              "#f0f921"
             ]
            ],
            "type": "heatmap"
           }
          ],
          "heatmapgl": [
           {
            "colorbar": {
             "outlinewidth": 0,
             "ticks": ""
            },
            "colorscale": [
             [
              0,
              "#0d0887"
             ],
             [
              0.1111111111111111,
              "#46039f"
             ],
             [
              0.2222222222222222,
              "#7201a8"
             ],
             [
              0.3333333333333333,
              "#9c179e"
             ],
             [
              0.4444444444444444,
              "#bd3786"
             ],
             [
              0.5555555555555556,
              "#d8576b"
             ],
             [
              0.6666666666666666,
              "#ed7953"
             ],
             [
              0.7777777777777778,
              "#fb9f3a"
             ],
             [
              0.8888888888888888,
              "#fdca26"
             ],
             [
              1,
              "#f0f921"
             ]
            ],
            "type": "heatmapgl"
           }
          ],
          "histogram": [
           {
            "marker": {
             "colorbar": {
              "outlinewidth": 0,
              "ticks": ""
             }
            },
            "type": "histogram"
           }
          ],
          "histogram2d": [
           {
            "colorbar": {
             "outlinewidth": 0,
             "ticks": ""
            },
            "colorscale": [
             [
              0,
              "#0d0887"
             ],
             [
              0.1111111111111111,
              "#46039f"
             ],
             [
              0.2222222222222222,
              "#7201a8"
             ],
             [
              0.3333333333333333,
              "#9c179e"
             ],
             [
              0.4444444444444444,
              "#bd3786"
             ],
             [
              0.5555555555555556,
              "#d8576b"
             ],
             [
              0.6666666666666666,
              "#ed7953"
             ],
             [
              0.7777777777777778,
              "#fb9f3a"
             ],
             [
              0.8888888888888888,
              "#fdca26"
             ],
             [
              1,
              "#f0f921"
             ]
            ],
            "type": "histogram2d"
           }
          ],
          "histogram2dcontour": [
           {
            "colorbar": {
             "outlinewidth": 0,
             "ticks": ""
            },
            "colorscale": [
             [
              0,
              "#0d0887"
             ],
             [
              0.1111111111111111,
              "#46039f"
             ],
             [
              0.2222222222222222,
              "#7201a8"
             ],
             [
              0.3333333333333333,
              "#9c179e"
             ],
             [
              0.4444444444444444,
              "#bd3786"
             ],
             [
              0.5555555555555556,
              "#d8576b"
             ],
             [
              0.6666666666666666,
              "#ed7953"
             ],
             [
              0.7777777777777778,
              "#fb9f3a"
             ],
             [
              0.8888888888888888,
              "#fdca26"
             ],
             [
              1,
              "#f0f921"
             ]
            ],
            "type": "histogram2dcontour"
           }
          ],
          "mesh3d": [
           {
            "colorbar": {
             "outlinewidth": 0,
             "ticks": ""
            },
            "type": "mesh3d"
           }
          ],
          "parcoords": [
           {
            "line": {
             "colorbar": {
              "outlinewidth": 0,
              "ticks": ""
             }
            },
            "type": "parcoords"
           }
          ],
          "pie": [
           {
            "automargin": true,
            "type": "pie"
           }
          ],
          "scatter": [
           {
            "marker": {
             "colorbar": {
              "outlinewidth": 0,
              "ticks": ""
             }
            },
            "type": "scatter"
           }
          ],
          "scatter3d": [
           {
            "line": {
             "colorbar": {
              "outlinewidth": 0,
              "ticks": ""
             }
            },
            "marker": {
             "colorbar": {
              "outlinewidth": 0,
              "ticks": ""
             }
            },
            "type": "scatter3d"
           }
          ],
          "scattercarpet": [
           {
            "marker": {
             "colorbar": {
              "outlinewidth": 0,
              "ticks": ""
             }
            },
            "type": "scattercarpet"
           }
          ],
          "scattergeo": [
           {
            "marker": {
             "colorbar": {
              "outlinewidth": 0,
              "ticks": ""
             }
            },
            "type": "scattergeo"
           }
          ],
          "scattergl": [
           {
            "marker": {
             "colorbar": {
              "outlinewidth": 0,
              "ticks": ""
             }
            },
            "type": "scattergl"
           }
          ],
          "scattermapbox": [
           {
            "marker": {
             "colorbar": {
              "outlinewidth": 0,
              "ticks": ""
             }
            },
            "type": "scattermapbox"
           }
          ],
          "scatterpolar": [
           {
            "marker": {
             "colorbar": {
              "outlinewidth": 0,
              "ticks": ""
             }
            },
            "type": "scatterpolar"
           }
          ],
          "scatterpolargl": [
           {
            "marker": {
             "colorbar": {
              "outlinewidth": 0,
              "ticks": ""
             }
            },
            "type": "scatterpolargl"
           }
          ],
          "scatterternary": [
           {
            "marker": {
             "colorbar": {
              "outlinewidth": 0,
              "ticks": ""
             }
            },
            "type": "scatterternary"
           }
          ],
          "surface": [
           {
            "colorbar": {
             "outlinewidth": 0,
             "ticks": ""
            },
            "colorscale": [
             [
              0,
              "#0d0887"
             ],
             [
              0.1111111111111111,
              "#46039f"
             ],
             [
              0.2222222222222222,
              "#7201a8"
             ],
             [
              0.3333333333333333,
              "#9c179e"
             ],
             [
              0.4444444444444444,
              "#bd3786"
             ],
             [
              0.5555555555555556,
              "#d8576b"
             ],
             [
              0.6666666666666666,
              "#ed7953"
             ],
             [
              0.7777777777777778,
              "#fb9f3a"
             ],
             [
              0.8888888888888888,
              "#fdca26"
             ],
             [
              1,
              "#f0f921"
             ]
            ],
            "type": "surface"
           }
          ],
          "table": [
           {
            "cells": {
             "fill": {
              "color": "#EBF0F8"
             },
             "line": {
              "color": "white"
             }
            },
            "header": {
             "fill": {
              "color": "#C8D4E3"
             },
             "line": {
              "color": "white"
             }
            },
            "type": "table"
           }
          ]
         },
         "layout": {
          "annotationdefaults": {
           "arrowcolor": "#2a3f5f",
           "arrowhead": 0,
           "arrowwidth": 1
          },
          "coloraxis": {
           "colorbar": {
            "outlinewidth": 0,
            "ticks": ""
           }
          },
          "colorscale": {
           "diverging": [
            [
             0,
             "#8e0152"
            ],
            [
             0.1,
             "#c51b7d"
            ],
            [
             0.2,
             "#de77ae"
            ],
            [
             0.3,
             "#f1b6da"
            ],
            [
             0.4,
             "#fde0ef"
            ],
            [
             0.5,
             "#f7f7f7"
            ],
            [
             0.6,
             "#e6f5d0"
            ],
            [
             0.7,
             "#b8e186"
            ],
            [
             0.8,
             "#7fbc41"
            ],
            [
             0.9,
             "#4d9221"
            ],
            [
             1,
             "#276419"
            ]
           ],
           "sequential": [
            [
             0,
             "#0d0887"
            ],
            [
             0.1111111111111111,
             "#46039f"
            ],
            [
             0.2222222222222222,
             "#7201a8"
            ],
            [
             0.3333333333333333,
             "#9c179e"
            ],
            [
             0.4444444444444444,
             "#bd3786"
            ],
            [
             0.5555555555555556,
             "#d8576b"
            ],
            [
             0.6666666666666666,
             "#ed7953"
            ],
            [
             0.7777777777777778,
             "#fb9f3a"
            ],
            [
             0.8888888888888888,
             "#fdca26"
            ],
            [
             1,
             "#f0f921"
            ]
           ],
           "sequentialminus": [
            [
             0,
             "#0d0887"
            ],
            [
             0.1111111111111111,
             "#46039f"
            ],
            [
             0.2222222222222222,
             "#7201a8"
            ],
            [
             0.3333333333333333,
             "#9c179e"
            ],
            [
             0.4444444444444444,
             "#bd3786"
            ],
            [
             0.5555555555555556,
             "#d8576b"
            ],
            [
             0.6666666666666666,
             "#ed7953"
            ],
            [
             0.7777777777777778,
             "#fb9f3a"
            ],
            [
             0.8888888888888888,
             "#fdca26"
            ],
            [
             1,
             "#f0f921"
            ]
           ]
          },
          "colorway": [
           "#636efa",
           "#EF553B",
           "#00cc96",
           "#ab63fa",
           "#FFA15A",
           "#19d3f3",
           "#FF6692",
           "#B6E880",
           "#FF97FF",
           "#FECB52"
          ],
          "font": {
           "color": "#2a3f5f"
          },
          "geo": {
           "bgcolor": "white",
           "lakecolor": "white",
           "landcolor": "#E5ECF6",
           "showlakes": true,
           "showland": true,
           "subunitcolor": "white"
          },
          "hoverlabel": {
           "align": "left"
          },
          "hovermode": "closest",
          "mapbox": {
           "style": "light"
          },
          "paper_bgcolor": "white",
          "plot_bgcolor": "#E5ECF6",
          "polar": {
           "angularaxis": {
            "gridcolor": "white",
            "linecolor": "white",
            "ticks": ""
           },
           "bgcolor": "#E5ECF6",
           "radialaxis": {
            "gridcolor": "white",
            "linecolor": "white",
            "ticks": ""
           }
          },
          "scene": {
           "xaxis": {
            "backgroundcolor": "#E5ECF6",
            "gridcolor": "white",
            "gridwidth": 2,
            "linecolor": "white",
            "showbackground": true,
            "ticks": "",
            "zerolinecolor": "white"
           },
           "yaxis": {
            "backgroundcolor": "#E5ECF6",
            "gridcolor": "white",
            "gridwidth": 2,
            "linecolor": "white",
            "showbackground": true,
            "ticks": "",
            "zerolinecolor": "white"
           },
           "zaxis": {
            "backgroundcolor": "#E5ECF6",
            "gridcolor": "white",
            "gridwidth": 2,
            "linecolor": "white",
            "showbackground": true,
            "ticks": "",
            "zerolinecolor": "white"
           }
          },
          "shapedefaults": {
           "line": {
            "color": "#2a3f5f"
           }
          },
          "ternary": {
           "aaxis": {
            "gridcolor": "white",
            "linecolor": "white",
            "ticks": ""
           },
           "baxis": {
            "gridcolor": "white",
            "linecolor": "white",
            "ticks": ""
           },
           "bgcolor": "#E5ECF6",
           "caxis": {
            "gridcolor": "white",
            "linecolor": "white",
            "ticks": ""
           }
          },
          "title": {
           "x": 0.05
          },
          "xaxis": {
           "automargin": true,
           "gridcolor": "white",
           "linecolor": "white",
           "ticks": "",
           "title": {
            "standoff": 15
           },
           "zerolinecolor": "white",
           "zerolinewidth": 2
          },
          "yaxis": {
           "automargin": true,
           "gridcolor": "white",
           "linecolor": "white",
           "ticks": "",
           "title": {
            "standoff": 15
           },
           "zerolinecolor": "white",
           "zerolinewidth": 2
          }
         }
        },
        "title": {
         "text": "Mortality rate"
        },
        "xaxis": {
         "anchor": "y",
         "domain": [
          0,
          1
         ],
         "title": {
          "text": "Country Name"
         }
        },
        "yaxis": {
         "anchor": "x",
         "domain": [
          0,
          1
         ],
         "title": {
          "text": "2019 [YR2019]"
         }
        }
       }
      },
      "text/html": [
       "<div>                            <div id=\"15708848-9b93-4ed4-9f62-eb239d318ed9\" class=\"plotly-graph-div\" style=\"height:525px; width:100%;\"></div>            <script type=\"text/javascript\">                require([\"plotly\"], function(Plotly) {                    window.PLOTLYENV=window.PLOTLYENV || {};                                    if (document.getElementById(\"15708848-9b93-4ed4-9f62-eb239d318ed9\")) {                    Plotly.newPlot(                        \"15708848-9b93-4ed4-9f62-eb239d318ed9\",                        [{\"hovertemplate\": \"Series Name=Mortality rate, infant, female (per 1,000 live births)<br>Country Name=%{x}<br>2019 [YR2019]=%{y}<extra></extra>\", \"legendgroup\": \"Mortality rate, infant, female (per 1,000 live births)\", \"marker\": {\"color\": \"#636efa\", \"symbol\": \"circle\"}, \"mode\": \"markers\", \"name\": \"Mortality rate, infant, female (per 1,000 live births)\", \"orientation\": \"v\", \"showlegend\": true, \"type\": \"scatter\", \"x\": [\"Argentina\", \"Australia\", \"Brazil\", \"Canada\", \"China\", \"France\", \"Germany\", \"India\", \"Indonesia\", \"Italy\", \"Japan\", \"Mexico\", \"Korea, Rep.\", \"Russian Federation\", \"Saudi Arabia\", \"Singapore\", \"South Africa\", \"Turkey\", \"United States\", \"United Kingdom\", \"European Union\"], \"xaxis\": \"x\", \"y\": [7.3, 2.8, 10.9, 3.9, 6.3, 3.4, 2.9, 28.2, 17.9, 2.5, 1.7, 10.9, 2.5, 4.4, 5.4, 1.9, 25.1, 8.0, 5.1, 3.3, 2.99971269837408], \"yaxis\": \"y\"}, {\"hovertemplate\": \"Series Name=Mortality rate, infant, male (per 1,000 live births)<br>Country Name=%{x}<br>2019 [YR2019]=%{y}<extra></extra>\", \"legendgroup\": \"Mortality rate, infant, male (per 1,000 live births)\", \"marker\": {\"color\": \"#EF553B\", \"symbol\": \"circle\"}, \"mode\": \"markers\", \"name\": \"Mortality rate, infant, male (per 1,000 live births)\", \"orientation\": \"v\", \"showlegend\": true, \"type\": \"scatter\", \"x\": [\"Argentina\", \"Australia\", \"Brazil\", \"Canada\", \"China\", \"France\", \"Germany\", \"India\", \"Indonesia\", \"Italy\", \"Japan\", \"Mexico\", \"Korea, Rep.\", \"Russian Federation\", \"Saudi Arabia\", \"Singapore\", \"South Africa\", \"Turkey\", \"United States\", \"United Kingdom\", \"European Union\"], \"xaxis\": \"x\", \"y\": [9.2, 3.3, 13.9, 4.5, 7.2, 4.1, 3.5, 28.3, 22.5, 2.9, 1.9, 13.4, 2.9, 5.4, 6.0, 2.2, 29.8, 9.2, 6.0, 4.0, 3.61636660403038], \"yaxis\": \"y\"}, {\"hovertemplate\": \"Series Name=Mortality rate, under-5, female (per 1,000 live births)<br>Country Name=%{x}<br>2019 [YR2019]=%{y}<extra></extra>\", \"legendgroup\": \"Mortality rate, under-5, female (per 1,000 live births)\", \"marker\": {\"color\": \"#00cc96\", \"symbol\": \"circle\"}, \"mode\": \"markers\", \"name\": \"Mortality rate, under-5, female (per 1,000 live births)\", \"orientation\": \"v\", \"showlegend\": true, \"type\": \"scatter\", \"x\": [\"Argentina\", \"Australia\", \"Brazil\", \"Canada\", \"China\", \"France\", \"Germany\", \"India\", \"Indonesia\", \"Italy\", \"Japan\", \"Mexico\", \"Korea, Rep.\", \"Russian Federation\", \"Saudi Arabia\", \"Singapore\", \"South Africa\", \"Turkey\", \"United States\", \"United Kingdom\", \"European Union\"], \"xaxis\": \"x\", \"y\": [8.2, 3.3, 12.3, 4.5, 7.4, 4.0, 3.5, 34.9, 21.2, 2.9, 2.3, 12.8, 2.9, 5.2, 6.3, 2.3, 31.4, 9.4, 5.9, 3.9, 3.57094425275101], \"yaxis\": \"y\"}, {\"hovertemplate\": \"Series Name=Mortality rate, under-5, male (per 1,000 live births)<br>Country Name=%{x}<br>2019 [YR2019]=%{y}<extra></extra>\", \"legendgroup\": \"Mortality rate, under-5, male (per 1,000 live births)\", \"marker\": {\"color\": \"#ab63fa\", \"symbol\": \"circle\"}, \"mode\": \"markers\", \"name\": \"Mortality rate, under-5, male (per 1,000 live births)\", \"orientation\": \"v\", \"showlegend\": true, \"type\": \"scatter\", \"x\": [\"Argentina\", \"Australia\", \"Brazil\", \"Canada\", \"China\", \"France\", \"Germany\", \"India\", \"Indonesia\", \"Italy\", \"Japan\", \"Mexico\", \"Korea, Rep.\", \"Russian Federation\", \"Saudi Arabia\", \"Singapore\", \"South Africa\", \"Turkey\", \"United States\", \"United Kingdom\", \"European Union\"], \"xaxis\": \"x\", \"y\": [10.3, 3.9, 15.5, 5.2, 8.4, 4.9, 4.1, 33.7, 26.4, 3.4, 2.6, 15.5, 3.5, 6.3, 7.0, 2.7, 37.3, 10.7, 7.0, 4.7, 4.3018379671305], \"yaxis\": \"y\"}],                        {\"legend\": {\"title\": {\"text\": \"Series Name\"}, \"tracegroupgap\": 0}, \"template\": {\"data\": {\"bar\": [{\"error_x\": {\"color\": \"#2a3f5f\"}, \"error_y\": {\"color\": \"#2a3f5f\"}, \"marker\": {\"line\": {\"color\": \"#E5ECF6\", \"width\": 0.5}}, \"type\": \"bar\"}], \"barpolar\": [{\"marker\": {\"line\": {\"color\": \"#E5ECF6\", \"width\": 0.5}}, \"type\": \"barpolar\"}], \"carpet\": [{\"aaxis\": {\"endlinecolor\": \"#2a3f5f\", \"gridcolor\": \"white\", \"linecolor\": \"white\", \"minorgridcolor\": \"white\", \"startlinecolor\": \"#2a3f5f\"}, \"baxis\": {\"endlinecolor\": \"#2a3f5f\", \"gridcolor\": \"white\", \"linecolor\": \"white\", \"minorgridcolor\": \"white\", \"startlinecolor\": \"#2a3f5f\"}, \"type\": \"carpet\"}], \"choropleth\": [{\"colorbar\": {\"outlinewidth\": 0, \"ticks\": \"\"}, \"type\": \"choropleth\"}], \"contour\": [{\"colorbar\": {\"outlinewidth\": 0, \"ticks\": \"\"}, \"colorscale\": [[0.0, \"#0d0887\"], [0.1111111111111111, \"#46039f\"], [0.2222222222222222, \"#7201a8\"], [0.3333333333333333, \"#9c179e\"], [0.4444444444444444, \"#bd3786\"], [0.5555555555555556, \"#d8576b\"], [0.6666666666666666, \"#ed7953\"], [0.7777777777777778, \"#fb9f3a\"], [0.8888888888888888, \"#fdca26\"], [1.0, \"#f0f921\"]], \"type\": \"contour\"}], \"contourcarpet\": [{\"colorbar\": {\"outlinewidth\": 0, \"ticks\": \"\"}, \"type\": \"contourcarpet\"}], \"heatmap\": [{\"colorbar\": {\"outlinewidth\": 0, \"ticks\": \"\"}, \"colorscale\": [[0.0, \"#0d0887\"], [0.1111111111111111, \"#46039f\"], [0.2222222222222222, \"#7201a8\"], [0.3333333333333333, \"#9c179e\"], [0.4444444444444444, \"#bd3786\"], [0.5555555555555556, \"#d8576b\"], [0.6666666666666666, \"#ed7953\"], [0.7777777777777778, \"#fb9f3a\"], [0.8888888888888888, \"#fdca26\"], [1.0, \"#f0f921\"]], \"type\": \"heatmap\"}], \"heatmapgl\": [{\"colorbar\": {\"outlinewidth\": 0, \"ticks\": \"\"}, \"colorscale\": [[0.0, \"#0d0887\"], [0.1111111111111111, \"#46039f\"], [0.2222222222222222, \"#7201a8\"], [0.3333333333333333, \"#9c179e\"], [0.4444444444444444, \"#bd3786\"], [0.5555555555555556, \"#d8576b\"], [0.6666666666666666, \"#ed7953\"], [0.7777777777777778, \"#fb9f3a\"], [0.8888888888888888, \"#fdca26\"], [1.0, \"#f0f921\"]], \"type\": \"heatmapgl\"}], \"histogram\": [{\"marker\": {\"colorbar\": {\"outlinewidth\": 0, \"ticks\": \"\"}}, \"type\": \"histogram\"}], \"histogram2d\": [{\"colorbar\": {\"outlinewidth\": 0, \"ticks\": \"\"}, \"colorscale\": [[0.0, \"#0d0887\"], [0.1111111111111111, \"#46039f\"], [0.2222222222222222, \"#7201a8\"], [0.3333333333333333, \"#9c179e\"], [0.4444444444444444, \"#bd3786\"], [0.5555555555555556, \"#d8576b\"], [0.6666666666666666, \"#ed7953\"], [0.7777777777777778, \"#fb9f3a\"], [0.8888888888888888, \"#fdca26\"], [1.0, \"#f0f921\"]], \"type\": \"histogram2d\"}], \"histogram2dcontour\": [{\"colorbar\": {\"outlinewidth\": 0, \"ticks\": \"\"}, \"colorscale\": [[0.0, \"#0d0887\"], [0.1111111111111111, \"#46039f\"], [0.2222222222222222, \"#7201a8\"], [0.3333333333333333, \"#9c179e\"], [0.4444444444444444, \"#bd3786\"], [0.5555555555555556, \"#d8576b\"], [0.6666666666666666, \"#ed7953\"], [0.7777777777777778, \"#fb9f3a\"], [0.8888888888888888, \"#fdca26\"], [1.0, \"#f0f921\"]], \"type\": \"histogram2dcontour\"}], \"mesh3d\": [{\"colorbar\": {\"outlinewidth\": 0, \"ticks\": \"\"}, \"type\": \"mesh3d\"}], \"parcoords\": [{\"line\": {\"colorbar\": {\"outlinewidth\": 0, \"ticks\": \"\"}}, \"type\": \"parcoords\"}], \"pie\": [{\"automargin\": true, \"type\": \"pie\"}], \"scatter\": [{\"marker\": {\"colorbar\": {\"outlinewidth\": 0, \"ticks\": \"\"}}, \"type\": \"scatter\"}], \"scatter3d\": [{\"line\": {\"colorbar\": {\"outlinewidth\": 0, \"ticks\": \"\"}}, \"marker\": {\"colorbar\": {\"outlinewidth\": 0, \"ticks\": \"\"}}, \"type\": \"scatter3d\"}], \"scattercarpet\": [{\"marker\": {\"colorbar\": {\"outlinewidth\": 0, \"ticks\": \"\"}}, \"type\": \"scattercarpet\"}], \"scattergeo\": [{\"marker\": {\"colorbar\": {\"outlinewidth\": 0, \"ticks\": \"\"}}, \"type\": \"scattergeo\"}], \"scattergl\": [{\"marker\": {\"colorbar\": {\"outlinewidth\": 0, \"ticks\": \"\"}}, \"type\": \"scattergl\"}], \"scattermapbox\": [{\"marker\": {\"colorbar\": {\"outlinewidth\": 0, \"ticks\": \"\"}}, \"type\": \"scattermapbox\"}], \"scatterpolar\": [{\"marker\": {\"colorbar\": {\"outlinewidth\": 0, \"ticks\": \"\"}}, \"type\": \"scatterpolar\"}], \"scatterpolargl\": [{\"marker\": {\"colorbar\": {\"outlinewidth\": 0, \"ticks\": \"\"}}, \"type\": \"scatterpolargl\"}], \"scatterternary\": [{\"marker\": {\"colorbar\": {\"outlinewidth\": 0, \"ticks\": \"\"}}, \"type\": \"scatterternary\"}], \"surface\": [{\"colorbar\": {\"outlinewidth\": 0, \"ticks\": \"\"}, \"colorscale\": [[0.0, \"#0d0887\"], [0.1111111111111111, \"#46039f\"], [0.2222222222222222, \"#7201a8\"], [0.3333333333333333, \"#9c179e\"], [0.4444444444444444, \"#bd3786\"], [0.5555555555555556, \"#d8576b\"], [0.6666666666666666, \"#ed7953\"], [0.7777777777777778, \"#fb9f3a\"], [0.8888888888888888, \"#fdca26\"], [1.0, \"#f0f921\"]], \"type\": \"surface\"}], \"table\": [{\"cells\": {\"fill\": {\"color\": \"#EBF0F8\"}, \"line\": {\"color\": \"white\"}}, \"header\": {\"fill\": {\"color\": \"#C8D4E3\"}, \"line\": {\"color\": \"white\"}}, \"type\": \"table\"}]}, \"layout\": {\"annotationdefaults\": {\"arrowcolor\": \"#2a3f5f\", \"arrowhead\": 0, \"arrowwidth\": 1}, \"coloraxis\": {\"colorbar\": {\"outlinewidth\": 0, \"ticks\": \"\"}}, \"colorscale\": {\"diverging\": [[0, \"#8e0152\"], [0.1, \"#c51b7d\"], [0.2, \"#de77ae\"], [0.3, \"#f1b6da\"], [0.4, \"#fde0ef\"], [0.5, \"#f7f7f7\"], [0.6, \"#e6f5d0\"], [0.7, \"#b8e186\"], [0.8, \"#7fbc41\"], [0.9, \"#4d9221\"], [1, \"#276419\"]], \"sequential\": [[0.0, \"#0d0887\"], [0.1111111111111111, \"#46039f\"], [0.2222222222222222, \"#7201a8\"], [0.3333333333333333, \"#9c179e\"], [0.4444444444444444, \"#bd3786\"], [0.5555555555555556, \"#d8576b\"], [0.6666666666666666, \"#ed7953\"], [0.7777777777777778, \"#fb9f3a\"], [0.8888888888888888, \"#fdca26\"], [1.0, \"#f0f921\"]], \"sequentialminus\": [[0.0, \"#0d0887\"], [0.1111111111111111, \"#46039f\"], [0.2222222222222222, \"#7201a8\"], [0.3333333333333333, \"#9c179e\"], [0.4444444444444444, \"#bd3786\"], [0.5555555555555556, \"#d8576b\"], [0.6666666666666666, \"#ed7953\"], [0.7777777777777778, \"#fb9f3a\"], [0.8888888888888888, \"#fdca26\"], [1.0, \"#f0f921\"]]}, \"colorway\": [\"#636efa\", \"#EF553B\", \"#00cc96\", \"#ab63fa\", \"#FFA15A\", \"#19d3f3\", \"#FF6692\", \"#B6E880\", \"#FF97FF\", \"#FECB52\"], \"font\": {\"color\": \"#2a3f5f\"}, \"geo\": {\"bgcolor\": \"white\", \"lakecolor\": \"white\", \"landcolor\": \"#E5ECF6\", \"showlakes\": true, \"showland\": true, \"subunitcolor\": \"white\"}, \"hoverlabel\": {\"align\": \"left\"}, \"hovermode\": \"closest\", \"mapbox\": {\"style\": \"light\"}, \"paper_bgcolor\": \"white\", \"plot_bgcolor\": \"#E5ECF6\", \"polar\": {\"angularaxis\": {\"gridcolor\": \"white\", \"linecolor\": \"white\", \"ticks\": \"\"}, \"bgcolor\": \"#E5ECF6\", \"radialaxis\": {\"gridcolor\": \"white\", \"linecolor\": \"white\", \"ticks\": \"\"}}, \"scene\": {\"xaxis\": {\"backgroundcolor\": \"#E5ECF6\", \"gridcolor\": \"white\", \"gridwidth\": 2, \"linecolor\": \"white\", \"showbackground\": true, \"ticks\": \"\", \"zerolinecolor\": \"white\"}, \"yaxis\": {\"backgroundcolor\": \"#E5ECF6\", \"gridcolor\": \"white\", \"gridwidth\": 2, \"linecolor\": \"white\", \"showbackground\": true, \"ticks\": \"\", \"zerolinecolor\": \"white\"}, \"zaxis\": {\"backgroundcolor\": \"#E5ECF6\", \"gridcolor\": \"white\", \"gridwidth\": 2, \"linecolor\": \"white\", \"showbackground\": true, \"ticks\": \"\", \"zerolinecolor\": \"white\"}}, \"shapedefaults\": {\"line\": {\"color\": \"#2a3f5f\"}}, \"ternary\": {\"aaxis\": {\"gridcolor\": \"white\", \"linecolor\": \"white\", \"ticks\": \"\"}, \"baxis\": {\"gridcolor\": \"white\", \"linecolor\": \"white\", \"ticks\": \"\"}, \"bgcolor\": \"#E5ECF6\", \"caxis\": {\"gridcolor\": \"white\", \"linecolor\": \"white\", \"ticks\": \"\"}}, \"title\": {\"x\": 0.05}, \"xaxis\": {\"automargin\": true, \"gridcolor\": \"white\", \"linecolor\": \"white\", \"ticks\": \"\", \"title\": {\"standoff\": 15}, \"zerolinecolor\": \"white\", \"zerolinewidth\": 2}, \"yaxis\": {\"automargin\": true, \"gridcolor\": \"white\", \"linecolor\": \"white\", \"ticks\": \"\", \"title\": {\"standoff\": 15}, \"zerolinecolor\": \"white\", \"zerolinewidth\": 2}}}, \"title\": {\"text\": \"Mortality rate\"}, \"xaxis\": {\"anchor\": \"y\", \"domain\": [0.0, 1.0], \"title\": {\"text\": \"Country Name\"}}, \"yaxis\": {\"anchor\": \"x\", \"domain\": [0.0, 1.0], \"title\": {\"text\": \"2019 [YR2019]\"}}},                        {\"responsive\": true}                    ).then(function(){\n",
       "                            \n",
       "var gd = document.getElementById('15708848-9b93-4ed4-9f62-eb239d318ed9');\n",
       "var x = new MutationObserver(function (mutations, observer) {{\n",
       "        var display = window.getComputedStyle(gd).display;\n",
       "        if (!display || display === 'none') {{\n",
       "            console.log([gd, 'removed!']);\n",
       "            Plotly.purge(gd);\n",
       "            observer.disconnect();\n",
       "        }}\n",
       "}});\n",
       "\n",
       "// Listen for the removal of the full notebook cells\n",
       "var notebookContainer = gd.closest('#notebook-container');\n",
       "if (notebookContainer) {{\n",
       "    x.observe(notebookContainer, {childList: true});\n",
       "}}\n",
       "\n",
       "// Listen for the clearing of the current output cell\n",
       "var outputEl = gd.closest('.output');\n",
       "if (outputEl) {{\n",
       "    x.observe(outputEl, {childList: true});\n",
       "}}\n",
       "\n",
       "                        })                };                });            </script>        </div>"
      ]
     },
     "metadata": {},
     "output_type": "display_data"
    }
   ],
   "source": [
    "import plotly.express as px\n",
    "\n",
    "fig = px.scatter(mortality_rate, x= \"Country Name\", y= \"2019 [YR2019]\", color=\"Series Name\", \\\n",
    "             title=\"Mortality rate\")\n",
    "fig.show()"
   ]
  },
  {
   "cell_type": "code",
   "execution_count": 37,
   "metadata": {},
   "outputs": [
    {
     "name": "stdout",
     "output_type": "stream",
     "text": [
      "<class 'pandas.core.frame.DataFrame'>\n",
      "RangeIndex: 13109 entries, 0 to 13108\n",
      "Data columns (total 7 columns):\n",
      " #   Column         Non-Null Count  Dtype \n",
      "---  ------         --------------  ----- \n",
      " 0   Country Name   13106 non-null  object\n",
      " 1   Country Code   13104 non-null  object\n",
      " 2   Series Name    13104 non-null  object\n",
      " 3   Series Code    13104 non-null  object\n",
      " 4   2018 [YR2018]  13104 non-null  object\n",
      " 5   2019 [YR2019]  13104 non-null  object\n",
      " 6   2020 [YR2020]  13104 non-null  object\n",
      "dtypes: object(7)\n",
      "memory usage: 717.0+ KB\n"
     ]
    }
   ],
   "source": [
    "#load csv into gs->(gender stats)\n",
    "gs = pd.read_csv(\"gender_statistics.csv\")\n",
    "gs.info()"
   ]
  },
  {
   "cell_type": "code",
   "execution_count": 38,
   "metadata": {},
   "outputs": [],
   "source": [
    "#drop the column\n",
    "gs.drop(['Series Code','2020 [YR2020]'], axis = 1, inplace = True)"
   ]
  },
  {
   "cell_type": "code",
   "execution_count": 39,
   "metadata": {},
   "outputs": [
    {
     "name": "stdout",
     "output_type": "stream",
     "text": [
      "      Country Name Country Code Series Name 2018 [YR2018] 2019 [YR2019]\n",
      "13105          NaN          NaN         NaN           NaN           NaN\n",
      "13106          NaN          NaN         NaN           NaN           NaN\n"
     ]
    }
   ],
   "source": [
    "# making a bool series for duplicates\n",
    "# bool_series = gs['Series Code'].duplicated()\n",
    "# gs[bool_series == True]\n",
    "\n",
    "#find a duplicate rows\n",
    "duplicateDFrows = gs[gs.duplicated(['Country Name', 'Country Code', 'Series Name'])]\n",
    "print(duplicateDFrows)"
   ]
  },
  {
   "cell_type": "code",
   "execution_count": 40,
   "metadata": {},
   "outputs": [],
   "source": [
    "gsdf = gs.rename(columns = {'2018 [YR2018]' : '2018', '2019 [YR2019]' : '2019'}, inplace = False)"
   ]
  },
  {
   "cell_type": "code",
   "execution_count": 41,
   "metadata": {},
   "outputs": [
    {
     "data": {
      "text/html": [
       "<div>\n",
       "<style scoped>\n",
       "    .dataframe tbody tr th:only-of-type {\n",
       "        vertical-align: middle;\n",
       "    }\n",
       "\n",
       "    .dataframe tbody tr th {\n",
       "        vertical-align: top;\n",
       "    }\n",
       "\n",
       "    .dataframe thead th {\n",
       "        text-align: right;\n",
       "    }\n",
       "</style>\n",
       "<table border=\"1\" class=\"dataframe\">\n",
       "  <thead>\n",
       "    <tr style=\"text-align: right;\">\n",
       "      <th></th>\n",
       "      <th>Country Name</th>\n",
       "      <th>Country Code</th>\n",
       "      <th>Series Name</th>\n",
       "      <th>2018</th>\n",
       "      <th>2019</th>\n",
       "    </tr>\n",
       "  </thead>\n",
       "  <tbody>\n",
       "    <tr>\n",
       "      <th>13089</th>\n",
       "      <td>European Union</td>\n",
       "      <td>EUU</td>\n",
       "      <td>Women who own land both alone and jointly (% o...</td>\n",
       "      <td>..</td>\n",
       "      <td>..</td>\n",
       "    </tr>\n",
       "    <tr>\n",
       "      <th>13090</th>\n",
       "      <td>European Union</td>\n",
       "      <td>EUU</td>\n",
       "      <td>Women who own land both alone and jointly (% o...</td>\n",
       "      <td>..</td>\n",
       "      <td>..</td>\n",
       "    </tr>\n",
       "    <tr>\n",
       "      <th>13091</th>\n",
       "      <td>European Union</td>\n",
       "      <td>EUU</td>\n",
       "      <td>Women who own land both alone and jointly (% o...</td>\n",
       "      <td>..</td>\n",
       "      <td>..</td>\n",
       "    </tr>\n",
       "    <tr>\n",
       "      <th>13092</th>\n",
       "      <td>European Union</td>\n",
       "      <td>EUU</td>\n",
       "      <td>Women who own land jointly (% of women age 15-49)</td>\n",
       "      <td>..</td>\n",
       "      <td>..</td>\n",
       "    </tr>\n",
       "    <tr>\n",
       "      <th>13093</th>\n",
       "      <td>European Union</td>\n",
       "      <td>EUU</td>\n",
       "      <td>Women who own land jointly (% of women age 15-...</td>\n",
       "      <td>..</td>\n",
       "      <td>..</td>\n",
       "    </tr>\n",
       "    <tr>\n",
       "      <th>13094</th>\n",
       "      <td>European Union</td>\n",
       "      <td>EUU</td>\n",
       "      <td>Women who own land jointly (% of women age 15-...</td>\n",
       "      <td>..</td>\n",
       "      <td>..</td>\n",
       "    </tr>\n",
       "    <tr>\n",
       "      <th>13095</th>\n",
       "      <td>European Union</td>\n",
       "      <td>EUU</td>\n",
       "      <td>Women who own land jointly (% of women age 15-...</td>\n",
       "      <td>..</td>\n",
       "      <td>..</td>\n",
       "    </tr>\n",
       "    <tr>\n",
       "      <th>13096</th>\n",
       "      <td>European Union</td>\n",
       "      <td>EUU</td>\n",
       "      <td>Women who own land jointly (% of women age 15-...</td>\n",
       "      <td>..</td>\n",
       "      <td>..</td>\n",
       "    </tr>\n",
       "    <tr>\n",
       "      <th>13097</th>\n",
       "      <td>European Union</td>\n",
       "      <td>EUU</td>\n",
       "      <td>Women who own land jointly (% of women age 15-...</td>\n",
       "      <td>..</td>\n",
       "      <td>..</td>\n",
       "    </tr>\n",
       "    <tr>\n",
       "      <th>13098</th>\n",
       "      <td>European Union</td>\n",
       "      <td>EUU</td>\n",
       "      <td>Women who were first married by age 15 (% of w...</td>\n",
       "      <td>..</td>\n",
       "      <td>..</td>\n",
       "    </tr>\n",
       "    <tr>\n",
       "      <th>13099</th>\n",
       "      <td>European Union</td>\n",
       "      <td>EUU</td>\n",
       "      <td>Women who were first married by age 18 (% of w...</td>\n",
       "      <td>..</td>\n",
       "      <td>..</td>\n",
       "    </tr>\n",
       "    <tr>\n",
       "      <th>13100</th>\n",
       "      <td>European Union</td>\n",
       "      <td>EUU</td>\n",
       "      <td>Women with a national identity card or equival...</td>\n",
       "      <td>..</td>\n",
       "      <td>..</td>\n",
       "    </tr>\n",
       "    <tr>\n",
       "      <th>13101</th>\n",
       "      <td>European Union</td>\n",
       "      <td>EUU</td>\n",
       "      <td>Women's share of population ages 15+ living wi...</td>\n",
       "      <td>..</td>\n",
       "      <td>..</td>\n",
       "    </tr>\n",
       "    <tr>\n",
       "      <th>13102</th>\n",
       "      <td>European Union</td>\n",
       "      <td>EUU</td>\n",
       "      <td>Youth illiterate population, 15-24 years, % fe...</td>\n",
       "      <td>..</td>\n",
       "      <td>..</td>\n",
       "    </tr>\n",
       "    <tr>\n",
       "      <th>13103</th>\n",
       "      <td>European Union</td>\n",
       "      <td>EUU</td>\n",
       "      <td>Youth illiterate population, 15-24 years, fema...</td>\n",
       "      <td>..</td>\n",
       "      <td>..</td>\n",
       "    </tr>\n",
       "    <tr>\n",
       "      <th>13104</th>\n",
       "      <td>NaN</td>\n",
       "      <td>NaN</td>\n",
       "      <td>NaN</td>\n",
       "      <td>NaN</td>\n",
       "      <td>NaN</td>\n",
       "    </tr>\n",
       "    <tr>\n",
       "      <th>13105</th>\n",
       "      <td>NaN</td>\n",
       "      <td>NaN</td>\n",
       "      <td>NaN</td>\n",
       "      <td>NaN</td>\n",
       "      <td>NaN</td>\n",
       "    </tr>\n",
       "    <tr>\n",
       "      <th>13106</th>\n",
       "      <td>NaN</td>\n",
       "      <td>NaN</td>\n",
       "      <td>NaN</td>\n",
       "      <td>NaN</td>\n",
       "      <td>NaN</td>\n",
       "    </tr>\n",
       "    <tr>\n",
       "      <th>13107</th>\n",
       "      <td>Data from database: Gender Statistics</td>\n",
       "      <td>NaN</td>\n",
       "      <td>NaN</td>\n",
       "      <td>NaN</td>\n",
       "      <td>NaN</td>\n",
       "    </tr>\n",
       "    <tr>\n",
       "      <th>13108</th>\n",
       "      <td>Last Updated: 10/08/2020</td>\n",
       "      <td>NaN</td>\n",
       "      <td>NaN</td>\n",
       "      <td>NaN</td>\n",
       "      <td>NaN</td>\n",
       "    </tr>\n",
       "  </tbody>\n",
       "</table>\n",
       "</div>"
      ],
      "text/plain": [
       "                                Country Name Country Code  \\\n",
       "13089                         European Union          EUU   \n",
       "13090                         European Union          EUU   \n",
       "13091                         European Union          EUU   \n",
       "13092                         European Union          EUU   \n",
       "13093                         European Union          EUU   \n",
       "13094                         European Union          EUU   \n",
       "13095                         European Union          EUU   \n",
       "13096                         European Union          EUU   \n",
       "13097                         European Union          EUU   \n",
       "13098                         European Union          EUU   \n",
       "13099                         European Union          EUU   \n",
       "13100                         European Union          EUU   \n",
       "13101                         European Union          EUU   \n",
       "13102                         European Union          EUU   \n",
       "13103                         European Union          EUU   \n",
       "13104                                    NaN          NaN   \n",
       "13105                                    NaN          NaN   \n",
       "13106                                    NaN          NaN   \n",
       "13107  Data from database: Gender Statistics          NaN   \n",
       "13108               Last Updated: 10/08/2020          NaN   \n",
       "\n",
       "                                             Series Name 2018 2019  \n",
       "13089  Women who own land both alone and jointly (% o...   ..   ..  \n",
       "13090  Women who own land both alone and jointly (% o...   ..   ..  \n",
       "13091  Women who own land both alone and jointly (% o...   ..   ..  \n",
       "13092  Women who own land jointly (% of women age 15-49)   ..   ..  \n",
       "13093  Women who own land jointly (% of women age 15-...   ..   ..  \n",
       "13094  Women who own land jointly (% of women age 15-...   ..   ..  \n",
       "13095  Women who own land jointly (% of women age 15-...   ..   ..  \n",
       "13096  Women who own land jointly (% of women age 15-...   ..   ..  \n",
       "13097  Women who own land jointly (% of women age 15-...   ..   ..  \n",
       "13098  Women who were first married by age 15 (% of w...   ..   ..  \n",
       "13099  Women who were first married by age 18 (% of w...   ..   ..  \n",
       "13100  Women with a national identity card or equival...   ..   ..  \n",
       "13101  Women's share of population ages 15+ living wi...   ..   ..  \n",
       "13102  Youth illiterate population, 15-24 years, % fe...   ..   ..  \n",
       "13103  Youth illiterate population, 15-24 years, fema...   ..   ..  \n",
       "13104                                                NaN  NaN  NaN  \n",
       "13105                                                NaN  NaN  NaN  \n",
       "13106                                                NaN  NaN  NaN  \n",
       "13107                                                NaN  NaN  NaN  \n",
       "13108                                                NaN  NaN  NaN  "
      ]
     },
     "execution_count": 41,
     "metadata": {},
     "output_type": "execute_result"
    }
   ],
   "source": [
    "gsdf.tail(20)"
   ]
  },
  {
   "cell_type": "code",
   "execution_count": 42,
   "metadata": {},
   "outputs": [
    {
     "data": {
      "text/html": [
       "<div>\n",
       "<style scoped>\n",
       "    .dataframe tbody tr th:only-of-type {\n",
       "        vertical-align: middle;\n",
       "    }\n",
       "\n",
       "    .dataframe tbody tr th {\n",
       "        vertical-align: top;\n",
       "    }\n",
       "\n",
       "    .dataframe thead th {\n",
       "        text-align: right;\n",
       "    }\n",
       "</style>\n",
       "<table border=\"1\" class=\"dataframe\">\n",
       "  <thead>\n",
       "    <tr style=\"text-align: right;\">\n",
       "      <th></th>\n",
       "      <th>Country Name</th>\n",
       "      <th>Country Code</th>\n",
       "      <th>Series Name</th>\n",
       "      <th>2018</th>\n",
       "      <th>2019</th>\n",
       "    </tr>\n",
       "  </thead>\n",
       "  <tbody>\n",
       "    <tr>\n",
       "      <th>0</th>\n",
       "      <td>Argentina</td>\n",
       "      <td>ARG</td>\n",
       "      <td>A woman can apply for a passport in the same w...</td>\n",
       "      <td>1</td>\n",
       "      <td>1</td>\n",
       "    </tr>\n",
       "    <tr>\n",
       "      <th>1</th>\n",
       "      <td>Argentina</td>\n",
       "      <td>ARG</td>\n",
       "      <td>A woman can be head of household in the same w...</td>\n",
       "      <td>1</td>\n",
       "      <td>1</td>\n",
       "    </tr>\n",
       "    <tr>\n",
       "      <th>2</th>\n",
       "      <td>Argentina</td>\n",
       "      <td>ARG</td>\n",
       "      <td>A woman can choose where to live in the same w...</td>\n",
       "      <td>1</td>\n",
       "      <td>1</td>\n",
       "    </tr>\n",
       "    <tr>\n",
       "      <th>3</th>\n",
       "      <td>Argentina</td>\n",
       "      <td>ARG</td>\n",
       "      <td>A woman can get a job in the same way as a man...</td>\n",
       "      <td>1</td>\n",
       "      <td>1</td>\n",
       "    </tr>\n",
       "    <tr>\n",
       "      <th>4</th>\n",
       "      <td>Argentina</td>\n",
       "      <td>ARG</td>\n",
       "      <td>A woman can obtain a judgment of divorce in th...</td>\n",
       "      <td>1</td>\n",
       "      <td>1</td>\n",
       "    </tr>\n",
       "  </tbody>\n",
       "</table>\n",
       "</div>"
      ],
      "text/plain": [
       "  Country Name Country Code  \\\n",
       "0    Argentina          ARG   \n",
       "1    Argentina          ARG   \n",
       "2    Argentina          ARG   \n",
       "3    Argentina          ARG   \n",
       "4    Argentina          ARG   \n",
       "\n",
       "                                         Series Name 2018 2019  \n",
       "0  A woman can apply for a passport in the same w...    1    1  \n",
       "1  A woman can be head of household in the same w...    1    1  \n",
       "2  A woman can choose where to live in the same w...    1    1  \n",
       "3  A woman can get a job in the same way as a man...    1    1  \n",
       "4  A woman can obtain a judgment of divorce in th...    1    1  "
      ]
     },
     "execution_count": 42,
     "metadata": {},
     "output_type": "execute_result"
    }
   ],
   "source": [
    "gsdf = gsdf.dropna()\n",
    "gsdf.head()"
   ]
  },
  {
   "cell_type": "code",
   "execution_count": 43,
   "metadata": {},
   "outputs": [],
   "source": [
    "# check rows where values are not available, set a flag TRUE/FALSE in another column \n",
    "gsdf['flag'] = (gsdf['2019'] == '..') & (gsdf['2019'] == '..')"
   ]
  },
  {
   "cell_type": "code",
   "execution_count": 44,
   "metadata": {},
   "outputs": [
    {
     "data": {
      "text/plain": [
       "Country Name    9714\n",
       "Country Code    9714\n",
       "Series Name     9714\n",
       "2018            9714\n",
       "2019            9714\n",
       "flag            9714\n",
       "dtype: int64"
      ]
     },
     "execution_count": 44,
     "metadata": {},
     "output_type": "execute_result"
    }
   ],
   "source": [
    "#count of rows where there are no values\n",
    "gsdf[gsdf['flag'] == True].count()"
   ]
  },
  {
   "cell_type": "code",
   "execution_count": 45,
   "metadata": {},
   "outputs": [],
   "source": [
    "#drop rows where there are no values\n",
    "idx = gsdf[gsdf['flag'] == True].index\n",
    "gsdf.drop(idx, inplace = True)"
   ]
  },
  {
   "cell_type": "code",
   "execution_count": 46,
   "metadata": {},
   "outputs": [
    {
     "name": "stdout",
     "output_type": "stream",
     "text": [
      "<class 'pandas.core.frame.DataFrame'>\n",
      "Int64Index: 3390 entries, 0 to 12964\n",
      "Data columns (total 6 columns):\n",
      " #   Column        Non-Null Count  Dtype \n",
      "---  ------        --------------  ----- \n",
      " 0   Country Name  3390 non-null   object\n",
      " 1   Country Code  3390 non-null   object\n",
      " 2   Series Name   3390 non-null   object\n",
      " 3   2018          3390 non-null   object\n",
      " 4   2019          3390 non-null   object\n",
      " 5   flag          3390 non-null   bool  \n",
      "dtypes: bool(1), object(5)\n",
      "memory usage: 162.2+ KB\n"
     ]
    }
   ],
   "source": [
    "gsdf.info()\n",
    "gsdf.drop('flag', axis = 1, inplace = True)"
   ]
  },
  {
   "cell_type": "code",
   "execution_count": null,
   "metadata": {},
   "outputs": [],
   "source": [
    "def convert(lst): \n",
    "    return ([i for item in lst for i in item.split()]) \n",
    "      \n",
    "# Driver code \n",
    "lst =  ['Geeksforgeeks is a portal for geeks'] \n",
    "print( convert(lst))"
   ]
  },
  {
   "cell_type": "code",
   "execution_count": null,
   "metadata": {},
   "outputs": [],
   "source": [
    "PopulationDF['Gender'] = {d_gender for key,value in  }"
   ]
  },
  {
   "cell_type": "code",
   "execution_count": null,
   "metadata": {},
   "outputs": [],
   "source": [
    "print(d_gender)"
   ]
  },
  {
   "cell_type": "code",
   "execution_count": 156,
   "metadata": {},
   "outputs": [
    {
     "name": "stdout",
     "output_type": "stream",
     "text": [
      "91.0\n",
      "94.0\n",
      "96.0\n",
      "(('Argentina', 86, 'Q1'), ('Australia', 95, 'Q3'), ('Brazil', 73, 'Q1'), ('Canada', 91, 'Q1'), ('China', 99, 'Q4'), ('France', 96, 'Q3'), ('Germany', 93, 'Q2'), ('India', 91, 'Q1'), ('Indonesia', 85, 'Q1'), ('Italy', 95, 'Q3'), ('Japan', 98, 'Q4'), ('Mexico', 82, 'Q1'), ('Korea, Rep.', 98, 'Q4'), ('Russian Federation', 97, 'Q4'), ('Saudi Arabia', 96, 'Q3'), ('Singapore', 96, 'Q3'), ('South Africa', 77, 'Q1'), ('Turkey', 99, 'Q4'), ('United States', 94, 'Q2'), ('United Kingdom', 93, 'Q2'), ('European Union', 94, 'Q2'))\n"
     ]
    }
   ],
   "source": [
    "# Quartile analysis of Immunization, DTP\n",
    "result_2019 = gsdf[gsdf['Series Name'] == 'Immunization, DPT (% of children ages 12-23 months)']['2019']\n",
    "result_country = gsdf[gsdf['Series Name'] == 'Immunization, DPT (% of children ages 12-23 months)']['Country Name']\n",
    "\n",
    "# Converting values of list from float to int\n",
    "res = [int(float(i)) for i in result_2019.values]\n",
    "res2 = [str for str in result_country.values]\n",
    "\n",
    "print(np.percentile(res, 25))\n",
    "print(np.percentile(res, 50))\n",
    "print(np.percentile(res, 75))\n",
    "def quartile(num):\n",
    "    if(num <= np.percentile(res, 25)):\n",
    "        return('Q1')\n",
    "    elif((num > np.percentile(res, 25)) and (num <=np.percentile(res, 50))):\n",
    "        return('Q2')\n",
    "    elif(num > np.percentile(res, 50) and num <= np.percentile(res, 75)):\n",
    "          return('Q3')\n",
    "    else:\n",
    "        return('Q4')\n",
    "\n",
    "qntl = map(quartile, res)\n",
    "output = zip(res2,res,qntl)\n",
    "print(tuple(output))"
   ]
  },
  {
   "cell_type": "code",
   "execution_count": 157,
   "metadata": {},
   "outputs": [
    {
     "name": "stdout",
     "output_type": "stream",
     "text": [
      "90.0\n",
      "94.0\n",
      "96.0\n",
      "(('Argentina', 94, 'Q2'), ('Australia', 95, 'Q3'), ('Brazil', 91, 'Q2'), ('Canada', 90, 'Q1'), ('China', 99, 'Q4'), ('France', 90, 'Q1'), ('Germany', 97, 'Q4'), ('India', 95, 'Q3'), ('Indonesia', 88, 'Q1'), ('Italy', 94, 'Q2'), ('Japan', 96, 'Q3'), ('Mexico', 73, 'Q1'), ('Korea, Rep.', 98, 'Q4'), ('Russian Federation', 98, 'Q4'), ('Saudi Arabia', 95, 'Q3'), ('Singapore', 95, 'Q3'), ('South Africa', 72, 'Q1'), ('Turkey', 97, 'Q4'), ('United States', 90, 'Q1'), ('United Kingdom', 91, 'Q2'), ('European Union', 94, 'Q2'))\n"
     ]
    }
   ],
   "source": [
    "# Quartile analysis of Immunization, measles (% of children ages 12-23 months\n",
    "result_2019 = gsdf[gsdf['Series Name'] == 'Immunization, measles (% of children ages 12-23 months)']['2019']\n",
    "result_country = gsdf[gsdf['Series Name'] == 'Immunization, measles (% of children ages 12-23 months)']['Country Name']\n",
    "\n",
    "# Converting values of list from float to int\n",
    "res = [int(float(i)) for i in result_2019.values]\n",
    "res2 = [str for str in result_country.values]\n",
    "\n",
    "print(np.percentile(res, 25))\n",
    "print(np.percentile(res, 50))\n",
    "print(np.percentile(res, 75))\n",
    "def quartile(num):\n",
    "    if(num <= np.percentile(res, 25)):\n",
    "        return('Q1')\n",
    "    elif((num > np.percentile(res, 25)) and (num <=np.percentile(res, 50))):\n",
    "        return('Q2')\n",
    "    elif(num > np.percentile(res, 50) and num <= np.percentile(res, 75)):\n",
    "          return('Q3')\n",
    "    else:\n",
    "        return('Q4')\n",
    "\n",
    "qntl = map(quartile, res)\n",
    "output = zip(res2,res,qntl)\n",
    "print(tuple(output))"
   ]
  },
  {
   "cell_type": "code",
   "execution_count": 203,
   "metadata": {},
   "outputs": [
    {
     "name": "stdout",
     "output_type": "stream",
     "text": [
      "G20 Countries Average Inflation 2019: 5.22\n",
      "\n",
      "Standard deviation (Inflation - 2019): 11.32\n",
      "\n",
      " [('Argentina', 53.5483043492342), ('Australia', 1.61076787290379), ('Brazil', 3.73297621216894), ('Canada', 1.94926902411596), ('China', 2.89923579925941), ('France', 1.10825492288292), ('Germany', 1.4456670146976), ('India', 7.65969474279253), ('Indonesia', 3.03058664969491), ('Italy', 0.611246943765291), ('Japan', 0.476973684210521), ('Mexico', 3.6359614212705), ('Korea, Rep.', 0.38294613224406), ('Russian Federation', 4.47036660760175), ('Saudi Arabia', -2.09333333333333), ('Singapore', 0.565260568780358), ('South Africa', 4.12435072486239), ('Turkey', 15.1768215720023), ('United States', 1.81221007526015), ('United Kingdom', 1.73810460086511), ('European Union', 1.63052260754338)]\n",
      "\n",
      " Minimum Inflation: -2.09333333333333\n",
      "\n",
      " Maximum Inflation: 53.5483043492342\n"
     ]
    }
   ],
   "source": [
    "# Inflation index - Inflation, consumer prices (annual %)\n",
    "\n",
    "inflation_lst = gsdf[gsdf['Series Name'] == 'Inflation, consumer prices (annual %)']['2019']\n",
    "country = gsdf[gsdf['Series Name'] == 'Inflation, consumer prices (annual %)']['Country Name']\n",
    "\n",
    "# Converting values from list to float\n",
    "res = [float(i) for i in inflation_lst.values]\n",
    "\n",
    "World_avg_inflation = sum(res)/len(inflation_lst)\n",
    "#float(World_mean_inflation)\n",
    "\n",
    "print(f'G20 Countries Average Inflation 2019: {World_avg_inflation:.2f}\\n')\n",
    "std = np.std(res)\n",
    "print(f'Standard deviation (Inflation - 2019): {std:.2f}', end ='\\n')\n",
    "\n",
    "lst = zip(country,res)\n",
    "\n",
    "print(f'\\n {list(lst)}')\n",
    "\n",
    "print(f'\\n Minimum Inflation: {np.min(res)}')\n",
    "print(f'\\n Maximum Inflation: {np.max(res)}')"
   ]
  },
  {
   "cell_type": "code",
   "execution_count": null,
   "metadata": {},
   "outputs": [],
   "source": []
  },
  {
   "cell_type": "code",
   "execution_count": null,
   "metadata": {},
   "outputs": [],
   "source": []
  },
  {
   "cell_type": "code",
   "execution_count": null,
   "metadata": {},
   "outputs": [],
   "source": []
  },
  {
   "cell_type": "code",
   "execution_count": null,
   "metadata": {},
   "outputs": [],
   "source": []
  },
  {
   "cell_type": "code",
   "execution_count": null,
   "metadata": {},
   "outputs": [],
   "source": []
  },
  {
   "cell_type": "code",
   "execution_count": null,
   "metadata": {},
   "outputs": [],
   "source": []
  },
  {
   "cell_type": "code",
   "execution_count": null,
   "metadata": {},
   "outputs": [],
   "source": []
  },
  {
   "cell_type": "code",
   "execution_count": null,
   "metadata": {},
   "outputs": [],
   "source": []
  },
  {
   "cell_type": "code",
   "execution_count": null,
   "metadata": {},
   "outputs": [],
   "source": []
  }
 ],
 "metadata": {
  "kernelspec": {
   "display_name": "Python 3",
   "language": "python",
   "name": "python3"
  },
  "language_info": {
   "codemirror_mode": {
    "name": "ipython",
    "version": 3
   },
   "file_extension": ".py",
   "mimetype": "text/x-python",
   "name": "python",
   "nbconvert_exporter": "python",
   "pygments_lexer": "ipython3",
   "version": "3.8.3"
  }
 },
 "nbformat": 4,
 "nbformat_minor": 4
}
